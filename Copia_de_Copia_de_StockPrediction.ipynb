{
  "nbformat": 4,
  "nbformat_minor": 0,
  "metadata": {
    "colab": {
      "name": "Copia de Copia de StockPrediction.ipynb",
      "provenance": [],
      "collapsed_sections": [],
      "authorship_tag": "ABX9TyOKvoinAWrUUJDA7qOQnfyW",
      "include_colab_link": true
    },
    "kernelspec": {
      "name": "python3",
      "display_name": "Python 3"
    },
    "language_info": {
      "name": "python"
    }
  },
  "cells": [
    {
      "cell_type": "markdown",
      "metadata": {
        "id": "view-in-github",
        "colab_type": "text"
      },
      "source": [
        "<a href=\"https://colab.research.google.com/github/Dena-Kazerani/stock-prediction/blob/main/Copia_de_Copia_de_StockPrediction.ipynb\" target=\"_parent\"><img src=\"https://colab.research.google.com/assets/colab-badge.svg\" alt=\"Open In Colab\"/></a>"
      ]
    },
    {
      "cell_type": "code",
      "execution_count": null,
      "metadata": {
        "id": "jn631t1s39or",
        "colab": {
          "base_uri": "https://localhost:8080/"
        },
        "outputId": "45741179-1ebb-4672-b08a-8aa308d3c466"
      },
      "outputs": [
        {
          "output_type": "stream",
          "name": "stdout",
          "text": [
            "Collecting yfinance\n",
            "  Downloading yfinance-0.1.70-py2.py3-none-any.whl (26 kB)\n",
            "Requirement already satisfied: multitasking>=0.0.7 in /usr/local/lib/python3.7/dist-packages (from yfinance) (0.0.10)\n",
            "Requirement already satisfied: pandas>=0.24.0 in /usr/local/lib/python3.7/dist-packages (from yfinance) (1.3.5)\n",
            "Collecting lxml>=4.5.1\n",
            "  Downloading lxml-4.8.0-cp37-cp37m-manylinux_2_17_x86_64.manylinux2014_x86_64.manylinux_2_24_x86_64.whl (6.4 MB)\n",
            "\u001b[K     |████████████████████████████████| 6.4 MB 6.9 MB/s \n",
            "\u001b[?25hRequirement already satisfied: numpy>=1.15 in /usr/local/lib/python3.7/dist-packages (from yfinance) (1.21.5)\n",
            "Collecting requests>=2.26\n",
            "  Downloading requests-2.27.1-py2.py3-none-any.whl (63 kB)\n",
            "\u001b[K     |████████████████████████████████| 63 kB 1.5 MB/s \n",
            "\u001b[?25hRequirement already satisfied: pytz>=2017.3 in /usr/local/lib/python3.7/dist-packages (from pandas>=0.24.0->yfinance) (2018.9)\n",
            "Requirement already satisfied: python-dateutil>=2.7.3 in /usr/local/lib/python3.7/dist-packages (from pandas>=0.24.0->yfinance) (2.8.2)\n",
            "Requirement already satisfied: six>=1.5 in /usr/local/lib/python3.7/dist-packages (from python-dateutil>=2.7.3->pandas>=0.24.0->yfinance) (1.15.0)\n",
            "Requirement already satisfied: idna<4,>=2.5 in /usr/local/lib/python3.7/dist-packages (from requests>=2.26->yfinance) (2.10)\n",
            "Requirement already satisfied: urllib3<1.27,>=1.21.1 in /usr/local/lib/python3.7/dist-packages (from requests>=2.26->yfinance) (1.24.3)\n",
            "Requirement already satisfied: certifi>=2017.4.17 in /usr/local/lib/python3.7/dist-packages (from requests>=2.26->yfinance) (2021.10.8)\n",
            "Requirement already satisfied: charset-normalizer~=2.0.0 in /usr/local/lib/python3.7/dist-packages (from requests>=2.26->yfinance) (2.0.12)\n",
            "Installing collected packages: requests, lxml, yfinance\n",
            "  Attempting uninstall: requests\n",
            "    Found existing installation: requests 2.23.0\n",
            "    Uninstalling requests-2.23.0:\n",
            "      Successfully uninstalled requests-2.23.0\n",
            "  Attempting uninstall: lxml\n",
            "    Found existing installation: lxml 4.2.6\n",
            "    Uninstalling lxml-4.2.6:\n",
            "      Successfully uninstalled lxml-4.2.6\n",
            "\u001b[31mERROR: pip's dependency resolver does not currently take into account all the packages that are installed. This behaviour is the source of the following dependency conflicts.\n",
            "google-colab 1.0.0 requires requests~=2.23.0, but you have requests 2.27.1 which is incompatible.\n",
            "datascience 0.10.6 requires folium==0.2.1, but you have folium 0.8.3 which is incompatible.\u001b[0m\n",
            "Successfully installed lxml-4.8.0 requests-2.27.1 yfinance-0.1.70\n"
          ]
        }
      ],
      "source": [
        "# Import finance API and get historical stock data\n",
        "!pip install yfinance\n",
        "#!pip install -U scikit-learn\n",
        "import yfinance as yf\n",
        "import os\n",
        "import json\n",
        "import pandas as pd\n",
        "\n",
        "\n",
        "DATA_PATH = \"msft_data.json\"\n",
        "msft = yf.Ticker(\"MSFT\")\n",
        "msft_hist = msft.history(period=\"max\")\n",
        "\n",
        "# Save file to json in case we need it later.  This prevents us from having to re-download it every time.\n",
        "msft_hist.to_json(DATA_PATH)\n"
      ]
    },
    {
      "cell_type": "code",
      "source": [
        "# Display microsoft stock price history so we can look at the structure of the data\n",
        "msft_hist.head(5)"
      ],
      "metadata": {
        "colab": {
          "base_uri": "https://localhost:8080/",
          "height": 238
        },
        "id": "TQFOWwqQGcXV",
        "outputId": "606e77ea-7676-4b9b-bd6f-654bf81607dc"
      },
      "execution_count": null,
      "outputs": [
        {
          "output_type": "execute_result",
          "data": {
            "text/plain": [
              "                Open      High       Low     Close      Volume  Dividends  \\\n",
              "Date                                                                        \n",
              "1986-03-13  0.055949  0.064177  0.055949  0.061434  1031788800        0.0   \n",
              "1986-03-14  0.061434  0.064725  0.061434  0.063628   308160000        0.0   \n",
              "1986-03-17  0.063628  0.065274  0.063628  0.064725   133171200        0.0   \n",
              "1986-03-18  0.064725  0.065274  0.062531  0.063079    67766400        0.0   \n",
              "1986-03-19  0.063079  0.063628  0.061434  0.061982    47894400        0.0   \n",
              "\n",
              "            Stock Splits  \n",
              "Date                      \n",
              "1986-03-13           0.0  \n",
              "1986-03-14           0.0  \n",
              "1986-03-17           0.0  \n",
              "1986-03-18           0.0  \n",
              "1986-03-19           0.0  "
            ],
            "text/html": [
              "\n",
              "  <div id=\"df-b00a085a-3bf8-4a16-891d-deb79dfbf7f2\">\n",
              "    <div class=\"colab-df-container\">\n",
              "      <div>\n",
              "<style scoped>\n",
              "    .dataframe tbody tr th:only-of-type {\n",
              "        vertical-align: middle;\n",
              "    }\n",
              "\n",
              "    .dataframe tbody tr th {\n",
              "        vertical-align: top;\n",
              "    }\n",
              "\n",
              "    .dataframe thead th {\n",
              "        text-align: right;\n",
              "    }\n",
              "</style>\n",
              "<table border=\"1\" class=\"dataframe\">\n",
              "  <thead>\n",
              "    <tr style=\"text-align: right;\">\n",
              "      <th></th>\n",
              "      <th>Open</th>\n",
              "      <th>High</th>\n",
              "      <th>Low</th>\n",
              "      <th>Close</th>\n",
              "      <th>Volume</th>\n",
              "      <th>Dividends</th>\n",
              "      <th>Stock Splits</th>\n",
              "    </tr>\n",
              "    <tr>\n",
              "      <th>Date</th>\n",
              "      <th></th>\n",
              "      <th></th>\n",
              "      <th></th>\n",
              "      <th></th>\n",
              "      <th></th>\n",
              "      <th></th>\n",
              "      <th></th>\n",
              "    </tr>\n",
              "  </thead>\n",
              "  <tbody>\n",
              "    <tr>\n",
              "      <th>1986-03-13</th>\n",
              "      <td>0.055949</td>\n",
              "      <td>0.064177</td>\n",
              "      <td>0.055949</td>\n",
              "      <td>0.061434</td>\n",
              "      <td>1031788800</td>\n",
              "      <td>0.0</td>\n",
              "      <td>0.0</td>\n",
              "    </tr>\n",
              "    <tr>\n",
              "      <th>1986-03-14</th>\n",
              "      <td>0.061434</td>\n",
              "      <td>0.064725</td>\n",
              "      <td>0.061434</td>\n",
              "      <td>0.063628</td>\n",
              "      <td>308160000</td>\n",
              "      <td>0.0</td>\n",
              "      <td>0.0</td>\n",
              "    </tr>\n",
              "    <tr>\n",
              "      <th>1986-03-17</th>\n",
              "      <td>0.063628</td>\n",
              "      <td>0.065274</td>\n",
              "      <td>0.063628</td>\n",
              "      <td>0.064725</td>\n",
              "      <td>133171200</td>\n",
              "      <td>0.0</td>\n",
              "      <td>0.0</td>\n",
              "    </tr>\n",
              "    <tr>\n",
              "      <th>1986-03-18</th>\n",
              "      <td>0.064725</td>\n",
              "      <td>0.065274</td>\n",
              "      <td>0.062531</td>\n",
              "      <td>0.063079</td>\n",
              "      <td>67766400</td>\n",
              "      <td>0.0</td>\n",
              "      <td>0.0</td>\n",
              "    </tr>\n",
              "    <tr>\n",
              "      <th>1986-03-19</th>\n",
              "      <td>0.063079</td>\n",
              "      <td>0.063628</td>\n",
              "      <td>0.061434</td>\n",
              "      <td>0.061982</td>\n",
              "      <td>47894400</td>\n",
              "      <td>0.0</td>\n",
              "      <td>0.0</td>\n",
              "    </tr>\n",
              "  </tbody>\n",
              "</table>\n",
              "</div>\n",
              "      <button class=\"colab-df-convert\" onclick=\"convertToInteractive('df-b00a085a-3bf8-4a16-891d-deb79dfbf7f2')\"\n",
              "              title=\"Convert this dataframe to an interactive table.\"\n",
              "              style=\"display:none;\">\n",
              "        \n",
              "  <svg xmlns=\"http://www.w3.org/2000/svg\" height=\"24px\"viewBox=\"0 0 24 24\"\n",
              "       width=\"24px\">\n",
              "    <path d=\"M0 0h24v24H0V0z\" fill=\"none\"/>\n",
              "    <path d=\"M18.56 5.44l.94 2.06.94-2.06 2.06-.94-2.06-.94-.94-2.06-.94 2.06-2.06.94zm-11 1L8.5 8.5l.94-2.06 2.06-.94-2.06-.94L8.5 2.5l-.94 2.06-2.06.94zm10 10l.94 2.06.94-2.06 2.06-.94-2.06-.94-.94-2.06-.94 2.06-2.06.94z\"/><path d=\"M17.41 7.96l-1.37-1.37c-.4-.4-.92-.59-1.43-.59-.52 0-1.04.2-1.43.59L10.3 9.45l-7.72 7.72c-.78.78-.78 2.05 0 2.83L4 21.41c.39.39.9.59 1.41.59.51 0 1.02-.2 1.41-.59l7.78-7.78 2.81-2.81c.8-.78.8-2.07 0-2.86zM5.41 20L4 18.59l7.72-7.72 1.47 1.35L5.41 20z\"/>\n",
              "  </svg>\n",
              "      </button>\n",
              "      \n",
              "  <style>\n",
              "    .colab-df-container {\n",
              "      display:flex;\n",
              "      flex-wrap:wrap;\n",
              "      gap: 12px;\n",
              "    }\n",
              "\n",
              "    .colab-df-convert {\n",
              "      background-color: #E8F0FE;\n",
              "      border: none;\n",
              "      border-radius: 50%;\n",
              "      cursor: pointer;\n",
              "      display: none;\n",
              "      fill: #1967D2;\n",
              "      height: 32px;\n",
              "      padding: 0 0 0 0;\n",
              "      width: 32px;\n",
              "    }\n",
              "\n",
              "    .colab-df-convert:hover {\n",
              "      background-color: #E2EBFA;\n",
              "      box-shadow: 0px 1px 2px rgba(60, 64, 67, 0.3), 0px 1px 3px 1px rgba(60, 64, 67, 0.15);\n",
              "      fill: #174EA6;\n",
              "    }\n",
              "\n",
              "    [theme=dark] .colab-df-convert {\n",
              "      background-color: #3B4455;\n",
              "      fill: #D2E3FC;\n",
              "    }\n",
              "\n",
              "    [theme=dark] .colab-df-convert:hover {\n",
              "      background-color: #434B5C;\n",
              "      box-shadow: 0px 1px 3px 1px rgba(0, 0, 0, 0.15);\n",
              "      filter: drop-shadow(0px 1px 2px rgba(0, 0, 0, 0.3));\n",
              "      fill: #FFFFFF;\n",
              "    }\n",
              "  </style>\n",
              "\n",
              "      <script>\n",
              "        const buttonEl =\n",
              "          document.querySelector('#df-b00a085a-3bf8-4a16-891d-deb79dfbf7f2 button.colab-df-convert');\n",
              "        buttonEl.style.display =\n",
              "          google.colab.kernel.accessAllowed ? 'block' : 'none';\n",
              "\n",
              "        async function convertToInteractive(key) {\n",
              "          const element = document.querySelector('#df-b00a085a-3bf8-4a16-891d-deb79dfbf7f2');\n",
              "          const dataTable =\n",
              "            await google.colab.kernel.invokeFunction('convertToInteractive',\n",
              "                                                     [key], {});\n",
              "          if (!dataTable) return;\n",
              "\n",
              "          const docLinkHtml = 'Like what you see? Visit the ' +\n",
              "            '<a target=\"_blank\" href=https://colab.research.google.com/notebooks/data_table.ipynb>data table notebook</a>'\n",
              "            + ' to learn more about interactive tables.';\n",
              "          element.innerHTML = '';\n",
              "          dataTable['output_type'] = 'display_data';\n",
              "          await google.colab.output.renderOutput(dataTable, element);\n",
              "          const docLink = document.createElement('div');\n",
              "          docLink.innerHTML = docLinkHtml;\n",
              "          element.appendChild(docLink);\n",
              "        }\n",
              "      </script>\n",
              "    </div>\n",
              "  </div>\n",
              "  "
            ]
          },
          "metadata": {},
          "execution_count": 5
        }
      ]
    },
    {
      "cell_type": "code",
      "source": [
        "# Visualize microsoft stock prices\n",
        "msft_hist.plot.line(y=\"Close\", use_index=True)"
      ],
      "metadata": {
        "colab": {
          "base_uri": "https://localhost:8080/",
          "height": 287
        },
        "id": "LdhzEo1XIew4",
        "outputId": "0cf16925-cbbf-4480-c5d0-01521ddff797"
      },
      "execution_count": null,
      "outputs": [
        {
          "output_type": "execute_result",
          "data": {
            "text/plain": [
              "<matplotlib.axes._subplots.AxesSubplot at 0x7ff5cfd129d0>"
            ]
          },
          "metadata": {},
          "execution_count": 6
        },
        {
          "output_type": "display_data",
          "data": {
            "text/plain": [
              "<Figure size 432x288 with 1 Axes>"
            ],
            "image/png": "[encoded data removed]"
          },
          "metadata": {
            "needs_background": "light"
          }
        }
      ]
    },
    {
      "cell_type": "code",
      "source": [
        "\n",
        "\n",
        "# Ensure we know the actual closing price\n",
        "data = msft_hist[[\"Close\"]]\n",
        "data = data.rename(columns = {'Close':'Actual_Close'})\n",
        "\n",
        "# Setup our target.  This identifies if the price went up or down\n",
        "data[\"Target\"] = msft_hist.rolling(2).apply(lambda x: x.iloc[1] > x.iloc[0])[\"Close\"]\n",
        "\n"
      ],
      "metadata": {
        "id": "rsuwQAfWImfU"
      },
      "execution_count": null,
      "outputs": []
    },
    {
      "cell_type": "code",
      "source": [
        "\n",
        "\n",
        "# Shift stock prices forward one day, so we're predicting tomorrow's stock prices from today's prices.\n",
        "msft_prev = msft_hist.copy()\n",
        "msft_prev = msft_prev.shift(1)\n",
        "\n"
      ],
      "metadata": {
        "id": "E-PIH9fMIsFD"
      },
      "execution_count": null,
      "outputs": []
    },
    {
      "cell_type": "code",
      "source": [
        "\n",
        "\n",
        "# Create our training data\n",
        "predictors = [\"Close\", \"Volume\", \"Open\", \"High\", \"Low\"]\n",
        "data = data.join(msft_prev[predictors]).iloc[1:]\n",
        "\n",
        "# Create a train and test set\n",
        "train = data.iloc[:-100]\n",
        "test = data.iloc[-100:]"
      ],
      "metadata": {
        "id": "wQmhqCMUIwQb"
      },
      "execution_count": null,
      "outputs": []
    },
    {
      "cell_type": "code",
      "source": [
        "import sklearn\n",
        "# Random forest hyperparameter tuning using optuna\n",
        "\n",
        "def objective(trial):\n",
        "      n_estimators = trial.suggest_int('n_estimators', 2, 20)\n",
        "      max_depth = int(trial.suggest_loguniform('max_depth', 1, 32))\n",
        "      clf = sklearn.ensemble.RandomForestClassifier(n_estimators=n_estimators, max_depth=max_depth)\n",
        "      return sklearn.model_selection.cross_val_score(clf, train[predictors], train[\"Target\"], \n",
        "           n_jobs=-1, cv=5).mean()\n"
      ],
      "metadata": {
        "id": "T85mTZWkzdwW"
      },
      "execution_count": null,
      "outputs": []
    },
    {
      "cell_type": "code",
      "source": [
        "!pip install optuna\n",
        "import optuna\n",
        "study = optuna.create_study(direction='maximize')\n",
        "study.optimize(objective, n_trials=100)"
      ],
      "metadata": {
        "colab": {
          "base_uri": "https://localhost:8080/"
        },
        "id": "qZnyynrRD20o",
        "outputId": "ab4d0d4b-3fde-4584-dfba-83c2c7e0716c"
      },
      "execution_count": null,
      "outputs": [
        {
          "output_type": "stream",
          "name": "stdout",
          "text": [
            "Collecting optuna\n",
            "  Downloading optuna-2.10.0-py3-none-any.whl (308 kB)\n",
            "\u001b[K     |████████████████████████████████| 308 kB 6.3 MB/s \n",
            "\u001b[?25hCollecting cliff\n",
            "  Downloading cliff-3.10.1-py3-none-any.whl (81 kB)\n",
            "\u001b[K     |████████████████████████████████| 81 kB 6.0 MB/s \n",
            "\u001b[?25hRequirement already satisfied: scipy!=1.4.0 in /usr/local/lib/python3.7/dist-packages (from optuna) (1.4.1)\n",
            "Collecting alembic\n",
            "  Downloading alembic-1.7.7-py3-none-any.whl (210 kB)\n",
            "\u001b[K     |████████████████████████████████| 210 kB 46.3 MB/s \n",
            "\u001b[?25hRequirement already satisfied: PyYAML in /usr/local/lib/python3.7/dist-packages (from optuna) (3.13)\n",
            "Requirement already satisfied: tqdm in /usr/local/lib/python3.7/dist-packages (from optuna) (4.63.0)\n",
            "Requirement already satisfied: sqlalchemy>=1.1.0 in /usr/local/lib/python3.7/dist-packages (from optuna) (1.4.32)\n",
            "Collecting colorlog\n",
            "  Downloading colorlog-6.6.0-py2.py3-none-any.whl (11 kB)\n",
            "Collecting cmaes>=0.8.2\n",
            "  Downloading cmaes-0.8.2-py3-none-any.whl (15 kB)\n",
            "Requirement already satisfied: numpy in /usr/local/lib/python3.7/dist-packages (from optuna) (1.21.5)\n",
            "Requirement already satisfied: packaging>=20.0 in /usr/local/lib/python3.7/dist-packages (from optuna) (21.3)\n",
            "Requirement already satisfied: pyparsing!=3.0.5,>=2.0.2 in /usr/local/lib/python3.7/dist-packages (from packaging>=20.0->optuna) (3.0.7)\n",
            "Requirement already satisfied: importlib-metadata in /usr/local/lib/python3.7/dist-packages (from sqlalchemy>=1.1.0->optuna) (4.11.3)\n",
            "Requirement already satisfied: greenlet!=0.4.17 in /usr/local/lib/python3.7/dist-packages (from sqlalchemy>=1.1.0->optuna) (1.1.2)\n",
            "Requirement already satisfied: importlib-resources in /usr/local/lib/python3.7/dist-packages (from alembic->optuna) (5.4.0)\n",
            "Collecting Mako\n",
            "  Downloading Mako-1.2.0-py3-none-any.whl (78 kB)\n",
            "\u001b[K     |████████████████████████████████| 78 kB 5.8 MB/s \n",
            "\u001b[?25hCollecting stevedore>=2.0.1\n",
            "  Downloading stevedore-3.5.0-py3-none-any.whl (49 kB)\n",
            "\u001b[K     |████████████████████████████████| 49 kB 4.9 MB/s \n",
            "\u001b[?25hCollecting cmd2>=1.0.0\n",
            "  Downloading cmd2-2.4.0-py3-none-any.whl (150 kB)\n",
            "\u001b[K     |████████████████████████████████| 150 kB 47.2 MB/s \n",
            "\u001b[?25hCollecting pbr!=2.1.0,>=2.0.0\n",
            "  Downloading pbr-5.8.1-py2.py3-none-any.whl (113 kB)\n",
            "\u001b[K     |████████████████████████████████| 113 kB 45.3 MB/s \n",
            "\u001b[?25hCollecting autopage>=0.4.0\n",
            "  Downloading autopage-0.5.0-py3-none-any.whl (29 kB)\n",
            "Requirement already satisfied: PrettyTable>=0.7.2 in /usr/local/lib/python3.7/dist-packages (from cliff->optuna) (3.2.0)\n",
            "Requirement already satisfied: typing-extensions in /usr/local/lib/python3.7/dist-packages (from cmd2>=1.0.0->cliff->optuna) (3.10.0.2)\n",
            "Requirement already satisfied: wcwidth>=0.1.7 in /usr/local/lib/python3.7/dist-packages (from cmd2>=1.0.0->cliff->optuna) (0.2.5)\n",
            "Collecting pyperclip>=1.6\n",
            "  Downloading pyperclip-1.8.2.tar.gz (20 kB)\n",
            "Requirement already satisfied: attrs>=16.3.0 in /usr/local/lib/python3.7/dist-packages (from cmd2>=1.0.0->cliff->optuna) (21.4.0)\n",
            "Requirement already satisfied: zipp>=0.5 in /usr/local/lib/python3.7/dist-packages (from importlib-metadata->sqlalchemy>=1.1.0->optuna) (3.7.0)\n",
            "Requirement already satisfied: MarkupSafe>=0.9.2 in /usr/local/lib/python3.7/dist-packages (from Mako->alembic->optuna) (2.0.1)\n",
            "Building wheels for collected packages: pyperclip\n",
            "  Building wheel for pyperclip (setup.py) ... \u001b[?25l\u001b[?25hdone\n",
            "  Created wheel for pyperclip: filename=pyperclip-1.8.2-py3-none-any.whl size=11137 sha256=ebb28f7a640f2a422183dde2b3527166f66aad9242b483d64ed6150f6f1bdb49\n",
            "  Stored in directory: /root/.cache/pip/wheels/9f/18/84/8f69f8b08169c7bae2dde6bd7daf0c19fca8c8e500ee620a28\n",
            "Successfully built pyperclip\n",
            "Installing collected packages: pyperclip, pbr, stevedore, Mako, cmd2, autopage, colorlog, cmaes, cliff, alembic, optuna\n",
            "Successfully installed Mako-1.2.0 alembic-1.7.7 autopage-0.5.0 cliff-3.10.1 cmaes-0.8.2 cmd2-2.4.0 colorlog-6.6.0 optuna-2.10.0 pbr-5.8.1 pyperclip-1.8.2 stevedore-3.5.0\n"
          ]
        },
        {
          "output_type": "stream",
          "name": "stderr",
          "text": [
            "\u001b[32m[I 2022-03-23 12:54:25,522]\u001b[0m A new study created in memory with name: no-name-c698f158-3851-46c3-a10a-2fa9ea4b2644\u001b[0m\n",
            "\u001b[32m[I 2022-03-23 12:54:27,776]\u001b[0m Trial 0 finished with value: 0.47795100222717146 and parameters: {'n_estimators': 19, 'max_depth': 5.950954531709606}. Best is trial 0 with value: 0.47795100222717146.\u001b[0m\n",
            "\u001b[32m[I 2022-03-23 12:54:28,084]\u001b[0m Trial 1 finished with value: 0.49554565701559017 and parameters: {'n_estimators': 16, 'max_depth': 1.768669894017502}. Best is trial 1 with value: 0.49554565701559017.\u001b[0m\n",
            "\u001b[32m[I 2022-03-23 12:54:28,395]\u001b[0m Trial 2 finished with value: 0.4906458797327395 and parameters: {'n_estimators': 17, 'max_depth': 1.7707865602094268}. Best is trial 1 with value: 0.49554565701559017.\u001b[0m\n",
            "\u001b[32m[I 2022-03-23 12:54:30,092]\u001b[0m Trial 3 finished with value: 0.49031180400890867 and parameters: {'n_estimators': 18, 'max_depth': 21.295549831305568}. Best is trial 1 with value: 0.49554565701559017.\u001b[0m\n",
            "\u001b[32m[I 2022-03-23 12:54:30,533]\u001b[0m Trial 4 finished with value: 0.489532293986637 and parameters: {'n_estimators': 19, 'max_depth': 2.4979887627211084}. Best is trial 1 with value: 0.49554565701559017.\u001b[0m\n",
            "\u001b[32m[I 2022-03-23 12:54:31,251]\u001b[0m Trial 5 finished with value: 0.4846325167037862 and parameters: {'n_estimators': 10, 'max_depth': 12.57133882714448}. Best is trial 1 with value: 0.49554565701559017.\u001b[0m\n",
            "\u001b[32m[I 2022-03-23 12:54:31,670]\u001b[0m Trial 6 finished with value: 0.4961024498886414 and parameters: {'n_estimators': 5, 'max_depth': 14.65444419844118}. Best is trial 6 with value: 0.4961024498886414.\u001b[0m\n",
            "\u001b[32m[I 2022-03-23 12:54:32,569]\u001b[0m Trial 7 finished with value: 0.49487750556792875 and parameters: {'n_estimators': 9, 'max_depth': 22.418548165771334}. Best is trial 6 with value: 0.4961024498886414.\u001b[0m\n",
            "\u001b[32m[I 2022-03-23 12:54:33,537]\u001b[0m Trial 8 finished with value: 0.49331848552338525 and parameters: {'n_estimators': 11, 'max_depth': 18.704670847503657}. Best is trial 6 with value: 0.4961024498886414.\u001b[0m\n",
            "\u001b[32m[I 2022-03-23 12:54:33,690]\u001b[0m Trial 9 finished with value: 0.4968819599109131 and parameters: {'n_estimators': 6, 'max_depth': 1.7485932322089939}. Best is trial 9 with value: 0.4968819599109131.\u001b[0m\n",
            "\u001b[32m[I 2022-03-23 12:54:33,787]\u001b[0m Trial 10 finished with value: 0.4953229398663697 and parameters: {'n_estimators': 2, 'max_depth': 1.1256064408267472}. Best is trial 9 with value: 0.4968819599109131.\u001b[0m\n",
            "\u001b[32m[I 2022-03-23 12:54:34,020]\u001b[0m Trial 11 finished with value: 0.48429844097995545 and parameters: {'n_estimators': 4, 'max_depth': 6.684064225024113}. Best is trial 9 with value: 0.4968819599109131.\u001b[0m\n",
            "\u001b[32m[I 2022-03-23 12:54:34,231]\u001b[0m Trial 12 finished with value: 0.48118040089086855 and parameters: {'n_estimators': 6, 'max_depth': 3.598592092078724}. Best is trial 9 with value: 0.4968819599109131.\u001b[0m\n",
            "\u001b[32m[I 2022-03-23 12:54:34,670]\u001b[0m Trial 13 finished with value: 0.4801781737193764 and parameters: {'n_estimators': 7, 'max_depth': 9.892091233405647}. Best is trial 9 with value: 0.4968819599109131.\u001b[0m\n",
            "\u001b[32m[I 2022-03-23 12:54:35,072]\u001b[0m Trial 14 finished with value: 0.48363028953229403 and parameters: {'n_estimators': 13, 'max_depth': 3.7640876059663078}. Best is trial 9 with value: 0.4968819599109131.\u001b[0m\n",
            "\u001b[32m[I 2022-03-23 12:54:35,500]\u001b[0m Trial 15 finished with value: 0.4889755011135858 and parameters: {'n_estimators': 6, 'max_depth': 11.078689969962566}. Best is trial 9 with value: 0.4968819599109131.\u001b[0m\n",
            "\u001b[32m[I 2022-03-23 12:54:35,595]\u001b[0m Trial 16 finished with value: 0.48663697104677067 and parameters: {'n_estimators': 2, 'max_depth': 1.186937843120417}. Best is trial 9 with value: 0.4968819599109131.\u001b[0m\n",
            "\u001b[32m[I 2022-03-23 12:54:36,500]\u001b[0m Trial 17 finished with value: 0.4910913140311804 and parameters: {'n_estimators': 8, 'max_depth': 30.53177101357908}. Best is trial 9 with value: 0.4968819599109131.\u001b[0m\n",
            "\u001b[32m[I 2022-03-23 12:54:36,667]\u001b[0m Trial 18 finished with value: 0.48942093541202675 and parameters: {'n_estimators': 4, 'max_depth': 3.9743344033463006}. Best is trial 9 with value: 0.4968819599109131.\u001b[0m\n",
            "\u001b[32m[I 2022-03-23 12:54:37,327]\u001b[0m Trial 19 finished with value: 0.48207126948775053 and parameters: {'n_estimators': 13, 'max_depth': 7.658812431349422}. Best is trial 9 with value: 0.4968819599109131.\u001b[0m\n",
            "\u001b[32m[I 2022-03-23 12:54:37,684]\u001b[0m Trial 20 finished with value: 0.49153674832962135 and parameters: {'n_estimators': 4, 'max_depth': 15.45060880978089}. Best is trial 9 with value: 0.4968819599109131.\u001b[0m\n",
            "\u001b[32m[I 2022-03-23 12:54:37,953]\u001b[0m Trial 21 finished with value: 0.49643652561247215 and parameters: {'n_estimators': 14, 'max_depth': 1.9178336012355615}. Best is trial 9 with value: 0.4968819599109131.\u001b[0m\n",
            "\u001b[32m[I 2022-03-23 12:54:38,306]\u001b[0m Trial 22 finished with value: 0.4844097995545657 and parameters: {'n_estimators': 14, 'max_depth': 2.2500949455986334}. Best is trial 9 with value: 0.4968819599109131.\u001b[0m\n",
            "\u001b[32m[I 2022-03-23 12:54:38,588]\u001b[0m Trial 23 finished with value: 0.4965478841870824 and parameters: {'n_estimators': 15, 'max_depth': 1.6066771718539132}. Best is trial 9 with value: 0.4968819599109131.\u001b[0m\n",
            "\u001b[32m[I 2022-03-23 12:54:38,869]\u001b[0m Trial 24 finished with value: 0.4916481069042316 and parameters: {'n_estimators': 15, 'max_depth': 1.4639091049406143}. Best is trial 9 with value: 0.4968819599109131.\u001b[0m\n",
            "\u001b[32m[I 2022-03-23 12:54:39,202]\u001b[0m Trial 25 finished with value: 0.48084632516703785 and parameters: {'n_estimators': 12, 'max_depth': 2.7347211385766226}. Best is trial 9 with value: 0.4968819599109131.\u001b[0m\n",
            "\u001b[32m[I 2022-03-23 12:54:39,529]\u001b[0m Trial 26 finished with value: 0.4963251670378619 and parameters: {'n_estimators': 16, 'max_depth': 1.00681036052449}. Best is trial 9 with value: 0.4968819599109131.\u001b[0m\n",
            "\u001b[32m[I 2022-03-23 12:54:39,749]\u001b[0m Trial 27 finished with value: 0.49554565701559017 and parameters: {'n_estimators': 10, 'max_depth': 1.5285005948756938}. Best is trial 9 with value: 0.4968819599109131.\u001b[0m\n",
            "\u001b[32m[I 2022-03-23 12:54:40,099]\u001b[0m Trial 28 finished with value: 0.4879732739420935 and parameters: {'n_estimators': 14, 'max_depth': 2.905513394387678}. Best is trial 9 with value: 0.4968819599109131.\u001b[0m\n",
            "\u001b[32m[I 2022-03-23 12:54:40,535]\u001b[0m Trial 29 finished with value: 0.48062360801781734 and parameters: {'n_estimators': 12, 'max_depth': 4.452887194575073}. Best is trial 9 with value: 0.4968819599109131.\u001b[0m\n",
            "\u001b[32m[I 2022-03-23 12:54:40,963]\u001b[0m Trial 30 finished with value: 0.4887527839643653 and parameters: {'n_estimators': 18, 'max_depth': 2.114568426233184}. Best is trial 9 with value: 0.4968819599109131.\u001b[0m\n",
            "\u001b[32m[I 2022-03-23 12:54:41,336]\u001b[0m Trial 31 finished with value: 0.49643652561247215 and parameters: {'n_estimators': 20, 'max_depth': 1.025629582085862}. Best is trial 9 with value: 0.4968819599109131.\u001b[0m\n",
            "\u001b[32m[I 2022-03-23 12:54:41,696]\u001b[0m Trial 32 finished with value: 0.49587973273942093 and parameters: {'n_estimators': 20, 'max_depth': 1.3747566892761358}. Best is trial 9 with value: 0.4968819599109131.\u001b[0m\n",
            "\u001b[32m[I 2022-03-23 12:54:41,998]\u001b[0m Trial 33 finished with value: 0.49587973273942093 and parameters: {'n_estimators': 16, 'max_depth': 1.852426950865619}. Best is trial 9 with value: 0.4968819599109131.\u001b[0m\n",
            "\u001b[32m[I 2022-03-23 12:54:42,363]\u001b[0m Trial 34 finished with value: 0.4916481069042316 and parameters: {'n_estimators': 20, 'max_depth': 1.662485631669488}. Best is trial 9 with value: 0.4968819599109131.\u001b[0m\n",
            "\u001b[32m[I 2022-03-23 12:54:42,677]\u001b[0m Trial 35 finished with value: 0.49498886414253895 and parameters: {'n_estimators': 17, 'max_depth': 1.9715667765099678}. Best is trial 9 with value: 0.4968819599109131.\u001b[0m\n",
            "\u001b[32m[I 2022-03-23 12:54:43,012]\u001b[0m Trial 36 finished with value: 0.49643652561247215 and parameters: {'n_estimators': 18, 'max_depth': 1.245318468046582}. Best is trial 9 with value: 0.4968819599109131.\u001b[0m\n",
            "\u001b[32m[I 2022-03-23 12:54:43,345]\u001b[0m Trial 37 finished with value: 0.49888641425389757 and parameters: {'n_estimators': 18, 'max_depth': 1.3312648224194503}. Best is trial 37 with value: 0.49888641425389757.\u001b[0m\n",
            "\u001b[32m[I 2022-03-23 12:54:43,816]\u001b[0m Trial 38 finished with value: 0.48118040089086855 and parameters: {'n_estimators': 16, 'max_depth': 3.0411484442800005}. Best is trial 37 with value: 0.49888641425389757.\u001b[0m\n",
            "\u001b[32m[I 2022-03-23 12:54:44,351]\u001b[0m Trial 39 finished with value: 0.47461024498886417 and parameters: {'n_estimators': 15, 'max_depth': 4.825648011809851}. Best is trial 37 with value: 0.49888641425389757.\u001b[0m\n",
            "\u001b[32m[I 2022-03-23 12:54:44,766]\u001b[0m Trial 40 finished with value: 0.4859688195991091 and parameters: {'n_estimators': 17, 'max_depth': 2.2628983193671006}. Best is trial 37 with value: 0.49888641425389757.\u001b[0m\n",
            "\u001b[32m[I 2022-03-23 12:54:45,114]\u001b[0m Trial 41 finished with value: 0.4961024498886414 and parameters: {'n_estimators': 19, 'max_depth': 1.335939609982423}. Best is trial 37 with value: 0.49888641425389757.\u001b[0m\n",
            "\u001b[32m[I 2022-03-23 12:54:45,473]\u001b[0m Trial 42 finished with value: 0.4905345211581292 and parameters: {'n_estimators': 19, 'max_depth': 1.0240024352616646}. Best is trial 37 with value: 0.49888641425389757.\u001b[0m\n",
            "\u001b[32m[I 2022-03-23 12:54:45,807]\u001b[0m Trial 43 finished with value: 0.49643652561247215 and parameters: {'n_estimators': 18, 'max_depth': 1.2620983796207577}. Best is trial 37 with value: 0.49888641425389757.\u001b[0m\n",
            "\u001b[32m[I 2022-03-23 12:54:46,101]\u001b[0m Trial 44 finished with value: 0.49888641425389757 and parameters: {'n_estimators': 15, 'max_depth': 1.7070679895232126}. Best is trial 37 with value: 0.49888641425389757.\u001b[0m\n",
            "\u001b[32m[I 2022-03-23 12:54:46,476]\u001b[0m Trial 45 finished with value: 0.4951002227171492 and parameters: {'n_estimators': 20, 'max_depth': 1.6475728187218224}. Best is trial 37 with value: 0.49888641425389757.\u001b[0m\n",
            "\u001b[32m[I 2022-03-23 12:54:46,837]\u001b[0m Trial 46 finished with value: 0.48763919821826285 and parameters: {'n_estimators': 14, 'max_depth': 2.392893464353336}. Best is trial 37 with value: 0.49888641425389757.\u001b[0m\n",
            "\u001b[32m[I 2022-03-23 12:54:47,125]\u001b[0m Trial 47 finished with value: 0.49498886414253895 and parameters: {'n_estimators': 15, 'max_depth': 1.8721490527567337}. Best is trial 37 with value: 0.49888641425389757.\u001b[0m\n",
            "\u001b[32m[I 2022-03-23 12:54:47,343]\u001b[0m Trial 48 finished with value: 0.49465478841870825 and parameters: {'n_estimators': 9, 'max_depth': 1.5197928831647542}. Best is trial 37 with value: 0.49888641425389757.\u001b[0m\n",
            "\u001b[32m[I 2022-03-23 12:54:47,671]\u001b[0m Trial 49 finished with value: 0.488641425389755 and parameters: {'n_estimators': 18, 'max_depth': 1.2199957912704542}. Best is trial 37 with value: 0.49888641425389757.\u001b[0m\n",
            "\u001b[32m[I 2022-03-23 12:54:47,984]\u001b[0m Trial 50 finished with value: 0.4900890868596882 and parameters: {'n_estimators': 17, 'max_depth': 1.1498014184208978}. Best is trial 37 with value: 0.49888641425389757.\u001b[0m\n",
            "\u001b[32m[I 2022-03-23 12:54:48,343]\u001b[0m Trial 51 finished with value: 0.4926503340757238 and parameters: {'n_estimators': 19, 'max_depth': 1.0987257399932413}. Best is trial 37 with value: 0.49888641425389757.\u001b[0m\n",
            "\u001b[32m[I 2022-03-23 12:54:48,673]\u001b[0m Trial 52 finished with value: 0.49097995545657014 and parameters: {'n_estimators': 18, 'max_depth': 1.3596436892856933}. Best is trial 37 with value: 0.49888641425389757.\u001b[0m\n",
            "\u001b[32m[I 2022-03-23 12:54:48,926]\u001b[0m Trial 53 finished with value: 0.4929844097995546 and parameters: {'n_estimators': 13, 'max_depth': 1.7398812977874907}. Best is trial 37 with value: 0.49888641425389757.\u001b[0m\n",
            "\u001b[32m[I 2022-03-23 12:54:49,300]\u001b[0m Trial 54 finished with value: 0.48819599109131395 and parameters: {'n_estimators': 12, 'max_depth': 3.2538725072955454}. Best is trial 37 with value: 0.49888641425389757.\u001b[0m\n",
            "\u001b[32m[I 2022-03-23 12:54:49,796]\u001b[0m Trial 55 finished with value: 0.48396436525612474 and parameters: {'n_estimators': 20, 'max_depth': 2.492877337539658}. Best is trial 37 with value: 0.49888641425389757.\u001b[0m\n",
            "\u001b[32m[I 2022-03-23 12:54:50,135]\u001b[0m Trial 56 finished with value: 0.4965478841870824 and parameters: {'n_estimators': 18, 'max_depth': 1.25681670823287}. Best is trial 37 with value: 0.49888641425389757.\u001b[0m\n",
            "\u001b[32m[I 2022-03-23 12:54:50,455]\u001b[0m Trial 57 finished with value: 0.4914253897550111 and parameters: {'n_estimators': 16, 'max_depth': 1.5866868336742697}. Best is trial 37 with value: 0.49888641425389757.\u001b[0m\n",
            "\u001b[32m[I 2022-03-23 12:54:50,569]\u001b[0m Trial 58 finished with value: 0.4972160356347438 and parameters: {'n_estimators': 3, 'max_depth': 1.3355451141110073}. Best is trial 37 with value: 0.49888641425389757.\u001b[0m\n",
            "\u001b[32m[I 2022-03-23 12:54:50,695]\u001b[0m Trial 59 finished with value: 0.49777282850779503 and parameters: {'n_estimators': 3, 'max_depth': 2.130101679540384}. Best is trial 37 with value: 0.49888641425389757.\u001b[0m\n",
            "\u001b[32m[I 2022-03-23 12:54:50,858]\u001b[0m Trial 60 finished with value: 0.4867483296213808 and parameters: {'n_estimators': 5, 'max_depth': 2.023300911485569}. Best is trial 37 with value: 0.49888641425389757.\u001b[0m\n",
            "\u001b[32m[I 2022-03-23 12:54:50,966]\u001b[0m Trial 61 finished with value: 0.4957683741648107 and parameters: {'n_estimators': 3, 'max_depth': 1.4435003823488954}. Best is trial 37 with value: 0.49888641425389757.\u001b[0m\n",
            "\u001b[32m[I 2022-03-23 12:54:51,065]\u001b[0m Trial 62 finished with value: 0.5011135857461024 and parameters: {'n_estimators': 2, 'max_depth': 1.7559995911500224}. Best is trial 62 with value: 0.5011135857461024.\u001b[0m\n",
            "\u001b[32m[I 2022-03-23 12:54:51,159]\u001b[0m Trial 63 finished with value: 0.4996659242761693 and parameters: {'n_estimators': 2, 'max_depth': 1.7283022210872996}. Best is trial 62 with value: 0.5011135857461024.\u001b[0m\n",
            "\u001b[32m[I 2022-03-23 12:54:51,272]\u001b[0m Trial 64 finished with value: 0.4815144766146993 and parameters: {'n_estimators': 2, 'max_depth': 2.637962588790812}. Best is trial 62 with value: 0.5011135857461024.\u001b[0m\n",
            "\u001b[32m[I 2022-03-23 12:54:51,404]\u001b[0m Trial 65 finished with value: 0.4883073496659242 and parameters: {'n_estimators': 3, 'max_depth': 2.1728464414591278}. Best is trial 62 with value: 0.5011135857461024.\u001b[0m\n",
            "\u001b[32m[I 2022-03-23 12:54:51,512]\u001b[0m Trial 66 finished with value: 0.48819599109131395 and parameters: {'n_estimators': 3, 'max_depth': 1.7490712257197019}. Best is trial 62 with value: 0.5011135857461024.\u001b[0m\n",
            "\u001b[32m[I 2022-03-23 12:54:51,823]\u001b[0m Trial 67 finished with value: 0.4847438752783965 and parameters: {'n_estimators': 5, 'max_depth': 8.2636072766693}. Best is trial 62 with value: 0.5011135857461024.\u001b[0m\n",
            "\u001b[32m[I 2022-03-23 12:54:52,008]\u001b[0m Trial 68 finished with value: 0.48452115812917596 and parameters: {'n_estimators': 6, 'max_depth': 2.0270851123641322}. Best is trial 62 with value: 0.5011135857461024.\u001b[0m\n",
            "\u001b[32m[I 2022-03-23 12:54:52,099]\u001b[0m Trial 69 finished with value: 0.49677060133630285 and parameters: {'n_estimators': 2, 'max_depth': 1.4660536005000995}. Best is trial 62 with value: 0.5011135857461024.\u001b[0m\n",
            "\u001b[32m[I 2022-03-23 12:54:52,209]\u001b[0m Trial 70 finished with value: 0.4992204899777283 and parameters: {'n_estimators': 3, 'max_depth': 1.802305696724442}. Best is trial 62 with value: 0.5011135857461024.\u001b[0m\n",
            "\u001b[32m[I 2022-03-23 12:54:52,316]\u001b[0m Trial 71 finished with value: 0.5010022271714922 and parameters: {'n_estimators': 3, 'max_depth': 1.8009719416607077}. Best is trial 62 with value: 0.5011135857461024.\u001b[0m\n",
            "\u001b[32m[I 2022-03-23 12:54:52,437]\u001b[0m Trial 72 finished with value: 0.4919821826280623 and parameters: {'n_estimators': 3, 'max_depth': 1.808416541889596}. Best is trial 62 with value: 0.5011135857461024.\u001b[0m\n",
            "\u001b[32m[I 2022-03-23 12:54:52,580]\u001b[0m Trial 73 finished with value: 0.4887527839643653 and parameters: {'n_estimators': 4, 'max_depth': 2.3235224820875198}. Best is trial 62 with value: 0.5011135857461024.\u001b[0m\n",
            "\u001b[32m[I 2022-03-23 12:54:52,702]\u001b[0m Trial 74 finished with value: 0.4923162583518931 and parameters: {'n_estimators': 4, 'max_depth': 1.6816878171393659}. Best is trial 62 with value: 0.5011135857461024.\u001b[0m\n",
            "\u001b[32m[I 2022-03-23 12:54:52,797]\u001b[0m Trial 75 finished with value: 0.4987750556792873 and parameters: {'n_estimators': 2, 'max_depth': 1.3628214054790277}. Best is trial 62 with value: 0.5011135857461024.\u001b[0m\n",
            "\u001b[32m[I 2022-03-23 12:54:52,900]\u001b[0m Trial 76 finished with value: 0.4786191536748329 and parameters: {'n_estimators': 2, 'max_depth': 2.818563907418867}. Best is trial 62 with value: 0.5011135857461024.\u001b[0m\n",
            "\u001b[32m[I 2022-03-23 12:54:53,145]\u001b[0m Trial 77 finished with value: 0.48173719376391977 and parameters: {'n_estimators': 5, 'max_depth': 5.573186664406005}. Best is trial 62 with value: 0.5011135857461024.\u001b[0m\n",
            "\u001b[32m[I 2022-03-23 12:54:53,262]\u001b[0m Trial 78 finished with value: 0.4809576837416481 and parameters: {'n_estimators': 2, 'max_depth': 3.192362551472336}. Best is trial 62 with value: 0.5011135857461024.\u001b[0m\n",
            "\u001b[32m[I 2022-03-23 12:54:53,391]\u001b[0m Trial 79 finished with value: 0.49131403118040085 and parameters: {'n_estimators': 3, 'max_depth': 2.086774911159324}. Best is trial 62 with value: 0.5011135857461024.\u001b[0m\n",
            "\u001b[32m[I 2022-03-23 12:54:53,521]\u001b[0m Trial 80 finished with value: 0.49543429844097997 and parameters: {'n_estimators': 4, 'max_depth': 1.5201324583180307}. Best is trial 62 with value: 0.5011135857461024.\u001b[0m\n",
            "\u001b[32m[I 2022-03-23 12:54:53,616]\u001b[0m Trial 81 finished with value: 0.4933184855233853 and parameters: {'n_estimators': 2, 'max_depth': 1.381185984718741}. Best is trial 62 with value: 0.5011135857461024.\u001b[0m\n",
            "\u001b[32m[I 2022-03-23 12:54:53,728]\u001b[0m Trial 82 finished with value: 0.4858574610244989 and parameters: {'n_estimators': 3, 'max_depth': 1.86115840290253}. Best is trial 62 with value: 0.5011135857461024.\u001b[0m\n",
            "\u001b[32m[I 2022-03-23 12:54:53,851]\u001b[0m Trial 83 finished with value: 0.4933184855233853 and parameters: {'n_estimators': 4, 'max_depth': 1.1516218036345103}. Best is trial 62 with value: 0.5011135857461024.\u001b[0m\n",
            "\u001b[32m[I 2022-03-23 12:54:53,962]\u001b[0m Trial 84 finished with value: 0.4965478841870824 and parameters: {'n_estimators': 3, 'max_depth': 1.3264076831967273}. Best is trial 62 with value: 0.5011135857461024.\u001b[0m\n",
            "\u001b[32m[I 2022-03-23 12:54:54,062]\u001b[0m Trial 85 finished with value: 0.49365256124721607 and parameters: {'n_estimators': 2, 'max_depth': 1.58137324346692}. Best is trial 62 with value: 0.5011135857461024.\u001b[0m\n",
            "\u001b[32m[I 2022-03-23 12:54:54,659]\u001b[0m Trial 86 finished with value: 0.4924276169265034 and parameters: {'n_estimators': 5, 'max_depth': 30.686243635771604}. Best is trial 62 with value: 0.5011135857461024.\u001b[0m\n",
            "\u001b[32m[I 2022-03-23 12:54:54,776]\u001b[0m Trial 87 finished with value: 0.4947661469933185 and parameters: {'n_estimators': 3, 'max_depth': 1.0855898022283441}. Best is trial 62 with value: 0.5011135857461024.\u001b[0m\n",
            "\u001b[32m[I 2022-03-23 12:54:54,953]\u001b[0m Trial 88 finished with value: 0.5008908685968819 and parameters: {'n_estimators': 7, 'max_depth': 1.969163805070556}. Best is trial 62 with value: 0.5011135857461024.\u001b[0m\n",
            "\u001b[32m[I 2022-03-23 12:54:55,121]\u001b[0m Trial 89 finished with value: 0.4996659242761693 and parameters: {'n_estimators': 7, 'max_depth': 1.927602934763297}. Best is trial 62 with value: 0.5011135857461024.\u001b[0m\n",
            "\u001b[32m[I 2022-03-23 12:54:55,297]\u001b[0m Trial 90 finished with value: 0.4904231625835189 and parameters: {'n_estimators': 7, 'max_depth': 1.963072871814679}. Best is trial 62 with value: 0.5011135857461024.\u001b[0m\n",
            "\u001b[32m[I 2022-03-23 12:54:55,526]\u001b[0m Trial 91 finished with value: 0.488641425389755 and parameters: {'n_estimators': 7, 'max_depth': 2.194193109911311}. Best is trial 62 with value: 0.5011135857461024.\u001b[0m\n",
            "\u001b[32m[I 2022-03-23 12:54:55,803]\u001b[0m Trial 92 finished with value: 0.48886414253897553 and parameters: {'n_estimators': 10, 'max_depth': 2.631584752164165}. Best is trial 62 with value: 0.5011135857461024.\u001b[0m\n",
            "\u001b[32m[I 2022-03-23 12:54:55,992]\u001b[0m Trial 93 finished with value: 0.49409799554565703 and parameters: {'n_estimators': 8, 'max_depth': 1.828869656446039}. Best is trial 62 with value: 0.5011135857461024.\u001b[0m\n",
            "\u001b[32m[I 2022-03-23 12:54:56,097]\u001b[0m Trial 94 finished with value: 0.4871937639198218 and parameters: {'n_estimators': 2, 'max_depth': 2.4532244006323864}. Best is trial 62 with value: 0.5011135857461024.\u001b[0m\n",
            "\u001b[32m[I 2022-03-23 12:54:56,337]\u001b[0m Trial 95 finished with value: 0.49643652561247215 and parameters: {'n_estimators': 11, 'max_depth': 1.6984341254443123}. Best is trial 62 with value: 0.5011135857461024.\u001b[0m\n",
            "\u001b[32m[I 2022-03-23 12:54:56,553]\u001b[0m Trial 96 finished with value: 0.49253897550111353 and parameters: {'n_estimators': 9, 'max_depth': 1.6411717433911948}. Best is trial 62 with value: 0.5011135857461024.\u001b[0m\n",
            "\u001b[32m[I 2022-03-23 12:54:56,682]\u001b[0m Trial 97 finished with value: 0.4951002227171492 and parameters: {'n_estimators': 4, 'max_depth': 1.4392222727027069}. Best is trial 62 with value: 0.5011135857461024.\u001b[0m\n",
            "\u001b[32m[I 2022-03-23 12:54:56,874]\u001b[0m Trial 98 finished with value: 0.49821826280623605 and parameters: {'n_estimators': 8, 'max_depth': 1.965953313362975}. Best is trial 62 with value: 0.5011135857461024.\u001b[0m\n",
            "\u001b[32m[I 2022-03-23 12:54:57,047]\u001b[0m Trial 99 finished with value: 0.4965478841870824 and parameters: {'n_estimators': 7, 'max_depth': 1.5588467312997558}. Best is trial 62 with value: 0.5011135857461024.\u001b[0m\n"
          ]
        }
      ]
    },
    {
      "cell_type": "code",
      "source": [
        "trial = study.best_trial\n",
        "print('Accuracy: {}'.format(trial.value))\n",
        "print(\"Best hyperparameters: {}\".format(trial.params))"
      ],
      "metadata": {
        "colab": {
          "base_uri": "https://localhost:8080/"
        },
        "id": "K-zYNOsGFS_O",
        "outputId": "0c69fa60-6676-413d-f74a-0c582483dd42"
      },
      "execution_count": null,
      "outputs": [
        {
          "output_type": "stream",
          "name": "stdout",
          "text": [
            "Accuracy: 0.5011135857461024\n",
            "Best hyperparameters: {'n_estimators': 2, 'max_depth': 1.7559995911500224}\n"
          ]
        }
      ]
    },
    {
      "cell_type": "code",
      "source": [
        "#Test the hyperparameter tuned random forest on test set \n",
        "from sklearn.ensemble import RandomForestClassifier\n",
        "from sklearn.metrics import precision_score\n",
        "\n",
        "model=RandomForestClassifier(n_estimators = trial.params[\"n_estimators\"], max_depth = trial.params[\"max_depth\"], random_state = 1)\n",
        "# Evaluate error of predictions\n",
        "model.fit(train[predictors], train[\"Target\"])\n",
        "preds = model.predict(test[predictors])\n",
        "preds = pd.Series(preds, index=test.index)\n",
        "precision_score(test[\"Target\"], preds) "
      ],
      "metadata": {
        "colab": {
          "base_uri": "https://localhost:8080/"
        },
        "id": "W8meyw6MF3YR",
        "outputId": "5dcd111b-f6fc-4958-b019-26bee3bf266a"
      },
      "execution_count": null,
      "outputs": [
        {
          "output_type": "execute_result",
          "data": {
            "text/plain": [
              "0.5"
            ]
          },
          "metadata": {},
          "execution_count": 16
        }
      ]
    },
    {
      "cell_type": "code",
      "source": [
        "\n",
        "from xgboost import XGBClassifier\n",
        "def objective_xgb(trial):\n",
        "  params={\n",
        "          \"n_estimators\" : trial.suggest_int('n_estimators', 2, 10000),\n",
        "          \"max_depth\": trial.suggest_int(\"max_depth\", 1, 32),\n",
        "          \"alpha\": trial.suggest_loguniform(\"alpha\", 0.01, 10.0),\n",
        "          \"lambda\": trial.suggest_loguniform(\"lambda\", 1e-8, 10.0),\n",
        "          \"gamma\": trial.suggest_loguniform(\"lambda\", 1e-8, 10.0),\n",
        "          \"learning_rate\": trial.suggest_loguniform(\"learning_rate\", 0.005, 0.05),\n",
        "          \"colsample_bytree\": trial.suggest_loguniform(\"colsample_bytree\", 0.2, 0.6),\n",
        "          \"subsample\": trial.suggest_loguniform(\"subsample\", 0.4, 0.8),\n",
        "          \"min_child_weight\": trial.suggest_loguniform(\"min_child_weight\", 10, 1000),\n",
        "          \"n_jobs\": 1,\n",
        "  }\n",
        "  clf = XGBClassifier(**params)\n",
        "  return sklearn.model_selection.cross_val_score(clf, train[predictors], train[\"Target\"], \n",
        "           n_jobs=-1, cv=5).mean()"
      ],
      "metadata": {
        "id": "J0X1SCoP4O1R"
      },
      "execution_count": null,
      "outputs": []
    },
    {
      "cell_type": "code",
      "source": [
        "study_xgb = optuna.create_study(direction='maximize')\n",
        "study_xgb.optimize(objective_xgb, n_trials=100)"
      ],
      "metadata": {
        "colab": {
          "base_uri": "https://localhost:8080/"
        },
        "id": "21psHSIIAV6o",
        "outputId": "21f5e843-c5ed-4a7b-a214-c22d13d5b0e0"
      },
      "execution_count": null,
      "outputs": [
        {
          "output_type": "stream",
          "name": "stderr",
          "text": [
            "\u001b[32m[I 2022-03-23 13:42:00,183]\u001b[0m A new study created in memory with name: no-name-e8794fe3-f3e2-45d1-9de5-a24238e4c95c\u001b[0m\n",
            "\u001b[32m[I 2022-03-23 13:42:47,757]\u001b[0m Trial 0 finished with value: 0.47717149220489974 and parameters: {'n_estimators': 3315, 'max_depth': 4, 'alpha': 0.2833188368414135, 'lambda': 6.983047431512594e-08, 'learning_rate': 0.005495969385739635, 'colsample_bytree': 0.48492911890448964, 'subsample': 0.5397130994481613, 'min_child_weight': 74.3017312403502}. Best is trial 0 with value: 0.47717149220489974.\u001b[0m\n"
          ]
        }
      ]
    },
    {
      "cell_type": "code",
      "source": [
        "import keras.layers as kl\n",
        "from keras.models import Model\n",
        "from keras import regularizers\n",
        "#define the LSTM neural network\n",
        "input_data = kl.Input(shape=(1,train.shape[1]))\n",
        "lstm = kl.LSTM(5, input_shape=(1,train.shape[1]), return_sequences=True, activity_regularizer=regularizers.l2(0.003),\n",
        "                       recurrent_regularizer=regularizers.l2(0), dropout=0.2, recurrent_dropout=0.2)(input_data)\n",
        "perc = kl.Dense(5, activation=\"sigmoid\", activity_regularizer=regularizers.l2(0.005))(lstm)\n",
        "lstm2 = kl.LSTM(2, activity_regularizer=regularizers.l2(0.01), recurrent_regularizer=regularizers.l2(0.001),\n",
        "                        dropout=0.2, recurrent_dropout=0.2)(perc)\n",
        "out = kl.Dense(1, activation=\"sigmoid\", activity_regularizer=regularizers.l2(0.001))(lstm2)\n",
        "lstmNN=Model(input_data, out)\n",
        "lstmNN._estimator_type = \"classifier\""
      ],
      "metadata": {
        "id": "MburZJw9yolv"
      },
      "execution_count": null,
      "outputs": []
    },
    {
      "cell_type": "code",
      "source": [
        "\n",
        "from xgboost import XGBClassifier\n",
        "#define base models\n",
        "level0 = []\n",
        "level0.append(('rf', RandomForestClassifier(n_estimators=100, min_samples_split=200, random_state=1)))\n",
        "level0.append(('lstm', lstmNN))\n",
        "level0.append(('xgbc', XGBClassifier()))"
      ],
      "metadata": {
        "id": "QZJmwVyG9gKN"
      },
      "execution_count": null,
      "outputs": []
    },
    {
      "cell_type": "code",
      "source": [
        "from sklearn.ensemble import StackingClassifier\n",
        "from sklearn.linear_model import LogisticRegression\n",
        "\n",
        "# define meta learner model\n",
        "level1 = LogisticRegression()\n",
        "\n",
        "# define the stacking ensemble\n",
        "model = StackingClassifier(estimators=level0, final_estimator=level1, cv=5)\n",
        "# fit the model on all available data\n",
        "model.fit(train[predictors], train[\"Target\"])"
      ],
      "metadata": {
        "colab": {
          "base_uri": "https://localhost:8080/",
          "height": 471
        },
        "id": "aswh_9lII1zR",
        "outputId": "2fe64920-fe0b-4642-9c8d-eb979f4b165b"
      },
      "execution_count": null,
      "outputs": [
        {
          "output_type": "error",
          "ename": "TypeError",
          "evalue": "ignored",
          "traceback": [
            "\u001b[0;31m---------------------------------------------------------------------------\u001b[0m",
            "\u001b[0;31mEmpty\u001b[0m                                     Traceback (most recent call last)",
            "\u001b[0;32m/usr/local/lib/python3.7/dist-packages/joblib/parallel.py\u001b[0m in \u001b[0;36mdispatch_one_batch\u001b[0;34m(self, iterator)\u001b[0m\n\u001b[1;32m    821\u001b[0m             \u001b[0;32mtry\u001b[0m\u001b[0;34m:\u001b[0m\u001b[0;34m\u001b[0m\u001b[0;34m\u001b[0m\u001b[0m\n\u001b[0;32m--> 822\u001b[0;31m                 \u001b[0mtasks\u001b[0m \u001b[0;34m=\u001b[0m \u001b[0mself\u001b[0m\u001b[0;34m.\u001b[0m\u001b[0m_ready_batches\u001b[0m\u001b[0;34m.\u001b[0m\u001b[0mget\u001b[0m\u001b[0;34m(\u001b[0m\u001b[0mblock\u001b[0m\u001b[0;34m=\u001b[0m\u001b[0;32mFalse\u001b[0m\u001b[0;34m)\u001b[0m\u001b[0;34m\u001b[0m\u001b[0;34m\u001b[0m\u001b[0m\n\u001b[0m\u001b[1;32m    823\u001b[0m             \u001b[0;32mexcept\u001b[0m \u001b[0mqueue\u001b[0m\u001b[0;34m.\u001b[0m\u001b[0mEmpty\u001b[0m\u001b[0;34m:\u001b[0m\u001b[0;34m\u001b[0m\u001b[0;34m\u001b[0m\u001b[0m\n",
            "\u001b[0;32m/usr/lib/python3.7/queue.py\u001b[0m in \u001b[0;36mget\u001b[0;34m(self, block, timeout)\u001b[0m\n\u001b[1;32m    166\u001b[0m                 \u001b[0;32mif\u001b[0m \u001b[0;32mnot\u001b[0m \u001b[0mself\u001b[0m\u001b[0;34m.\u001b[0m\u001b[0m_qsize\u001b[0m\u001b[0;34m(\u001b[0m\u001b[0;34m)\u001b[0m\u001b[0;34m:\u001b[0m\u001b[0;34m\u001b[0m\u001b[0;34m\u001b[0m\u001b[0m\n\u001b[0;32m--> 167\u001b[0;31m                     \u001b[0;32mraise\u001b[0m \u001b[0mEmpty\u001b[0m\u001b[0;34m\u001b[0m\u001b[0;34m\u001b[0m\u001b[0m\n\u001b[0m\u001b[1;32m    168\u001b[0m             \u001b[0;32melif\u001b[0m \u001b[0mtimeout\u001b[0m \u001b[0;32mis\u001b[0m \u001b[0;32mNone\u001b[0m\u001b[0;34m:\u001b[0m\u001b[0;34m\u001b[0m\u001b[0;34m\u001b[0m\u001b[0m\n",
            "\u001b[0;31mEmpty\u001b[0m: ",
            "\nDuring handling of the above exception, another exception occurred:\n",
            "\u001b[0;31mTypeError\u001b[0m                                 Traceback (most recent call last)",
            "\u001b[0;32m<ipython-input-38-3db18a590cf3>\u001b[0m in \u001b[0;36m<module>\u001b[0;34m()\u001b[0m\n\u001b[1;32m      8\u001b[0m \u001b[0mmodel\u001b[0m \u001b[0;34m=\u001b[0m \u001b[0mStackingClassifier\u001b[0m\u001b[0;34m(\u001b[0m\u001b[0mestimators\u001b[0m\u001b[0;34m=\u001b[0m\u001b[0mlevel0\u001b[0m\u001b[0;34m,\u001b[0m \u001b[0mfinal_estimator\u001b[0m\u001b[0;34m=\u001b[0m\u001b[0mlevel1\u001b[0m\u001b[0;34m,\u001b[0m \u001b[0mcv\u001b[0m\u001b[0;34m=\u001b[0m\u001b[0;36m5\u001b[0m\u001b[0;34m)\u001b[0m\u001b[0;34m\u001b[0m\u001b[0;34m\u001b[0m\u001b[0m\n\u001b[1;32m      9\u001b[0m \u001b[0;31m# fit the model on all available data\u001b[0m\u001b[0;34m\u001b[0m\u001b[0;34m\u001b[0m\u001b[0;34m\u001b[0m\u001b[0m\n\u001b[0;32m---> 10\u001b[0;31m \u001b[0mmodel\u001b[0m\u001b[0;34m.\u001b[0m\u001b[0mfit\u001b[0m\u001b[0;34m(\u001b[0m\u001b[0mtrain\u001b[0m\u001b[0;34m[\u001b[0m\u001b[0mpredictors\u001b[0m\u001b[0;34m]\u001b[0m\u001b[0;34m,\u001b[0m \u001b[0mtrain\u001b[0m\u001b[0;34m[\u001b[0m\u001b[0;34m\"Target\"\u001b[0m\u001b[0;34m]\u001b[0m\u001b[0;34m)\u001b[0m\u001b[0;34m\u001b[0m\u001b[0;34m\u001b[0m\u001b[0m\n\u001b[0m",
            "\u001b[0;32m/usr/local/lib/python3.7/dist-packages/sklearn/ensemble/_stacking.py\u001b[0m in \u001b[0;36mfit\u001b[0;34m(self, X, y, sample_weight)\u001b[0m\n\u001b[1;32m    486\u001b[0m         \u001b[0mself\u001b[0m\u001b[0;34m.\u001b[0m\u001b[0m_le\u001b[0m \u001b[0;34m=\u001b[0m \u001b[0mLabelEncoder\u001b[0m\u001b[0;34m(\u001b[0m\u001b[0;34m)\u001b[0m\u001b[0;34m.\u001b[0m\u001b[0mfit\u001b[0m\u001b[0;34m(\u001b[0m\u001b[0my\u001b[0m\u001b[0;34m)\u001b[0m\u001b[0;34m\u001b[0m\u001b[0;34m\u001b[0m\u001b[0m\n\u001b[1;32m    487\u001b[0m         \u001b[0mself\u001b[0m\u001b[0;34m.\u001b[0m\u001b[0mclasses_\u001b[0m \u001b[0;34m=\u001b[0m \u001b[0mself\u001b[0m\u001b[0;34m.\u001b[0m\u001b[0m_le\u001b[0m\u001b[0;34m.\u001b[0m\u001b[0mclasses_\u001b[0m\u001b[0;34m\u001b[0m\u001b[0;34m\u001b[0m\u001b[0m\n\u001b[0;32m--> 488\u001b[0;31m         \u001b[0;32mreturn\u001b[0m \u001b[0msuper\u001b[0m\u001b[0;34m(\u001b[0m\u001b[0;34m)\u001b[0m\u001b[0;34m.\u001b[0m\u001b[0mfit\u001b[0m\u001b[0;34m(\u001b[0m\u001b[0mX\u001b[0m\u001b[0;34m,\u001b[0m \u001b[0mself\u001b[0m\u001b[0;34m.\u001b[0m\u001b[0m_le\u001b[0m\u001b[0;34m.\u001b[0m\u001b[0mtransform\u001b[0m\u001b[0;34m(\u001b[0m\u001b[0my\u001b[0m\u001b[0;34m)\u001b[0m\u001b[0;34m,\u001b[0m \u001b[0msample_weight\u001b[0m\u001b[0;34m)\u001b[0m\u001b[0;34m\u001b[0m\u001b[0;34m\u001b[0m\u001b[0m\n\u001b[0m\u001b[1;32m    489\u001b[0m \u001b[0;34m\u001b[0m\u001b[0m\n\u001b[1;32m    490\u001b[0m     \u001b[0;34m@\u001b[0m\u001b[0mif_delegate_has_method\u001b[0m\u001b[0;34m(\u001b[0m\u001b[0mdelegate\u001b[0m\u001b[0;34m=\u001b[0m\u001b[0;34m\"final_estimator_\"\u001b[0m\u001b[0;34m)\u001b[0m\u001b[0;34m\u001b[0m\u001b[0;34m\u001b[0m\u001b[0m\n",
            "\u001b[0;32m/usr/local/lib/python3.7/dist-packages/sklearn/ensemble/_stacking.py\u001b[0m in \u001b[0;36mfit\u001b[0;34m(self, X, y, sample_weight)\u001b[0m\n\u001b[1;32m    158\u001b[0m         self.estimators_ = Parallel(n_jobs=self.n_jobs)(\n\u001b[1;32m    159\u001b[0m             \u001b[0mdelayed\u001b[0m\u001b[0;34m(\u001b[0m\u001b[0m_fit_single_estimator\u001b[0m\u001b[0;34m)\u001b[0m\u001b[0;34m(\u001b[0m\u001b[0mclone\u001b[0m\u001b[0;34m(\u001b[0m\u001b[0mest\u001b[0m\u001b[0;34m)\u001b[0m\u001b[0;34m,\u001b[0m \u001b[0mX\u001b[0m\u001b[0;34m,\u001b[0m \u001b[0my\u001b[0m\u001b[0;34m,\u001b[0m \u001b[0msample_weight\u001b[0m\u001b[0;34m)\u001b[0m\u001b[0;34m\u001b[0m\u001b[0;34m\u001b[0m\u001b[0m\n\u001b[0;32m--> 160\u001b[0;31m             \u001b[0;32mfor\u001b[0m \u001b[0mest\u001b[0m \u001b[0;32min\u001b[0m \u001b[0mall_estimators\u001b[0m\u001b[0;34m\u001b[0m\u001b[0;34m\u001b[0m\u001b[0m\n\u001b[0m\u001b[1;32m    161\u001b[0m             \u001b[0;32mif\u001b[0m \u001b[0mest\u001b[0m \u001b[0;34m!=\u001b[0m \u001b[0;34m\"drop\"\u001b[0m\u001b[0;34m\u001b[0m\u001b[0;34m\u001b[0m\u001b[0m\n\u001b[1;32m    162\u001b[0m         )\n",
            "\u001b[0;32m/usr/local/lib/python3.7/dist-packages/joblib/parallel.py\u001b[0m in \u001b[0;36m__call__\u001b[0;34m(self, iterable)\u001b[0m\n\u001b[1;32m   1044\u001b[0m                 \u001b[0mself\u001b[0m\u001b[0;34m.\u001b[0m\u001b[0m_iterating\u001b[0m \u001b[0;34m=\u001b[0m \u001b[0mself\u001b[0m\u001b[0;34m.\u001b[0m\u001b[0m_original_iterator\u001b[0m \u001b[0;32mis\u001b[0m \u001b[0;32mnot\u001b[0m \u001b[0;32mNone\u001b[0m\u001b[0;34m\u001b[0m\u001b[0;34m\u001b[0m\u001b[0m\n\u001b[1;32m   1045\u001b[0m \u001b[0;34m\u001b[0m\u001b[0m\n\u001b[0;32m-> 1046\u001b[0;31m             \u001b[0;32mwhile\u001b[0m \u001b[0mself\u001b[0m\u001b[0;34m.\u001b[0m\u001b[0mdispatch_one_batch\u001b[0m\u001b[0;34m(\u001b[0m\u001b[0miterator\u001b[0m\u001b[0;34m)\u001b[0m\u001b[0;34m:\u001b[0m\u001b[0;34m\u001b[0m\u001b[0;34m\u001b[0m\u001b[0m\n\u001b[0m\u001b[1;32m   1047\u001b[0m                 \u001b[0;32mpass\u001b[0m\u001b[0;34m\u001b[0m\u001b[0;34m\u001b[0m\u001b[0m\n\u001b[1;32m   1048\u001b[0m \u001b[0;34m\u001b[0m\u001b[0m\n",
            "\u001b[0;32m/usr/local/lib/python3.7/dist-packages/joblib/parallel.py\u001b[0m in \u001b[0;36mdispatch_one_batch\u001b[0;34m(self, iterator)\u001b[0m\n\u001b[1;32m    831\u001b[0m                 \u001b[0mbig_batch_size\u001b[0m \u001b[0;34m=\u001b[0m \u001b[0mbatch_size\u001b[0m \u001b[0;34m*\u001b[0m \u001b[0mn_jobs\u001b[0m\u001b[0;34m\u001b[0m\u001b[0;34m\u001b[0m\u001b[0m\n\u001b[1;32m    832\u001b[0m \u001b[0;34m\u001b[0m\u001b[0m\n\u001b[0;32m--> 833\u001b[0;31m                 \u001b[0mislice\u001b[0m \u001b[0;34m=\u001b[0m \u001b[0mlist\u001b[0m\u001b[0;34m(\u001b[0m\u001b[0mitertools\u001b[0m\u001b[0;34m.\u001b[0m\u001b[0mislice\u001b[0m\u001b[0;34m(\u001b[0m\u001b[0miterator\u001b[0m\u001b[0;34m,\u001b[0m \u001b[0mbig_batch_size\u001b[0m\u001b[0;34m)\u001b[0m\u001b[0;34m)\u001b[0m\u001b[0;34m\u001b[0m\u001b[0;34m\u001b[0m\u001b[0m\n\u001b[0m\u001b[1;32m    834\u001b[0m                 \u001b[0;32mif\u001b[0m \u001b[0mlen\u001b[0m\u001b[0;34m(\u001b[0m\u001b[0mislice\u001b[0m\u001b[0;34m)\u001b[0m \u001b[0;34m==\u001b[0m \u001b[0;36m0\u001b[0m\u001b[0;34m:\u001b[0m\u001b[0;34m\u001b[0m\u001b[0;34m\u001b[0m\u001b[0m\n\u001b[1;32m    835\u001b[0m                     \u001b[0;32mreturn\u001b[0m \u001b[0;32mFalse\u001b[0m\u001b[0;34m\u001b[0m\u001b[0;34m\u001b[0m\u001b[0m\n",
            "\u001b[0;32m/usr/local/lib/python3.7/dist-packages/sklearn/ensemble/_stacking.py\u001b[0m in \u001b[0;36m<genexpr>\u001b[0;34m(.0)\u001b[0m\n\u001b[1;32m    159\u001b[0m             \u001b[0mdelayed\u001b[0m\u001b[0;34m(\u001b[0m\u001b[0m_fit_single_estimator\u001b[0m\u001b[0;34m)\u001b[0m\u001b[0;34m(\u001b[0m\u001b[0mclone\u001b[0m\u001b[0;34m(\u001b[0m\u001b[0mest\u001b[0m\u001b[0;34m)\u001b[0m\u001b[0;34m,\u001b[0m \u001b[0mX\u001b[0m\u001b[0;34m,\u001b[0m \u001b[0my\u001b[0m\u001b[0;34m,\u001b[0m \u001b[0msample_weight\u001b[0m\u001b[0;34m)\u001b[0m\u001b[0;34m\u001b[0m\u001b[0;34m\u001b[0m\u001b[0m\n\u001b[1;32m    160\u001b[0m             \u001b[0;32mfor\u001b[0m \u001b[0mest\u001b[0m \u001b[0;32min\u001b[0m \u001b[0mall_estimators\u001b[0m\u001b[0;34m\u001b[0m\u001b[0;34m\u001b[0m\u001b[0m\n\u001b[0;32m--> 161\u001b[0;31m             \u001b[0;32mif\u001b[0m \u001b[0mest\u001b[0m \u001b[0;34m!=\u001b[0m \u001b[0;34m\"drop\"\u001b[0m\u001b[0;34m\u001b[0m\u001b[0;34m\u001b[0m\u001b[0m\n\u001b[0m\u001b[1;32m    162\u001b[0m         )\n\u001b[1;32m    163\u001b[0m \u001b[0;34m\u001b[0m\u001b[0m\n",
            "\u001b[0;32m/usr/local/lib/python3.7/dist-packages/sklearn/base.py\u001b[0m in \u001b[0;36mclone\u001b[0;34m(estimator, safe)\u001b[0m\n\u001b[1;32m     78\u001b[0m                     \u001b[0;34m\"it does not seem to be a scikit-learn \"\u001b[0m\u001b[0;34m\u001b[0m\u001b[0;34m\u001b[0m\u001b[0m\n\u001b[1;32m     79\u001b[0m                     \u001b[0;34m\"estimator as it does not implement a \"\u001b[0m\u001b[0;34m\u001b[0m\u001b[0;34m\u001b[0m\u001b[0m\n\u001b[0;32m---> 80\u001b[0;31m                     \u001b[0;34m\"'get_params' method.\"\u001b[0m \u001b[0;34m%\u001b[0m \u001b[0;34m(\u001b[0m\u001b[0mrepr\u001b[0m\u001b[0;34m(\u001b[0m\u001b[0mestimator\u001b[0m\u001b[0;34m)\u001b[0m\u001b[0;34m,\u001b[0m \u001b[0mtype\u001b[0m\u001b[0;34m(\u001b[0m\u001b[0mestimator\u001b[0m\u001b[0;34m)\u001b[0m\u001b[0;34m)\u001b[0m\u001b[0;34m\u001b[0m\u001b[0;34m\u001b[0m\u001b[0m\n\u001b[0m\u001b[1;32m     81\u001b[0m                 )\n\u001b[1;32m     82\u001b[0m \u001b[0;34m\u001b[0m\u001b[0m\n",
            "\u001b[0;31mTypeError\u001b[0m: Cannot clone object '<keras.engine.functional.Functional object at 0x7fe792400090>' (type <class 'keras.engine.functional.Functional'>): it does not seem to be a scikit-learn estimator as it does not implement a 'get_params' method."
          ]
        }
      ]
    },
    {
      "cell_type": "code",
      "source": [
        "\n",
        "\n",
        "from sklearn.metrics import precision_score\n",
        "\n",
        "# Evaluate error of predictions\n",
        "preds = model.predict(test[predictors])\n",
        "preds = pd.Series(preds, index=test.index)\n",
        "precision_score(test[\"Target\"], preds)\n",
        "\n"
      ],
      "metadata": {
        "colab": {
          "base_uri": "https://localhost:8080/"
        },
        "id": "rG2Z-p-qI5zc",
        "outputId": "945829d7-90c1-4283-fe81-65de1eda23d1"
      },
      "execution_count": null,
      "outputs": [
        {
          "output_type": "execute_result",
          "data": {
            "text/plain": [
              "0.5"
            ]
          },
          "metadata": {},
          "execution_count": 12
        }
      ]
    },
    {
      "cell_type": "code",
      "source": [
        "combined = pd.concat({\"Target\": test[\"Target\"],\"Predictions\": preds}, axis=1)\n",
        "combined.plot()"
      ],
      "metadata": {
        "colab": {
          "base_uri": "https://localhost:8080/",
          "height": 295
        },
        "id": "rfx59M94JEUV",
        "outputId": "60476dde-12d6-4c44-f446-54024221010b"
      },
      "execution_count": null,
      "outputs": [
        {
          "output_type": "execute_result",
          "data": {
            "text/plain": [
              "<matplotlib.axes._subplots.AxesSubplot at 0x7ff6a8685550>"
            ]
          },
          "metadata": {},
          "execution_count": 13
        },
        {
          "output_type": "display_data",
          "data": {
            "image/png": "[encoded data removed]",
            "text/plain": [
              "<Figure size 432x288 with 1 Axes>"
            ]
          },
          "metadata": {
            "needs_background": "light"
          }
        }
      ]
    },
    {
      "cell_type": "code",
      "source": [
        ""
      ],
      "metadata": {
        "id": "1OdY6ZsPJLud"
      },
      "execution_count": null,
      "outputs": []
    }
  ]
}