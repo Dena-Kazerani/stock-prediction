{
  "cells": [
    {
      "cell_type": "markdown",
      "metadata": {
        "id": "view-in-github",
        "colab_type": "text"
      },
      "source": [
        "<a href=\"https://colab.research.google.com/github/Dena-Kazerani/stock-prediction/blob/main/StockPrediction.ipynb\" target=\"_parent\"><img src=\"https://colab.research.google.com/assets/colab-badge.svg\" alt=\"Open In Colab\"/></a>"
      ]
    },
    {
      "cell_type": "code",
      "execution_count": 5,
      "metadata": {
        "id": "jn631t1s39or",
        "colab": {
          "base_uri": "https://localhost:8080/"
        },
        "outputId": "1137f49c-740f-423c-862c-92db8213fb07"
      },
      "outputs": [
        {
          "output_type": "stream",
          "name": "stdout",
          "text": [
            "Collecting yfinance\n",
            "  Downloading yfinance-0.1.70-py2.py3-none-any.whl (26 kB)\n",
            "Requirement already satisfied: numpy>=1.15 in /usr/local/lib/python3.7/dist-packages (from yfinance) (1.21.5)\n",
            "Collecting requests>=2.26\n",
            "  Downloading requests-2.27.1-py2.py3-none-any.whl (63 kB)\n",
            "\u001b[K     |████████████████████████████████| 63 kB 707 kB/s \n",
            "\u001b[?25hRequirement already satisfied: multitasking>=0.0.7 in /usr/local/lib/python3.7/dist-packages (from yfinance) (0.0.10)\n",
            "Requirement already satisfied: pandas>=0.24.0 in /usr/local/lib/python3.7/dist-packages (from yfinance) (1.3.5)\n",
            "Collecting lxml>=4.5.1\n",
            "  Downloading lxml-4.8.0-cp37-cp37m-manylinux_2_17_x86_64.manylinux2014_x86_64.manylinux_2_24_x86_64.whl (6.4 MB)\n",
            "\u001b[K     |████████████████████████████████| 6.4 MB 9.2 MB/s \n",
            "\u001b[?25hRequirement already satisfied: python-dateutil>=2.7.3 in /usr/local/lib/python3.7/dist-packages (from pandas>=0.24.0->yfinance) (2.8.2)\n",
            "Requirement already satisfied: pytz>=2017.3 in /usr/local/lib/python3.7/dist-packages (from pandas>=0.24.0->yfinance) (2018.9)\n",
            "Requirement already satisfied: six>=1.5 in /usr/local/lib/python3.7/dist-packages (from python-dateutil>=2.7.3->pandas>=0.24.0->yfinance) (1.15.0)\n",
            "Requirement already satisfied: urllib3<1.27,>=1.21.1 in /usr/local/lib/python3.7/dist-packages (from requests>=2.26->yfinance) (1.24.3)\n",
            "Requirement already satisfied: charset-normalizer~=2.0.0 in /usr/local/lib/python3.7/dist-packages (from requests>=2.26->yfinance) (2.0.12)\n",
            "Requirement already satisfied: idna<4,>=2.5 in /usr/local/lib/python3.7/dist-packages (from requests>=2.26->yfinance) (2.10)\n",
            "Requirement already satisfied: certifi>=2017.4.17 in /usr/local/lib/python3.7/dist-packages (from requests>=2.26->yfinance) (2021.10.8)\n",
            "Installing collected packages: requests, lxml, yfinance\n",
            "  Attempting uninstall: requests\n",
            "    Found existing installation: requests 2.23.0\n",
            "    Uninstalling requests-2.23.0:\n",
            "      Successfully uninstalled requests-2.23.0\n",
            "  Attempting uninstall: lxml\n",
            "    Found existing installation: lxml 4.2.6\n",
            "    Uninstalling lxml-4.2.6:\n",
            "      Successfully uninstalled lxml-4.2.6\n",
            "\u001b[31mERROR: pip's dependency resolver does not currently take into account all the packages that are installed. This behaviour is the source of the following dependency conflicts.\n",
            "google-colab 1.0.0 requires requests~=2.23.0, but you have requests 2.27.1 which is incompatible.\n",
            "datascience 0.10.6 requires folium==0.2.1, but you have folium 0.8.3 which is incompatible.\u001b[0m\n",
            "Successfully installed lxml-4.8.0 requests-2.27.1 yfinance-0.1.70\n"
          ]
        }
      ],
      "source": [
        "# Import finance API and get historical stock data\n",
        "!pip install yfinance\n",
        "#!pip install -U scikit-learn\n",
        "import yfinance as yf\n",
        "import os\n",
        "import json\n",
        "import pandas as pd\n",
        "\n",
        "\n",
        "DATA_PATH = \"msft_data.json\"\n",
        "msft = yf.Ticker(\"MSFT\")\n",
        "msft_hist = msft.history(period=\"max\")\n",
        "\n",
        "# Save file to json in case we need it later.  This prevents us from having to re-download it every time.\n",
        "msft_hist.to_json(DATA_PATH)\n"
      ]
    },
    {
      "cell_type": "code",
      "execution_count": 6,
      "metadata": {
        "colab": {
          "base_uri": "https://localhost:8080/",
          "height": 238
        },
        "id": "TQFOWwqQGcXV",
        "outputId": "3d0be5bf-9b50-4171-bdb6-4d79af82b237"
      },
      "outputs": [
        {
          "output_type": "execute_result",
          "data": {
            "text/plain": [
              "                Open      High       Low     Close      Volume  Dividends  \\\n",
              "Date                                                                        \n",
              "1986-03-13  0.055949  0.064177  0.055949  0.061434  1031788800        0.0   \n",
              "1986-03-14  0.061434  0.064725  0.061434  0.063628   308160000        0.0   \n",
              "1986-03-17  0.063628  0.065274  0.063628  0.064725   133171200        0.0   \n",
              "1986-03-18  0.064725  0.065274  0.062531  0.063079    67766400        0.0   \n",
              "1986-03-19  0.063079  0.063628  0.061434  0.061982    47894400        0.0   \n",
              "\n",
              "            Stock Splits  \n",
              "Date                      \n",
              "1986-03-13           0.0  \n",
              "1986-03-14           0.0  \n",
              "1986-03-17           0.0  \n",
              "1986-03-18           0.0  \n",
              "1986-03-19           0.0  "
            ],
            "text/html": [
              "\n",
              "  <div id=\"df-6a869b21-4081-48ed-a31b-5eb3b7c13122\">\n",
              "    <div class=\"colab-df-container\">\n",
              "      <div>\n",
              "<style scoped>\n",
              "    .dataframe tbody tr th:only-of-type {\n",
              "        vertical-align: middle;\n",
              "    }\n",
              "\n",
              "    .dataframe tbody tr th {\n",
              "        vertical-align: top;\n",
              "    }\n",
              "\n",
              "    .dataframe thead th {\n",
              "        text-align: right;\n",
              "    }\n",
              "</style>\n",
              "<table border=\"1\" class=\"dataframe\">\n",
              "  <thead>\n",
              "    <tr style=\"text-align: right;\">\n",
              "      <th></th>\n",
              "      <th>Open</th>\n",
              "      <th>High</th>\n",
              "      <th>Low</th>\n",
              "      <th>Close</th>\n",
              "      <th>Volume</th>\n",
              "      <th>Dividends</th>\n",
              "      <th>Stock Splits</th>\n",
              "    </tr>\n",
              "    <tr>\n",
              "      <th>Date</th>\n",
              "      <th></th>\n",
              "      <th></th>\n",
              "      <th></th>\n",
              "      <th></th>\n",
              "      <th></th>\n",
              "      <th></th>\n",
              "      <th></th>\n",
              "    </tr>\n",
              "  </thead>\n",
              "  <tbody>\n",
              "    <tr>\n",
              "      <th>1986-03-13</th>\n",
              "      <td>0.055949</td>\n",
              "      <td>0.064177</td>\n",
              "      <td>0.055949</td>\n",
              "      <td>0.061434</td>\n",
              "      <td>1031788800</td>\n",
              "      <td>0.0</td>\n",
              "      <td>0.0</td>\n",
              "    </tr>\n",
              "    <tr>\n",
              "      <th>1986-03-14</th>\n",
              "      <td>0.061434</td>\n",
              "      <td>0.064725</td>\n",
              "      <td>0.061434</td>\n",
              "      <td>0.063628</td>\n",
              "      <td>308160000</td>\n",
              "      <td>0.0</td>\n",
              "      <td>0.0</td>\n",
              "    </tr>\n",
              "    <tr>\n",
              "      <th>1986-03-17</th>\n",
              "      <td>0.063628</td>\n",
              "      <td>0.065274</td>\n",
              "      <td>0.063628</td>\n",
              "      <td>0.064725</td>\n",
              "      <td>133171200</td>\n",
              "      <td>0.0</td>\n",
              "      <td>0.0</td>\n",
              "    </tr>\n",
              "    <tr>\n",
              "      <th>1986-03-18</th>\n",
              "      <td>0.064725</td>\n",
              "      <td>0.065274</td>\n",
              "      <td>0.062531</td>\n",
              "      <td>0.063079</td>\n",
              "      <td>67766400</td>\n",
              "      <td>0.0</td>\n",
              "      <td>0.0</td>\n",
              "    </tr>\n",
              "    <tr>\n",
              "      <th>1986-03-19</th>\n",
              "      <td>0.063079</td>\n",
              "      <td>0.063628</td>\n",
              "      <td>0.061434</td>\n",
              "      <td>0.061982</td>\n",
              "      <td>47894400</td>\n",
              "      <td>0.0</td>\n",
              "      <td>0.0</td>\n",
              "    </tr>\n",
              "  </tbody>\n",
              "</table>\n",
              "</div>\n",
              "      <button class=\"colab-df-convert\" onclick=\"convertToInteractive('df-6a869b21-4081-48ed-a31b-5eb3b7c13122')\"\n",
              "              title=\"Convert this dataframe to an interactive table.\"\n",
              "              style=\"display:none;\">\n",
              "        \n",
              "  <svg xmlns=\"http://www.w3.org/2000/svg\" height=\"24px\"viewBox=\"0 0 24 24\"\n",
              "       width=\"24px\">\n",
              "    <path d=\"M0 0h24v24H0V0z\" fill=\"none\"/>\n",
              "    <path d=\"M18.56 5.44l.94 2.06.94-2.06 2.06-.94-2.06-.94-.94-2.06-.94 2.06-2.06.94zm-11 1L8.5 8.5l.94-2.06 2.06-.94-2.06-.94L8.5 2.5l-.94 2.06-2.06.94zm10 10l.94 2.06.94-2.06 2.06-.94-2.06-.94-.94-2.06-.94 2.06-2.06.94z\"/><path d=\"M17.41 7.96l-1.37-1.37c-.4-.4-.92-.59-1.43-.59-.52 0-1.04.2-1.43.59L10.3 9.45l-7.72 7.72c-.78.78-.78 2.05 0 2.83L4 21.41c.39.39.9.59 1.41.59.51 0 1.02-.2 1.41-.59l7.78-7.78 2.81-2.81c.8-.78.8-2.07 0-2.86zM5.41 20L4 18.59l7.72-7.72 1.47 1.35L5.41 20z\"/>\n",
              "  </svg>\n",
              "      </button>\n",
              "      \n",
              "  <style>\n",
              "    .colab-df-container {\n",
              "      display:flex;\n",
              "      flex-wrap:wrap;\n",
              "      gap: 12px;\n",
              "    }\n",
              "\n",
              "    .colab-df-convert {\n",
              "      background-color: #E8F0FE;\n",
              "      border: none;\n",
              "      border-radius: 50%;\n",
              "      cursor: pointer;\n",
              "      display: none;\n",
              "      fill: #1967D2;\n",
              "      height: 32px;\n",
              "      padding: 0 0 0 0;\n",
              "      width: 32px;\n",
              "    }\n",
              "\n",
              "    .colab-df-convert:hover {\n",
              "      background-color: #E2EBFA;\n",
              "      box-shadow: 0px 1px 2px rgba(60, 64, 67, 0.3), 0px 1px 3px 1px rgba(60, 64, 67, 0.15);\n",
              "      fill: #174EA6;\n",
              "    }\n",
              "\n",
              "    [theme=dark] .colab-df-convert {\n",
              "      background-color: #3B4455;\n",
              "      fill: #D2E3FC;\n",
              "    }\n",
              "\n",
              "    [theme=dark] .colab-df-convert:hover {\n",
              "      background-color: #434B5C;\n",
              "      box-shadow: 0px 1px 3px 1px rgba(0, 0, 0, 0.15);\n",
              "      filter: drop-shadow(0px 1px 2px rgba(0, 0, 0, 0.3));\n",
              "      fill: #FFFFFF;\n",
              "    }\n",
              "  </style>\n",
              "\n",
              "      <script>\n",
              "        const buttonEl =\n",
              "          document.querySelector('#df-6a869b21-4081-48ed-a31b-5eb3b7c13122 button.colab-df-convert');\n",
              "        buttonEl.style.display =\n",
              "          google.colab.kernel.accessAllowed ? 'block' : 'none';\n",
              "\n",
              "        async function convertToInteractive(key) {\n",
              "          const element = document.querySelector('#df-6a869b21-4081-48ed-a31b-5eb3b7c13122');\n",
              "          const dataTable =\n",
              "            await google.colab.kernel.invokeFunction('convertToInteractive',\n",
              "                                                     [key], {});\n",
              "          if (!dataTable) return;\n",
              "\n",
              "          const docLinkHtml = 'Like what you see? Visit the ' +\n",
              "            '<a target=\"_blank\" href=https://colab.research.google.com/notebooks/data_table.ipynb>data table notebook</a>'\n",
              "            + ' to learn more about interactive tables.';\n",
              "          element.innerHTML = '';\n",
              "          dataTable['output_type'] = 'display_data';\n",
              "          await google.colab.output.renderOutput(dataTable, element);\n",
              "          const docLink = document.createElement('div');\n",
              "          docLink.innerHTML = docLinkHtml;\n",
              "          element.appendChild(docLink);\n",
              "        }\n",
              "      </script>\n",
              "    </div>\n",
              "  </div>\n",
              "  "
            ]
          },
          "metadata": {},
          "execution_count": 6
        }
      ],
      "source": [
        "# Display microsoft stock price history so we can look at the structure of the data\n",
        "msft_hist.head(5)"
      ]
    },
    {
      "cell_type": "code",
      "execution_count": 7,
      "metadata": {
        "colab": {
          "base_uri": "https://localhost:8080/",
          "height": 287
        },
        "id": "LdhzEo1XIew4",
        "outputId": "3d5e398c-5771-4c8a-a1ae-55a0bf31a531"
      },
      "outputs": [
        {
          "output_type": "execute_result",
          "data": {
            "text/plain": [
              "<matplotlib.axes._subplots.AxesSubplot at 0x7fe8885375d0>"
            ]
          },
          "metadata": {},
          "execution_count": 7
        },
        {
          "output_type": "display_data",
          "data": {
            "text/plain": [
              "<Figure size 432x288 with 1 Axes>"
            ],
            "image/png": "[encoded data removed]"
          },
          "metadata": {
            "needs_background": "light"
          }
        }
      ],
      "source": [
        "# Visualize microsoft stock prices\n",
        "msft_hist.plot.line(y=\"Close\", use_index=True)"
      ]
    },
    {
      "cell_type": "code",
      "execution_count": 8,
      "metadata": {
        "id": "rsuwQAfWImfU"
      },
      "outputs": [],
      "source": [
        "\n",
        "\n",
        "# Ensure we know the actual closing price\n",
        "data = msft_hist[[\"Close\"]]\n",
        "data = data.rename(columns = {'Close':'Actual_Close'})\n",
        "\n",
        "# Setup our target.  This identifies if the price went up or down\n",
        "data[\"Target\"] = msft_hist.rolling(2).apply(lambda x: x.iloc[1] > x.iloc[0])[\"Close\"]\n",
        "\n"
      ]
    },
    {
      "cell_type": "code",
      "execution_count": 9,
      "metadata": {
        "id": "E-PIH9fMIsFD"
      },
      "outputs": [],
      "source": [
        "\n",
        "\n",
        "# Shift stock prices forward one day, so we're predicting tomorrow's stock prices from today's prices.\n",
        "msft_prev = msft_hist.copy()\n",
        "msft_prev = msft_prev.shift(1)\n",
        "\n"
      ]
    },
    {
      "cell_type": "code",
      "execution_count": 10,
      "metadata": {
        "id": "wQmhqCMUIwQb"
      },
      "outputs": [],
      "source": [
        "\n",
        "\n",
        "# Create our training data\n",
        "predictors = [\"Close\", \"Volume\", \"Open\", \"High\", \"Low\"]\n",
        "data = data.join(msft_prev[predictors]).iloc[1:]\n",
        "\n",
        "# Create a train and test set\n",
        "train = data.iloc[:-100]\n",
        "test = data.iloc[-100:]"
      ]
    },
    {
      "cell_type": "code",
      "execution_count": 11,
      "metadata": {
        "id": "T85mTZWkzdwW"
      },
      "outputs": [],
      "source": [
        "import sklearn\n",
        "# Random forest hyperparameter tuning using optuna\n",
        "\n",
        "def objective(trial):\n",
        "      n_estimators = trial.suggest_int('n_estimators', 2, 20)\n",
        "      max_depth = int(trial.suggest_loguniform('max_depth', 1, 32))\n",
        "      clf = sklearn.ensemble.RandomForestClassifier(n_estimators=n_estimators, max_depth=max_depth)\n",
        "      return sklearn.model_selection.cross_val_score(clf, train[predictors], train[\"Target\"], \n",
        "           n_jobs=-1, cv=5).mean()\n"
      ]
    },
    {
      "cell_type": "code",
      "execution_count": 12,
      "metadata": {
        "colab": {
          "base_uri": "https://localhost:8080/"
        },
        "id": "qZnyynrRD20o",
        "outputId": "1e290bcd-1c0a-4158-c871-67ddf58643f9"
      },
      "outputs": [
        {
          "output_type": "stream",
          "name": "stdout",
          "text": [
            "Requirement already satisfied: optuna in /usr/local/lib/python3.7/dist-packages (2.10.0)\n",
            "Requirement already satisfied: colorlog in /usr/local/lib/python3.7/dist-packages (from optuna) (6.6.0)\n",
            "Requirement already satisfied: tqdm in /usr/local/lib/python3.7/dist-packages (from optuna) (4.63.0)\n",
            "Requirement already satisfied: scipy!=1.4.0 in /usr/local/lib/python3.7/dist-packages (from optuna) (1.4.1)\n",
            "Requirement already satisfied: sqlalchemy>=1.1.0 in /usr/local/lib/python3.7/dist-packages (from optuna) (1.4.32)\n",
            "Requirement already satisfied: packaging>=20.0 in /usr/local/lib/python3.7/dist-packages (from optuna) (21.3)\n",
            "Requirement already satisfied: cliff in /usr/local/lib/python3.7/dist-packages (from optuna) (3.10.1)\n",
            "Requirement already satisfied: PyYAML in /usr/local/lib/python3.7/dist-packages (from optuna) (3.13)\n",
            "Requirement already satisfied: numpy in /usr/local/lib/python3.7/dist-packages (from optuna) (1.21.5)\n",
            "Requirement already satisfied: cmaes>=0.8.2 in /usr/local/lib/python3.7/dist-packages (from optuna) (0.8.2)\n",
            "Requirement already satisfied: alembic in /usr/local/lib/python3.7/dist-packages (from optuna) (1.7.7)\n",
            "Requirement already satisfied: pyparsing!=3.0.5,>=2.0.2 in /usr/local/lib/python3.7/dist-packages (from packaging>=20.0->optuna) (3.0.7)\n",
            "Requirement already satisfied: greenlet!=0.4.17 in /usr/local/lib/python3.7/dist-packages (from sqlalchemy>=1.1.0->optuna) (1.1.2)\n",
            "Requirement already satisfied: importlib-metadata in /usr/local/lib/python3.7/dist-packages (from sqlalchemy>=1.1.0->optuna) (4.11.3)\n",
            "Requirement already satisfied: importlib-resources in /usr/local/lib/python3.7/dist-packages (from alembic->optuna) (5.4.0)\n",
            "Requirement already satisfied: Mako in /usr/local/lib/python3.7/dist-packages (from alembic->optuna) (1.2.0)\n",
            "Requirement already satisfied: PrettyTable>=0.7.2 in /usr/local/lib/python3.7/dist-packages (from cliff->optuna) (3.2.0)\n",
            "Requirement already satisfied: autopage>=0.4.0 in /usr/local/lib/python3.7/dist-packages (from cliff->optuna) (0.5.0)\n",
            "Requirement already satisfied: stevedore>=2.0.1 in /usr/local/lib/python3.7/dist-packages (from cliff->optuna) (3.5.0)\n",
            "Requirement already satisfied: pbr!=2.1.0,>=2.0.0 in /usr/local/lib/python3.7/dist-packages (from cliff->optuna) (5.8.1)\n",
            "Requirement already satisfied: cmd2>=1.0.0 in /usr/local/lib/python3.7/dist-packages (from cliff->optuna) (2.4.0)\n",
            "Requirement already satisfied: wcwidth>=0.1.7 in /usr/local/lib/python3.7/dist-packages (from cmd2>=1.0.0->cliff->optuna) (0.2.5)\n",
            "Requirement already satisfied: typing-extensions in /usr/local/lib/python3.7/dist-packages (from cmd2>=1.0.0->cliff->optuna) (3.10.0.2)\n",
            "Requirement already satisfied: pyperclip>=1.6 in /usr/local/lib/python3.7/dist-packages (from cmd2>=1.0.0->cliff->optuna) (1.8.2)\n",
            "Requirement already satisfied: attrs>=16.3.0 in /usr/local/lib/python3.7/dist-packages (from cmd2>=1.0.0->cliff->optuna) (21.4.0)\n",
            "Requirement already satisfied: zipp>=0.5 in /usr/local/lib/python3.7/dist-packages (from importlib-metadata->sqlalchemy>=1.1.0->optuna) (3.7.0)\n",
            "Requirement already satisfied: MarkupSafe>=0.9.2 in /usr/local/lib/python3.7/dist-packages (from Mako->alembic->optuna) (2.0.1)\n"
          ]
        },
        {
          "output_type": "stream",
          "name": "stderr",
          "text": [
            "\u001b[32m[I 2022-03-25 17:59:55,282]\u001b[0m A new study created in memory with name: no-name-424a3952-4fc5-449b-a5de-b1cb90d609e5\u001b[0m\n",
            "\u001b[32m[I 2022-03-25 17:59:57,526]\u001b[0m Trial 0 finished with value: 0.4899229475505451 and parameters: {'n_estimators': 10, 'max_depth': 12.178977951566404}. Best is trial 0 with value: 0.4899229475505451.\u001b[0m\n",
            "\u001b[32m[I 2022-03-25 17:59:57,957]\u001b[0m Trial 1 finished with value: 0.4851344049039912 and parameters: {'n_estimators': 12, 'max_depth': 4.086984902543314}. Best is trial 0 with value: 0.4899229475505451.\u001b[0m\n",
            "\u001b[32m[I 2022-03-25 17:59:58,078]\u001b[0m Trial 2 finished with value: 0.48791954668322485 and parameters: {'n_estimators': 4, 'max_depth': 1.1104385935743402}. Best is trial 0 with value: 0.4899229475505451.\u001b[0m\n",
            "\u001b[32m[I 2022-03-25 17:59:59,616]\u001b[0m Trial 3 finished with value: 0.48736349744005414 and parameters: {'n_estimators': 16, 'max_depth': 22.17451279049063}. Best is trial 0 with value: 0.4899229475505451.\u001b[0m\n",
            "\u001b[32m[I 2022-03-25 18:00:00,884]\u001b[0m Trial 4 finished with value: 0.4899233813346421 and parameters: {'n_estimators': 13, 'max_depth': 22.716937817895975}. Best is trial 4 with value: 0.4899233813346421.\u001b[0m\n",
            "\u001b[32m[I 2022-03-25 18:00:01,729]\u001b[0m Trial 5 finished with value: 0.48324521319248986 and parameters: {'n_estimators': 10, 'max_depth': 16.81871994564073}. Best is trial 4 with value: 0.4899233813346421.\u001b[0m\n",
            "\u001b[32m[I 2022-03-25 18:00:02,255]\u001b[0m Trial 6 finished with value: 0.4911483876245115 and parameters: {'n_estimators': 7, 'max_depth': 12.397231708912432}. Best is trial 6 with value: 0.4911483876245115.\u001b[0m\n",
            "\u001b[32m[I 2022-03-25 18:00:02,890]\u001b[0m Trial 7 finished with value: 0.4868089354566445 and parameters: {'n_estimators': 6, 'max_depth': 21.06222705631602}. Best is trial 6 with value: 0.4911483876245115.\u001b[0m\n",
            "\u001b[32m[I 2022-03-25 18:00:03,291]\u001b[0m Trial 8 finished with value: 0.49983162980121537 and parameters: {'n_estimators': 4, 'max_depth': 16.971729198399828}. Best is trial 8 with value: 0.49983162980121537.\u001b[0m\n",
            "\u001b[32m[I 2022-03-25 18:00:05,249]\u001b[0m Trial 9 finished with value: 0.4871418337664977 and parameters: {'n_estimators': 20, 'max_depth': 23.492748285869254}. Best is trial 8 with value: 0.49983162980121537.\u001b[0m\n",
            "\u001b[32m[I 2022-03-25 18:00:05,390]\u001b[0m Trial 10 finished with value: 0.4866936108560048 and parameters: {'n_estimators': 2, 'max_depth': 5.146713491176246}. Best is trial 8 with value: 0.49983162980121537.\u001b[0m\n",
            "\u001b[32m[I 2022-03-25 18:00:05,804]\u001b[0m Trial 11 finished with value: 0.48613650813716996 and parameters: {'n_estimators': 7, 'max_depth': 8.864777537406912}. Best is trial 8 with value: 0.49983162980121537.\u001b[0m\n",
            "\u001b[32m[I 2022-03-25 18:00:06,172]\u001b[0m Trial 12 finished with value: 0.4840237317082542 and parameters: {'n_estimators': 6, 'max_depth': 8.918084087235691}. Best is trial 8 with value: 0.49983162980121537.\u001b[0m\n",
            "\u001b[32m[I 2022-03-25 18:00:06,277]\u001b[0m Trial 13 finished with value: 0.4919258526646118 and parameters: {'n_estimators': 2, 'max_depth': 2.8004318084321485}. Best is trial 8 with value: 0.49983162980121537.\u001b[0m\n",
            "\u001b[32m[I 2022-03-25 18:00:06,382]\u001b[0m Trial 14 finished with value: 0.481240201127095 and parameters: {'n_estimators': 2, 'max_depth': 2.2655358025918253}. Best is trial 8 with value: 0.49983162980121537.\u001b[0m\n",
            "\u001b[32m[I 2022-03-25 18:00:06,527]\u001b[0m Trial 15 finished with value: 0.48558330947520806 and parameters: {'n_estimators': 4, 'max_depth': 2.591667029278582}. Best is trial 8 with value: 0.49983162980121537.\u001b[0m\n",
            "\u001b[32m[I 2022-03-25 18:00:06,701]\u001b[0m Trial 16 finished with value: 0.4862483004958772 and parameters: {'n_estimators': 4, 'max_depth': 3.0943077538009507}. Best is trial 8 with value: 0.49983162980121537.\u001b[0m\n",
            "\u001b[32m[I 2022-03-25 18:00:06,795]\u001b[0m Trial 17 finished with value: 0.4988313856427379 and parameters: {'n_estimators': 2, 'max_depth': 1.0755415979861795}. Best is trial 8 with value: 0.49983162980121537.\u001b[0m\n",
            "\u001b[32m[I 2022-03-25 18:00:07,006]\u001b[0m Trial 18 finished with value: 0.49449075606089343 and parameters: {'n_estimators': 9, 'max_depth': 1.1230948543702162}. Best is trial 8 with value: 0.49983162980121537.\u001b[0m\n",
            "\u001b[32m[I 2022-03-25 18:00:07,290]\u001b[0m Trial 19 finished with value: 0.4895903590864755 and parameters: {'n_estimators': 14, 'max_depth': 1.6223084346155638}. Best is trial 8 with value: 0.49983162980121537.\u001b[0m\n",
            "\u001b[32m[I 2022-03-25 18:00:07,687]\u001b[0m Trial 20 finished with value: 0.4777898824197221 and parameters: {'n_estimators': 8, 'max_depth': 6.242621299380132}. Best is trial 8 with value: 0.49983162980121537.\u001b[0m\n",
            "\u001b[32m[I 2022-03-25 18:00:07,829]\u001b[0m Trial 21 finished with value: 0.49638279835360344 and parameters: {'n_estimators': 5, 'max_depth': 1.2918812201823338}. Best is trial 8 with value: 0.49983162980121537.\u001b[0m\n",
            "\u001b[32m[I 2022-03-25 18:00:07,960]\u001b[0m Trial 22 finished with value: 0.4895909168088859 and parameters: {'n_estimators': 4, 'max_depth': 1.5801143316401653}. Best is trial 8 with value: 0.49983162980121537.\u001b[0m\n",
            "\u001b[32m[I 2022-03-25 18:00:08,547]\u001b[0m Trial 23 finished with value: 0.4928176507988444 and parameters: {'n_estimators': 5, 'max_depth': 31.63703328449821}. Best is trial 8 with value: 0.49983162980121537.\u001b[0m\n",
            "\u001b[32m[I 2022-03-25 18:00:08,654]\u001b[0m Trial 24 finished with value: 0.49538112890452163 and parameters: {'n_estimators': 2, 'max_depth': 1.566134978195226}. Best is trial 8 with value: 0.49983162980121537.\u001b[0m\n",
            "\u001b[32m[I 2022-03-25 18:00:08,814]\u001b[0m Trial 25 finished with value: 0.4970505779863246 and parameters: {'n_estimators': 5, 'max_depth': 1.053473601603736}. Best is trial 8 with value: 0.49983162980121537.\u001b[0m\n",
            "\u001b[32m[I 2022-03-25 18:00:08,952]\u001b[0m Trial 26 finished with value: 0.479458278025861 and parameters: {'n_estimators': 3, 'max_depth': 2.0884340861600452}. Best is trial 8 with value: 0.49983162980121537.\u001b[0m\n",
            "\u001b[32m[I 2022-03-25 18:00:09,261]\u001b[0m Trial 27 finished with value: 0.48480076296425745 and parameters: {'n_estimators': 8, 'max_depth': 4.044996621217842}. Best is trial 8 with value: 0.49983162980121537.\u001b[0m\n",
            "\u001b[32m[I 2022-03-25 18:00:09,419]\u001b[0m Trial 28 finished with value: 0.4952698322990681 and parameters: {'n_estimators': 6, 'max_depth': 1.9557525098886426}. Best is trial 8 with value: 0.49983162980121537.\u001b[0m\n",
            "\u001b[32m[I 2022-03-25 18:00:09,992]\u001b[0m Trial 29 finished with value: 0.48502496737323897 and parameters: {'n_estimators': 10, 'max_depth': 8.371149860718889}. Best is trial 8 with value: 0.49983162980121537.\u001b[0m\n",
            "\u001b[32m[I 2022-03-25 18:00:10,329]\u001b[0m Trial 30 finished with value: 0.4960489085372428 and parameters: {'n_estimators': 17, 'max_depth': 1.015194038278535}. Best is trial 8 with value: 0.49983162980121537.\u001b[0m\n",
            "\u001b[32m[I 2022-03-25 18:00:10,479]\u001b[0m Trial 31 finished with value: 0.4954924255099752 and parameters: {'n_estimators': 5, 'max_depth': 1.2839374076248984}. Best is trial 8 with value: 0.49983162980121537.\u001b[0m\n",
            "\u001b[32m[I 2022-03-25 18:00:10,595]\u001b[0m Trial 32 finished with value: 0.4944907560608933 and parameters: {'n_estimators': 3, 'max_depth': 1.2979987404271327}. Best is trial 8 with value: 0.49983162980121537.\u001b[0m\n",
            "\u001b[32m[I 2022-03-25 18:00:10,751]\u001b[0m Trial 33 finished with value: 0.4932664934009045 and parameters: {'n_estimators': 5, 'max_depth': 1.354790177421662}. Best is trial 8 with value: 0.49983162980121537.\u001b[0m\n",
            "\u001b[32m[I 2022-03-25 18:00:10,866]\u001b[0m Trial 34 finished with value: 0.494824645877254 and parameters: {'n_estimators': 3, 'max_depth': 1.0008808549422654}. Best is trial 8 with value: 0.49983162980121537.\u001b[0m\n",
            "\u001b[32m[I 2022-03-25 18:00:11,397]\u001b[0m Trial 35 finished with value: 0.48903090153968565 and parameters: {'n_estimators': 7, 'max_depth': 12.505334393819668}. Best is trial 8 with value: 0.49983162980121537.\u001b[0m\n",
            "\u001b[32m[I 2022-03-25 18:00:11,787]\u001b[0m Trial 36 finished with value: 0.48301945955459047 and parameters: {'n_estimators': 12, 'max_depth': 3.4069524208808186}. Best is trial 8 with value: 0.49983162980121537.\u001b[0m\n",
            "\u001b[32m[I 2022-03-25 18:00:11,934]\u001b[0m Trial 37 finished with value: 0.49215352734636914 and parameters: {'n_estimators': 5, 'max_depth': 1.8681030017392943}. Best is trial 8 with value: 0.49983162980121537.\u001b[0m\n",
            "\u001b[32m[I 2022-03-25 18:00:12,222]\u001b[0m Trial 38 finished with value: 0.4914827112249691 and parameters: {'n_estimators': 3, 'max_depth': 15.165843235820946}. Best is trial 8 with value: 0.49983162980121537.\u001b[0m\n",
            "\u001b[32m[I 2022-03-25 18:00:12,648]\u001b[0m Trial 39 finished with value: 0.48346520369881507 and parameters: {'n_estimators': 8, 'max_depth': 7.0014928227552655}. Best is trial 8 with value: 0.49983162980121537.\u001b[0m\n",
            "\u001b[32m[I 2022-03-25 18:00:12,929]\u001b[0m Trial 40 finished with value: 0.48290679962768934 and parameters: {'n_estimators': 6, 'max_depth': 4.444103666085709}. Best is trial 8 with value: 0.49983162980121537.\u001b[0m\n",
            "\u001b[32m[I 2022-03-25 18:00:13,276]\u001b[0m Trial 41 finished with value: 0.4999442897281165 and parameters: {'n_estimators': 18, 'max_depth': 1.1434929573566621}. Best is trial 41 with value: 0.4999442897281165.\u001b[0m\n",
            "\u001b[32m[I 2022-03-25 18:00:13,667]\u001b[0m Trial 42 finished with value: 0.4883665302105836 and parameters: {'n_estimators': 20, 'max_depth': 1.197067797374069}. Best is trial 41 with value: 0.4999442897281165.\u001b[0m\n",
            "\u001b[32m[I 2022-03-25 18:00:13,992]\u001b[0m Trial 43 finished with value: 0.499832993122663 and parameters: {'n_estimators': 16, 'max_depth': 1.4481882209960666}. Best is trial 41 with value: 0.4999442897281165.\u001b[0m\n",
            "\u001b[32m[I 2022-03-25 18:00:14,330]\u001b[0m Trial 44 finished with value: 0.49616020514269643 and parameters: {'n_estimators': 17, 'max_depth': 1.5035764818495574}. Best is trial 41 with value: 0.4999442897281165.\u001b[0m\n",
            "\u001b[32m[I 2022-03-25 18:00:14,635]\u001b[0m Trial 45 finished with value: 0.4934890866118115 and parameters: {'n_estimators': 15, 'max_depth': 1.8200158474248203}. Best is trial 41 with value: 0.4999442897281165.\u001b[0m\n",
            "\u001b[32m[I 2022-03-25 18:00:15,119]\u001b[0m Trial 46 finished with value: 0.4894753443316192 and parameters: {'n_estimators': 19, 'max_depth': 2.493319920872068}. Best is trial 41 with value: 0.4999442897281165.\u001b[0m\n",
            "\u001b[32m[I 2022-03-25 18:00:15,467]\u001b[0m Trial 47 finished with value: 0.4903694353246502 and parameters: {'n_estimators': 18, 'max_depth': 1.013016897615103}. Best is trial 41 with value: 0.4999442897281165.\u001b[0m\n",
            "\u001b[32m[I 2022-03-25 18:00:15,774]\u001b[0m Trial 48 finished with value: 0.49738583112413287 and parameters: {'n_estimators': 16, 'max_depth': 1.4485853376477902}. Best is trial 41 with value: 0.4999442897281165.\u001b[0m\n",
            "\u001b[32m[I 2022-03-25 18:00:17,381]\u001b[0m Trial 49 finished with value: 0.49727063046180653 and parameters: {'n_estimators': 15, 'max_depth': 27.468091091781474}. Best is trial 41 with value: 0.4999442897281165.\u001b[0m\n",
            "\u001b[32m[I 2022-03-25 18:00:18,471]\u001b[0m Trial 50 finished with value: 0.4889211541631499 and parameters: {'n_estimators': 12, 'max_depth': 18.00301802637021}. Best is trial 41 with value: 0.4999442897281165.\u001b[0m\n",
            "\u001b[32m[I 2022-03-25 18:00:20,108]\u001b[0m Trial 51 finished with value: 0.4910376487414684 and parameters: {'n_estimators': 15, 'max_depth': 28.121983630715402}. Best is trial 41 with value: 0.4999442897281165.\u001b[0m\n",
            "\u001b[32m[I 2022-03-25 18:00:21,726]\u001b[0m Trial 52 finished with value: 0.4890329465218571 and parameters: {'n_estimators': 16, 'max_depth': 25.56849640588784}. Best is trial 41 with value: 0.4999442897281165.\u001b[0m\n",
            "\u001b[32m[I 2022-03-25 18:00:23,033]\u001b[0m Trial 53 finished with value: 0.49215080070347383 and parameters: {'n_estimators': 14, 'max_depth': 20.146213977873114}. Best is trial 41 with value: 0.4999442897281165.\u001b[0m\n",
            "\u001b[32m[I 2022-03-25 18:00:24,542]\u001b[0m Trial 54 finished with value: 0.4844687322225981 and parameters: {'n_estimators': 18, 'max_depth': 16.028141961820616}. Best is trial 41 with value: 0.4999442897281165.\u001b[0m\n",
            "\u001b[32m[I 2022-03-25 18:00:25,538]\u001b[0m Trial 55 finished with value: 0.4781230286062021 and parameters: {'n_estimators': 16, 'max_depth': 10.50013771354089}. Best is trial 41 with value: 0.4999442897281165.\u001b[0m\n",
            "\u001b[32m[I 2022-03-25 18:00:25,861]\u001b[0m Trial 56 finished with value: 0.496716688169964 and parameters: {'n_estimators': 17, 'max_depth': 1.4740438748754354}. Best is trial 41 with value: 0.4999442897281165.\u001b[0m\n",
            "\u001b[32m[I 2022-03-25 18:00:26,244]\u001b[0m Trial 57 finished with value: 0.49392919156277537 and parameters: {'n_estimators': 15, 'max_depth': 2.2478280886911888}. Best is trial 41 with value: 0.4999442897281165.\u001b[0m\n",
            "\u001b[32m[I 2022-03-25 18:00:26,506]\u001b[0m Trial 58 finished with value: 0.4904809178375739 and parameters: {'n_estimators': 13, 'max_depth': 1.1924105609131892}. Best is trial 41 with value: 0.4999442897281165.\u001b[0m\n",
            "\u001b[32m[I 2022-03-25 18:00:26,849]\u001b[0m Trial 59 finished with value: 0.4890340619666779 and parameters: {'n_estimators': 18, 'max_depth': 1.6460759842890504}. Best is trial 41 with value: 0.4999442897281165.\u001b[0m\n",
            "\u001b[32m[I 2022-03-25 18:00:28,885]\u001b[0m Trial 60 finished with value: 0.4908157371912852 and parameters: {'n_estimators': 19, 'max_depth': 29.275767451447315}. Best is trial 41 with value: 0.4999442897281165.\u001b[0m\n",
            "\u001b[32m[I 2022-03-25 18:00:29,205]\u001b[0m Trial 61 finished with value: 0.4891454205412882 and parameters: {'n_estimators': 16, 'max_depth': 1.1466300315768507}. Best is trial 41 with value: 0.4999442897281165.\u001b[0m\n",
            "\u001b[32m[I 2022-03-25 18:00:29,498]\u001b[0m Trial 62 finished with value: 0.494824645877254 and parameters: {'n_estimators': 14, 'max_depth': 1.374765586724969}. Best is trial 41 with value: 0.4999442897281165.\u001b[0m\n",
            "\u001b[32m[I 2022-03-25 18:00:29,731]\u001b[0m Trial 63 finished with value: 0.4927100103736368 and parameters: {'n_estimators': 11, 'max_depth': 1.0886522962033849}. Best is trial 41 with value: 0.4999442897281165.\u001b[0m\n",
            "\u001b[32m[I 2022-03-25 18:00:29,828]\u001b[0m Trial 64 finished with value: 0.49426822481914295 and parameters: {'n_estimators': 2, 'max_depth': 1.7739877052528914}. Best is trial 41 with value: 0.4999442897281165.\u001b[0m\n",
            "\u001b[32m[I 2022-03-25 18:00:31,095]\u001b[0m Trial 65 finished with value: 0.48424644885747464 and parameters: {'n_estimators': 17, 'max_depth': 13.498066809508451}. Best is trial 41 with value: 0.4999442897281165.\u001b[0m\n",
            "\u001b[32m[I 2022-03-25 18:00:31,513]\u001b[0m Trial 66 finished with value: 0.4947119239811961 and parameters: {'n_estimators': 4, 'max_depth': 19.01612760919681}. Best is trial 41 with value: 0.4999442897281165.\u001b[0m\n",
            "\u001b[32m[I 2022-03-25 18:00:33,344]\u001b[0m Trial 67 finished with value: 0.4891444290347808 and parameters: {'n_estimators': 19, 'max_depth': 22.605530636416265}. Best is trial 41 with value: 0.4999442897281165.\u001b[0m\n",
            "\u001b[32m[I 2022-03-25 18:00:33,655]\u001b[0m Trial 68 finished with value: 0.494824645877254 and parameters: {'n_estimators': 16, 'max_depth': 1.3952902174068509}. Best is trial 41 with value: 0.4999442897281165.\u001b[0m\n",
            "\u001b[32m[I 2022-03-25 18:00:33,921]\u001b[0m Trial 69 finished with value: 0.4959376119317893 and parameters: {'n_estimators': 13, 'max_depth': 1.2596750994875938}. Best is trial 41 with value: 0.4999442897281165.\u001b[0m\n",
            "\u001b[32m[I 2022-03-25 18:00:34,158]\u001b[0m Trial 70 finished with value: 0.4869170096659491 and parameters: {'n_estimators': 3, 'max_depth': 10.688341198404698}. Best is trial 41 with value: 0.4999442897281165.\u001b[0m\n",
            "\u001b[32m[I 2022-03-25 18:00:34,520]\u001b[0m Trial 71 finished with value: 0.4958263153263358 and parameters: {'n_estimators': 17, 'max_depth': 1.4724345979931002}. Best is trial 41 with value: 0.4999442897281165.\u001b[0m\n",
            "\u001b[32m[I 2022-03-25 18:00:34,817]\u001b[0m Trial 72 finished with value: 0.4952698322990681 and parameters: {'n_estimators': 15, 'max_depth': 1.1177113329527952}. Best is trial 41 with value: 0.4999442897281165.\u001b[0m\n",
            "\u001b[32m[I 2022-03-25 18:00:35,149]\u001b[0m Trial 73 finished with value: 0.4989426202790347 and parameters: {'n_estimators': 18, 'max_depth': 1.5738017375213662}. Best is trial 41 with value: 0.4999442897281165.\u001b[0m\n",
            "\u001b[32m[I 2022-03-25 18:00:35,523]\u001b[0m Trial 74 finished with value: 0.4894793103576488 and parameters: {'n_estimators': 20, 'max_depth': 1.696210330408686}. Best is trial 41 with value: 0.4999442897281165.\u001b[0m\n",
            "\u001b[32m[I 2022-03-25 18:00:35,843]\u001b[0m Trial 75 finished with value: 0.49471322533348705 and parameters: {'n_estimators': 18, 'max_depth': 1.9985007204037875}. Best is trial 41 with value: 0.4999442897281165.\u001b[0m\n",
            "\u001b[32m[I 2022-03-25 18:00:36,295]\u001b[0m Trial 76 finished with value: 0.48268507398497623 and parameters: {'n_estimators': 19, 'max_depth': 2.2061820871572064}. Best is trial 41 with value: 0.4999442897281165.\u001b[0m\n",
            "\u001b[32m[I 2022-03-25 18:00:36,506]\u001b[0m Trial 77 finished with value: 0.48735940747571116 and parameters: {'n_estimators': 4, 'max_depth': 5.492019609836793}. Best is trial 41 with value: 0.4999442897281165.\u001b[0m\n",
            "\u001b[32m[I 2022-03-25 18:00:36,801]\u001b[0m Trial 78 finished with value: 0.4839100183056889 and parameters: {'n_estimators': 9, 'max_depth': 3.061493239070245}. Best is trial 41 with value: 0.4999442897281165.\u001b[0m\n",
            "\u001b[32m[I 2022-03-25 18:00:37,140]\u001b[0m Trial 79 finished with value: 0.48981431561883015 and parameters: {'n_estimators': 18, 'max_depth': 1.0565010173116915}. Best is trial 41 with value: 0.4999442897281165.\u001b[0m\n",
            "\u001b[32m[I 2022-03-25 18:00:37,239]\u001b[0m Trial 80 finished with value: 0.48725350218689156 and parameters: {'n_estimators': 2, 'max_depth': 1.211656390540858}. Best is trial 41 with value: 0.4999442897281165.\u001b[0m\n",
            "\u001b[32m[I 2022-03-25 18:00:37,562]\u001b[0m Trial 81 finished with value: 0.49638279835360344 and parameters: {'n_estimators': 17, 'max_depth': 1.3858049875702374}. Best is trial 41 with value: 0.4999442897281165.\u001b[0m\n",
            "\u001b[32m[I 2022-03-25 18:00:37,868]\u001b[0m Trial 82 finished with value: 0.4959376119317893 and parameters: {'n_estimators': 16, 'max_depth': 1.5329603870647461}. Best is trial 41 with value: 0.4999442897281165.\u001b[0m\n",
            "\u001b[32m[I 2022-03-25 18:00:38,189]\u001b[0m Trial 83 finished with value: 0.49003560747744634 and parameters: {'n_estimators': 17, 'max_depth': 1.4737912984877906}. Best is trial 41 with value: 0.4999442897281165.\u001b[0m\n",
            "\u001b[32m[I 2022-03-25 18:00:38,551]\u001b[0m Trial 84 finished with value: 0.4952697703299114 and parameters: {'n_estimators': 19, 'max_depth': 1.3259285635302733}. Best is trial 41 with value: 0.4999442897281165.\u001b[0m\n",
            "\u001b[32m[I 2022-03-25 18:00:38,842]\u001b[0m Trial 85 finished with value: 0.4943794594554398 and parameters: {'n_estimators': 15, 'max_depth': 1.66871294791398}. Best is trial 41 with value: 0.4999442897281165.\u001b[0m\n",
            "\u001b[32m[I 2022-03-25 18:00:40,414]\u001b[0m Trial 86 finished with value: 0.4843574975863013 and parameters: {'n_estimators': 16, 'max_depth': 24.401538151660123}. Best is trial 41 with value: 0.4999442897281165.\u001b[0m\n",
            "\u001b[32m[I 2022-03-25 18:00:40,704]\u001b[0m Trial 87 finished with value: 0.48881165466324095 and parameters: {'n_estimators': 14, 'max_depth': 1.087084642333196}. Best is trial 41 with value: 0.4999442897281165.\u001b[0m\n",
            "\u001b[32m[I 2022-03-25 18:00:41,534]\u001b[0m Trial 88 finished with value: 0.4756722723965828 and parameters: {'n_estimators': 17, 'max_depth': 7.890235979584992}. Best is trial 41 with value: 0.4999442897281165.\u001b[0m\n",
            "\u001b[32m[I 2022-03-25 18:00:42,162]\u001b[0m Trial 89 finished with value: 0.4790113564676589 and parameters: {'n_estimators': 18, 'max_depth': 4.562875813576066}. Best is trial 41 with value: 0.4999442897281165.\u001b[0m\n",
            "\u001b[32m[I 2022-03-25 18:00:42,393]\u001b[0m Trial 90 finished with value: 0.4943794594554398 and parameters: {'n_estimators': 11, 'max_depth': 1.203014000117776}. Best is trial 41 with value: 0.4999442897281165.\u001b[0m\n",
            "\u001b[32m[I 2022-03-25 18:00:42,546]\u001b[0m Trial 91 finished with value: 0.4888114687557709 and parameters: {'n_estimators': 6, 'max_depth': 1.2959560641436554}. Best is trial 41 with value: 0.4999442897281165.\u001b[0m\n",
            "\u001b[32m[I 2022-03-25 18:00:42,685]\u001b[0m Trial 92 finished with value: 0.49638279835360344 and parameters: {'n_estimators': 4, 'max_depth': 1.826079722972288}. Best is trial 41 with value: 0.4999442897281165.\u001b[0m\n",
            "\u001b[32m[I 2022-03-25 18:00:42,896]\u001b[0m Trial 93 finished with value: 0.4944848070218491 and parameters: {'n_estimators': 7, 'max_depth': 2.440652473739638}. Best is trial 41 with value: 0.4999442897281165.\u001b[0m\n",
            "\u001b[32m[I 2022-03-25 18:00:43,057]\u001b[0m Trial 94 finished with value: 0.4987200270681276 and parameters: {'n_estimators': 6, 'max_depth': 1.4568275952439642}. Best is trial 41 with value: 0.4999442897281165.\u001b[0m\n",
            "\u001b[32m[I 2022-03-25 18:00:43,198]\u001b[0m Trial 95 finished with value: 0.4941568662445327 and parameters: {'n_estimators': 5, 'max_depth': 1.4349399425722518}. Best is trial 41 with value: 0.4999442897281165.\u001b[0m\n",
            "\u001b[32m[I 2022-03-25 18:00:43,378]\u001b[0m Trial 96 finished with value: 0.49638279835360344 and parameters: {'n_estimators': 7, 'max_depth': 1.1614356726282882}. Best is trial 41 with value: 0.4999442897281165.\u001b[0m\n",
            "\u001b[32m[I 2022-03-25 18:00:43,488]\u001b[0m Trial 97 finished with value: 0.4958263153263358 and parameters: {'n_estimators': 3, 'max_depth': 1.5498372749722014}. Best is trial 41 with value: 0.4999442897281165.\u001b[0m\n",
            "\u001b[32m[I 2022-03-25 18:00:43,597]\u001b[0m Trial 98 finished with value: 0.49638279835360344 and parameters: {'n_estimators': 3, 'max_depth': 1.0220425707875291}. Best is trial 41 with value: 0.4999442897281165.\u001b[0m\n",
            "\u001b[32m[I 2022-03-25 18:00:44,003]\u001b[0m Trial 99 finished with value: 0.48491168775477067 and parameters: {'n_estimators': 16, 'max_depth': 2.107859707303806}. Best is trial 41 with value: 0.4999442897281165.\u001b[0m\n"
          ]
        }
      ],
      "source": [
        "!pip install optuna\n",
        "import optuna\n",
        "study = optuna.create_study(direction='maximize')\n",
        "study.optimize(objective, n_trials=100)"
      ]
    },
    {
      "cell_type": "code",
      "execution_count": 13,
      "metadata": {
        "colab": {
          "base_uri": "https://localhost:8080/"
        },
        "id": "K-zYNOsGFS_O",
        "outputId": "d55ec114-7211-46f5-e910-1305606bffbb"
      },
      "outputs": [
        {
          "output_type": "stream",
          "name": "stdout",
          "text": [
            "Accuracy: 0.4999442897281165\n",
            "Best hyperparameters: {'n_estimators': 18, 'max_depth': 1.1434929573566621}\n"
          ]
        }
      ],
      "source": [
        "trial = study.best_trial\n",
        "print('Accuracy: {}'.format(trial.value))\n",
        "print(\"Best hyperparameters: {}\".format(trial.params))"
      ]
    },
    {
      "cell_type": "code",
      "execution_count": 14,
      "metadata": {
        "colab": {
          "base_uri": "https://localhost:8080/"
        },
        "id": "W8meyw6MF3YR",
        "outputId": "d9334c89-c9f9-4eba-9133-9a20432bd7e1"
      },
      "outputs": [
        {
          "output_type": "execute_result",
          "data": {
            "text/plain": [
              "0.49"
            ]
          },
          "metadata": {},
          "execution_count": 14
        }
      ],
      "source": [
        "#Test the hyperparameter tuned random forest on test set \n",
        "from sklearn.ensemble import RandomForestClassifier\n",
        "from sklearn.metrics import precision_score\n",
        "\n",
        "model=RandomForestClassifier(n_estimators = trial.params[\"n_estimators\"], max_depth = trial.params[\"max_depth\"], random_state = 1)\n",
        "# Evaluate error of predictions\n",
        "model.fit(train[predictors], train[\"Target\"])\n",
        "preds = model.predict(test[predictors])\n",
        "preds = pd.Series(preds, index=test.index)\n",
        "precision_score(test[\"Target\"], preds) "
      ]
    },
    {
      "cell_type": "code",
      "execution_count": 15,
      "metadata": {
        "id": "J0X1SCoP4O1R"
      },
      "outputs": [],
      "source": [
        "\n",
        "from xgboost import XGBClassifier\n",
        "def objective_xgb(trial):\n",
        "  params={\n",
        "          \"n_estimators\" : trial.suggest_int('n_estimators', 2, 1000),\n",
        "          \"max_depth\": trial.suggest_int(\"max_depth\", 1, 32),\n",
        "          \"alpha\": trial.suggest_loguniform(\"alpha\", 0.01, 10.0),\n",
        "          \"lambda\": trial.suggest_loguniform(\"lambda\", 1e-8, 10.0),\n",
        "          \"gamma\": trial.suggest_loguniform(\"lambda\", 1e-8, 10.0),\n",
        "          \"learning_rate\": trial.suggest_loguniform(\"learning_rate\", 0.005, 0.05),\n",
        "          \"colsample_bytree\": trial.suggest_loguniform(\"colsample_bytree\", 0.2, 0.6),\n",
        "          \"subsample\": trial.suggest_loguniform(\"subsample\", 0.4, 0.8),\n",
        "          \"min_child_weight\": trial.suggest_loguniform(\"min_child_weight\", 10, 1000),\n",
        "          \"n_jobs\": 1,\n",
        "  }\n",
        "  clf = XGBClassifier(**params)\n",
        "  return sklearn.model_selection.cross_val_score(clf, train[predictors], train[\"Target\"], \n",
        "           n_jobs=-1, cv=5).mean()"
      ]
    },
    {
      "cell_type": "code",
      "execution_count": null,
      "metadata": {
        "colab": {
          "base_uri": "https://localhost:8080/"
        },
        "id": "21psHSIIAV6o",
        "outputId": "bea139f0-9ca5-4a95-b826-cfbabd15a0a3"
      },
      "outputs": [
        {
          "output_type": "stream",
          "name": "stderr",
          "text": [
            "\u001b[32m[I 2022-03-25 18:04:53,832]\u001b[0m A new study created in memory with name: no-name-cd6628d6-a801-415f-9799-f894a5821e57\u001b[0m\n",
            "\u001b[32m[I 2022-03-25 18:04:56,266]\u001b[0m Trial 0 finished with value: 0.47945796818007735 and parameters: {'n_estimators': 169, 'max_depth': 16, 'alpha': 0.14663590564388707, 'lambda': 5.844757911392701e-06, 'learning_rate': 0.048485917973479745, 'colsample_bytree': 0.4835858336122187, 'subsample': 0.40433481437763397, 'min_child_weight': 77.61194820095598}. Best is trial 0 with value: 0.47945796818007735.\u001b[0m\n",
            "\u001b[32m[I 2022-03-25 18:04:57,985]\u001b[0m Trial 1 finished with value: 0.4836895940152667 and parameters: {'n_estimators': 147, 'max_depth': 14, 'alpha': 0.16772173448655125, 'lambda': 1.2724036593778063, 'learning_rate': 0.00619274235514054, 'colsample_bytree': 0.2544975913043866, 'subsample': 0.40211701196102256, 'min_child_weight': 81.06590763452735}. Best is trial 1 with value: 0.4836895940152667.\u001b[0m\n",
            "\u001b[32m[I 2022-03-25 18:05:03,700]\u001b[0m Trial 2 finished with value: 0.5058443731386014 and parameters: {'n_estimators': 960, 'max_depth': 20, 'alpha': 9.515364389753396, 'lambda': 0.0036251147181749575, 'learning_rate': 0.03840409204746742, 'colsample_bytree': 0.24197740120247882, 'subsample': 0.4813949923916306, 'min_child_weight': 656.7853977720208}. Best is trial 2 with value: 0.5058443731386014.\u001b[0m\n",
            "\u001b[32m[I 2022-03-25 18:05:20,898]\u001b[0m Trial 3 finished with value: 0.48246582710853153 and parameters: {'n_estimators': 671, 'max_depth': 32, 'alpha': 6.825345985946588, 'lambda': 2.4510428148869898e-05, 'learning_rate': 0.0394637335428432, 'colsample_bytree': 0.3327506318191084, 'subsample': 0.6911806591970786, 'min_child_weight': 20.54674936104626}. Best is trial 2 with value: 0.5058443731386014.\u001b[0m\n",
            "\u001b[32m[I 2022-03-25 18:05:22,126]\u001b[0m Trial 4 finished with value: 0.49048426417203633 and parameters: {'n_estimators': 160, 'max_depth': 26, 'alpha': 1.236201631539838, 'lambda': 0.02534906427224108, 'learning_rate': 0.02634744185161103, 'colsample_bytree': 0.39517700249003823, 'subsample': 0.68497175078307, 'min_child_weight': 471.7934067733221}. Best is trial 2 with value: 0.5058443731386014.\u001b[0m\n",
            "\u001b[32m[I 2022-03-25 18:05:40,226]\u001b[0m Trial 5 finished with value: 0.4747828290903052 and parameters: {'n_estimators': 679, 'max_depth': 30, 'alpha': 1.4439303307660332, 'lambda': 5.916733879173651e-05, 'learning_rate': 0.00661583137510108, 'colsample_bytree': 0.4882240810440054, 'subsample': 0.5102781513982535, 'min_child_weight': 23.769457104679056}. Best is trial 2 with value: 0.5058443731386014.\u001b[0m\n",
            "\u001b[32m[I 2022-03-25 18:05:48,869]\u001b[0m Trial 6 finished with value: 0.4789012372761829 and parameters: {'n_estimators': 396, 'max_depth': 8, 'alpha': 0.01652630271359585, 'lambda': 0.09126376310518436, 'learning_rate': 0.011599521232887449, 'colsample_bytree': 0.44391848593928557, 'subsample': 0.49821426377500244, 'min_child_weight': 13.801228444051798}. Best is trial 2 with value: 0.5058443731386014.\u001b[0m\n",
            "\u001b[32m[I 2022-03-25 18:05:59,213]\u001b[0m Trial 7 finished with value: 0.4744493730580416 and parameters: {'n_estimators': 482, 'max_depth': 32, 'alpha': 0.03883256932422008, 'lambda': 3.271674799197035e-05, 'learning_rate': 0.008119026670140417, 'colsample_bytree': 0.37326020273212657, 'subsample': 0.5558294843100906, 'min_child_weight': 22.737056352061774}. Best is trial 2 with value: 0.5058443731386014.\u001b[0m\n",
            "\u001b[32m[I 2022-03-25 18:06:03,378]\u001b[0m Trial 8 finished with value: 0.49549217763334835 and parameters: {'n_estimators': 528, 'max_depth': 7, 'alpha': 0.3600004566616868, 'lambda': 1.538609057312907e-08, 'learning_rate': 0.025423316817974224, 'colsample_bytree': 0.22244744858809268, 'subsample': 0.7238296898903074, 'min_child_weight': 390.9543190323416}. Best is trial 2 with value: 0.5058443731386014.\u001b[0m\n",
            "\u001b[32m[I 2022-03-25 18:06:17,162]\u001b[0m Trial 9 finished with value: 0.4803481551162355 and parameters: {'n_estimators': 977, 'max_depth': 5, 'alpha': 6.83693836004243, 'lambda': 9.22136022913109e-06, 'learning_rate': 0.01748761059077499, 'colsample_bytree': 0.5854144435431458, 'subsample': 0.5770172474245919, 'min_child_weight': 85.98084707903564}. Best is trial 2 with value: 0.5058443731386014.\u001b[0m\n",
            "\u001b[32m[I 2022-03-25 18:06:23,119]\u001b[0m Trial 10 finished with value: 0.5058443731386014 and parameters: {'n_estimators': 997, 'max_depth': 23, 'alpha': 1.8338284290964595, 'lambda': 0.0049486822928335806, 'learning_rate': 0.03195573491996364, 'colsample_bytree': 0.2844497435642709, 'subsample': 0.4527270475468991, 'min_child_weight': 764.8968706636912}. Best is trial 2 with value: 0.5058443731386014.\u001b[0m\n",
            "\u001b[32m[I 2022-03-25 18:06:29,020]\u001b[0m Trial 11 finished with value: 0.5058443731386014 and parameters: {'n_estimators': 993, 'max_depth': 22, 'alpha': 1.8274137481033872, 'lambda': 0.002564624796614822, 'learning_rate': 0.031943709761942114, 'colsample_bytree': 0.27715130826488166, 'subsample': 0.46296876900447553, 'min_child_weight': 898.9255394959804}. Best is trial 2 with value: 0.5058443731386014.\u001b[0m\n",
            "\u001b[32m[I 2022-03-25 18:06:35,755]\u001b[0m Trial 12 finished with value: 0.4831312519132977 and parameters: {'n_estimators': 830, 'max_depth': 22, 'alpha': 4.0135040363467125, 'lambda': 0.002151878955233822, 'learning_rate': 0.01826830955291443, 'colsample_bytree': 0.20330005339600427, 'subsample': 0.45093106016992623, 'min_child_weight': 231.23691752363027}. Best is trial 2 with value: 0.5058443731386014.\u001b[0m\n",
            "\u001b[32m[I 2022-03-25 18:06:40,759]\u001b[0m Trial 13 finished with value: 0.5058443731386014 and parameters: {'n_estimators': 838, 'max_depth': 21, 'alpha': 0.618618491255953, 'lambda': 1.9623129957430496, 'learning_rate': 0.04586050399875112, 'colsample_bytree': 0.29663722213170673, 'subsample': 0.59658544091461, 'min_child_weight': 920.2351746466269}. Best is trial 2 with value: 0.5058443731386014.\u001b[0m\n",
            "\u001b[32m[I 2022-03-25 18:06:47,463]\u001b[0m Trial 14 finished with value: 0.48647132749088123 and parameters: {'n_estimators': 814, 'max_depth': 12, 'alpha': 2.7873534965194002, 'lambda': 0.0012841977169984395, 'learning_rate': 0.029732393772776648, 'colsample_bytree': 0.24375395387095092, 'subsample': 0.4499025212019175, 'min_child_weight': 223.10002961790215}. Best is trial 2 with value: 0.5058443731386014.\u001b[0m\n",
            "\u001b[32m[I 2022-03-25 18:06:53,074]\u001b[0m Trial 15 finished with value: 0.5058443731386014 and parameters: {'n_estimators': 940, 'max_depth': 26, 'alpha': 9.491739194053988, 'lambda': 0.05760602718125824, 'learning_rate': 0.021651618301177213, 'colsample_bytree': 0.31279239153900035, 'subsample': 0.5043504315292786, 'min_child_weight': 474.7850745356654}. Best is trial 2 with value: 0.5058443731386014.\u001b[0m\n",
            "\u001b[32m[I 2022-03-25 18:06:57,725]\u001b[0m Trial 16 finished with value: 0.47500517442458545 and parameters: {'n_estimators': 677, 'max_depth': 1, 'alpha': 0.7445162983254474, 'lambda': 2.899715543608164e-07, 'learning_rate': 0.03604889307729511, 'colsample_bytree': 0.2613672667015751, 'subsample': 0.43664144069476174, 'min_child_weight': 176.9615689072808}. Best is trial 2 with value: 0.5058443731386014.\u001b[0m\n",
            "\u001b[32m[I 2022-03-25 18:07:02,661]\u001b[0m Trial 17 finished with value: 0.5058443731386014 and parameters: {'n_estimators': 826, 'max_depth': 19, 'alpha': 0.05459646145029168, 'lambda': 5.000974783553531, 'learning_rate': 0.04579590398000035, 'colsample_bytree': 0.30004218009487993, 'subsample': 0.6075473588926177, 'min_child_weight': 831.5176538859223}. Best is trial 2 with value: 0.5058443731386014.\u001b[0m\n",
            "\u001b[32m[I 2022-03-25 18:07:08,391]\u001b[0m Trial 18 finished with value: 0.49471471259324806 and parameters: {'n_estimators': 761, 'max_depth': 27, 'alpha': 0.04693332006317595, 'lambda': 7.738976171626939, 'learning_rate': 0.012618186524261568, 'colsample_bytree': 0.3279468902746126, 'subsample': 0.6192804537579563, 'min_child_weight': 364.97136018111695}. Best is trial 2 with value: 0.5058443731386014.\u001b[0m\n",
            "\u001b[32m[I 2022-03-25 18:07:14,166]\u001b[0m Trial 19 finished with value: 0.4727799239762386 and parameters: {'n_estimators': 360, 'max_depth': 26, 'alpha': 9.577758608002343, 'lambda': 0.30741875835110327, 'learning_rate': 0.021288055435918593, 'colsample_bytree': 0.22437180377793942, 'subsample': 0.5252996225057911, 'min_child_weight': 45.90117241456316}. Best is trial 2 with value: 0.5058443731386014.\u001b[0m\n",
            "\u001b[32m[I 2022-03-25 18:07:20,750]\u001b[0m Trial 20 finished with value: 0.4772327797008873 and parameters: {'n_estimators': 568, 'max_depth': 18, 'alpha': 0.011087824724762193, 'lambda': 0.0002716545182291692, 'learning_rate': 0.013624289215259404, 'colsample_bytree': 0.37770133580327253, 'subsample': 0.7847761093010521, 'min_child_weight': 144.63668334661972}. Best is trial 2 with value: 0.5058443731386014.\u001b[0m\n",
            "\u001b[32m[I 2022-03-25 18:07:26,093]\u001b[0m Trial 21 finished with value: 0.5058443731386014 and parameters: {'n_estimators': 897, 'max_depth': 19, 'alpha': 0.0688116752142348, 'lambda': 0.012907951386790404, 'learning_rate': 0.03983620723823668, 'colsample_bytree': 0.28709731393518895, 'subsample': 0.6351711105956906, 'min_child_weight': 680.840459016955}. Best is trial 2 with value: 0.5058443731386014.\u001b[0m\n",
            "\u001b[32m[I 2022-03-25 18:07:31,471]\u001b[0m Trial 22 finished with value: 0.5058443731386014 and parameters: {'n_estimators': 900, 'max_depth': 24, 'alpha': 3.3766055446786924, 'lambda': 0.1271063297451976, 'learning_rate': 0.022418803806074618, 'colsample_bytree': 0.3084054283407716, 'subsample': 0.538744728358163, 'min_child_weight': 535.105398732619}. Best is trial 2 with value: 0.5058443731386014.\u001b[0m\n",
            "\u001b[32m[I 2022-03-25 18:07:31,643]\u001b[0m Trial 23 finished with value: 0.49549292126322886 and parameters: {'n_estimators': 11, 'max_depth': 28, 'alpha': 0.17573196631980878, 'lambda': 0.48368724178689343, 'learning_rate': 0.0303392478360689, 'colsample_bytree': 0.2769573441162961, 'subsample': 0.47047351541046056, 'min_child_weight': 318.3904632505428}. Best is trial 2 with value: 0.5058443731386014.\u001b[0m\n",
            "\u001b[32m[I 2022-03-25 18:07:37,062]\u001b[0m Trial 24 finished with value: 0.5058443731386014 and parameters: {'n_estimators': 908, 'max_depth': 15, 'alpha': 0.07880021883442888, 'lambda': 0.005957564394781382, 'learning_rate': 0.03936995609533967, 'colsample_bytree': 0.2373227092670036, 'subsample': 0.6391725300942382, 'min_child_weight': 638.158503933724}. Best is trial 2 with value: 0.5058443731386014.\u001b[0m\n",
            "\u001b[32m[I 2022-03-25 18:07:42,433]\u001b[0m Trial 25 finished with value: 0.5058443731386014 and parameters: {'n_estimators': 899, 'max_depth': 11, 'alpha': 2.9276725450084435, 'lambda': 0.0006186623524085494, 'learning_rate': 0.023490355429229302, 'colsample_bytree': 0.23395572858010186, 'subsample': 0.5366694603146493, 'min_child_weight': 600.1930571957785}. Best is trial 2 with value: 0.5058443731386014.\u001b[0m\n",
            "\u001b[32m[I 2022-03-25 18:07:48,760]\u001b[0m Trial 26 finished with value: 0.489478194912828 and parameters: {'n_estimators': 748, 'max_depth': 11, 'alpha': 3.647219538235395, 'lambda': 0.00022544082926906838, 'learning_rate': 0.022247492659076242, 'colsample_bytree': 0.20917824569578977, 'subsample': 0.5471192497408508, 'min_child_weight': 251.58564372826356}. Best is trial 2 with value: 0.5058443731386014.\u001b[0m\n",
            "\u001b[32m[I 2022-03-25 18:07:52,464]\u001b[0m Trial 27 finished with value: 0.5058443731386014 and parameters: {'n_estimators': 620, 'max_depth': 16, 'alpha': 0.5696704270892564, 'lambda': 1.16982746936377, 'learning_rate': 0.048514254518483485, 'colsample_bytree': 0.26238643208824397, 'subsample': 0.5843339595084059, 'min_child_weight': 921.0620666257345}. Best is trial 2 with value: 0.5058443731386014.\u001b[0m\n",
            "\u001b[32m[I 2022-03-25 18:08:02,249]\u001b[0m Trial 28 finished with value: 0.4767872834332896 and parameters: {'n_estimators': 850, 'max_depth': 12, 'alpha': 0.33638884700654165, 'lambda': 6.695086169545374e-07, 'learning_rate': 0.00936254098507064, 'colsample_bytree': 0.24406942120018937, 'subsample': 0.6382998414189438, 'min_child_weight': 125.32244672086239}. Best is trial 2 with value: 0.5058443731386014.\u001b[0m\n",
            "\u001b[32m[I 2022-03-25 18:08:11,763]\u001b[0m Trial 29 finished with value: 0.4722222635349934 and parameters: {'n_estimators': 768, 'max_depth': 24, 'alpha': 0.10724232214461639, 'lambda': 8.156517698664098, 'learning_rate': 0.015444502243239426, 'colsample_bytree': 0.3116112663022897, 'subsample': 0.42525469131883603, 'min_child_weight': 57.59453504743081}. Best is trial 2 with value: 0.5058443731386014.\u001b[0m\n",
            "\u001b[32m[I 2022-03-25 18:08:17,449]\u001b[0m Trial 30 finished with value: 0.5058443731386014 and parameters: {'n_estimators': 957, 'max_depth': 18, 'alpha': 0.031179138514670607, 'lambda': 0.039754593532172845, 'learning_rate': 0.033599271101224994, 'colsample_bytree': 0.3611136895475398, 'subsample': 0.4190968895098985, 'min_child_weight': 395.3030659551602}. Best is trial 2 with value: 0.5058443731386014.\u001b[0m\n",
            "\u001b[32m[I 2022-03-25 18:08:21,157]\u001b[0m Trial 31 finished with value: 0.5058443731386014 and parameters: {'n_estimators': 611, 'max_depth': 15, 'alpha': 0.7865038398646572, 'lambda': 0.0006025266222751737, 'learning_rate': 0.048152063044052236, 'colsample_bytree': 0.2295449561871099, 'subsample': 0.5712794226445668, 'min_child_weight': 558.3997004760582}. Best is trial 2 with value: 0.5058443731386014.\u001b[0m\n",
            "\u001b[32m[I 2022-03-25 18:08:26,548]\u001b[0m Trial 32 finished with value: 0.5058443731386014 and parameters: {'n_estimators': 910, 'max_depth': 16, 'alpha': 0.2152388176203264, 'lambda': 0.011202614103091164, 'learning_rate': 0.02617344053862212, 'colsample_bytree': 0.26463006823272317, 'subsample': 0.5030127322075715, 'min_child_weight': 468.04805992698414}. Best is trial 2 with value: 0.5058443731386014.\u001b[0m\n",
            "\u001b[32m[I 2022-03-25 18:08:31,896]\u001b[0m Trial 33 finished with value: 0.5058443731386014 and parameters: {'n_estimators': 907, 'max_depth': 14, 'alpha': 0.09221144120195346, 'lambda': 0.004703633294395705, 'learning_rate': 0.040792404022661946, 'colsample_bytree': 0.25437788005156153, 'subsample': 0.6458698646525399, 'min_child_weight': 645.08392969084}. Best is trial 2 with value: 0.5058443731386014.\u001b[0m\n",
            "\u001b[32m[I 2022-03-25 18:08:39,130]\u001b[0m Trial 34 finished with value: 0.4830203890919411 and parameters: {'n_estimators': 897, 'max_depth': 9, 'alpha': 0.11097376643471903, 'lambda': 0.24650660544385553, 'learning_rate': 0.018415767078199974, 'colsample_bytree': 0.3415573447795878, 'subsample': 0.5333667639112948, 'min_child_weight': 279.5949857350449}. Best is trial 2 with value: 0.5058443731386014.\u001b[0m\n",
            "\u001b[32m[I 2022-03-25 18:08:43,488]\u001b[0m Trial 35 finished with value: 0.5058443731386014 and parameters: {'n_estimators': 737, 'max_depth': 14, 'alpha': 0.06881847143117269, 'lambda': 9.911594188833328e-05, 'learning_rate': 0.04186251504702279, 'colsample_bytree': 0.2156826066378523, 'subsample': 0.6669182675167721, 'min_child_weight': 646.0977950817626}. Best is trial 2 with value: 0.5058443731386014.\u001b[0m\n",
            "\u001b[32m[I 2022-03-25 18:08:45,420]\u001b[0m Trial 36 finished with value: 0.48903883359174466 and parameters: {'n_estimators': 258, 'max_depth': 17, 'alpha': 0.18744622116102622, 'lambda': 0.019026911370150845, 'learning_rate': 0.04829134861048812, 'colsample_bytree': 0.25941081814992417, 'subsample': 0.6028602348117977, 'min_child_weight': 470.14678617089294}. Best is trial 2 with value: 0.5058443731386014.\u001b[0m\n",
            "\u001b[32m[I 2022-03-25 18:08:49,874]\u001b[0m Trial 37 finished with value: 0.5058443731386014 and parameters: {'n_estimators': 726, 'max_depth': 24, 'alpha': 0.020910499811498458, 'lambda': 0.00011841863181128128, 'learning_rate': 0.029074643314426878, 'colsample_bytree': 0.432654984354661, 'subsample': 0.6702251731718394, 'min_child_weight': 949.1022437952489}. Best is trial 2 with value: 0.5058443731386014.\u001b[0m\n",
            "\u001b[32m[I 2022-03-25 18:08:54,170]\u001b[0m Trial 38 finished with value: 0.5058443731386014 and parameters: {'n_estimators': 706, 'max_depth': 29, 'alpha': 5.19851710411723, 'lambda': 1.929612623060695, 'learning_rate': 0.02840666805309519, 'colsample_bytree': 0.4490900319377955, 'subsample': 0.7616357513454817, 'min_child_weight': 978.7837348740998}. Best is trial 2 with value: 0.5058443731386014.\u001b[0m\n",
            "\u001b[32m[I 2022-03-25 18:08:58,097]\u001b[0m Trial 39 finished with value: 0.5058443731386014 and parameters: {'n_estimators': 643, 'max_depth': 10, 'alpha': 0.49648175438488024, 'lambda': 0.9989584722617428, 'learning_rate': 0.03545086928726111, 'colsample_bytree': 0.5642535527944342, 'subsample': 0.7304481895315347, 'min_child_weight': 996.6675595389579}. Best is trial 2 with value: 0.5058443731386014.\u001b[0m\n",
            "\u001b[32m[I 2022-03-25 18:09:03,031]\u001b[0m Trial 40 finished with value: 0.4993879306391623 and parameters: {'n_estimators': 634, 'max_depth': 10, 'alpha': 0.4476855064290509, 'lambda': 0.14601675257624028, 'learning_rate': 0.025831820659822494, 'colsample_bytree': 0.5931631973443303, 'subsample': 0.7182575333858776, 'min_child_weight': 445.23235754247855}. Best is trial 2 with value: 0.5058443731386014.\u001b[0m\n",
            "\u001b[32m[I 2022-03-25 18:09:08,453]\u001b[0m Trial 41 finished with value: 0.5058443731386014 and parameters: {'n_estimators': 912, 'max_depth': 13, 'alpha': 0.23825804464489259, 'lambda': 0.036428726136392815, 'learning_rate': 0.020823953690210117, 'colsample_bytree': 0.26213564397435096, 'subsample': 0.5122713661941112, 'min_child_weight': 559.230580200675}. Best is trial 2 with value: 0.5058443731386014.\u001b[0m\n",
            "\u001b[32m[I 2022-03-25 18:09:11,526]\u001b[0m Trial 42 finished with value: 0.4944914377216172 and parameters: {'n_estimators': 414, 'max_depth': 14, 'alpha': 0.031212984004994896, 'lambda': 0.043669275836819996, 'learning_rate': 0.005106204876389826, 'colsample_bytree': 0.3525034673433592, 'subsample': 0.4843000413211297, 'min_child_weight': 340.87695751494755}. Best is trial 2 with value: 0.5058443731386014.\u001b[0m\n",
            "\u001b[32m[I 2022-03-25 18:09:16,712]\u001b[0m Trial 43 finished with value: 0.5058443731386014 and parameters: {'n_estimators': 873, 'max_depth': 19, 'alpha': 0.06230169519398101, 'lambda': 0.009310372327443722, 'learning_rate': 0.0421346145286772, 'colsample_bytree': 0.23652571743311515, 'subsample': 0.6202275535091366, 'min_child_weight': 718.5716992082092}. Best is trial 2 with value: 0.5058443731386014.\u001b[0m\n",
            "\u001b[32m[I 2022-03-25 18:09:20,795]\u001b[0m Trial 44 finished with value: 0.5058443731386014 and parameters: {'n_estimators': 670, 'max_depth': 30, 'alpha': 0.020104238008032762, 'lambda': 1.1438152110287696, 'learning_rate': 0.028104559062551885, 'colsample_bytree': 0.5156687207392222, 'subsample': 0.786348304158166, 'min_child_weight': 768.7210290182884}. Best is trial 2 with value: 0.5058443731386014.\u001b[0m\n",
            "\u001b[32m[I 2022-03-25 18:09:25,151]\u001b[0m Trial 45 finished with value: 0.5058443731386014 and parameters: {'n_estimators': 709, 'max_depth': 29, 'alpha': 4.780746180322159, 'lambda': 1.9671016195481752, 'learning_rate': 0.03495159681210229, 'colsample_bytree': 0.4215030248970004, 'subsample': 0.7499646079916393, 'min_child_weight': 986.3994037478276}. Best is trial 2 with value: 0.5058443731386014.\u001b[0m\n",
            "\u001b[32m[I 2022-03-25 18:09:28,209]\u001b[0m Trial 46 finished with value: 0.5058443731386014 and parameters: {'n_estimators': 485, 'max_depth': 4, 'alpha': 1.1081210612241021, 'lambda': 0.8894460866838841, 'learning_rate': 0.019251913302905314, 'colsample_bytree': 0.5073367775004738, 'subsample': 0.5886468582455937, 'min_child_weight': 556.8918767853072}. Best is trial 2 with value: 0.5058443731386014.\u001b[0m\n",
            "\u001b[32m[I 2022-03-25 18:09:31,441]\u001b[0m Trial 47 finished with value: 0.5058443731386014 and parameters: {'n_estimators': 536, 'max_depth': 4, 'alpha': 1.1079702773923763, 'lambda': 0.0009749422327784255, 'learning_rate': 0.016173325626598394, 'colsample_bytree': 0.28607172843420925, 'subsample': 0.5532216317976618, 'min_child_weight': 550.3581228036841}. Best is trial 2 with value: 0.5058443731386014.\u001b[0m\n",
            "\u001b[32m[I 2022-03-25 18:09:35,768]\u001b[0m Trial 48 finished with value: 0.47979167208896784 and parameters: {'n_estimators': 469, 'max_depth': 3, 'alpha': 1.208969650311678, 'lambda': 0.13041865092045238, 'learning_rate': 0.015292658117666443, 'colsample_bytree': 0.2873883783240652, 'subsample': 0.5839922483801095, 'min_child_weight': 191.88839409636913}. Best is trial 2 with value: 0.5058443731386014.\u001b[0m\n",
            "\u001b[32m[I 2022-03-25 18:09:42,542]\u001b[0m Trial 49 finished with value: 0.4836909573367144 and parameters: {'n_estimators': 808, 'max_depth': 14, 'alpha': 0.08333664385930467, 'lambda': 1.406359273796431e-05, 'learning_rate': 0.041402455793956426, 'colsample_bytree': 0.21424363356258438, 'subsample': 0.6797735515202644, 'min_child_weight': 302.3914390825812}. Best is trial 2 with value: 0.5058443731386014.\u001b[0m\n"
          ]
        }
      ],
      "source": [
        "study_xgb = optuna.create_study(direction='maximize')\n",
        "study_xgb.optimize(objective_xgb, n_trials=100)"
      ]
    },
    {
      "cell_type": "code",
      "execution_count": 16,
      "metadata": {
        "colab": {
          "base_uri": "https://localhost:8080/"
        },
        "id": "ZYieJjfvLcWo",
        "outputId": "a0941a20-a3d8-4e3a-dbc0-f6b403d77d20"
      },
      "outputs": [
        {
          "output_type": "stream",
          "name": "stdout",
          "text": [
            "Accuracy: 0.5057893445274417\n",
            "Best hyperparameters: {'n_estimators': 92, 'max_depth': 9, 'alpha': 0.013843824905852703, 'lambda': 3.2930001627625907, 'learning_rate': 0.03963616320315951, 'colsample_bytree': 0.21823073469225618, 'subsample': 0.40583408971376167, 'min_child_weight': 888.1924384667951}\n"
          ]
        }
      ],
      "source": [
        "trial_xgb = study_xgb.best_trial\n",
        "print('Accuracy: {}'.format(trial_xgb.value))\n",
        "print(\"Best hyperparameters: {}\".format(trial_xgb.params))"
      ]
    },
    {
      "cell_type": "code",
      "execution_count": 19,
      "metadata": {
        "id": "PTNUbw7MMap0",
        "colab": {
          "base_uri": "https://localhost:8080/"
        },
        "outputId": "208ef606-2265-4ff6-f161-ca93351b5079"
      },
      "outputs": [
        {
          "output_type": "execute_result",
          "data": {
            "text/plain": [
              "0.49"
            ]
          },
          "metadata": {},
          "execution_count": 19
        }
      ],
      "source": [
        "from sklearn.metrics import precision_score\n",
        "# Evaluate error of predictions\n",
        "model_xgb = XGBClassifier(**trial_xgb.params)\n",
        "model_xgb.fit(train[predictors], train[\"Target\"])\n",
        "preds_xgb = model_xgb.predict(test[predictors])\n",
        "preds_xgb = pd.Series(preds_xgb, index=test.index)\n",
        "precision_score(test[\"Target\"], preds_xgb) "
      ]
    },
    {
      "cell_type": "code",
      "source": [
        "!pip install optuna\n",
        "import optuna\n",
        "def best_trial(objective, nb_trials):\n",
        "  study = optuna.create_study(direction='maximize')\n",
        "  study.optimize(objective, n_trials= nb_trials)\n",
        "  trial = study.best_trial\n",
        "  print('Accuracy: {}'.format(trial.value))\n",
        "  print(\"Best hyperparameters: {}\".format(trial.params))\n",
        "  return trial\n",
        "\n",
        "def precision(model):\n",
        "  # Evaluate error of predictions\n",
        "  model.fit(train[predictors], train[\"Target\"])\n",
        "  preds= model.predict(test[predictors])\n",
        "  preds = pd.Series(preds, index=test.index)\n",
        "  print(precision_score(test[\"Target\"], preds))\n",
        "\n",
        "\n",
        "from sklearn.tree import DecisionTreeClassifier\n",
        "#DecisionTreeClassifier\n",
        "def objective_dtc(trial):\n",
        "  max_depth = trial.suggest_int('max_depth', 5, train.shape[1])\n",
        "  min_samples_split = trial.suggest_int('min_samples_split', 2, 20)\n",
        "  min_samples_leaf = trial.suggest_int('min_samples_leaf', 2, 20)\n",
        "  clf = DecisionTreeClassifier(\n",
        "            max_depth=max_depth, min_samples_split=min_samples_split, min_samples_leaf=min_samples_leaf)\n",
        "  return sklearn.model_selection.cross_val_score(clf, train[predictors], train[\"Target\"], \n",
        "           n_jobs=-1, cv=5).mean()\n",
        "\n",
        "\n",
        "best_trial_dtc = best_trial(objective_dtc, 100)\n",
        "          "
      ],
      "metadata": {
        "colab": {
          "base_uri": "https://localhost:8080/",
          "height": 1000
        },
        "id": "N2cWbWmRMkQ8",
        "outputId": "43cfc5e1-0c63-4a83-98ab-a11e064713e0"
      },
      "execution_count": 4,
      "outputs": [
        {
          "output_type": "stream",
          "name": "stdout",
          "text": [
            "Collecting optuna\n",
            "  Downloading optuna-2.10.0-py3-none-any.whl (308 kB)\n",
            "\u001b[?25l\r\u001b[K     |█                               | 10 kB 19.3 MB/s eta 0:00:01\r\u001b[K     |██▏                             | 20 kB 9.3 MB/s eta 0:00:01\r\u001b[K     |███▏                            | 30 kB 7.8 MB/s eta 0:00:01\r\u001b[K     |████▎                           | 40 kB 3.6 MB/s eta 0:00:01\r\u001b[K     |█████▎                          | 51 kB 3.6 MB/s eta 0:00:01\r\u001b[K     |██████▍                         | 61 kB 4.3 MB/s eta 0:00:01\r\u001b[K     |███████▍                        | 71 kB 4.4 MB/s eta 0:00:01\r\u001b[K     |████████▌                       | 81 kB 4.8 MB/s eta 0:00:01\r\u001b[K     |█████████▋                      | 92 kB 5.3 MB/s eta 0:00:01\r\u001b[K     |██████████▋                     | 102 kB 4.3 MB/s eta 0:00:01\r\u001b[K     |███████████▊                    | 112 kB 4.3 MB/s eta 0:00:01\r\u001b[K     |████████████▊                   | 122 kB 4.3 MB/s eta 0:00:01\r\u001b[K     |█████████████▉                  | 133 kB 4.3 MB/s eta 0:00:01\r\u001b[K     |██████████████▉                 | 143 kB 4.3 MB/s eta 0:00:01\r\u001b[K     |████████████████                | 153 kB 4.3 MB/s eta 0:00:01\r\u001b[K     |█████████████████               | 163 kB 4.3 MB/s eta 0:00:01\r\u001b[K     |██████████████████              | 174 kB 4.3 MB/s eta 0:00:01\r\u001b[K     |███████████████████▏            | 184 kB 4.3 MB/s eta 0:00:01\r\u001b[K     |████████████████████▏           | 194 kB 4.3 MB/s eta 0:00:01\r\u001b[K     |█████████████████████▎          | 204 kB 4.3 MB/s eta 0:00:01\r\u001b[K     |██████████████████████▎         | 215 kB 4.3 MB/s eta 0:00:01\r\u001b[K     |███████████████████████▍        | 225 kB 4.3 MB/s eta 0:00:01\r\u001b[K     |████████████████████████▌       | 235 kB 4.3 MB/s eta 0:00:01\r\u001b[K     |█████████████████████████▌      | 245 kB 4.3 MB/s eta 0:00:01\r\u001b[K     |██████████████████████████▋     | 256 kB 4.3 MB/s eta 0:00:01\r\u001b[K     |███████████████████████████▋    | 266 kB 4.3 MB/s eta 0:00:01\r\u001b[K     |████████████████████████████▊   | 276 kB 4.3 MB/s eta 0:00:01\r\u001b[K     |█████████████████████████████▊  | 286 kB 4.3 MB/s eta 0:00:01\r\u001b[K     |██████████████████████████████▉ | 296 kB 4.3 MB/s eta 0:00:01\r\u001b[K     |████████████████████████████████| 307 kB 4.3 MB/s eta 0:00:01\r\u001b[K     |████████████████████████████████| 308 kB 4.3 MB/s \n",
            "\u001b[?25hRequirement already satisfied: packaging>=20.0 in /usr/local/lib/python3.7/dist-packages (from optuna) (21.3)\n",
            "Requirement already satisfied: numpy in /usr/local/lib/python3.7/dist-packages (from optuna) (1.21.5)\n",
            "Requirement already satisfied: tqdm in /usr/local/lib/python3.7/dist-packages (from optuna) (4.63.0)\n",
            "Requirement already satisfied: sqlalchemy>=1.1.0 in /usr/local/lib/python3.7/dist-packages (from optuna) (1.4.32)\n",
            "Requirement already satisfied: PyYAML in /usr/local/lib/python3.7/dist-packages (from optuna) (3.13)\n",
            "Collecting colorlog\n",
            "  Downloading colorlog-6.6.0-py2.py3-none-any.whl (11 kB)\n",
            "Collecting cliff\n",
            "  Downloading cliff-3.10.1-py3-none-any.whl (81 kB)\n",
            "\u001b[K     |████████████████████████████████| 81 kB 8.3 MB/s \n",
            "\u001b[?25hRequirement already satisfied: scipy!=1.4.0 in /usr/local/lib/python3.7/dist-packages (from optuna) (1.4.1)\n",
            "Collecting cmaes>=0.8.2\n",
            "  Downloading cmaes-0.8.2-py3-none-any.whl (15 kB)\n",
            "Collecting alembic\n",
            "  Downloading alembic-1.7.7-py3-none-any.whl (210 kB)\n",
            "\u001b[K     |████████████████████████████████| 210 kB 44.6 MB/s \n",
            "\u001b[?25hRequirement already satisfied: pyparsing!=3.0.5,>=2.0.2 in /usr/local/lib/python3.7/dist-packages (from packaging>=20.0->optuna) (3.0.7)\n",
            "Requirement already satisfied: importlib-metadata in /usr/local/lib/python3.7/dist-packages (from sqlalchemy>=1.1.0->optuna) (4.11.3)\n",
            "Requirement already satisfied: greenlet!=0.4.17 in /usr/local/lib/python3.7/dist-packages (from sqlalchemy>=1.1.0->optuna) (1.1.2)\n",
            "Requirement already satisfied: importlib-resources in /usr/local/lib/python3.7/dist-packages (from alembic->optuna) (5.4.0)\n",
            "Collecting Mako\n",
            "  Downloading Mako-1.2.0-py3-none-any.whl (78 kB)\n",
            "\u001b[K     |████████████████████████████████| 78 kB 5.6 MB/s \n",
            "\u001b[?25hCollecting pbr!=2.1.0,>=2.0.0\n",
            "  Downloading pbr-5.8.1-py2.py3-none-any.whl (113 kB)\n",
            "\u001b[K     |████████████████████████████████| 113 kB 55.6 MB/s \n",
            "\u001b[?25hCollecting autopage>=0.4.0\n",
            "  Downloading autopage-0.5.0-py3-none-any.whl (29 kB)\n",
            "Collecting stevedore>=2.0.1\n",
            "  Downloading stevedore-3.5.0-py3-none-any.whl (49 kB)\n",
            "\u001b[K     |████████████████████████████████| 49 kB 5.3 MB/s \n",
            "\u001b[?25hCollecting cmd2>=1.0.0\n",
            "  Downloading cmd2-2.4.0-py3-none-any.whl (150 kB)\n",
            "\u001b[K     |████████████████████████████████| 150 kB 54.5 MB/s \n",
            "\u001b[?25hRequirement already satisfied: PrettyTable>=0.7.2 in /usr/local/lib/python3.7/dist-packages (from cliff->optuna) (3.2.0)\n",
            "Collecting pyperclip>=1.6\n",
            "  Downloading pyperclip-1.8.2.tar.gz (20 kB)\n",
            "Requirement already satisfied: typing-extensions in /usr/local/lib/python3.7/dist-packages (from cmd2>=1.0.0->cliff->optuna) (3.10.0.2)\n",
            "Requirement already satisfied: wcwidth>=0.1.7 in /usr/local/lib/python3.7/dist-packages (from cmd2>=1.0.0->cliff->optuna) (0.2.5)\n",
            "Requirement already satisfied: attrs>=16.3.0 in /usr/local/lib/python3.7/dist-packages (from cmd2>=1.0.0->cliff->optuna) (21.4.0)\n",
            "Requirement already satisfied: zipp>=0.5 in /usr/local/lib/python3.7/dist-packages (from importlib-metadata->sqlalchemy>=1.1.0->optuna) (3.7.0)\n",
            "Requirement already satisfied: MarkupSafe>=0.9.2 in /usr/local/lib/python3.7/dist-packages (from Mako->alembic->optuna) (2.0.1)\n",
            "Building wheels for collected packages: pyperclip\n",
            "  Building wheel for pyperclip (setup.py) ... \u001b[?25l\u001b[?25hdone\n",
            "  Created wheel for pyperclip: filename=pyperclip-1.8.2-py3-none-any.whl size=11137 sha256=51d7c4e1831cbb74e9ccffac49bf9f7a39eb920d7e0d3ca307c9b47f39659d2a\n",
            "  Stored in directory: /root/.cache/pip/wheels/9f/18/84/8f69f8b08169c7bae2dde6bd7daf0c19fca8c8e500ee620a28\n",
            "Successfully built pyperclip\n",
            "Installing collected packages: pyperclip, pbr, stevedore, Mako, cmd2, autopage, colorlog, cmaes, cliff, alembic, optuna\n",
            "Successfully installed Mako-1.2.0 alembic-1.7.7 autopage-0.5.0 cliff-3.10.1 cmaes-0.8.2 cmd2-2.4.0 colorlog-6.6.0 optuna-2.10.0 pbr-5.8.1 pyperclip-1.8.2 stevedore-3.5.0\n"
          ]
        },
        {
          "output_type": "stream",
          "name": "stderr",
          "text": [
            "\u001b[32m[I 2022-03-25 17:58:56,757]\u001b[0m A new study created in memory with name: no-name-d742906b-bcb5-42f1-b28d-12c1e8705843\u001b[0m\n",
            "\u001b[33m[W 2022-03-25 17:58:56,761]\u001b[0m Trial 0 failed because of the following error: NameError(\"name 'train' is not defined\")\u001b[0m\n",
            "Traceback (most recent call last):\n",
            "  File \"/usr/local/lib/python3.7/dist-packages/optuna/study/_optimize.py\", line 213, in _run_trial\n",
            "    value_or_values = func(trial)\n",
            "  File \"<ipython-input-4-1df2282d3daa>\", line 22, in objective_dtc\n",
            "    max_depth = trial.suggest_int('max_depth', 5, train.shape[1])\n",
            "NameError: name 'train' is not defined\n"
          ]
        },
        {
          "output_type": "error",
          "ename": "NameError",
          "evalue": "ignored",
          "traceback": [
            "\u001b[0;31m---------------------------------------------------------------------------\u001b[0m",
            "\u001b[0;31mNameError\u001b[0m                                 Traceback (most recent call last)",
            "\u001b[0;32m<ipython-input-4-1df2282d3daa>\u001b[0m in \u001b[0;36m<module>\u001b[0;34m()\u001b[0m\n\u001b[1;32m     29\u001b[0m \u001b[0;34m\u001b[0m\u001b[0m\n\u001b[1;32m     30\u001b[0m \u001b[0;34m\u001b[0m\u001b[0m\n\u001b[0;32m---> 31\u001b[0;31m \u001b[0mbest_trial_dtc\u001b[0m \u001b[0;34m=\u001b[0m \u001b[0mbest_trial\u001b[0m\u001b[0;34m(\u001b[0m\u001b[0mobjective_dtc\u001b[0m\u001b[0;34m,\u001b[0m \u001b[0;36m100\u001b[0m\u001b[0;34m)\u001b[0m\u001b[0;34m\u001b[0m\u001b[0;34m\u001b[0m\u001b[0m\n\u001b[0m\u001b[1;32m     32\u001b[0m \u001b[0;34m\u001b[0m\u001b[0m\n",
            "\u001b[0;32m<ipython-input-4-1df2282d3daa>\u001b[0m in \u001b[0;36mbest_trial\u001b[0;34m(objective, nb_trials)\u001b[0m\n\u001b[1;32m      3\u001b[0m \u001b[0;32mdef\u001b[0m \u001b[0mbest_trial\u001b[0m\u001b[0;34m(\u001b[0m\u001b[0mobjective\u001b[0m\u001b[0;34m,\u001b[0m \u001b[0mnb_trials\u001b[0m\u001b[0;34m)\u001b[0m\u001b[0;34m:\u001b[0m\u001b[0;34m\u001b[0m\u001b[0;34m\u001b[0m\u001b[0m\n\u001b[1;32m      4\u001b[0m   \u001b[0mstudy\u001b[0m \u001b[0;34m=\u001b[0m \u001b[0moptuna\u001b[0m\u001b[0;34m.\u001b[0m\u001b[0mcreate_study\u001b[0m\u001b[0;34m(\u001b[0m\u001b[0mdirection\u001b[0m\u001b[0;34m=\u001b[0m\u001b[0;34m'maximize'\u001b[0m\u001b[0;34m)\u001b[0m\u001b[0;34m\u001b[0m\u001b[0;34m\u001b[0m\u001b[0m\n\u001b[0;32m----> 5\u001b[0;31m   \u001b[0mstudy\u001b[0m\u001b[0;34m.\u001b[0m\u001b[0moptimize\u001b[0m\u001b[0;34m(\u001b[0m\u001b[0mobjective\u001b[0m\u001b[0;34m,\u001b[0m \u001b[0mn_trials\u001b[0m\u001b[0;34m=\u001b[0m \u001b[0mnb_trials\u001b[0m\u001b[0;34m)\u001b[0m\u001b[0;34m\u001b[0m\u001b[0;34m\u001b[0m\u001b[0m\n\u001b[0m\u001b[1;32m      6\u001b[0m   \u001b[0mtrial\u001b[0m \u001b[0;34m=\u001b[0m \u001b[0mstudy\u001b[0m\u001b[0;34m.\u001b[0m\u001b[0mbest_trial\u001b[0m\u001b[0;34m\u001b[0m\u001b[0;34m\u001b[0m\u001b[0m\n\u001b[1;32m      7\u001b[0m   \u001b[0mprint\u001b[0m\u001b[0;34m(\u001b[0m\u001b[0;34m'Accuracy: {}'\u001b[0m\u001b[0;34m.\u001b[0m\u001b[0mformat\u001b[0m\u001b[0;34m(\u001b[0m\u001b[0mtrial\u001b[0m\u001b[0;34m.\u001b[0m\u001b[0mvalue\u001b[0m\u001b[0;34m)\u001b[0m\u001b[0;34m)\u001b[0m\u001b[0;34m\u001b[0m\u001b[0;34m\u001b[0m\u001b[0m\n",
            "\u001b[0;32m/usr/local/lib/python3.7/dist-packages/optuna/study/study.py\u001b[0m in \u001b[0;36moptimize\u001b[0;34m(self, func, n_trials, timeout, n_jobs, catch, callbacks, gc_after_trial, show_progress_bar)\u001b[0m\n\u001b[1;32m    407\u001b[0m             \u001b[0mcallbacks\u001b[0m\u001b[0;34m=\u001b[0m\u001b[0mcallbacks\u001b[0m\u001b[0;34m,\u001b[0m\u001b[0;34m\u001b[0m\u001b[0;34m\u001b[0m\u001b[0m\n\u001b[1;32m    408\u001b[0m             \u001b[0mgc_after_trial\u001b[0m\u001b[0;34m=\u001b[0m\u001b[0mgc_after_trial\u001b[0m\u001b[0;34m,\u001b[0m\u001b[0;34m\u001b[0m\u001b[0;34m\u001b[0m\u001b[0m\n\u001b[0;32m--> 409\u001b[0;31m             \u001b[0mshow_progress_bar\u001b[0m\u001b[0;34m=\u001b[0m\u001b[0mshow_progress_bar\u001b[0m\u001b[0;34m,\u001b[0m\u001b[0;34m\u001b[0m\u001b[0;34m\u001b[0m\u001b[0m\n\u001b[0m\u001b[1;32m    410\u001b[0m         )\n\u001b[1;32m    411\u001b[0m \u001b[0;34m\u001b[0m\u001b[0m\n",
            "\u001b[0;32m/usr/local/lib/python3.7/dist-packages/optuna/study/_optimize.py\u001b[0m in \u001b[0;36m_optimize\u001b[0;34m(study, func, n_trials, timeout, n_jobs, catch, callbacks, gc_after_trial, show_progress_bar)\u001b[0m\n\u001b[1;32m     74\u001b[0m                 \u001b[0mreseed_sampler_rng\u001b[0m\u001b[0;34m=\u001b[0m\u001b[0;32mFalse\u001b[0m\u001b[0;34m,\u001b[0m\u001b[0;34m\u001b[0m\u001b[0;34m\u001b[0m\u001b[0m\n\u001b[1;32m     75\u001b[0m                 \u001b[0mtime_start\u001b[0m\u001b[0;34m=\u001b[0m\u001b[0;32mNone\u001b[0m\u001b[0;34m,\u001b[0m\u001b[0;34m\u001b[0m\u001b[0;34m\u001b[0m\u001b[0m\n\u001b[0;32m---> 76\u001b[0;31m                 \u001b[0mprogress_bar\u001b[0m\u001b[0;34m=\u001b[0m\u001b[0mprogress_bar\u001b[0m\u001b[0;34m,\u001b[0m\u001b[0;34m\u001b[0m\u001b[0;34m\u001b[0m\u001b[0m\n\u001b[0m\u001b[1;32m     77\u001b[0m             )\n\u001b[1;32m     78\u001b[0m         \u001b[0;32melse\u001b[0m\u001b[0;34m:\u001b[0m\u001b[0;34m\u001b[0m\u001b[0;34m\u001b[0m\u001b[0m\n",
            "\u001b[0;32m/usr/local/lib/python3.7/dist-packages/optuna/study/_optimize.py\u001b[0m in \u001b[0;36m_optimize_sequential\u001b[0;34m(study, func, n_trials, timeout, catch, callbacks, gc_after_trial, reseed_sampler_rng, time_start, progress_bar)\u001b[0m\n\u001b[1;32m    161\u001b[0m \u001b[0;34m\u001b[0m\u001b[0m\n\u001b[1;32m    162\u001b[0m         \u001b[0;32mtry\u001b[0m\u001b[0;34m:\u001b[0m\u001b[0;34m\u001b[0m\u001b[0;34m\u001b[0m\u001b[0m\n\u001b[0;32m--> 163\u001b[0;31m             \u001b[0mtrial\u001b[0m \u001b[0;34m=\u001b[0m \u001b[0m_run_trial\u001b[0m\u001b[0;34m(\u001b[0m\u001b[0mstudy\u001b[0m\u001b[0;34m,\u001b[0m \u001b[0mfunc\u001b[0m\u001b[0;34m,\u001b[0m \u001b[0mcatch\u001b[0m\u001b[0;34m)\u001b[0m\u001b[0;34m\u001b[0m\u001b[0;34m\u001b[0m\u001b[0m\n\u001b[0m\u001b[1;32m    164\u001b[0m         \u001b[0;32mexcept\u001b[0m \u001b[0mException\u001b[0m\u001b[0;34m:\u001b[0m\u001b[0;34m\u001b[0m\u001b[0;34m\u001b[0m\u001b[0m\n\u001b[1;32m    165\u001b[0m             \u001b[0;32mraise\u001b[0m\u001b[0;34m\u001b[0m\u001b[0;34m\u001b[0m\u001b[0m\n",
            "\u001b[0;32m/usr/local/lib/python3.7/dist-packages/optuna/study/_optimize.py\u001b[0m in \u001b[0;36m_run_trial\u001b[0;34m(study, func, catch)\u001b[0m\n\u001b[1;32m    262\u001b[0m \u001b[0;34m\u001b[0m\u001b[0m\n\u001b[1;32m    263\u001b[0m     \u001b[0;32mif\u001b[0m \u001b[0mstate\u001b[0m \u001b[0;34m==\u001b[0m \u001b[0mTrialState\u001b[0m\u001b[0;34m.\u001b[0m\u001b[0mFAIL\u001b[0m \u001b[0;32mand\u001b[0m \u001b[0mfunc_err\u001b[0m \u001b[0;32mis\u001b[0m \u001b[0;32mnot\u001b[0m \u001b[0;32mNone\u001b[0m \u001b[0;32mand\u001b[0m \u001b[0;32mnot\u001b[0m \u001b[0misinstance\u001b[0m\u001b[0;34m(\u001b[0m\u001b[0mfunc_err\u001b[0m\u001b[0;34m,\u001b[0m \u001b[0mcatch\u001b[0m\u001b[0;34m)\u001b[0m\u001b[0;34m:\u001b[0m\u001b[0;34m\u001b[0m\u001b[0;34m\u001b[0m\u001b[0m\n\u001b[0;32m--> 264\u001b[0;31m         \u001b[0;32mraise\u001b[0m \u001b[0mfunc_err\u001b[0m\u001b[0;34m\u001b[0m\u001b[0;34m\u001b[0m\u001b[0m\n\u001b[0m\u001b[1;32m    265\u001b[0m     \u001b[0;32mreturn\u001b[0m \u001b[0mtrial\u001b[0m\u001b[0;34m\u001b[0m\u001b[0;34m\u001b[0m\u001b[0m\n\u001b[1;32m    266\u001b[0m \u001b[0;34m\u001b[0m\u001b[0m\n",
            "\u001b[0;32m/usr/local/lib/python3.7/dist-packages/optuna/study/_optimize.py\u001b[0m in \u001b[0;36m_run_trial\u001b[0;34m(study, func, catch)\u001b[0m\n\u001b[1;32m    211\u001b[0m \u001b[0;34m\u001b[0m\u001b[0m\n\u001b[1;32m    212\u001b[0m     \u001b[0;32mtry\u001b[0m\u001b[0;34m:\u001b[0m\u001b[0;34m\u001b[0m\u001b[0;34m\u001b[0m\u001b[0m\n\u001b[0;32m--> 213\u001b[0;31m         \u001b[0mvalue_or_values\u001b[0m \u001b[0;34m=\u001b[0m \u001b[0mfunc\u001b[0m\u001b[0;34m(\u001b[0m\u001b[0mtrial\u001b[0m\u001b[0;34m)\u001b[0m\u001b[0;34m\u001b[0m\u001b[0;34m\u001b[0m\u001b[0m\n\u001b[0m\u001b[1;32m    214\u001b[0m     \u001b[0;32mexcept\u001b[0m \u001b[0mexceptions\u001b[0m\u001b[0;34m.\u001b[0m\u001b[0mTrialPruned\u001b[0m \u001b[0;32mas\u001b[0m \u001b[0me\u001b[0m\u001b[0;34m:\u001b[0m\u001b[0;34m\u001b[0m\u001b[0;34m\u001b[0m\u001b[0m\n\u001b[1;32m    215\u001b[0m         \u001b[0;31m# TODO(mamu): Handle multi-objective cases.\u001b[0m\u001b[0;34m\u001b[0m\u001b[0;34m\u001b[0m\u001b[0;34m\u001b[0m\u001b[0m\n",
            "\u001b[0;32m<ipython-input-4-1df2282d3daa>\u001b[0m in \u001b[0;36mobjective_dtc\u001b[0;34m(trial)\u001b[0m\n\u001b[1;32m     20\u001b[0m \u001b[0;31m#DecisionTreeClassifier\u001b[0m\u001b[0;34m\u001b[0m\u001b[0;34m\u001b[0m\u001b[0;34m\u001b[0m\u001b[0m\n\u001b[1;32m     21\u001b[0m \u001b[0;32mdef\u001b[0m \u001b[0mobjective_dtc\u001b[0m\u001b[0;34m(\u001b[0m\u001b[0mtrial\u001b[0m\u001b[0;34m)\u001b[0m\u001b[0;34m:\u001b[0m\u001b[0;34m\u001b[0m\u001b[0;34m\u001b[0m\u001b[0m\n\u001b[0;32m---> 22\u001b[0;31m   \u001b[0mmax_depth\u001b[0m \u001b[0;34m=\u001b[0m \u001b[0mtrial\u001b[0m\u001b[0;34m.\u001b[0m\u001b[0msuggest_int\u001b[0m\u001b[0;34m(\u001b[0m\u001b[0;34m'max_depth'\u001b[0m\u001b[0;34m,\u001b[0m \u001b[0;36m5\u001b[0m\u001b[0;34m,\u001b[0m \u001b[0mtrain\u001b[0m\u001b[0;34m.\u001b[0m\u001b[0mshape\u001b[0m\u001b[0;34m[\u001b[0m\u001b[0;36m1\u001b[0m\u001b[0;34m]\u001b[0m\u001b[0;34m)\u001b[0m\u001b[0;34m\u001b[0m\u001b[0;34m\u001b[0m\u001b[0m\n\u001b[0m\u001b[1;32m     23\u001b[0m   \u001b[0mmin_samples_split\u001b[0m \u001b[0;34m=\u001b[0m \u001b[0mtrial\u001b[0m\u001b[0;34m.\u001b[0m\u001b[0msuggest_int\u001b[0m\u001b[0;34m(\u001b[0m\u001b[0;34m'min_samples_split'\u001b[0m\u001b[0;34m,\u001b[0m \u001b[0;36m2\u001b[0m\u001b[0;34m,\u001b[0m \u001b[0;36m20\u001b[0m\u001b[0;34m)\u001b[0m\u001b[0;34m\u001b[0m\u001b[0;34m\u001b[0m\u001b[0m\n\u001b[1;32m     24\u001b[0m   \u001b[0mmin_samples_leaf\u001b[0m \u001b[0;34m=\u001b[0m \u001b[0mtrial\u001b[0m\u001b[0;34m.\u001b[0m\u001b[0msuggest_int\u001b[0m\u001b[0;34m(\u001b[0m\u001b[0;34m'min_samples_leaf'\u001b[0m\u001b[0;34m,\u001b[0m \u001b[0;36m2\u001b[0m\u001b[0;34m,\u001b[0m \u001b[0;36m20\u001b[0m\u001b[0;34m)\u001b[0m\u001b[0;34m\u001b[0m\u001b[0;34m\u001b[0m\u001b[0m\n",
            "\u001b[0;31mNameError\u001b[0m: name 'train' is not defined"
          ]
        }
      ]
    },
    {
      "cell_type": "code",
      "source": [
        "\n",
        "\n",
        "# Evaluate error of predictions\n",
        "precision(DecisionTreeClassifier(**best_trial_dtc.params))"
      ],
      "metadata": {
        "colab": {
          "base_uri": "https://localhost:8080/"
        },
        "id": "NT3EnswHW_uQ",
        "outputId": "65a7e68e-d945-4782-c906-eb0b187a6b06"
      },
      "execution_count": 24,
      "outputs": [
        {
          "output_type": "stream",
          "name": "stdout",
          "text": [
            "0.4857142857142857\n"
          ]
        }
      ]
    },
    {
      "cell_type": "code",
      "source": [
        "from sklearn.ensemble import GradientBoostingClassifier\n",
        "#gradient boosting classifier\n",
        "\n",
        "def objective_gbc(trial):\n",
        "  params = {\n",
        "      \"n_estimators\": optuna.distributions.IntUniformDistribution(50, 100),\n",
        "      \"max_depth\": optuna.distributions.IntLogUniformDistribution(2, 7),\n",
        "      \"learning_rate\": optuna.distributions.UniformDistribution(0, 1)\n",
        "  }\n",
        "  clf = GradientBoostingClassifier(**params)\n",
        "  return sklearn.model_selection.cross_val_score(clf, train[predictors], train[\"Target\"], \n",
        "           n_jobs=-1, cv=5).mean()\n",
        "\n",
        "\n",
        "best_trial_gbc = best_trial(objective_gbc, 100)\n",
        "\n",
        "# Evaluate error of predictions\n",
        "precision(GradientBoostingClassifier(best_trial_gbc.params))"
      ],
      "metadata": {
        "colab": {
          "base_uri": "https://localhost:8080/",
          "height": 245
        },
        "id": "C1JHIupUQQpv",
        "outputId": "2141004c-30f4-4fec-c2d0-723b8a5b9efd"
      },
      "execution_count": 1,
      "outputs": [
        {
          "output_type": "error",
          "ename": "NameError",
          "evalue": "ignored",
          "traceback": [
            "\u001b[0;31m---------------------------------------------------------------------------\u001b[0m",
            "\u001b[0;31mNameError\u001b[0m                                 Traceback (most recent call last)",
            "\u001b[0;32m<ipython-input-1-0fd6fd14d546>\u001b[0m in \u001b[0;36m<module>\u001b[0;34m()\u001b[0m\n\u001b[1;32m     13\u001b[0m \u001b[0;34m\u001b[0m\u001b[0m\n\u001b[1;32m     14\u001b[0m \u001b[0;34m\u001b[0m\u001b[0m\n\u001b[0;32m---> 15\u001b[0;31m \u001b[0mbest_trial_gbc\u001b[0m \u001b[0;34m=\u001b[0m \u001b[0mbest_trial\u001b[0m\u001b[0;34m(\u001b[0m\u001b[0mobjective_gbc\u001b[0m\u001b[0;34m,\u001b[0m \u001b[0;36m100\u001b[0m\u001b[0;34m)\u001b[0m\u001b[0;34m\u001b[0m\u001b[0;34m\u001b[0m\u001b[0m\n\u001b[0m\u001b[1;32m     16\u001b[0m \u001b[0;34m\u001b[0m\u001b[0m\n\u001b[1;32m     17\u001b[0m \u001b[0;31m# Evaluate error of predictions\u001b[0m\u001b[0;34m\u001b[0m\u001b[0;34m\u001b[0m\u001b[0;34m\u001b[0m\u001b[0m\n",
            "\u001b[0;31mNameError\u001b[0m: name 'best_trial' is not defined"
          ]
        }
      ]
    },
    {
      "cell_type": "code",
      "execution_count": null,
      "metadata": {
        "id": "MburZJw9yolv"
      },
      "outputs": [],
      "source": [
        "import keras.layers as kl\n",
        "from keras.models import Model\n",
        "from keras import regularizers\n",
        "#define the LSTM neural network\n",
        "input_data = kl.Input(shape=(1,train.shape[1]))\n",
        "lstm = kl.LSTM(5, input_shape=(1,train.shape[1]), return_sequences=True, activity_regularizer=regularizers.l2(0.003),\n",
        "                       recurrent_regularizer=regularizers.l2(0), dropout=0.2, recurrent_dropout=0.2)(input_data)\n",
        "perc = kl.Dense(5, activation=\"sigmoid\", activity_regularizer=regularizers.l2(0.005))(lstm)\n",
        "lstm2 = kl.LSTM(2, activity_regularizer=regularizers.l2(0.01), recurrent_regularizer=regularizers.l2(0.001),\n",
        "                        dropout=0.2, recurrent_dropout=0.2)(perc)\n",
        "out = kl.Dense(1, activation=\"sigmoid\", activity_regularizer=regularizers.l2(0.001))(lstm2)\n",
        "lstmNN=Model(input_data, out)\n",
        "lstmNN._estimator_type = \"classifier\""
      ]
    },
    {
      "cell_type": "code",
      "execution_count": null,
      "metadata": {
        "id": "QZJmwVyG9gKN"
      },
      "outputs": [],
      "source": [
        "\n",
        "from xgboost import XGBClassifier\n",
        "#define base models\n",
        "level0 = []\n",
        "level0.append(('rf', RandomForestClassifier(n_estimators=100, min_samples_split=200, random_state=1)))\n",
        "level0.append(('lstm', lstmNN))\n",
        "level0.append(('xgbc', XGBClassifier()))"
      ]
    },
    {
      "cell_type": "code",
      "execution_count": null,
      "metadata": {
        "colab": {
          "base_uri": "https://localhost:8080/",
          "height": 471
        },
        "id": "aswh_9lII1zR",
        "outputId": "2fe64920-fe0b-4642-9c8d-eb979f4b165b"
      },
      "outputs": [
        {
          "ename": "TypeError",
          "evalue": "ignored",
          "output_type": "error",
          "traceback": [
            "\u001b[0;31m---------------------------------------------------------------------------\u001b[0m",
            "\u001b[0;31mEmpty\u001b[0m                                     Traceback (most recent call last)",
            "\u001b[0;32m/usr/local/lib/python3.7/dist-packages/joblib/parallel.py\u001b[0m in \u001b[0;36mdispatch_one_batch\u001b[0;34m(self, iterator)\u001b[0m\n\u001b[1;32m    821\u001b[0m             \u001b[0;32mtry\u001b[0m\u001b[0;34m:\u001b[0m\u001b[0;34m\u001b[0m\u001b[0;34m\u001b[0m\u001b[0m\n\u001b[0;32m--> 822\u001b[0;31m                 \u001b[0mtasks\u001b[0m \u001b[0;34m=\u001b[0m \u001b[0mself\u001b[0m\u001b[0;34m.\u001b[0m\u001b[0m_ready_batches\u001b[0m\u001b[0;34m.\u001b[0m\u001b[0mget\u001b[0m\u001b[0;34m(\u001b[0m\u001b[0mblock\u001b[0m\u001b[0;34m=\u001b[0m\u001b[0;32mFalse\u001b[0m\u001b[0;34m)\u001b[0m\u001b[0;34m\u001b[0m\u001b[0;34m\u001b[0m\u001b[0m\n\u001b[0m\u001b[1;32m    823\u001b[0m             \u001b[0;32mexcept\u001b[0m \u001b[0mqueue\u001b[0m\u001b[0;34m.\u001b[0m\u001b[0mEmpty\u001b[0m\u001b[0;34m:\u001b[0m\u001b[0;34m\u001b[0m\u001b[0;34m\u001b[0m\u001b[0m\n",
            "\u001b[0;32m/usr/lib/python3.7/queue.py\u001b[0m in \u001b[0;36mget\u001b[0;34m(self, block, timeout)\u001b[0m\n\u001b[1;32m    166\u001b[0m                 \u001b[0;32mif\u001b[0m \u001b[0;32mnot\u001b[0m \u001b[0mself\u001b[0m\u001b[0;34m.\u001b[0m\u001b[0m_qsize\u001b[0m\u001b[0;34m(\u001b[0m\u001b[0;34m)\u001b[0m\u001b[0;34m:\u001b[0m\u001b[0;34m\u001b[0m\u001b[0;34m\u001b[0m\u001b[0m\n\u001b[0;32m--> 167\u001b[0;31m                     \u001b[0;32mraise\u001b[0m \u001b[0mEmpty\u001b[0m\u001b[0;34m\u001b[0m\u001b[0;34m\u001b[0m\u001b[0m\n\u001b[0m\u001b[1;32m    168\u001b[0m             \u001b[0;32melif\u001b[0m \u001b[0mtimeout\u001b[0m \u001b[0;32mis\u001b[0m \u001b[0;32mNone\u001b[0m\u001b[0;34m:\u001b[0m\u001b[0;34m\u001b[0m\u001b[0;34m\u001b[0m\u001b[0m\n",
            "\u001b[0;31mEmpty\u001b[0m: ",
            "\nDuring handling of the above exception, another exception occurred:\n",
            "\u001b[0;31mTypeError\u001b[0m                                 Traceback (most recent call last)",
            "\u001b[0;32m<ipython-input-38-3db18a590cf3>\u001b[0m in \u001b[0;36m<module>\u001b[0;34m()\u001b[0m\n\u001b[1;32m      8\u001b[0m \u001b[0mmodel\u001b[0m \u001b[0;34m=\u001b[0m \u001b[0mStackingClassifier\u001b[0m\u001b[0;34m(\u001b[0m\u001b[0mestimators\u001b[0m\u001b[0;34m=\u001b[0m\u001b[0mlevel0\u001b[0m\u001b[0;34m,\u001b[0m \u001b[0mfinal_estimator\u001b[0m\u001b[0;34m=\u001b[0m\u001b[0mlevel1\u001b[0m\u001b[0;34m,\u001b[0m \u001b[0mcv\u001b[0m\u001b[0;34m=\u001b[0m\u001b[0;36m5\u001b[0m\u001b[0;34m)\u001b[0m\u001b[0;34m\u001b[0m\u001b[0;34m\u001b[0m\u001b[0m\n\u001b[1;32m      9\u001b[0m \u001b[0;31m# fit the model on all available data\u001b[0m\u001b[0;34m\u001b[0m\u001b[0;34m\u001b[0m\u001b[0;34m\u001b[0m\u001b[0m\n\u001b[0;32m---> 10\u001b[0;31m \u001b[0mmodel\u001b[0m\u001b[0;34m.\u001b[0m\u001b[0mfit\u001b[0m\u001b[0;34m(\u001b[0m\u001b[0mtrain\u001b[0m\u001b[0;34m[\u001b[0m\u001b[0mpredictors\u001b[0m\u001b[0;34m]\u001b[0m\u001b[0;34m,\u001b[0m \u001b[0mtrain\u001b[0m\u001b[0;34m[\u001b[0m\u001b[0;34m\"Target\"\u001b[0m\u001b[0;34m]\u001b[0m\u001b[0;34m)\u001b[0m\u001b[0;34m\u001b[0m\u001b[0;34m\u001b[0m\u001b[0m\n\u001b[0m",
            "\u001b[0;32m/usr/local/lib/python3.7/dist-packages/sklearn/ensemble/_stacking.py\u001b[0m in \u001b[0;36mfit\u001b[0;34m(self, X, y, sample_weight)\u001b[0m\n\u001b[1;32m    486\u001b[0m         \u001b[0mself\u001b[0m\u001b[0;34m.\u001b[0m\u001b[0m_le\u001b[0m \u001b[0;34m=\u001b[0m \u001b[0mLabelEncoder\u001b[0m\u001b[0;34m(\u001b[0m\u001b[0;34m)\u001b[0m\u001b[0;34m.\u001b[0m\u001b[0mfit\u001b[0m\u001b[0;34m(\u001b[0m\u001b[0my\u001b[0m\u001b[0;34m)\u001b[0m\u001b[0;34m\u001b[0m\u001b[0;34m\u001b[0m\u001b[0m\n\u001b[1;32m    487\u001b[0m         \u001b[0mself\u001b[0m\u001b[0;34m.\u001b[0m\u001b[0mclasses_\u001b[0m \u001b[0;34m=\u001b[0m \u001b[0mself\u001b[0m\u001b[0;34m.\u001b[0m\u001b[0m_le\u001b[0m\u001b[0;34m.\u001b[0m\u001b[0mclasses_\u001b[0m\u001b[0;34m\u001b[0m\u001b[0;34m\u001b[0m\u001b[0m\n\u001b[0;32m--> 488\u001b[0;31m         \u001b[0;32mreturn\u001b[0m \u001b[0msuper\u001b[0m\u001b[0;34m(\u001b[0m\u001b[0;34m)\u001b[0m\u001b[0;34m.\u001b[0m\u001b[0mfit\u001b[0m\u001b[0;34m(\u001b[0m\u001b[0mX\u001b[0m\u001b[0;34m,\u001b[0m \u001b[0mself\u001b[0m\u001b[0;34m.\u001b[0m\u001b[0m_le\u001b[0m\u001b[0;34m.\u001b[0m\u001b[0mtransform\u001b[0m\u001b[0;34m(\u001b[0m\u001b[0my\u001b[0m\u001b[0;34m)\u001b[0m\u001b[0;34m,\u001b[0m \u001b[0msample_weight\u001b[0m\u001b[0;34m)\u001b[0m\u001b[0;34m\u001b[0m\u001b[0;34m\u001b[0m\u001b[0m\n\u001b[0m\u001b[1;32m    489\u001b[0m \u001b[0;34m\u001b[0m\u001b[0m\n\u001b[1;32m    490\u001b[0m     \u001b[0;34m@\u001b[0m\u001b[0mif_delegate_has_method\u001b[0m\u001b[0;34m(\u001b[0m\u001b[0mdelegate\u001b[0m\u001b[0;34m=\u001b[0m\u001b[0;34m\"final_estimator_\"\u001b[0m\u001b[0;34m)\u001b[0m\u001b[0;34m\u001b[0m\u001b[0;34m\u001b[0m\u001b[0m\n",
            "\u001b[0;32m/usr/local/lib/python3.7/dist-packages/sklearn/ensemble/_stacking.py\u001b[0m in \u001b[0;36mfit\u001b[0;34m(self, X, y, sample_weight)\u001b[0m\n\u001b[1;32m    158\u001b[0m         self.estimators_ = Parallel(n_jobs=self.n_jobs)(\n\u001b[1;32m    159\u001b[0m             \u001b[0mdelayed\u001b[0m\u001b[0;34m(\u001b[0m\u001b[0m_fit_single_estimator\u001b[0m\u001b[0;34m)\u001b[0m\u001b[0;34m(\u001b[0m\u001b[0mclone\u001b[0m\u001b[0;34m(\u001b[0m\u001b[0mest\u001b[0m\u001b[0;34m)\u001b[0m\u001b[0;34m,\u001b[0m \u001b[0mX\u001b[0m\u001b[0;34m,\u001b[0m \u001b[0my\u001b[0m\u001b[0;34m,\u001b[0m \u001b[0msample_weight\u001b[0m\u001b[0;34m)\u001b[0m\u001b[0;34m\u001b[0m\u001b[0;34m\u001b[0m\u001b[0m\n\u001b[0;32m--> 160\u001b[0;31m             \u001b[0;32mfor\u001b[0m \u001b[0mest\u001b[0m \u001b[0;32min\u001b[0m \u001b[0mall_estimators\u001b[0m\u001b[0;34m\u001b[0m\u001b[0;34m\u001b[0m\u001b[0m\n\u001b[0m\u001b[1;32m    161\u001b[0m             \u001b[0;32mif\u001b[0m \u001b[0mest\u001b[0m \u001b[0;34m!=\u001b[0m \u001b[0;34m\"drop\"\u001b[0m\u001b[0;34m\u001b[0m\u001b[0;34m\u001b[0m\u001b[0m\n\u001b[1;32m    162\u001b[0m         )\n",
            "\u001b[0;32m/usr/local/lib/python3.7/dist-packages/joblib/parallel.py\u001b[0m in \u001b[0;36m__call__\u001b[0;34m(self, iterable)\u001b[0m\n\u001b[1;32m   1044\u001b[0m                 \u001b[0mself\u001b[0m\u001b[0;34m.\u001b[0m\u001b[0m_iterating\u001b[0m \u001b[0;34m=\u001b[0m \u001b[0mself\u001b[0m\u001b[0;34m.\u001b[0m\u001b[0m_original_iterator\u001b[0m \u001b[0;32mis\u001b[0m \u001b[0;32mnot\u001b[0m \u001b[0;32mNone\u001b[0m\u001b[0;34m\u001b[0m\u001b[0;34m\u001b[0m\u001b[0m\n\u001b[1;32m   1045\u001b[0m \u001b[0;34m\u001b[0m\u001b[0m\n\u001b[0;32m-> 1046\u001b[0;31m             \u001b[0;32mwhile\u001b[0m \u001b[0mself\u001b[0m\u001b[0;34m.\u001b[0m\u001b[0mdispatch_one_batch\u001b[0m\u001b[0;34m(\u001b[0m\u001b[0miterator\u001b[0m\u001b[0;34m)\u001b[0m\u001b[0;34m:\u001b[0m\u001b[0;34m\u001b[0m\u001b[0;34m\u001b[0m\u001b[0m\n\u001b[0m\u001b[1;32m   1047\u001b[0m                 \u001b[0;32mpass\u001b[0m\u001b[0;34m\u001b[0m\u001b[0;34m\u001b[0m\u001b[0m\n\u001b[1;32m   1048\u001b[0m \u001b[0;34m\u001b[0m\u001b[0m\n",
            "\u001b[0;32m/usr/local/lib/python3.7/dist-packages/joblib/parallel.py\u001b[0m in \u001b[0;36mdispatch_one_batch\u001b[0;34m(self, iterator)\u001b[0m\n\u001b[1;32m    831\u001b[0m                 \u001b[0mbig_batch_size\u001b[0m \u001b[0;34m=\u001b[0m \u001b[0mbatch_size\u001b[0m \u001b[0;34m*\u001b[0m \u001b[0mn_jobs\u001b[0m\u001b[0;34m\u001b[0m\u001b[0;34m\u001b[0m\u001b[0m\n\u001b[1;32m    832\u001b[0m \u001b[0;34m\u001b[0m\u001b[0m\n\u001b[0;32m--> 833\u001b[0;31m                 \u001b[0mislice\u001b[0m \u001b[0;34m=\u001b[0m \u001b[0mlist\u001b[0m\u001b[0;34m(\u001b[0m\u001b[0mitertools\u001b[0m\u001b[0;34m.\u001b[0m\u001b[0mislice\u001b[0m\u001b[0;34m(\u001b[0m\u001b[0miterator\u001b[0m\u001b[0;34m,\u001b[0m \u001b[0mbig_batch_size\u001b[0m\u001b[0;34m)\u001b[0m\u001b[0;34m)\u001b[0m\u001b[0;34m\u001b[0m\u001b[0;34m\u001b[0m\u001b[0m\n\u001b[0m\u001b[1;32m    834\u001b[0m                 \u001b[0;32mif\u001b[0m \u001b[0mlen\u001b[0m\u001b[0;34m(\u001b[0m\u001b[0mislice\u001b[0m\u001b[0;34m)\u001b[0m \u001b[0;34m==\u001b[0m \u001b[0;36m0\u001b[0m\u001b[0;34m:\u001b[0m\u001b[0;34m\u001b[0m\u001b[0;34m\u001b[0m\u001b[0m\n\u001b[1;32m    835\u001b[0m                     \u001b[0;32mreturn\u001b[0m \u001b[0;32mFalse\u001b[0m\u001b[0;34m\u001b[0m\u001b[0;34m\u001b[0m\u001b[0m\n",
            "\u001b[0;32m/usr/local/lib/python3.7/dist-packages/sklearn/ensemble/_stacking.py\u001b[0m in \u001b[0;36m<genexpr>\u001b[0;34m(.0)\u001b[0m\n\u001b[1;32m    159\u001b[0m             \u001b[0mdelayed\u001b[0m\u001b[0;34m(\u001b[0m\u001b[0m_fit_single_estimator\u001b[0m\u001b[0;34m)\u001b[0m\u001b[0;34m(\u001b[0m\u001b[0mclone\u001b[0m\u001b[0;34m(\u001b[0m\u001b[0mest\u001b[0m\u001b[0;34m)\u001b[0m\u001b[0;34m,\u001b[0m \u001b[0mX\u001b[0m\u001b[0;34m,\u001b[0m \u001b[0my\u001b[0m\u001b[0;34m,\u001b[0m \u001b[0msample_weight\u001b[0m\u001b[0;34m)\u001b[0m\u001b[0;34m\u001b[0m\u001b[0;34m\u001b[0m\u001b[0m\n\u001b[1;32m    160\u001b[0m             \u001b[0;32mfor\u001b[0m \u001b[0mest\u001b[0m \u001b[0;32min\u001b[0m \u001b[0mall_estimators\u001b[0m\u001b[0;34m\u001b[0m\u001b[0;34m\u001b[0m\u001b[0m\n\u001b[0;32m--> 161\u001b[0;31m             \u001b[0;32mif\u001b[0m \u001b[0mest\u001b[0m \u001b[0;34m!=\u001b[0m \u001b[0;34m\"drop\"\u001b[0m\u001b[0;34m\u001b[0m\u001b[0;34m\u001b[0m\u001b[0m\n\u001b[0m\u001b[1;32m    162\u001b[0m         )\n\u001b[1;32m    163\u001b[0m \u001b[0;34m\u001b[0m\u001b[0m\n",
            "\u001b[0;32m/usr/local/lib/python3.7/dist-packages/sklearn/base.py\u001b[0m in \u001b[0;36mclone\u001b[0;34m(estimator, safe)\u001b[0m\n\u001b[1;32m     78\u001b[0m                     \u001b[0;34m\"it does not seem to be a scikit-learn \"\u001b[0m\u001b[0;34m\u001b[0m\u001b[0;34m\u001b[0m\u001b[0m\n\u001b[1;32m     79\u001b[0m                     \u001b[0;34m\"estimator as it does not implement a \"\u001b[0m\u001b[0;34m\u001b[0m\u001b[0;34m\u001b[0m\u001b[0m\n\u001b[0;32m---> 80\u001b[0;31m                     \u001b[0;34m\"'get_params' method.\"\u001b[0m \u001b[0;34m%\u001b[0m \u001b[0;34m(\u001b[0m\u001b[0mrepr\u001b[0m\u001b[0;34m(\u001b[0m\u001b[0mestimator\u001b[0m\u001b[0;34m)\u001b[0m\u001b[0;34m,\u001b[0m \u001b[0mtype\u001b[0m\u001b[0;34m(\u001b[0m\u001b[0mestimator\u001b[0m\u001b[0;34m)\u001b[0m\u001b[0;34m)\u001b[0m\u001b[0;34m\u001b[0m\u001b[0;34m\u001b[0m\u001b[0m\n\u001b[0m\u001b[1;32m     81\u001b[0m                 )\n\u001b[1;32m     82\u001b[0m \u001b[0;34m\u001b[0m\u001b[0m\n",
            "\u001b[0;31mTypeError\u001b[0m: Cannot clone object '<keras.engine.functional.Functional object at 0x7fe792400090>' (type <class 'keras.engine.functional.Functional'>): it does not seem to be a scikit-learn estimator as it does not implement a 'get_params' method."
          ]
        }
      ],
      "source": [
        "from sklearn.ensemble import StackingClassifier\n",
        "from sklearn.linear_model import LogisticRegression\n",
        "\n",
        "# define meta learner model\n",
        "level1 = LogisticRegression()\n",
        "\n",
        "# define the stacking ensemble\n",
        "model = StackingClassifier(estimators=level0, final_estimator=level1, cv=5)\n",
        "# fit the model on all available data\n",
        "model.fit(train[predictors], train[\"Target\"])"
      ]
    },
    {
      "cell_type": "code",
      "execution_count": null,
      "metadata": {
        "colab": {
          "base_uri": "https://localhost:8080/"
        },
        "id": "rG2Z-p-qI5zc",
        "outputId": "945829d7-90c1-4283-fe81-65de1eda23d1"
      },
      "outputs": [
        {
          "data": {
            "text/plain": [
              "0.5"
            ]
          },
          "execution_count": 12,
          "metadata": {},
          "output_type": "execute_result"
        }
      ],
      "source": [
        "\n",
        "\n",
        "from sklearn.metrics import precision_score\n",
        "\n",
        "# Evaluate error of predictions\n",
        "preds = model.predict(test[predictors])\n",
        "preds = pd.Series(preds, index=test.index)\n",
        "precision_score(test[\"Target\"], preds)\n",
        "\n"
      ]
    },
    {
      "cell_type": "code",
      "execution_count": null,
      "metadata": {
        "colab": {
          "base_uri": "https://localhost:8080/",
          "height": 295
        },
        "id": "rfx59M94JEUV",
        "outputId": "60476dde-12d6-4c44-f446-54024221010b"
      },
      "outputs": [
        {
          "data": {
            "text/plain": [
              "<matplotlib.axes._subplots.AxesSubplot at 0x7ff6a8685550>"
            ]
          },
          "execution_count": 13,
          "metadata": {},
          "output_type": "execute_result"
        },
        {
          "data": {
            "image/png": "[encoded data removed]",
            "text/plain": [
              "<Figure size 432x288 with 1 Axes>"
            ]
          },
          "metadata": {},
          "output_type": "display_data"
        }
      ],
      "source": [
        "combined = pd.concat({\"Target\": test[\"Target\"],\"Predictions\": preds}, axis=1)\n",
        "combined.plot()"
      ]
    },
    {
      "cell_type": "code",
      "execution_count": null,
      "metadata": {
        "id": "1OdY6ZsPJLud"
      },
      "outputs": [],
      "source": [
        ""
      ]
    }
  ],
  "metadata": {
    "colab": {
      "collapsed_sections": [],
      "name": "StockPrediction.ipynb",
      "provenance": [],
      "authorship_tag": "ABX9TyPzXOzg7zbZ7JnVFsqGo0al",
      "include_colab_link": true
    },
    "kernelspec": {
      "display_name": "Python 3",
      "name": "python3"
    },
    "language_info": {
      "name": "python"
    }
  },
  "nbformat": 4,
  "nbformat_minor": 0
}