{
  "cells": [
    {
      "cell_type": "markdown",
      "metadata": {
        "id": "view-in-github",
        "colab_type": "text"
      },
      "source": [
        "<a href=\"https://colab.research.google.com/github/Dena-Kazerani/stock-prediction/blob/main/StockPrediction.ipynb\" target=\"_parent\"><img src=\"https://colab.research.google.com/assets/colab-badge.svg\" alt=\"Open In Colab\"/></a>"
      ]
    },
    {
      "cell_type": "code",
      "execution_count": 1,
      "metadata": {
        "id": "jn631t1s39or",
        "colab": {
          "base_uri": "https://localhost:8080/"
        },
        "outputId": "77ba4b47-72ca-4034-a541-aa8868a25655"
      },
      "outputs": [
        {
          "output_type": "stream",
          "name": "stdout",
          "text": [
            "Collecting yfinance\n",
            "  Downloading yfinance-0.1.70-py2.py3-none-any.whl (26 kB)\n",
            "Collecting lxml>=4.5.1\n",
            "  Downloading lxml-4.8.0-cp37-cp37m-manylinux_2_17_x86_64.manylinux2014_x86_64.manylinux_2_24_x86_64.whl (6.4 MB)\n",
            "\u001b[K     |████████████████████████████████| 6.4 MB 14.6 MB/s \n",
            "\u001b[?25hRequirement already satisfied: numpy>=1.15 in /usr/local/lib/python3.7/dist-packages (from yfinance) (1.21.5)\n",
            "Requirement already satisfied: pandas>=0.24.0 in /usr/local/lib/python3.7/dist-packages (from yfinance) (1.3.5)\n",
            "Requirement already satisfied: multitasking>=0.0.7 in /usr/local/lib/python3.7/dist-packages (from yfinance) (0.0.10)\n",
            "Collecting requests>=2.26\n",
            "  Downloading requests-2.27.1-py2.py3-none-any.whl (63 kB)\n",
            "\u001b[K     |████████████████████████████████| 63 kB 1.3 MB/s \n",
            "\u001b[?25hRequirement already satisfied: python-dateutil>=2.7.3 in /usr/local/lib/python3.7/dist-packages (from pandas>=0.24.0->yfinance) (2.8.2)\n",
            "Requirement already satisfied: pytz>=2017.3 in /usr/local/lib/python3.7/dist-packages (from pandas>=0.24.0->yfinance) (2018.9)\n",
            "Requirement already satisfied: six>=1.5 in /usr/local/lib/python3.7/dist-packages (from python-dateutil>=2.7.3->pandas>=0.24.0->yfinance) (1.15.0)\n",
            "Requirement already satisfied: urllib3<1.27,>=1.21.1 in /usr/local/lib/python3.7/dist-packages (from requests>=2.26->yfinance) (1.24.3)\n",
            "Requirement already satisfied: idna<4,>=2.5 in /usr/local/lib/python3.7/dist-packages (from requests>=2.26->yfinance) (2.10)\n",
            "Requirement already satisfied: charset-normalizer~=2.0.0 in /usr/local/lib/python3.7/dist-packages (from requests>=2.26->yfinance) (2.0.12)\n",
            "Requirement already satisfied: certifi>=2017.4.17 in /usr/local/lib/python3.7/dist-packages (from requests>=2.26->yfinance) (2021.10.8)\n",
            "Installing collected packages: requests, lxml, yfinance\n",
            "  Attempting uninstall: requests\n",
            "    Found existing installation: requests 2.23.0\n",
            "    Uninstalling requests-2.23.0:\n",
            "      Successfully uninstalled requests-2.23.0\n",
            "  Attempting uninstall: lxml\n",
            "    Found existing installation: lxml 4.2.6\n",
            "    Uninstalling lxml-4.2.6:\n",
            "      Successfully uninstalled lxml-4.2.6\n",
            "\u001b[31mERROR: pip's dependency resolver does not currently take into account all the packages that are installed. This behaviour is the source of the following dependency conflicts.\n",
            "google-colab 1.0.0 requires requests~=2.23.0, but you have requests 2.27.1 which is incompatible.\n",
            "datascience 0.10.6 requires folium==0.2.1, but you have folium 0.8.3 which is incompatible.\u001b[0m\n",
            "Successfully installed lxml-4.8.0 requests-2.27.1 yfinance-0.1.70\n"
          ]
        }
      ],
      "source": [
        "# Import finance API and get historical stock data\n",
        "!pip install yfinance\n",
        "#!pip install -U scikit-learn\n",
        "import yfinance as yf\n",
        "import os\n",
        "import json\n",
        "import pandas as pd\n",
        "\n",
        "DATA_PATH = \"msft_data.json\"\n",
        "msft = yf.Ticker(\"MSFT\")\n",
        "msft_hist = msft.history(period=\"max\")\n",
        "\n",
        "# Save file to json in case we need it later.  This prevents us from having to re-download it every time.\n",
        "msft_hist.to_json(DATA_PATH)"
      ]
    },
    {
      "cell_type": "code",
      "execution_count": 2,
      "metadata": {
        "id": "TQFOWwqQGcXV",
        "colab": {
          "base_uri": "https://localhost:8080/",
          "height": 238
        },
        "outputId": "9e499199-7f84-4e8d-9916-14bf37a25e92"
      },
      "outputs": [
        {
          "output_type": "execute_result",
          "data": {
            "text/plain": [
              "                Open      High       Low     Close      Volume  Dividends  \\\n",
              "Date                                                                        \n",
              "1986-03-13  0.055949  0.064177  0.055949  0.061434  1031788800        0.0   \n",
              "1986-03-14  0.061434  0.064725  0.061434  0.063628   308160000        0.0   \n",
              "1986-03-17  0.063628  0.065274  0.063628  0.064725   133171200        0.0   \n",
              "1986-03-18  0.064725  0.065274  0.062531  0.063079    67766400        0.0   \n",
              "1986-03-19  0.063079  0.063628  0.061434  0.061982    47894400        0.0   \n",
              "\n",
              "            Stock Splits  \n",
              "Date                      \n",
              "1986-03-13           0.0  \n",
              "1986-03-14           0.0  \n",
              "1986-03-17           0.0  \n",
              "1986-03-18           0.0  \n",
              "1986-03-19           0.0  "
            ],
            "text/html": [
              "\n",
              "  <div id=\"df-dc2e2206-5923-4def-b2b3-11b904589464\">\n",
              "    <div class=\"colab-df-container\">\n",
              "      <div>\n",
              "<style scoped>\n",
              "    .dataframe tbody tr th:only-of-type {\n",
              "        vertical-align: middle;\n",
              "    }\n",
              "\n",
              "    .dataframe tbody tr th {\n",
              "        vertical-align: top;\n",
              "    }\n",
              "\n",
              "    .dataframe thead th {\n",
              "        text-align: right;\n",
              "    }\n",
              "</style>\n",
              "<table border=\"1\" class=\"dataframe\">\n",
              "  <thead>\n",
              "    <tr style=\"text-align: right;\">\n",
              "      <th></th>\n",
              "      <th>Open</th>\n",
              "      <th>High</th>\n",
              "      <th>Low</th>\n",
              "      <th>Close</th>\n",
              "      <th>Volume</th>\n",
              "      <th>Dividends</th>\n",
              "      <th>Stock Splits</th>\n",
              "    </tr>\n",
              "    <tr>\n",
              "      <th>Date</th>\n",
              "      <th></th>\n",
              "      <th></th>\n",
              "      <th></th>\n",
              "      <th></th>\n",
              "      <th></th>\n",
              "      <th></th>\n",
              "      <th></th>\n",
              "    </tr>\n",
              "  </thead>\n",
              "  <tbody>\n",
              "    <tr>\n",
              "      <th>1986-03-13</th>\n",
              "      <td>0.055949</td>\n",
              "      <td>0.064177</td>\n",
              "      <td>0.055949</td>\n",
              "      <td>0.061434</td>\n",
              "      <td>1031788800</td>\n",
              "      <td>0.0</td>\n",
              "      <td>0.0</td>\n",
              "    </tr>\n",
              "    <tr>\n",
              "      <th>1986-03-14</th>\n",
              "      <td>0.061434</td>\n",
              "      <td>0.064725</td>\n",
              "      <td>0.061434</td>\n",
              "      <td>0.063628</td>\n",
              "      <td>308160000</td>\n",
              "      <td>0.0</td>\n",
              "      <td>0.0</td>\n",
              "    </tr>\n",
              "    <tr>\n",
              "      <th>1986-03-17</th>\n",
              "      <td>0.063628</td>\n",
              "      <td>0.065274</td>\n",
              "      <td>0.063628</td>\n",
              "      <td>0.064725</td>\n",
              "      <td>133171200</td>\n",
              "      <td>0.0</td>\n",
              "      <td>0.0</td>\n",
              "    </tr>\n",
              "    <tr>\n",
              "      <th>1986-03-18</th>\n",
              "      <td>0.064725</td>\n",
              "      <td>0.065274</td>\n",
              "      <td>0.062531</td>\n",
              "      <td>0.063079</td>\n",
              "      <td>67766400</td>\n",
              "      <td>0.0</td>\n",
              "      <td>0.0</td>\n",
              "    </tr>\n",
              "    <tr>\n",
              "      <th>1986-03-19</th>\n",
              "      <td>0.063079</td>\n",
              "      <td>0.063628</td>\n",
              "      <td>0.061434</td>\n",
              "      <td>0.061982</td>\n",
              "      <td>47894400</td>\n",
              "      <td>0.0</td>\n",
              "      <td>0.0</td>\n",
              "    </tr>\n",
              "  </tbody>\n",
              "</table>\n",
              "</div>\n",
              "      <button class=\"colab-df-convert\" onclick=\"convertToInteractive('df-dc2e2206-5923-4def-b2b3-11b904589464')\"\n",
              "              title=\"Convert this dataframe to an interactive table.\"\n",
              "              style=\"display:none;\">\n",
              "        \n",
              "  <svg xmlns=\"http://www.w3.org/2000/svg\" height=\"24px\"viewBox=\"0 0 24 24\"\n",
              "       width=\"24px\">\n",
              "    <path d=\"M0 0h24v24H0V0z\" fill=\"none\"/>\n",
              "    <path d=\"M18.56 5.44l.94 2.06.94-2.06 2.06-.94-2.06-.94-.94-2.06-.94 2.06-2.06.94zm-11 1L8.5 8.5l.94-2.06 2.06-.94-2.06-.94L8.5 2.5l-.94 2.06-2.06.94zm10 10l.94 2.06.94-2.06 2.06-.94-2.06-.94-.94-2.06-.94 2.06-2.06.94z\"/><path d=\"M17.41 7.96l-1.37-1.37c-.4-.4-.92-.59-1.43-.59-.52 0-1.04.2-1.43.59L10.3 9.45l-7.72 7.72c-.78.78-.78 2.05 0 2.83L4 21.41c.39.39.9.59 1.41.59.51 0 1.02-.2 1.41-.59l7.78-7.78 2.81-2.81c.8-.78.8-2.07 0-2.86zM5.41 20L4 18.59l7.72-7.72 1.47 1.35L5.41 20z\"/>\n",
              "  </svg>\n",
              "      </button>\n",
              "      \n",
              "  <style>\n",
              "    .colab-df-container {\n",
              "      display:flex;\n",
              "      flex-wrap:wrap;\n",
              "      gap: 12px;\n",
              "    }\n",
              "\n",
              "    .colab-df-convert {\n",
              "      background-color: #E8F0FE;\n",
              "      border: none;\n",
              "      border-radius: 50%;\n",
              "      cursor: pointer;\n",
              "      display: none;\n",
              "      fill: #1967D2;\n",
              "      height: 32px;\n",
              "      padding: 0 0 0 0;\n",
              "      width: 32px;\n",
              "    }\n",
              "\n",
              "    .colab-df-convert:hover {\n",
              "      background-color: #E2EBFA;\n",
              "      box-shadow: 0px 1px 2px rgba(60, 64, 67, 0.3), 0px 1px 3px 1px rgba(60, 64, 67, 0.15);\n",
              "      fill: #174EA6;\n",
              "    }\n",
              "\n",
              "    [theme=dark] .colab-df-convert {\n",
              "      background-color: #3B4455;\n",
              "      fill: #D2E3FC;\n",
              "    }\n",
              "\n",
              "    [theme=dark] .colab-df-convert:hover {\n",
              "      background-color: #434B5C;\n",
              "      box-shadow: 0px 1px 3px 1px rgba(0, 0, 0, 0.15);\n",
              "      filter: drop-shadow(0px 1px 2px rgba(0, 0, 0, 0.3));\n",
              "      fill: #FFFFFF;\n",
              "    }\n",
              "  </style>\n",
              "\n",
              "      <script>\n",
              "        const buttonEl =\n",
              "          document.querySelector('#df-dc2e2206-5923-4def-b2b3-11b904589464 button.colab-df-convert');\n",
              "        buttonEl.style.display =\n",
              "          google.colab.kernel.accessAllowed ? 'block' : 'none';\n",
              "\n",
              "        async function convertToInteractive(key) {\n",
              "          const element = document.querySelector('#df-dc2e2206-5923-4def-b2b3-11b904589464');\n",
              "          const dataTable =\n",
              "            await google.colab.kernel.invokeFunction('convertToInteractive',\n",
              "                                                     [key], {});\n",
              "          if (!dataTable) return;\n",
              "\n",
              "          const docLinkHtml = 'Like what you see? Visit the ' +\n",
              "            '<a target=\"_blank\" href=https://colab.research.google.com/notebooks/data_table.ipynb>data table notebook</a>'\n",
              "            + ' to learn more about interactive tables.';\n",
              "          element.innerHTML = '';\n",
              "          dataTable['output_type'] = 'display_data';\n",
              "          await google.colab.output.renderOutput(dataTable, element);\n",
              "          const docLink = document.createElement('div');\n",
              "          docLink.innerHTML = docLinkHtml;\n",
              "          element.appendChild(docLink);\n",
              "        }\n",
              "      </script>\n",
              "    </div>\n",
              "  </div>\n",
              "  "
            ]
          },
          "metadata": {},
          "execution_count": 2
        }
      ],
      "source": [
        "# Display microsoft stock price history so we can look at the structure of the data\n",
        "msft_hist.head(5)"
      ]
    },
    {
      "cell_type": "code",
      "execution_count": 3,
      "metadata": {
        "id": "LdhzEo1XIew4",
        "colab": {
          "base_uri": "https://localhost:8080/",
          "height": 287
        },
        "outputId": "e89214b8-9307-4a6c-ec85-b412f26f2054"
      },
      "outputs": [
        {
          "output_type": "execute_result",
          "data": {
            "text/plain": [
              "<matplotlib.axes._subplots.AxesSubplot at 0x7f5e0865abd0>"
            ]
          },
          "metadata": {},
          "execution_count": 3
        },
        {
          "output_type": "display_data",
          "data": {
            "text/plain": [
              "<Figure size 432x288 with 1 Axes>"
            ],
            "image/png": "[encoded data removed]"
          },
          "metadata": {
            "needs_background": "light"
          }
        }
      ],
      "source": [
        "# Visualize microsoft stock prices\n",
        "msft_hist.plot.line(y=\"Close\", use_index=True)"
      ]
    },
    {
      "cell_type": "code",
      "execution_count": 4,
      "metadata": {
        "id": "rsuwQAfWImfU"
      },
      "outputs": [],
      "source": [
        "# Ensure we know the actual closing price\n",
        "data = msft_hist[[\"Close\"]]\n",
        "data = data.rename(columns = {'Close':'Actual_Close'})\n",
        "\n",
        "# Setup our target.  This identifies if the price went up or down\n",
        "data[\"Target\"] = msft_hist.rolling(2).apply(lambda x: x.iloc[1] > x.iloc[0])[\"Close\"]"
      ]
    },
    {
      "cell_type": "code",
      "execution_count": 5,
      "metadata": {
        "id": "E-PIH9fMIsFD"
      },
      "outputs": [],
      "source": [
        "# Shift stock prices forward one day, so we're predicting tomorrow's stock prices from today's prices.\n",
        "msft_prev = msft_hist.copy()\n",
        "msft_prev = msft_prev.shift(1)"
      ]
    },
    {
      "cell_type": "code",
      "execution_count": 6,
      "metadata": {
        "id": "wQmhqCMUIwQb"
      },
      "outputs": [],
      "source": [
        "# Create our training data\n",
        "predictors = [\"Close\", \"Volume\", \"Open\", \"High\", \"Low\"]\n",
        "data = data.join(msft_prev[predictors]).iloc[1:]\n",
        "\n",
        "# Create a train and test set\n",
        "train = data.iloc[:-100]\n",
        "test = data.iloc[-100:]"
      ]
    },
    {
      "cell_type": "code",
      "source": [
        "train.columns"
      ],
      "metadata": {
        "colab": {
          "base_uri": "https://localhost:8080/"
        },
        "id": "9i9w6cDZX5Jg",
        "outputId": "5b2b3150-1921-476f-9d64-8c4e00c3bb32"
      },
      "execution_count": 7,
      "outputs": [
        {
          "output_type": "execute_result",
          "data": {
            "text/plain": [
              "Index(['Actual_Close', 'Target', 'Close', 'Volume', 'Open', 'High', 'Low'], dtype='object')"
            ]
          },
          "metadata": {},
          "execution_count": 7
        }
      ]
    },
    {
      "cell_type": "markdown",
      "source": [
        "# Hyperparameters tunings and application of tuned models on the data"
      ],
      "metadata": {
        "id": "hAYLLHKUTXsB"
      }
    },
    {
      "cell_type": "code",
      "source": [
        "!pip install optuna\n",
        "import optuna\n",
        "def best_trial(objective, nb_trials):\n",
        "  study = optuna.create_study(direction='maximize')\n",
        "  study.optimize(objective, n_trials= nb_trials)\n",
        "  trial = study.best_trial\n",
        "  print('Accuracy: {}'.format(trial.value))\n",
        "  print(\"Best hyperparameters: {}\".format(trial.params))\n",
        "  return trial\n",
        "\n",
        "def precision(model):\n",
        "  # Evaluate error of predictions\n",
        "  model.fit(train[predictors], train[\"Target\"])\n",
        "  preds= model.predict(test[predictors])\n",
        "  preds = pd.Series(preds, index=test.index)\n",
        "  print(precision_score(test[\"Target\"], preds))"
      ],
      "metadata": {
        "id": "n89rCRPfStb7",
        "colab": {
          "base_uri": "https://localhost:8080/"
        },
        "outputId": "3d9f2f56-cf0a-48ba-fd41-61c6f0d343e8"
      },
      "execution_count": 8,
      "outputs": [
        {
          "output_type": "stream",
          "name": "stdout",
          "text": [
            "Collecting optuna\n",
            "  Downloading optuna-2.10.0-py3-none-any.whl (308 kB)\n",
            "\u001b[K     |████████████████████████████████| 308 kB 9.6 MB/s \n",
            "\u001b[?25hCollecting alembic\n",
            "  Downloading alembic-1.7.7-py3-none-any.whl (210 kB)\n",
            "\u001b[K     |████████████████████████████████| 210 kB 50.3 MB/s \n",
            "\u001b[?25hRequirement already satisfied: PyYAML in /usr/local/lib/python3.7/dist-packages (from optuna) (3.13)\n",
            "Requirement already satisfied: tqdm in /usr/local/lib/python3.7/dist-packages (from optuna) (4.63.0)\n",
            "Collecting cmaes>=0.8.2\n",
            "  Downloading cmaes-0.8.2-py3-none-any.whl (15 kB)\n",
            "Requirement already satisfied: numpy in /usr/local/lib/python3.7/dist-packages (from optuna) (1.21.5)\n",
            "Collecting cliff\n",
            "  Downloading cliff-3.10.1-py3-none-any.whl (81 kB)\n",
            "\u001b[K     |████████████████████████████████| 81 kB 8.2 MB/s \n",
            "\u001b[?25hRequirement already satisfied: packaging>=20.0 in /usr/local/lib/python3.7/dist-packages (from optuna) (21.3)\n",
            "Requirement already satisfied: scipy!=1.4.0 in /usr/local/lib/python3.7/dist-packages (from optuna) (1.4.1)\n",
            "Collecting colorlog\n",
            "  Downloading colorlog-6.6.0-py2.py3-none-any.whl (11 kB)\n",
            "Requirement already satisfied: sqlalchemy>=1.1.0 in /usr/local/lib/python3.7/dist-packages (from optuna) (1.4.32)\n",
            "Requirement already satisfied: pyparsing!=3.0.5,>=2.0.2 in /usr/local/lib/python3.7/dist-packages (from packaging>=20.0->optuna) (3.0.7)\n",
            "Requirement already satisfied: greenlet!=0.4.17 in /usr/local/lib/python3.7/dist-packages (from sqlalchemy>=1.1.0->optuna) (1.1.2)\n",
            "Requirement already satisfied: importlib-metadata in /usr/local/lib/python3.7/dist-packages (from sqlalchemy>=1.1.0->optuna) (4.11.3)\n",
            "Collecting Mako\n",
            "  Downloading Mako-1.2.0-py3-none-any.whl (78 kB)\n",
            "\u001b[K     |████████████████████████████████| 78 kB 6.3 MB/s \n",
            "\u001b[?25hRequirement already satisfied: importlib-resources in /usr/local/lib/python3.7/dist-packages (from alembic->optuna) (5.4.0)\n",
            "Requirement already satisfied: PrettyTable>=0.7.2 in /usr/local/lib/python3.7/dist-packages (from cliff->optuna) (3.2.0)\n",
            "Collecting cmd2>=1.0.0\n",
            "  Downloading cmd2-2.4.0-py3-none-any.whl (150 kB)\n",
            "\u001b[K     |████████████████████████████████| 150 kB 50.4 MB/s \n",
            "\u001b[?25hCollecting autopage>=0.4.0\n",
            "  Downloading autopage-0.5.0-py3-none-any.whl (29 kB)\n",
            "Collecting pbr!=2.1.0,>=2.0.0\n",
            "  Downloading pbr-5.8.1-py2.py3-none-any.whl (113 kB)\n",
            "\u001b[K     |████████████████████████████████| 113 kB 51.7 MB/s \n",
            "\u001b[?25hCollecting stevedore>=2.0.1\n",
            "  Downloading stevedore-3.5.0-py3-none-any.whl (49 kB)\n",
            "\u001b[K     |████████████████████████████████| 49 kB 6.2 MB/s \n",
            "\u001b[?25hRequirement already satisfied: wcwidth>=0.1.7 in /usr/local/lib/python3.7/dist-packages (from cmd2>=1.0.0->cliff->optuna) (0.2.5)\n",
            "Requirement already satisfied: attrs>=16.3.0 in /usr/local/lib/python3.7/dist-packages (from cmd2>=1.0.0->cliff->optuna) (21.4.0)\n",
            "Requirement already satisfied: typing-extensions in /usr/local/lib/python3.7/dist-packages (from cmd2>=1.0.0->cliff->optuna) (3.10.0.2)\n",
            "Collecting pyperclip>=1.6\n",
            "  Downloading pyperclip-1.8.2.tar.gz (20 kB)\n",
            "Requirement already satisfied: zipp>=0.5 in /usr/local/lib/python3.7/dist-packages (from importlib-metadata->sqlalchemy>=1.1.0->optuna) (3.7.0)\n",
            "Requirement already satisfied: MarkupSafe>=0.9.2 in /usr/local/lib/python3.7/dist-packages (from Mako->alembic->optuna) (2.0.1)\n",
            "Building wheels for collected packages: pyperclip\n",
            "  Building wheel for pyperclip (setup.py) ... \u001b[?25l\u001b[?25hdone\n",
            "  Created wheel for pyperclip: filename=pyperclip-1.8.2-py3-none-any.whl size=11137 sha256=35a24faeb79f0f79ed973596c88f8005069d3fb9c81b79ee3be99e9dddd6b66a\n",
            "  Stored in directory: /root/.cache/pip/wheels/9f/18/84/8f69f8b08169c7bae2dde6bd7daf0c19fca8c8e500ee620a28\n",
            "Successfully built pyperclip\n",
            "Installing collected packages: pyperclip, pbr, stevedore, Mako, cmd2, autopage, colorlog, cmaes, cliff, alembic, optuna\n",
            "Successfully installed Mako-1.2.0 alembic-1.7.7 autopage-0.5.0 cliff-3.10.1 cmaes-0.8.2 cmd2-2.4.0 colorlog-6.6.0 optuna-2.10.0 pbr-5.8.1 pyperclip-1.8.2 stevedore-3.5.0\n"
          ]
        }
      ]
    },
    {
      "cell_type": "markdown",
      "source": [
        "# Decision Tree Classifier \n",
        "\n",
        "\n",
        "\n",
        "\n",
        "\n"
      ],
      "metadata": {
        "id": "HRYWYppXS_w7"
      }
    },
    {
      "cell_type": "code",
      "source": [
        "#Choose the range of convenient ccp_alpha\n",
        "from sklearn.tree import DecisionTreeClassifier\n",
        "clf = DecisionTreeClassifier(random_state=1)\n",
        "path = clf.cost_complexity_pruning_path(train[predictors], train[\"Target\"])\n",
        "ccp_alphas= path.ccp_alphas\n",
        "print(type(ccp_alphas))"
      ],
      "metadata": {
        "id": "2rD8vkbES7Gq",
        "colab": {
          "base_uri": "https://localhost:8080/"
        },
        "outputId": "e03a264f-2132-4e13-9041-c4952d0eb8e8"
      },
      "execution_count": 9,
      "outputs": [
        {
          "output_type": "stream",
          "name": "stdout",
          "text": [
            "<class 'numpy.ndarray'>\n"
          ]
        }
      ]
    },
    {
      "cell_type": "code",
      "source": [
        "#Use optuna for hyperparameter tuning\n",
        "import sklearn\n",
        "def objective_dtc(trial):\n",
        "  max_depth = trial.suggest_int('max_depth', 10, 30)\n",
        "  min_samples_split = trial.suggest_int('min_samples_split', 2, 20)\n",
        "  min_samples_leaf = trial.suggest_int('min_samples_leaf', 1, 20)\n",
        "  ccp_alpha = trial.suggest_categorical('ccp_alpha', ccp_alphas )\n",
        "  criterion = trial.suggest_categorical('criterion', ['gini', 'entropy'])\n",
        "  clf = DecisionTreeClassifier(\n",
        "            max_depth=max_depth, min_samples_split=min_samples_split, min_samples_leaf=min_samples_leaf, ccp_alpha = ccp_alpha, \n",
        "            criterion = criterion)\n",
        "  return sklearn.model_selection.cross_val_score(clf, train[predictors], train[\"Target\"], \n",
        "           n_jobs=-1, cv=5).mean()\n",
        "\n",
        "best_trial_dtc = best_trial(objective_dtc, 100)"
      ],
      "metadata": {
        "id": "EFNhMqmoS4hr",
        "colab": {
          "base_uri": "https://localhost:8080/"
        },
        "outputId": "56cb4ee8-5b87-45d2-8a4f-52ec21f841e1"
      },
      "execution_count": 10,
      "outputs": [
        {
          "output_type": "stream",
          "name": "stderr",
          "text": [
            "\u001b[32m[I 2022-04-07 20:22:45,795]\u001b[0m A new study created in memory with name: no-name-672ff752-8a3b-488a-9ced-4e4f0c0b998c\u001b[0m\n",
            "\u001b[32m[I 2022-04-07 20:22:50,100]\u001b[0m Trial 0 finished with value: 0.4959937575009228 and parameters: {'max_depth': 17, 'min_samples_split': 18, 'min_samples_leaf': 8, 'ccp_alpha': 0.0001668149466192171, 'criterion': 'entropy'}. Best is trial 0 with value: 0.4959937575009228.\u001b[0m\n",
            "\u001b[32m[I 2022-04-07 20:22:51,507]\u001b[0m Trial 1 finished with value: 0.49766128877679544 and parameters: {'max_depth': 29, 'min_samples_split': 4, 'min_samples_leaf': 20, 'ccp_alpha': 0.00017039334668076558, 'criterion': 'entropy'}. Best is trial 1 with value: 0.49766128877679544.\u001b[0m\n",
            "\u001b[32m[I 2022-04-07 20:22:52,167]\u001b[0m Trial 2 finished with value: 0.4942133839031818 and parameters: {'max_depth': 16, 'min_samples_split': 17, 'min_samples_leaf': 20, 'ccp_alpha': 0.0001429842399593289, 'criterion': 'gini'}. Best is trial 1 with value: 0.49766128877679544.\u001b[0m\n",
            "\u001b[32m[I 2022-04-07 20:22:53,185]\u001b[0m Trial 3 finished with value: 0.5009995665618211 and parameters: {'max_depth': 27, 'min_samples_split': 10, 'min_samples_leaf': 2, 'ccp_alpha': 0.00012113942552109817, 'criterion': 'gini'}. Best is trial 3 with value: 0.5009995665618211.\u001b[0m\n",
            "\u001b[32m[I 2022-04-07 20:22:53,876]\u001b[0m Trial 4 finished with value: 0.4927670235781713 and parameters: {'max_depth': 14, 'min_samples_split': 4, 'min_samples_leaf': 17, 'ccp_alpha': 0.00010265535176567201, 'criterion': 'gini'}. Best is trial 3 with value: 0.5009995665618211.\u001b[0m\n",
            "\u001b[32m[I 2022-04-07 20:22:55,002]\u001b[0m Trial 5 finished with value: 0.49232431068799193 and parameters: {'max_depth': 12, 'min_samples_split': 19, 'min_samples_leaf': 15, 'ccp_alpha': 0.00024179361040885011, 'criterion': 'entropy'}. Best is trial 3 with value: 0.5009995665618211.\u001b[0m\n",
            "\u001b[32m[I 2022-04-07 20:22:55,649]\u001b[0m Trial 6 finished with value: 0.49310171699640326 and parameters: {'max_depth': 25, 'min_samples_split': 20, 'min_samples_leaf': 18, 'ccp_alpha': 0.00031834840044547234, 'criterion': 'gini'}. Best is trial 3 with value: 0.5009995665618211.\u001b[0m\n",
            "\u001b[32m[I 2022-04-07 20:22:56,751]\u001b[0m Trial 7 finished with value: 0.4926571491639466 and parameters: {'max_depth': 17, 'min_samples_split': 8, 'min_samples_leaf': 4, 'ccp_alpha': 0.00016946280291476026, 'criterion': 'entropy'}. Best is trial 3 with value: 0.5009995665618211.\u001b[0m\n",
            "\u001b[32m[I 2022-04-07 20:22:57,848]\u001b[0m Trial 8 finished with value: 0.49921764717884914 and parameters: {'max_depth': 27, 'min_samples_split': 14, 'min_samples_leaf': 17, 'ccp_alpha': 0.000197009689177986, 'criterion': 'entropy'}. Best is trial 3 with value: 0.5009995665618211.\u001b[0m\n",
            "\u001b[32m[I 2022-04-07 20:22:58,901]\u001b[0m Trial 9 finished with value: 0.5007765406686819 and parameters: {'max_depth': 26, 'min_samples_split': 2, 'min_samples_leaf': 10, 'ccp_alpha': 0.00017793594306049818, 'criterion': 'gini'}. Best is trial 3 with value: 0.5009995665618211.\u001b[0m\n",
            "\u001b[32m[I 2022-04-07 20:22:59,909]\u001b[0m Trial 10 finished with value: 0.5007751803776785 and parameters: {'max_depth': 22, 'min_samples_split': 10, 'min_samples_leaf': 2, 'ccp_alpha': 0.00016946280291476026, 'criterion': 'gini'}. Best is trial 3 with value: 0.5009995665618211.\u001b[0m\n",
            "\u001b[32m[I 2022-04-07 20:23:00,763]\u001b[0m Trial 11 finished with value: 0.49999771223785794 and parameters: {'max_depth': 23, 'min_samples_split': 2, 'min_samples_leaf': 10, 'ccp_alpha': 0.000124754767770782, 'criterion': 'gini'}. Best is trial 3 with value: 0.5009995665618211.\u001b[0m\n",
            "\u001b[32m[I 2022-04-07 20:23:01,659]\u001b[0m Trial 12 finished with value: 0.49999734124940254 and parameters: {'max_depth': 30, 'min_samples_split': 7, 'min_samples_leaf': 7, 'ccp_alpha': 0.00020418473575378079, 'criterion': 'gini'}. Best is trial 3 with value: 0.5009995665618211.\u001b[0m\n",
            "\u001b[32m[I 2022-04-07 20:23:02,386]\u001b[0m Trial 13 finished with value: 0.49821752413434484 and parameters: {'max_depth': 26, 'min_samples_split': 13, 'min_samples_leaf': 13, 'ccp_alpha': 0.00012113942552109817, 'criterion': 'gini'}. Best is trial 3 with value: 0.5009995665618211.\u001b[0m\n",
            "\u001b[32m[I 2022-04-07 20:23:03,211]\u001b[0m Trial 14 finished with value: 0.49710610455320303 and parameters: {'max_depth': 20, 'min_samples_split': 8, 'min_samples_leaf': 5, 'ccp_alpha': 0.0002940959054762906, 'criterion': 'gini'}. Best is trial 3 with value: 0.5009995665618211.\u001b[0m\n",
            "\u001b[32m[I 2022-04-07 20:23:03,853]\u001b[0m Trial 15 finished with value: 0.49566048620510345 and parameters: {'max_depth': 21, 'min_samples_split': 14, 'min_samples_leaf': 1, 'ccp_alpha': 0.0001668149466192171, 'criterion': 'gini'}. Best is trial 3 with value: 0.5009995665618211.\u001b[0m\n",
            "\u001b[32m[I 2022-04-07 20:23:04,908]\u001b[0m Trial 16 finished with value: 0.49832851151393587 and parameters: {'max_depth': 28, 'min_samples_split': 11, 'min_samples_leaf': 12, 'ccp_alpha': 9.885330170027678e-05, 'criterion': 'gini'}. Best is trial 3 with value: 0.5009995665618211.\u001b[0m\n",
            "\u001b[32m[I 2022-04-07 20:23:05,663]\u001b[0m Trial 17 finished with value: 0.49376980537327314 and parameters: {'max_depth': 24, 'min_samples_split': 5, 'min_samples_leaf': 9, 'ccp_alpha': 0.00026501032709916154, 'criterion': 'gini'}. Best is trial 3 with value: 0.5009995665618211.\u001b[0m\n",
            "\u001b[32m[I 2022-04-07 20:23:06,331]\u001b[0m Trial 18 finished with value: 0.49332690698886605 and parameters: {'max_depth': 19, 'min_samples_split': 2, 'min_samples_leaf': 5, 'ccp_alpha': 0.00012511120996441282, 'criterion': 'gini'}. Best is trial 3 with value: 0.5009995665618211.\u001b[0m\n",
            "\u001b[32m[I 2022-04-07 20:23:06,822]\u001b[0m Trial 19 finished with value: 0.48298220306547757 and parameters: {'max_depth': 10, 'min_samples_split': 16, 'min_samples_leaf': 12, 'ccp_alpha': 0.00010008896797153021, 'criterion': 'gini'}. Best is trial 3 with value: 0.5009995665618211.\u001b[0m\n",
            "\u001b[32m[I 2022-04-07 20:23:07,829]\u001b[0m Trial 20 finished with value: 0.5007761078488173 and parameters: {'max_depth': 26, 'min_samples_split': 6, 'min_samples_leaf': 7, 'ccp_alpha': 7.413997627520758e-05, 'criterion': 'gini'}. Best is trial 3 with value: 0.5009995665618211.\u001b[0m\n",
            "\u001b[32m[I 2022-04-07 20:23:08,612]\u001b[0m Trial 21 finished with value: 0.5004421564074961 and parameters: {'max_depth': 26, 'min_samples_split': 6, 'min_samples_leaf': 7, 'ccp_alpha': 0.00015013345195729542, 'criterion': 'gini'}. Best is trial 3 with value: 0.5009995665618211.\u001b[0m\n",
            "\u001b[32m[I 2022-04-07 20:23:09,131]\u001b[0m Trial 22 finished with value: 0.503778393756017 and parameters: {'max_depth': 30, 'min_samples_split': 9, 'min_samples_leaf': 3, 'ccp_alpha': 0.00012712999481085953, 'criterion': 'gini'}. Best is trial 22 with value: 0.503778393756017.\u001b[0m\n",
            "\u001b[32m[I 2022-04-07 20:23:09,666]\u001b[0m Trial 23 finished with value: 0.5019986384723685 and parameters: {'max_depth': 30, 'min_samples_split': 10, 'min_samples_leaf': 3, 'ccp_alpha': 0.00016652979286431246, 'criterion': 'gini'}. Best is trial 22 with value: 0.503778393756017.\u001b[0m\n",
            "\u001b[32m[I 2022-04-07 20:23:10,150]\u001b[0m Trial 24 finished with value: 0.5028887016084204 and parameters: {'max_depth': 30, 'min_samples_split': 10, 'min_samples_leaf': 3, 'ccp_alpha': 0.00014827995255041517, 'criterion': 'gini'}. Best is trial 22 with value: 0.503778393756017.\u001b[0m\n",
            "\u001b[32m[I 2022-04-07 20:23:10,617]\u001b[0m Trial 25 finished with value: 0.5020000605947811 and parameters: {'max_depth': 30, 'min_samples_split': 12, 'min_samples_leaf': 4, 'ccp_alpha': 9.267497034400949e-05, 'criterion': 'gini'}. Best is trial 22 with value: 0.503778393756017.\u001b[0m\n",
            "\u001b[32m[I 2022-04-07 20:23:11,447]\u001b[0m Trial 26 finished with value: 0.49966475009908484 and parameters: {'max_depth': 29, 'min_samples_split': 12, 'min_samples_leaf': 4, 'ccp_alpha': 0.00014827995255041517, 'criterion': 'entropy'}. Best is trial 22 with value: 0.503778393756017.\u001b[0m\n",
            "\u001b[32m[I 2022-04-07 20:23:11,970]\u001b[0m Trial 27 finished with value: 0.4963289455704287 and parameters: {'max_depth': 28, 'min_samples_split': 9, 'min_samples_leaf': 1, 'ccp_alpha': 9.730871886120996e-05, 'criterion': 'gini'}. Best is trial 22 with value: 0.503778393756017.\u001b[0m\n",
            "\u001b[32m[I 2022-04-07 20:23:12,452]\u001b[0m Trial 28 finished with value: 0.5009996283932304 and parameters: {'max_depth': 30, 'min_samples_split': 15, 'min_samples_leaf': 5, 'ccp_alpha': 0.0001429842399593289, 'criterion': 'gini'}. Best is trial 22 with value: 0.503778393756017.\u001b[0m\n",
            "\u001b[32m[I 2022-04-07 20:23:13,244]\u001b[0m Trial 29 finished with value: 0.4943250514282746 and parameters: {'max_depth': 24, 'min_samples_split': 12, 'min_samples_leaf': 3, 'ccp_alpha': 0.00020104450709432903, 'criterion': 'entropy'}. Best is trial 22 with value: 0.503778393756017.\u001b[0m\n",
            "\u001b[32m[I 2022-04-07 20:23:13,721]\u001b[0m Trial 30 finished with value: 0.501554379796958 and parameters: {'max_depth': 28, 'min_samples_split': 11, 'min_samples_leaf': 6, 'ccp_alpha': 0.00017793594306049818, 'criterion': 'gini'}. Best is trial 22 with value: 0.503778393756017.\u001b[0m\n",
            "\u001b[32m[I 2022-04-07 20:23:14,245]\u001b[0m Trial 31 finished with value: 0.49999697026094714 and parameters: {'max_depth': 30, 'min_samples_split': 9, 'min_samples_leaf': 3, 'ccp_alpha': 8.896797153024909e-05, 'criterion': 'gini'}. Best is trial 22 with value: 0.503778393756017.\u001b[0m\n",
            "\u001b[32m[I 2022-04-07 20:23:14,774]\u001b[0m Trial 32 finished with value: 0.502888330619965 and parameters: {'max_depth': 30, 'min_samples_split': 11, 'min_samples_leaf': 3, 'ccp_alpha': 0.0001415399547072145, 'criterion': 'gini'}. Best is trial 22 with value: 0.503778393756017.\u001b[0m\n",
            "\u001b[32m[I 2022-04-07 20:23:15,292]\u001b[0m Trial 33 finished with value: 0.5043348764392033 and parameters: {'max_depth': 29, 'min_samples_split': 12, 'min_samples_leaf': 1, 'ccp_alpha': 0.00016713178412466672, 'criterion': 'gini'}. Best is trial 33 with value: 0.5043348764392033.\u001b[0m\n",
            "\u001b[32m[I 2022-04-07 20:23:15,791]\u001b[0m Trial 34 finished with value: 0.503334011417788 and parameters: {'max_depth': 28, 'min_samples_split': 13, 'min_samples_leaf': 1, 'ccp_alpha': 0.00017927492590961563, 'criterion': 'gini'}. Best is trial 33 with value: 0.5043348764392033.\u001b[0m\n",
            "\u001b[32m[I 2022-04-07 20:23:16,270]\u001b[0m Trial 35 finished with value: 0.49988548823008205 and parameters: {'max_depth': 28, 'min_samples_split': 17, 'min_samples_leaf': 1, 'ccp_alpha': 8.896797153024909e-05, 'criterion': 'gini'}. Best is trial 33 with value: 0.5043348764392033.\u001b[0m\n",
            "\u001b[32m[I 2022-04-07 20:23:17,132]\u001b[0m Trial 36 finished with value: 0.49654918905015205 and parameters: {'max_depth': 29, 'min_samples_split': 14, 'min_samples_leaf': 2, 'ccp_alpha': 0.00017927492590961563, 'criterion': 'entropy'}. Best is trial 33 with value: 0.5043348764392033.\u001b[0m\n",
            "\u001b[32m[I 2022-04-07 20:23:17,624]\u001b[0m Trial 37 finished with value: 0.5012218504780495 and parameters: {'max_depth': 27, 'min_samples_split': 13, 'min_samples_leaf': 1, 'ccp_alpha': 0.00015136911822854877, 'criterion': 'gini'}. Best is trial 33 with value: 0.5043348764392033.\u001b[0m\n",
            "\u001b[32m[I 2022-04-07 20:23:18,113]\u001b[0m Trial 38 finished with value: 0.5052247540810275 and parameters: {'max_depth': 25, 'min_samples_split': 9, 'min_samples_leaf': 2, 'ccp_alpha': 0.00017793594306049818, 'criterion': 'gini'}. Best is trial 38 with value: 0.5052247540810275.\u001b[0m\n",
            "\u001b[32m[I 2022-04-07 20:23:18,904]\u001b[0m Trial 39 finished with value: 0.4962157940915142 and parameters: {'max_depth': 24, 'min_samples_split': 8, 'min_samples_leaf': 2, 'ccp_alpha': 0.0001382180986273513, 'criterion': 'entropy'}. Best is trial 38 with value: 0.5052247540810275.\u001b[0m\n",
            "\u001b[32m[I 2022-04-07 20:23:19,341]\u001b[0m Trial 40 finished with value: 0.5002203671425418 and parameters: {'max_depth': 25, 'min_samples_split': 9, 'min_samples_leaf': 6, 'ccp_alpha': 0.00017793594306049818, 'criterion': 'gini'}. Best is trial 38 with value: 0.5052247540810275.\u001b[0m\n",
            "\u001b[32m[I 2022-04-07 20:23:20,164]\u001b[0m Trial 41 finished with value: 0.5037788884072909 and parameters: {'max_depth': 28, 'min_samples_split': 10, 'min_samples_leaf': 2, 'ccp_alpha': 0.00017793594306049818, 'criterion': 'gini'}. Best is trial 38 with value: 0.5052247540810275.\u001b[0m\n",
            "\u001b[32m[I 2022-04-07 20:23:21,000]\u001b[0m Trial 42 finished with value: 0.5032226530497415 and parameters: {'max_depth': 27, 'min_samples_split': 13, 'min_samples_leaf': 2, 'ccp_alpha': 9.267497034400949e-05, 'criterion': 'gini'}. Best is trial 38 with value: 0.5052247540810275.\u001b[0m\n",
            "\u001b[32m[I 2022-04-07 20:23:21,988]\u001b[0m Trial 43 finished with value: 0.49688499543375036 and parameters: {'max_depth': 28, 'min_samples_split': 7, 'min_samples_leaf': 1, 'ccp_alpha': 9.532282663955263e-05, 'criterion': 'gini'}. Best is trial 38 with value: 0.5052247540810275.\u001b[0m\n",
            "\u001b[32m[I 2022-04-07 20:23:22,971]\u001b[0m Trial 44 finished with value: 0.4997744390190818 and parameters: {'max_depth': 29, 'min_samples_split': 11, 'min_samples_leaf': 4, 'ccp_alpha': 0.00016713178412466672, 'criterion': 'gini'}. Best is trial 38 with value: 0.5052247540810275.\u001b[0m\n",
            "\u001b[32m[I 2022-04-07 20:23:23,837]\u001b[0m Trial 45 finished with value: 0.4994426516770842 and parameters: {'max_depth': 27, 'min_samples_split': 9, 'min_samples_leaf': 2, 'ccp_alpha': 0.00012709710218607016, 'criterion': 'gini'}. Best is trial 38 with value: 0.5052247540810275.\u001b[0m\n",
            "\u001b[32m[I 2022-04-07 20:23:24,327]\u001b[0m Trial 46 finished with value: 0.5021106151545074 and parameters: {'max_depth': 25, 'min_samples_split': 15, 'min_samples_leaf': 1, 'ccp_alpha': 0.00018534994068801898, 'criterion': 'gini'}. Best is trial 38 with value: 0.5052247540810275.\u001b[0m\n",
            "\u001b[32m[I 2022-04-07 20:23:25,087]\u001b[0m Trial 47 finished with value: 0.4889868367112863 and parameters: {'max_depth': 17, 'min_samples_split': 7, 'min_samples_leaf': 2, 'ccp_alpha': 0.00014827995255041517, 'criterion': 'entropy'}. Best is trial 38 with value: 0.5052247540810275.\u001b[0m\n",
            "\u001b[32m[I 2022-04-07 20:23:25,924]\u001b[0m Trial 48 finished with value: 0.5012208611755017 and parameters: {'max_depth': 23, 'min_samples_split': 10, 'min_samples_leaf': 4, 'ccp_alpha': 0.00012712999481085953, 'criterion': 'gini'}. Best is trial 38 with value: 0.5052247540810275.\u001b[0m\n",
            "\u001b[32m[I 2022-04-07 20:23:26,690]\u001b[0m Trial 49 finished with value: 0.5017770347016418 and parameters: {'max_depth': 29, 'min_samples_split': 12, 'min_samples_leaf': 6, 'ccp_alpha': 0.00010109996764801036, 'criterion': 'gini'}. Best is trial 38 with value: 0.5052247540810275.\u001b[0m\n",
            "\u001b[32m[I 2022-04-07 20:23:27,363]\u001b[0m Trial 50 finished with value: 0.4988843140516206 and parameters: {'max_depth': 26, 'min_samples_split': 4, 'min_samples_leaf': 18, 'ccp_alpha': 0.0002123099320608217, 'criterion': 'gini'}. Best is trial 38 with value: 0.5052247540810275.\u001b[0m\n",
            "\u001b[32m[I 2022-04-07 20:23:28,179]\u001b[0m Trial 51 finished with value: 0.5038899376182913 and parameters: {'max_depth': 27, 'min_samples_split': 13, 'min_samples_leaf': 2, 'ccp_alpha': 0.00010425934163701068, 'criterion': 'gini'}. Best is trial 38 with value: 0.5052247540810275.\u001b[0m\n",
            "\u001b[32m[I 2022-04-07 20:23:29,160]\u001b[0m Trial 52 finished with value: 0.5012201810299999 and parameters: {'max_depth': 27, 'min_samples_split': 13, 'min_samples_leaf': 3, 'ccp_alpha': 0.00020403126365736406, 'criterion': 'gini'}. Best is trial 38 with value: 0.5052247540810275.\u001b[0m\n",
            "\u001b[32m[I 2022-04-07 20:23:29,915]\u001b[0m Trial 53 finished with value: 0.5005544422466813 and parameters: {'max_depth': 29, 'min_samples_split': 14, 'min_samples_leaf': 1, 'ccp_alpha': 8.896797153024909e-05, 'criterion': 'gini'}. Best is trial 38 with value: 0.5052247540810275.\u001b[0m\n",
            "\u001b[32m[I 2022-04-07 20:23:30,580]\u001b[0m Trial 54 finished with value: 0.4890985660677883 and parameters: {'max_depth': 14, 'min_samples_split': 15, 'min_samples_leaf': 2, 'ccp_alpha': 0.000273728162406988, 'criterion': 'gini'}. Best is trial 38 with value: 0.5052247540810275.\u001b[0m\n",
            "\u001b[32m[I 2022-04-07 20:23:31,527]\u001b[0m Trial 55 finished with value: 0.5005544422466813 and parameters: {'max_depth': 28, 'min_samples_split': 8, 'min_samples_leaf': 5, 'ccp_alpha': 0.00017109225294278677, 'criterion': 'gini'}. Best is trial 38 with value: 0.5052247540810275.\u001b[0m\n",
            "\u001b[32m[I 2022-04-07 20:23:32,328]\u001b[0m Trial 56 finished with value: 0.502556172289512 and parameters: {'max_depth': 25, 'min_samples_split': 11, 'min_samples_leaf': 4, 'ccp_alpha': 0.00014827995255041517, 'criterion': 'gini'}. Best is trial 38 with value: 0.5052247540810275.\u001b[0m\n",
            "\u001b[32m[I 2022-04-07 20:23:33,167]\u001b[0m Trial 57 finished with value: 0.49632801809929006 and parameters: {'max_depth': 22, 'min_samples_split': 10, 'min_samples_leaf': 2, 'ccp_alpha': 0.00022241992882562282, 'criterion': 'gini'}. Best is trial 38 with value: 0.5052247540810275.\u001b[0m\n",
            "\u001b[32m[I 2022-04-07 20:23:34,286]\u001b[0m Trial 58 finished with value: 0.5012216649838217 and parameters: {'max_depth': 26, 'min_samples_split': 19, 'min_samples_leaf': 8, 'ccp_alpha': 0.00020159531784243938, 'criterion': 'gini'}. Best is trial 38 with value: 0.5052247540810275.\u001b[0m\n",
            "\u001b[32m[I 2022-04-07 20:23:35,064]\u001b[0m Trial 59 finished with value: 0.4937695580476361 and parameters: {'max_depth': 19, 'min_samples_split': 12, 'min_samples_leaf': 14, 'ccp_alpha': 0.0001925713669485911, 'criterion': 'gini'}. Best is trial 38 with value: 0.5052247540810275.\u001b[0m\n",
            "\u001b[32m[I 2022-04-07 20:23:36,373]\u001b[0m Trial 60 finished with value: 0.5006632036955396 and parameters: {'max_depth': 29, 'min_samples_split': 16, 'min_samples_leaf': 16, 'ccp_alpha': 8.340747330960854e-05, 'criterion': 'entropy'}. Best is trial 38 with value: 0.5052247540810275.\u001b[0m\n",
            "\u001b[32m[I 2022-04-07 20:23:37,498]\u001b[0m Trial 61 finished with value: 0.5018882075754605 and parameters: {'max_depth': 27, 'min_samples_split': 13, 'min_samples_leaf': 2, 'ccp_alpha': 0.00018164294187425852, 'criterion': 'gini'}. Best is trial 38 with value: 0.5052247540810275.\u001b[0m\n",
            "\u001b[32m[I 2022-04-07 20:23:38,290]\u001b[0m Trial 62 finished with value: 0.5004416617562222 and parameters: {'max_depth': 28, 'min_samples_split': 13, 'min_samples_leaf': 3, 'ccp_alpha': 0.00015304609388239296, 'criterion': 'gini'}. Best is trial 38 with value: 0.5052247540810275.\u001b[0m\n",
            "\u001b[32m[I 2022-04-07 20:23:38,775]\u001b[0m Trial 63 finished with value: 0.49910839107871696 and parameters: {'max_depth': 26, 'min_samples_split': 12, 'min_samples_leaf': 1, 'ccp_alpha': 0.00010265535176567201, 'criterion': 'gini'}. Best is trial 38 with value: 0.5052247540810275.\u001b[0m\n",
            "\u001b[32m[I 2022-04-07 20:23:39,271]\u001b[0m Trial 64 finished with value: 0.5030002454706947 and parameters: {'max_depth': 27, 'min_samples_split': 14, 'min_samples_leaf': 2, 'ccp_alpha': 0.00019064565327910527, 'criterion': 'gini'}. Best is trial 38 with value: 0.5052247540810275.\u001b[0m\n",
            "\u001b[32m[I 2022-04-07 20:23:39,797]\u001b[0m Trial 65 finished with value: 0.5023322807566433 and parameters: {'max_depth': 29, 'min_samples_split': 10, 'min_samples_leaf': 3, 'ccp_alpha': 0.00018164294187425855, 'criterion': 'gini'}. Best is trial 38 with value: 0.5052247540810275.\u001b[0m\n",
            "\u001b[32m[I 2022-04-07 20:23:40,277]\u001b[0m Trial 66 finished with value: 0.5008884555194116 and parameters: {'max_depth': 28, 'min_samples_split': 13, 'min_samples_leaf': 5, 'ccp_alpha': 0.00014827995255041517, 'criterion': 'gini'}. Best is trial 38 with value: 0.5052247540810275.\u001b[0m\n",
            "\u001b[32m[I 2022-04-07 20:23:40,798]\u001b[0m Trial 67 finished with value: 0.5012193772216799 and parameters: {'max_depth': 25, 'min_samples_split': 11, 'min_samples_leaf': 1, 'ccp_alpha': 0.0003080878655423178, 'criterion': 'gini'}. Best is trial 38 with value: 0.5052247540810275.\u001b[0m\n",
            "\u001b[32m[I 2022-04-07 20:23:41,325]\u001b[0m Trial 68 finished with value: 0.49910802009026145 and parameters: {'max_depth': 27, 'min_samples_split': 9, 'min_samples_leaf': 4, 'ccp_alpha': 0.00015136911822854877, 'criterion': 'gini'}. Best is trial 38 with value: 0.5052247540810275.\u001b[0m\n",
            "\u001b[32m[I 2022-04-07 20:23:41,714]\u001b[0m Trial 69 finished with value: 0.49443634796491187 and parameters: {'max_depth': 24, 'min_samples_split': 14, 'min_samples_leaf': 20, 'ccp_alpha': 0.00023417080628903208, 'criterion': 'gini'}. Best is trial 38 with value: 0.5052247540810275.\u001b[0m\n",
            "\u001b[32m[I 2022-04-07 20:23:42,149]\u001b[0m Trial 70 finished with value: 0.49977388253639854 and parameters: {'max_depth': 30, 'min_samples_split': 8, 'min_samples_leaf': 11, 'ccp_alpha': 9.730871886120996e-05, 'criterion': 'gini'}. Best is trial 38 with value: 0.5052247540810275.\u001b[0m\n",
            "\u001b[32m[I 2022-04-07 20:23:42,652]\u001b[0m Trial 71 finished with value: 0.5016659854906415 and parameters: {'max_depth': 27, 'min_samples_split': 14, 'min_samples_leaf': 2, 'ccp_alpha': 0.00023036349771225214, 'criterion': 'gini'}. Best is trial 38 with value: 0.5052247540810275.\u001b[0m\n",
            "\u001b[32m[I 2022-04-07 20:23:43,152]\u001b[0m Trial 72 finished with value: 0.5008862914200881 and parameters: {'max_depth': 28, 'min_samples_split': 16, 'min_samples_leaf': 2, 'ccp_alpha': 0.00019064565327910527, 'criterion': 'gini'}. Best is trial 38 with value: 0.5052247540810275.\u001b[0m\n",
            "\u001b[32m[I 2022-04-07 20:23:43,661]\u001b[0m Trial 73 finished with value: 0.4966597436098784 and parameters: {'max_depth': 26, 'min_samples_split': 15, 'min_samples_leaf': 3, 'ccp_alpha': 0.000228260130176074, 'criterion': 'gini'}. Best is trial 38 with value: 0.5052247540810275.\u001b[0m\n",
            "\u001b[32m[I 2022-04-07 20:23:44,170]\u001b[0m Trial 74 finished with value: 0.5033341350806064 and parameters: {'max_depth': 28, 'min_samples_split': 12, 'min_samples_leaf': 1, 'ccp_alpha': 0.00017949678466629203, 'criterion': 'gini'}. Best is trial 38 with value: 0.5052247540810275.\u001b[0m\n",
            "\u001b[32m[I 2022-04-07 20:23:44,677]\u001b[0m Trial 75 finished with value: 0.5013330851832775 and parameters: {'max_depth': 30, 'min_samples_split': 12, 'min_samples_leaf': 1, 'ccp_alpha': 0.00013345195729537365, 'criterion': 'gini'}. Best is trial 38 with value: 0.5052247540810275.\u001b[0m\n",
            "\u001b[32m[I 2022-04-07 20:23:45,580]\u001b[0m Trial 76 finished with value: 0.49632807993069933 and parameters: {'max_depth': 29, 'min_samples_split': 10, 'min_samples_leaf': 1, 'ccp_alpha': 0.00013345195729537365, 'criterion': 'entropy'}. Best is trial 38 with value: 0.5052247540810275.\u001b[0m\n",
            "\u001b[32m[I 2022-04-07 20:23:46,072]\u001b[0m Trial 77 finished with value: 0.5013311684095909 and parameters: {'max_depth': 29, 'min_samples_split': 11, 'min_samples_leaf': 3, 'ccp_alpha': 0.00010008896797153028, 'criterion': 'gini'}. Best is trial 38 with value: 0.5052247540810275.\u001b[0m\n",
            "\u001b[32m[I 2022-04-07 20:23:46,566]\u001b[0m Trial 78 finished with value: 0.501444196225687 and parameters: {'max_depth': 28, 'min_samples_split': 13, 'min_samples_leaf': 1, 'ccp_alpha': 0.00013501471169725306, 'criterion': 'gini'}. Best is trial 38 with value: 0.5052247540810275.\u001b[0m\n",
            "\u001b[32m[I 2022-04-07 20:23:47,071]\u001b[0m Trial 79 finished with value: 0.5023335173848282 and parameters: {'max_depth': 27, 'min_samples_split': 7, 'min_samples_leaf': 2, 'ccp_alpha': 0.00017945244257521842, 'criterion': 'gini'}. Best is trial 38 with value: 0.5052247540810275.\u001b[0m\n",
            "\u001b[32m[I 2022-04-07 20:23:47,587]\u001b[0m Trial 80 finished with value: 0.4994413532174901 and parameters: {'max_depth': 30, 'min_samples_split': 9, 'min_samples_leaf': 4, 'ccp_alpha': 0.00017949678466629203, 'criterion': 'gini'}. Best is trial 38 with value: 0.5052247540810275.\u001b[0m\n",
            "\u001b[32m[I 2022-04-07 20:23:48,079]\u001b[0m Trial 81 finished with value: 0.5018879602498236 and parameters: {'max_depth': 26, 'min_samples_split': 12, 'min_samples_leaf': 2, 'ccp_alpha': 0.00010265535176567201, 'criterion': 'gini'}. Best is trial 38 with value: 0.5052247540810275.\u001b[0m\n",
            "\u001b[32m[I 2022-04-07 20:23:48,559]\u001b[0m Trial 82 finished with value: 0.5031116038387411 and parameters: {'max_depth': 28, 'min_samples_split': 14, 'min_samples_leaf': 2, 'ccp_alpha': 0.00017793594306049818, 'criterion': 'gini'}. Best is trial 38 with value: 0.5052247540810275.\u001b[0m\n",
            "\u001b[32m[I 2022-04-07 20:23:49,041]\u001b[0m Trial 83 finished with value: 0.5011088844933627 and parameters: {'max_depth': 28, 'min_samples_split': 13, 'min_samples_leaf': 3, 'ccp_alpha': 9.267497034400949e-05, 'criterion': 'gini'}. Best is trial 38 with value: 0.5052247540810275.\u001b[0m\n",
            "\u001b[32m[I 2022-04-07 20:23:49,539]\u001b[0m Trial 84 finished with value: 0.5021116662884645 and parameters: {'max_depth': 29, 'min_samples_split': 11, 'min_samples_leaf': 1, 'ccp_alpha': 8.896797153024909e-05, 'criterion': 'gini'}. Best is trial 38 with value: 0.5052247540810275.\u001b[0m\n",
            "\u001b[32m[I 2022-04-07 20:23:50,051]\u001b[0m Trial 85 finished with value: 0.503222529386923 and parameters: {'max_depth': 28, 'min_samples_split': 15, 'min_samples_leaf': 2, 'ccp_alpha': 0.00016805061289047054, 'criterion': 'gini'}. Best is trial 38 with value: 0.5052247540810275.\u001b[0m\n",
            "\u001b[32m[I 2022-04-07 20:23:50,523]\u001b[0m Trial 86 finished with value: 0.5023334555534189 and parameters: {'max_depth': 25, 'min_samples_split': 15, 'min_samples_leaf': 1, 'ccp_alpha': 0.00015251652262328406, 'criterion': 'gini'}. Best is trial 38 with value: 0.5052247540810275.\u001b[0m\n",
            "\u001b[32m[I 2022-04-07 20:23:51,362]\u001b[0m Trial 87 finished with value: 0.4942133839031819 and parameters: {'max_depth': 27, 'min_samples_split': 18, 'min_samples_leaf': 3, 'ccp_alpha': 0.00024810413489239106, 'criterion': 'entropy'}. Best is trial 38 with value: 0.5052247540810275.\u001b[0m\n",
            "\u001b[32m[I 2022-04-07 20:23:51,870]\u001b[0m Trial 88 finished with value: 0.4986630812693494 and parameters: {'max_depth': 29, 'min_samples_split': 12, 'min_samples_leaf': 4, 'ccp_alpha': 9.532282663955263e-05, 'criterion': 'gini'}. Best is trial 38 with value: 0.5052247540810275.\u001b[0m\n",
            "\u001b[32m[I 2022-04-07 20:23:52,178]\u001b[0m Trial 89 finished with value: 0.4842064649684876 and parameters: {'max_depth': 10, 'min_samples_split': 8, 'min_samples_leaf': 1, 'ccp_alpha': 0.00011862396204033211, 'criterion': 'gini'}. Best is trial 38 with value: 0.5052247540810275.\u001b[0m\n",
            "\u001b[32m[I 2022-04-07 20:23:52,697]\u001b[0m Trial 90 finished with value: 0.5034445041461051 and parameters: {'max_depth': 30, 'min_samples_split': 17, 'min_samples_leaf': 2, 'ccp_alpha': 0.00017793594306049818, 'criterion': 'gini'}. Best is trial 38 with value: 0.5052247540810275.\u001b[0m\n",
            "\u001b[32m[I 2022-04-07 20:23:53,213]\u001b[0m Trial 91 finished with value: 0.5019989476294147 and parameters: {'max_depth': 30, 'min_samples_split': 17, 'min_samples_leaf': 2, 'ccp_alpha': 0.0002144763599389934, 'criterion': 'gini'}. Best is trial 38 with value: 0.5052247540810275.\u001b[0m\n",
            "\u001b[32m[I 2022-04-07 20:23:53,726]\u001b[0m Trial 92 finished with value: 0.4992182654929416 and parameters: {'max_depth': 28, 'min_samples_split': 18, 'min_samples_leaf': 2, 'ccp_alpha': 0.00013538604363298775, 'criterion': 'gini'}. Best is trial 38 with value: 0.5052247540810275.\u001b[0m\n",
            "\u001b[32m[I 2022-04-07 20:23:54,257]\u001b[0m Trial 93 finished with value: 0.49921832732435084 and parameters: {'max_depth': 30, 'min_samples_split': 16, 'min_samples_leaf': 3, 'ccp_alpha': 0.00017251802171730997, 'criterion': 'gini'}. Best is trial 38 with value: 0.5052247540810275.\u001b[0m\n",
            "\u001b[32m[I 2022-04-07 20:23:54,786]\u001b[0m Trial 94 finished with value: 0.505113395712981 and parameters: {'max_depth': 29, 'min_samples_split': 10, 'min_samples_leaf': 1, 'ccp_alpha': 0.00018534994068801898, 'criterion': 'gini'}. Best is trial 38 with value: 0.5052247540810275.\u001b[0m\n",
            "\u001b[32m[I 2022-04-07 20:23:55,283]\u001b[0m Trial 95 finished with value: 0.5017779621727805 and parameters: {'max_depth': 29, 'min_samples_split': 10, 'min_samples_leaf': 1, 'ccp_alpha': 0.00013768852736824262, 'criterion': 'gini'}. Best is trial 38 with value: 0.5052247540810275.\u001b[0m\n",
            "\u001b[32m[I 2022-04-07 20:23:55,821]\u001b[0m Trial 96 finished with value: 0.5013330233518682 and parameters: {'max_depth': 30, 'min_samples_split': 9, 'min_samples_leaf': 1, 'ccp_alpha': 0.0001759806030268665, 'criterion': 'gini'}. Best is trial 38 with value: 0.5052247540810275.\u001b[0m\n",
            "\u001b[32m[I 2022-04-07 20:23:56,326]\u001b[0m Trial 97 finished with value: 0.5002198724912679 and parameters: {'max_depth': 29, 'min_samples_split': 20, 'min_samples_leaf': 1, 'ccp_alpha': 9.267497034400949e-05, 'criterion': 'gini'}. Best is trial 38 with value: 0.5052247540810275.\u001b[0m\n",
            "\u001b[32m[I 2022-04-07 20:23:56,844]\u001b[0m Trial 98 finished with value: 0.5051146323411658 and parameters: {'max_depth': 30, 'min_samples_split': 10, 'min_samples_leaf': 5, 'ccp_alpha': 0.00017793594306049818, 'criterion': 'gini'}. Best is trial 38 with value: 0.5052247540810275.\u001b[0m\n",
            "\u001b[32m[I 2022-04-07 20:23:57,321]\u001b[0m Trial 99 finished with value: 0.5034458644371085 and parameters: {'max_depth': 30, 'min_samples_split': 10, 'min_samples_leaf': 5, 'ccp_alpha': 0.00014827995255041517, 'criterion': 'gini'}. Best is trial 38 with value: 0.5052247540810275.\u001b[0m\n"
          ]
        },
        {
          "output_type": "stream",
          "name": "stdout",
          "text": [
            "Accuracy: 0.5052247540810275\n",
            "Best hyperparameters: {'max_depth': 25, 'min_samples_split': 9, 'min_samples_leaf': 2, 'ccp_alpha': 0.00017793594306049818, 'criterion': 'gini'}\n"
          ]
        }
      ]
    },
    {
      "cell_type": "code",
      "source": [
        "# Evaluate error of predictions\n",
        "from sklearn.metrics import precision_score\n",
        "precision(DecisionTreeClassifier(**best_trial_dtc.params))"
      ],
      "metadata": {
        "colab": {
          "base_uri": "https://localhost:8080/"
        },
        "id": "6RABuHShc2Tc",
        "outputId": "9a1426f9-0b39-4791-dbab-ec121b3c3057"
      },
      "execution_count": 17,
      "outputs": [
        {
          "output_type": "stream",
          "name": "stdout",
          "text": [
            "0.4810126582278481\n"
          ]
        }
      ]
    },
    {
      "cell_type": "markdown",
      "source": [
        "# Random Forest Classifier "
      ],
      "metadata": {
        "id": "nx2J4tEQc3YE"
      }
    },
    {
      "cell_type": "code",
      "execution_count": null,
      "metadata": {
        "id": "T85mTZWkzdwW"
      },
      "outputs": [],
      "source": [
        "# Random forest hyperparameter tuning using optuna\n",
        "\n",
        "def objective_rf(trial):\n",
        "      n_estimators = trial.suggest_int('n_estimators', 100, 150)\n",
        "      max_depth = int(trial.suggest_loguniform('max_depth', 10, 30))\n",
        "      min_samples_leaf = trial.suggest_int('min_samples_leaf', 1, 20)\n",
        "      ccp_alpha = trial.suggest_categorical('ccp_alpha', ccp_alphas )\n",
        "      criterion = trial.suggest_categorical('criterion', ['gini', 'entropy'])\n",
        "      clf = sklearn.ensemble.RandomForestClassifier(n_estimators=n_estimators, max_depth=max_depth, min_samples_leaf=min_samples_leaf, ccp_alpha = ccp_alpha, \n",
        "            criterion = criterion)\n",
        "      return sklearn.model_selection.cross_val_score(clf, train[predictors], train[\"Target\"], \n",
        "           n_jobs=-1, cv=5).mean()"
      ]
    },
    {
      "cell_type": "code",
      "execution_count": null,
      "metadata": {
        "colab": {
          "base_uri": "https://localhost:8080/"
        },
        "id": "qZnyynrRD20o",
        "outputId": "ec4a09d2-65b4-4dce-9806-be2d7c906b93"
      },
      "outputs": [
        {
          "output_type": "stream",
          "name": "stdout",
          "text": [
            "Collecting optuna\n",
            "  Downloading optuna-2.10.0-py3-none-any.whl (308 kB)\n",
            "\u001b[K     |████████████████████████████████| 308 kB 5.0 MB/s \n",
            "\u001b[?25hRequirement already satisfied: packaging>=20.0 in /usr/local/lib/python3.7/dist-packages (from optuna) (21.3)\n",
            "Collecting cliff\n",
            "  Downloading cliff-3.10.1-py3-none-any.whl (81 kB)\n",
            "\u001b[K     |████████████████████████████████| 81 kB 7.6 MB/s \n",
            "\u001b[?25hRequirement already satisfied: sqlalchemy>=1.1.0 in /usr/local/lib/python3.7/dist-packages (from optuna) (1.4.32)\n",
            "Collecting colorlog\n",
            "  Downloading colorlog-6.6.0-py2.py3-none-any.whl (11 kB)\n",
            "Requirement already satisfied: tqdm in /usr/local/lib/python3.7/dist-packages (from optuna) (4.63.0)\n",
            "Requirement already satisfied: numpy in /usr/local/lib/python3.7/dist-packages (from optuna) (1.21.5)\n",
            "Requirement already satisfied: PyYAML in /usr/local/lib/python3.7/dist-packages (from optuna) (3.13)\n",
            "Requirement already satisfied: scipy!=1.4.0 in /usr/local/lib/python3.7/dist-packages (from optuna) (1.4.1)\n",
            "Collecting alembic\n",
            "  Downloading alembic-1.7.7-py3-none-any.whl (210 kB)\n",
            "\u001b[K     |████████████████████████████████| 210 kB 42.6 MB/s \n",
            "\u001b[?25hCollecting cmaes>=0.8.2\n",
            "  Downloading cmaes-0.8.2-py3-none-any.whl (15 kB)\n",
            "Requirement already satisfied: pyparsing!=3.0.5,>=2.0.2 in /usr/local/lib/python3.7/dist-packages (from packaging>=20.0->optuna) (3.0.7)\n",
            "Requirement already satisfied: importlib-metadata in /usr/local/lib/python3.7/dist-packages (from sqlalchemy>=1.1.0->optuna) (4.11.3)\n",
            "Requirement already satisfied: greenlet!=0.4.17 in /usr/local/lib/python3.7/dist-packages (from sqlalchemy>=1.1.0->optuna) (1.1.2)\n",
            "Collecting Mako\n",
            "  Downloading Mako-1.2.0-py3-none-any.whl (78 kB)\n",
            "\u001b[K     |████████████████████████████████| 78 kB 6.4 MB/s \n",
            "\u001b[?25hRequirement already satisfied: importlib-resources in /usr/local/lib/python3.7/dist-packages (from alembic->optuna) (5.4.0)\n",
            "Requirement already satisfied: PrettyTable>=0.7.2 in /usr/local/lib/python3.7/dist-packages (from cliff->optuna) (3.2.0)\n",
            "Collecting pbr!=2.1.0,>=2.0.0\n",
            "  Downloading pbr-5.8.1-py2.py3-none-any.whl (113 kB)\n",
            "\u001b[K     |████████████████████████████████| 113 kB 48.3 MB/s \n",
            "\u001b[?25hCollecting autopage>=0.4.0\n",
            "  Downloading autopage-0.5.0-py3-none-any.whl (29 kB)\n",
            "Collecting cmd2>=1.0.0\n",
            "  Downloading cmd2-2.4.0-py3-none-any.whl (150 kB)\n",
            "\u001b[K     |████████████████████████████████| 150 kB 54.6 MB/s \n",
            "\u001b[?25hCollecting stevedore>=2.0.1\n",
            "  Downloading stevedore-3.5.0-py3-none-any.whl (49 kB)\n",
            "\u001b[K     |████████████████████████████████| 49 kB 5.1 MB/s \n",
            "\u001b[?25hRequirement already satisfied: typing-extensions in /usr/local/lib/python3.7/dist-packages (from cmd2>=1.0.0->cliff->optuna) (3.10.0.2)\n",
            "Collecting pyperclip>=1.6\n",
            "  Downloading pyperclip-1.8.2.tar.gz (20 kB)\n",
            "Requirement already satisfied: wcwidth>=0.1.7 in /usr/local/lib/python3.7/dist-packages (from cmd2>=1.0.0->cliff->optuna) (0.2.5)\n",
            "Requirement already satisfied: attrs>=16.3.0 in /usr/local/lib/python3.7/dist-packages (from cmd2>=1.0.0->cliff->optuna) (21.4.0)\n",
            "Requirement already satisfied: zipp>=0.5 in /usr/local/lib/python3.7/dist-packages (from importlib-metadata->sqlalchemy>=1.1.0->optuna) (3.7.0)\n",
            "Requirement already satisfied: MarkupSafe>=0.9.2 in /usr/local/lib/python3.7/dist-packages (from Mako->alembic->optuna) (2.0.1)\n",
            "Building wheels for collected packages: pyperclip\n",
            "  Building wheel for pyperclip (setup.py) ... \u001b[?25l\u001b[?25hdone\n",
            "  Created wheel for pyperclip: filename=pyperclip-1.8.2-py3-none-any.whl size=11137 sha256=a3e504addf66fe92316d4283e66f626b9ef5456398bdb6928050a52f79938423\n",
            "  Stored in directory: /root/.cache/pip/wheels/9f/18/84/8f69f8b08169c7bae2dde6bd7daf0c19fca8c8e500ee620a28\n",
            "Successfully built pyperclip\n",
            "Installing collected packages: pyperclip, pbr, stevedore, Mako, cmd2, autopage, colorlog, cmaes, cliff, alembic, optuna\n",
            "Successfully installed Mako-1.2.0 alembic-1.7.7 autopage-0.5.0 cliff-3.10.1 cmaes-0.8.2 cmd2-2.4.0 colorlog-6.6.0 optuna-2.10.0 pbr-5.8.1 pyperclip-1.8.2 stevedore-3.5.0\n"
          ]
        },
        {
          "output_type": "stream",
          "name": "stderr",
          "text": [
            "\u001b[32m[I 2022-03-25 18:32:43,519]\u001b[0m A new study created in memory with name: no-name-57665872-119f-44b3-ad7e-b98612be8500\u001b[0m\n",
            "\u001b[32m[I 2022-03-25 18:32:45,641]\u001b[0m Trial 0 finished with value: 0.4956037221154287 and parameters: {'n_estimators': 19, 'max_depth': 1.7909392792805008}. Best is trial 0 with value: 0.4956037221154287.\u001b[0m\n",
            "\u001b[32m[I 2022-03-25 18:32:45,856]\u001b[0m Trial 1 finished with value: 0.48858912342149063 and parameters: {'n_estimators': 9, 'max_depth': 1.8045517064593217}. Best is trial 0 with value: 0.4956037221154287.\u001b[0m\n",
            "\u001b[32m[I 2022-03-25 18:32:46,086]\u001b[0m Trial 2 finished with value: 0.4809045761743465 and parameters: {'n_estimators': 7, 'max_depth': 2.0735538660567796}. Best is trial 0 with value: 0.4956037221154287.\u001b[0m\n",
            "\u001b[32m[I 2022-03-25 18:32:47,022]\u001b[0m Trial 3 finished with value: 0.4829102079313084 and parameters: {'n_estimators': 13, 'max_depth': 12.820339772120128}. Best is trial 0 with value: 0.4956037221154287.\u001b[0m\n",
            "\u001b[32m[I 2022-03-25 18:32:47,290]\u001b[0m Trial 4 finished with value: 0.4976034668025031 and parameters: {'n_estimators': 2, 'max_depth': 21.290882048122317}. Best is trial 4 with value: 0.4976034668025031.\u001b[0m\n",
            "\u001b[32m[I 2022-03-25 18:32:47,656]\u001b[0m Trial 5 finished with value: 0.49983113404796164 and parameters: {'n_estimators': 3, 'max_depth': 23.07689273213475}. Best is trial 5 with value: 0.49983113404796164.\u001b[0m\n",
            "\u001b[32m[I 2022-03-25 18:32:48,360]\u001b[0m Trial 6 finished with value: 0.4879194847140681 and parameters: {'n_estimators': 6, 'max_depth': 23.00997479245652}. Best is trial 5 with value: 0.49983113404796164.\u001b[0m\n",
            "\u001b[32m[I 2022-03-25 18:32:48,912]\u001b[0m Trial 7 finished with value: 0.4833533493709511 and parameters: {'n_estimators': 9, 'max_depth': 3.223557541629143}. Best is trial 5 with value: 0.49983113404796164.\u001b[0m\n",
            "\u001b[32m[I 2022-03-25 18:32:51,028]\u001b[0m Trial 8 finished with value: 0.4875857188360209 and parameters: {'n_estimators': 14, 'max_depth': 14.923457561652835}. Best is trial 5 with value: 0.49983113404796164.\u001b[0m\n",
            "\u001b[32m[I 2022-03-25 18:32:51,852]\u001b[0m Trial 9 finished with value: 0.4848009488717275 and parameters: {'n_estimators': 8, 'max_depth': 7.456314195442856}. Best is trial 5 with value: 0.49983113404796164.\u001b[0m\n",
            "\u001b[32m[I 2022-03-25 18:32:52,110]\u001b[0m Trial 10 finished with value: 0.47856784321307594 and parameters: {'n_estimators': 2, 'max_depth': 5.9967841482616615}. Best is trial 5 with value: 0.49983113404796164.\u001b[0m\n",
            "\u001b[32m[I 2022-03-25 18:32:52,580]\u001b[0m Trial 11 finished with value: 0.5002776218220667 and parameters: {'n_estimators': 2, 'max_depth': 26.953386843236572}. Best is trial 11 with value: 0.5002776218220667.\u001b[0m\n",
            "\u001b[32m[I 2022-03-25 18:32:53,544]\u001b[0m Trial 12 finished with value: 0.4960456861410939 and parameters: {'n_estimators': 4, 'max_depth': 31.199338517944494}. Best is trial 11 with value: 0.5002776218220667.\u001b[0m\n",
            "\u001b[32m[I 2022-03-25 18:32:54,107]\u001b[0m Trial 13 finished with value: 0.4876976971021983 and parameters: {'n_estimators': 4, 'max_depth': 10.036023665943212}. Best is trial 11 with value: 0.5002776218220667.\u001b[0m\n",
            "\u001b[32m[I 2022-03-25 18:32:55,058]\u001b[0m Trial 14 finished with value: 0.4920365295784982 and parameters: {'n_estimators': 5, 'max_depth': 19.601602316708686}. Best is trial 11 with value: 0.5002776218220667.\u001b[0m\n",
            "\u001b[32m[I 2022-03-25 18:32:57,460]\u001b[0m Trial 15 finished with value: 0.4923724643770303 and parameters: {'n_estimators': 18, 'max_depth': 31.895079910384116}. Best is trial 11 with value: 0.5002776218220667.\u001b[0m\n",
            "\u001b[32m[I 2022-03-25 18:32:57,706]\u001b[0m Trial 16 finished with value: 0.48780899370765185 and parameters: {'n_estimators': 11, 'max_depth': 1.119964384273207}. Best is trial 11 with value: 0.5002776218220667.\u001b[0m\n",
            "\u001b[32m[I 2022-03-25 18:32:57,829]\u001b[0m Trial 17 finished with value: 0.4891422601142959 and parameters: {'n_estimators': 2, 'max_depth': 3.5937329060723933}. Best is trial 11 with value: 0.5002776218220667.\u001b[0m\n",
            "\u001b[32m[I 2022-03-25 18:32:58,847]\u001b[0m Trial 18 finished with value: 0.48302249604326936 and parameters: {'n_estimators': 15, 'max_depth': 11.040714696659887}. Best is trial 11 with value: 0.5002776218220667.\u001b[0m\n",
            "\u001b[32m[I 2022-03-25 18:32:59,343]\u001b[0m Trial 19 finished with value: 0.4931519124301452 and parameters: {'n_estimators': 5, 'max_depth': 16.622677706389048}. Best is trial 11 with value: 0.5002776218220667.\u001b[0m\n",
            "\u001b[32m[I 2022-03-25 18:32:59,917]\u001b[0m Trial 20 finished with value: 0.4827964945287431 and parameters: {'n_estimators': 10, 'max_depth': 8.132753633531795}. Best is trial 11 with value: 0.5002776218220667.\u001b[0m\n",
            "\u001b[32m[I 2022-03-25 18:33:00,183]\u001b[0m Trial 21 finished with value: 0.5026158420430983 and parameters: {'n_estimators': 2, 'max_depth': 23.50865523706431}. Best is trial 21 with value: 0.5026158420430983.\u001b[0m\n",
            "\u001b[32m[I 2022-03-25 18:33:00,571]\u001b[0m Trial 22 finished with value: 0.4888104152801068 and parameters: {'n_estimators': 3, 'max_depth': 25.333019104063595}. Best is trial 21 with value: 0.5026158420430983.\u001b[0m\n",
            "\u001b[32m[I 2022-03-25 18:33:01,099]\u001b[0m Trial 23 finished with value: 0.4849144763668227 and parameters: {'n_estimators': 6, 'max_depth': 15.766712993107374}. Best is trial 21 with value: 0.5026158420430983.\u001b[0m\n",
            "\u001b[32m[I 2022-03-25 18:33:01,597]\u001b[0m Trial 24 finished with value: 0.497717242174225 and parameters: {'n_estimators': 4, 'max_depth': 26.02953721279532}. Best is trial 21 with value: 0.5026158420430983.\u001b[0m\n",
            "\u001b[32m[I 2022-03-25 18:33:01,832]\u001b[0m Trial 25 finished with value: 0.48747752068840294 and parameters: {'n_estimators': 2, 'max_depth': 18.634372669409608}. Best is trial 21 with value: 0.5026158420430983.\u001b[0m\n",
            "\u001b[32m[I 2022-03-25 18:33:02,380]\u001b[0m Trial 26 finished with value: 0.48958868591924426 and parameters: {'n_estimators': 7, 'max_depth': 12.645009460559397}. Best is trial 21 with value: 0.5026158420430983.\u001b[0m\n",
            "\u001b[32m[I 2022-03-25 18:33:02,582]\u001b[0m Trial 27 finished with value: 0.48346446006893445 and parameters: {'n_estimators': 4, 'max_depth': 4.56386398925935}. Best is trial 21 with value: 0.5026158420430983.\u001b[0m\n",
            "\u001b[32m[I 2022-03-25 18:33:02,967]\u001b[0m Trial 28 finished with value: 0.4937090151489801 and parameters: {'n_estimators': 3, 'max_depth': 26.85175598643077}. Best is trial 21 with value: 0.5026158420430983.\u001b[0m\n",
            "\u001b[32m[I 2022-03-25 18:33:04,848]\u001b[0m Trial 29 finished with value: 0.4923725883153437 and parameters: {'n_estimators': 20, 'max_depth': 20.222488571499678}. Best is trial 21 with value: 0.5026158420430983.\u001b[0m\n",
            "\u001b[32m[I 2022-03-25 18:33:05,273]\u001b[0m Trial 30 finished with value: 0.48257483085518676 and parameters: {'n_estimators': 6, 'max_depth': 10.366468582930395}. Best is trial 21 with value: 0.5026158420430983.\u001b[0m\n",
            "\u001b[32m[I 2022-03-25 18:33:05,772]\u001b[0m Trial 31 finished with value: 0.4909257324444477 and parameters: {'n_estimators': 4, 'max_depth': 27.549871803078716}. Best is trial 21 with value: 0.5026158420430983.\u001b[0m\n",
            "\u001b[32m[I 2022-03-25 18:33:06,141]\u001b[0m Trial 32 finished with value: 0.4836905235526173 and parameters: {'n_estimators': 3, 'max_depth': 23.457180469853387}. Best is trial 21 with value: 0.5026158420430983.\u001b[0m\n",
            "\u001b[32m[I 2022-03-25 18:33:06,606]\u001b[0m Trial 33 finished with value: 0.4930401200714381 and parameters: {'n_estimators': 5, 'max_depth': 15.68403386132639}. Best is trial 21 with value: 0.5026158420430983.\u001b[0m\n",
            "\u001b[32m[I 2022-03-25 18:33:06,997]\u001b[0m Trial 34 finished with value: 0.4917057382199731 and parameters: {'n_estimators': 3, 'max_depth': 31.767109727915056}. Best is trial 21 with value: 0.5026158420430983.\u001b[0m\n",
            "\u001b[32m[I 2022-03-25 18:33:07,209]\u001b[0m Trial 35 finished with value: 0.4891430037441765 and parameters: {'n_estimators': 2, 'max_depth': 12.54411680531231}. Best is trial 21 with value: 0.5026158420430983.\u001b[0m\n",
            "\u001b[32m[I 2022-03-25 18:33:08,049]\u001b[0m Trial 36 finished with value: 0.4937075898583756 and parameters: {'n_estimators': 8, 'max_depth': 22.310171759897397}. Best is trial 21 with value: 0.5026158420430983.\u001b[0m\n",
            "\u001b[32m[I 2022-03-25 18:33:09,546]\u001b[0m Trial 37 finished with value: 0.48825343649958547 and parameters: {'n_estimators': 17, 'max_depth': 18.383518925448957}. Best is trial 21 with value: 0.5026158420430983.\u001b[0m\n",
            "\u001b[32m[I 2022-03-25 18:33:10,790]\u001b[0m Trial 38 finished with value: 0.48880843226709203 and parameters: {'n_estimators': 12, 'max_depth': 25.727499513162588}. Best is trial 21 with value: 0.5026158420430983.\u001b[0m\n",
            "\u001b[32m[I 2022-03-25 18:33:11,011]\u001b[0m Trial 39 finished with value: 0.4791237065487766 and parameters: {'n_estimators': 7, 'max_depth': 2.074430172285755}. Best is trial 21 with value: 0.5026158420430983.\u001b[0m\n",
            "\u001b[32m[I 2022-03-25 18:33:11,440]\u001b[0m Trial 40 finished with value: 0.48947738931379076 and parameters: {'n_estimators': 5, 'max_depth': 13.815327713037853}. Best is trial 21 with value: 0.5026158420430983.\u001b[0m\n",
            "\u001b[32m[I 2022-03-25 18:33:11,719]\u001b[0m Trial 41 finished with value: 0.5039503478328766 and parameters: {'n_estimators': 2, 'max_depth': 22.407782962361086}. Best is trial 41 with value: 0.5039503478328766.\u001b[0m\n",
            "\u001b[32m[I 2022-03-25 18:33:12,090]\u001b[0m Trial 42 finished with value: 0.4891418882993556 and parameters: {'n_estimators': 3, 'max_depth': 21.835633838586826}. Best is trial 41 with value: 0.5039503478328766.\u001b[0m\n",
            "\u001b[32m[I 2022-03-25 18:33:12,397]\u001b[0m Trial 43 finished with value: 0.49704995829475757 and parameters: {'n_estimators': 2, 'max_depth': 27.634012679055605}. Best is trial 41 with value: 0.5039503478328766.\u001b[0m\n",
            "\u001b[32m[I 2022-03-25 18:33:12,821]\u001b[0m Trial 44 finished with value: 0.4887010397185113 and parameters: {'n_estimators': 4, 'max_depth': 18.830990237844706}. Best is trial 41 with value: 0.5039503478328766.\u001b[0m\n",
            "\u001b[32m[I 2022-03-25 18:33:13,205]\u001b[0m Trial 45 finished with value: 0.4866944784241987 and parameters: {'n_estimators': 3, 'max_depth': 23.042922341958178}. Best is trial 41 with value: 0.5039503478328766.\u001b[0m\n",
            "\u001b[32m[I 2022-03-25 18:33:13,435]\u001b[0m Trial 46 finished with value: 0.4880330122091633 and parameters: {'n_estimators': 2, 'max_depth': 16.739561968052314}. Best is trial 41 with value: 0.5039503478328766.\u001b[0m\n",
            "\u001b[32m[I 2022-03-25 18:33:13,707]\u001b[0m Trial 47 finished with value: 0.48468903257470686 and parameters: {'n_estimators': 4, 'max_depth': 7.629697887847258}. Best is trial 41 with value: 0.5039503478328766.\u001b[0m\n",
            "\u001b[32m[I 2022-03-25 18:33:14,398]\u001b[0m Trial 48 finished with value: 0.4862481145884071 and parameters: {'n_estimators': 6, 'max_depth': 29.99895505052678}. Best is trial 41 with value: 0.5039503478328766.\u001b[0m\n",
            "\u001b[32m[I 2022-03-25 18:33:14,581]\u001b[0m Trial 49 finished with value: 0.47756772299291195 and parameters: {'n_estimators': 2, 'max_depth': 9.171605190939388}. Best is trial 41 with value: 0.5039503478328766.\u001b[0m\n",
            "\u001b[32m[I 2022-03-25 18:33:14,854]\u001b[0m Trial 50 finished with value: 0.4821275374820445 and parameters: {'n_estimators': 5, 'max_depth': 5.92417968986037}. Best is trial 41 with value: 0.5039503478328766.\u001b[0m\n",
            "\u001b[32m[I 2022-03-25 18:33:15,202]\u001b[0m Trial 51 finished with value: 0.4895892436416546 and parameters: {'n_estimators': 3, 'max_depth': 21.299203334420714}. Best is trial 41 with value: 0.5039503478328766.\u001b[0m\n",
            "\u001b[32m[I 2022-03-25 18:33:15,471]\u001b[0m Trial 52 finished with value: 0.49404191345883336 and parameters: {'n_estimators': 2, 'max_depth': 24.386897225882112}. Best is trial 41 with value: 0.5039503478328766.\u001b[0m\n",
            "\u001b[32m[I 2022-03-25 18:33:15,857]\u001b[0m Trial 53 finished with value: 0.49626840329031435 and parameters: {'n_estimators': 4, 'max_depth': 14.450812971455}. Best is trial 41 with value: 0.5039503478328766.\u001b[0m\n",
            "\u001b[32m[I 2022-03-25 18:33:16,190]\u001b[0m Trial 54 finished with value: 0.49337438170273895 and parameters: {'n_estimators': 3, 'max_depth': 18.418872440553827}. Best is trial 41 with value: 0.5039503478328766.\u001b[0m\n",
            "\u001b[32m[I 2022-03-25 18:33:16,472]\u001b[0m Trial 55 finished with value: 0.4918180263319341 and parameters: {'n_estimators': 2, 'max_depth': 29.821148891873698}. Best is trial 41 with value: 0.5039503478328766.\u001b[0m\n",
            "\u001b[32m[I 2022-03-25 18:33:16,761]\u001b[0m Trial 56 finished with value: 0.4881433173081094 and parameters: {'n_estimators': 9, 'max_depth': 2.5376628718368424}. Best is trial 41 with value: 0.5039503478328766.\u001b[0m\n",
            "\u001b[32m[I 2022-03-25 18:33:17,811]\u001b[0m Trial 57 finished with value: 0.4850250293423957 and parameters: {'n_estimators': 15, 'max_depth': 11.994315251081865}. Best is trial 41 with value: 0.5039503478328766.\u001b[0m\n",
            "\u001b[32m[I 2022-03-25 18:33:18,245]\u001b[0m Trial 58 finished with value: 0.49304129748541553 and parameters: {'n_estimators': 4, 'max_depth': 17.342355094926457}. Best is trial 41 with value: 0.5039503478328766.\u001b[0m\n",
            "\u001b[32m[I 2022-03-25 18:33:18,781]\u001b[0m Trial 59 finished with value: 0.49092647607432827 and parameters: {'n_estimators': 5, 'max_depth': 20.713635809812427}. Best is trial 41 with value: 0.5039503478328766.\u001b[0m\n",
            "\u001b[32m[I 2022-03-25 18:33:18,952]\u001b[0m Trial 60 finished with value: 0.4832403176291097 and parameters: {'n_estimators': 3, 'max_depth': 4.84473326326054}. Best is trial 41 with value: 0.5039503478328766.\u001b[0m\n",
            "\u001b[32m[I 2022-03-25 18:33:19,229]\u001b[0m Trial 61 finished with value: 0.4971598296096067 and parameters: {'n_estimators': 2, 'max_depth': 27.417062450154226}. Best is trial 41 with value: 0.5039503478328766.\u001b[0m\n",
            "\u001b[32m[I 2022-03-25 18:33:19,514]\u001b[0m Trial 62 finished with value: 0.48825232105476457 and parameters: {'n_estimators': 2, 'max_depth': 27.33412845746625}. Best is trial 41 with value: 0.5039503478328766.\u001b[0m\n",
            "\u001b[32m[I 2022-03-25 18:33:19,802]\u001b[0m Trial 63 finished with value: 0.49148103805773785 and parameters: {'n_estimators': 2, 'max_depth': 25.19668506668857}. Best is trial 41 with value: 0.5039503478328766.\u001b[0m\n",
            "\u001b[32m[I 2022-03-25 18:33:19,921]\u001b[0m Trial 64 finished with value: 0.48246341031141976 and parameters: {'n_estimators': 3, 'max_depth': 1.3949627494920713}. Best is trial 41 with value: 0.5039503478328766.\u001b[0m\n",
            "\u001b[32m[I 2022-03-25 18:33:20,304]\u001b[0m Trial 65 finished with value: 0.4971599535479201 and parameters: {'n_estimators': 3, 'max_depth': 28.69794371876125}. Best is trial 41 with value: 0.5039503478328766.\u001b[0m\n",
            "\u001b[32m[I 2022-03-25 18:33:20,922]\u001b[0m Trial 66 finished with value: 0.49949860755304865 and parameters: {'n_estimators': 6, 'max_depth': 20.14102382057992}. Best is trial 41 with value: 0.5039503478328766.\u001b[0m\n",
            "\u001b[32m[I 2022-03-25 18:33:21,711]\u001b[0m Trial 67 finished with value: 0.4854710833324038 and parameters: {'n_estimators': 8, 'max_depth': 19.820151470552684}. Best is trial 41 with value: 0.5039503478328766.\u001b[0m\n",
            "\u001b[32m[I 2022-03-25 18:33:22,221]\u001b[0m Trial 68 finished with value: 0.49771581688362065 and parameters: {'n_estimators': 4, 'max_depth': 23.575106868653997}. Best is trial 41 with value: 0.5039503478328766.\u001b[0m\n",
            "\u001b[32m[I 2022-03-25 18:33:22,767]\u001b[0m Trial 69 finished with value: 0.4897023373526528 and parameters: {'n_estimators': 5, 'max_depth': 23.680717526418597}. Best is trial 41 with value: 0.5039503478328766.\u001b[0m\n",
            "\u001b[32m[I 2022-03-25 18:33:23,310]\u001b[0m Trial 70 finished with value: 0.49137122871204547 and parameters: {'n_estimators': 6, 'max_depth': 14.96475964286618}. Best is trial 41 with value: 0.5039503478328766.\u001b[0m\n",
            "\u001b[32m[I 2022-03-25 18:33:23,758]\u001b[0m Trial 71 finished with value: 0.4951556231432491 and parameters: {'n_estimators': 4, 'max_depth': 22.31712684809949}. Best is trial 41 with value: 0.5039503478328766.\u001b[0m\n",
            "\u001b[32m[I 2022-03-25 18:33:24,259]\u001b[0m Trial 72 finished with value: 0.48758695821915515 and parameters: {'n_estimators': 4, 'max_depth': 31.67043383418669}. Best is trial 41 with value: 0.5039503478328766.\u001b[0m\n",
            "\u001b[32m[I 2022-03-25 18:33:24,660]\u001b[0m Trial 73 finished with value: 0.49315191243014533 and parameters: {'n_estimators': 4, 'max_depth': 17.318008104681738}. Best is trial 41 with value: 0.5039503478328766.\u001b[0m\n",
            "\u001b[32m[I 2022-03-25 18:33:25,009]\u001b[0m Trial 74 finished with value: 0.4883654767349195 and parameters: {'n_estimators': 3, 'max_depth': 20.2612856140764}. Best is trial 41 with value: 0.5039503478328766.\u001b[0m\n",
            "\u001b[32m[I 2022-03-25 18:33:25,561]\u001b[0m Trial 75 finished with value: 0.49237141090136616 and parameters: {'n_estimators': 5, 'max_depth': 24.519132851818277}. Best is trial 41 with value: 0.5039503478328766.\u001b[0m\n",
            "\u001b[32m[I 2022-03-25 18:33:26,175]\u001b[0m Trial 76 finished with value: 0.487362877748487 and parameters: {'n_estimators': 7, 'max_depth': 15.945071809191582}. Best is trial 41 with value: 0.5039503478328766.\u001b[0m\n",
            "\u001b[32m[I 2022-03-25 18:33:26,433]\u001b[0m Trial 77 finished with value: 0.4954919917258782 and parameters: {'n_estimators': 2, 'max_depth': 25.327645476227275}. Best is trial 41 with value: 0.5039503478328766.\u001b[0m\n",
            "\u001b[32m[I 2022-03-25 18:33:27,071]\u001b[0m Trial 78 finished with value: 0.49226184943230056 and parameters: {'n_estimators': 6, 'max_depth': 21.693029825059234}. Best is trial 41 with value: 0.5039503478328766.\u001b[0m\n",
            "\u001b[32m[I 2022-03-25 18:33:27,485]\u001b[0m Trial 79 finished with value: 0.49793871994031125 and parameters: {'n_estimators': 4, 'max_depth': 18.918759944038808}. Best is trial 41 with value: 0.5039503478328766.\u001b[0m\n",
            "\u001b[32m[I 2022-03-25 18:33:28,510]\u001b[0m Trial 80 finished with value: 0.4882538083145257 and parameters: {'n_estimators': 11, 'max_depth': 18.940236092358596}. Best is trial 41 with value: 0.5039503478328766.\u001b[0m\n",
            "\u001b[32m[I 2022-03-25 18:33:28,999]\u001b[0m Trial 81 finished with value: 0.49838545559104325 and parameters: {'n_estimators': 4, 'max_depth': 23.073670568824838}. Best is trial 41 with value: 0.5039503478328766.\u001b[0m\n",
            "\u001b[32m[I 2022-03-25 18:33:29,504]\u001b[0m Trial 82 finished with value: 0.48847658743290284 and parameters: {'n_estimators': 4, 'max_depth': 28.290811369513868}. Best is trial 41 with value: 0.5039503478328766.\u001b[0m\n",
            "\u001b[32m[I 2022-03-25 18:33:29,794]\u001b[0m Trial 83 finished with value: 0.48424632491916125 and parameters: {'n_estimators': 3, 'max_depth': 13.243762851598621}. Best is trial 41 with value: 0.5039503478328766.\u001b[0m\n",
            "\u001b[32m[I 2022-03-25 18:33:30,352]\u001b[0m Trial 84 finished with value: 0.4946000076841754 and parameters: {'n_estimators': 5, 'max_depth': 23.275013254884016}. Best is trial 41 with value: 0.5039503478328766.\u001b[0m\n",
            "\u001b[32m[I 2022-03-25 18:33:30,812]\u001b[0m Trial 85 finished with value: 0.49604636780181766 and parameters: {'n_estimators': 4, 'max_depth': 26.115172996423034}. Best is trial 41 with value: 0.5039503478328766.\u001b[0m\n",
            "\u001b[32m[I 2022-03-25 18:33:31,334]\u001b[0m Trial 86 finished with value: 0.4898113410993081 and parameters: {'n_estimators': 5, 'max_depth': 20.3113557011607}. Best is trial 41 with value: 0.5039503478328766.\u001b[0m\n",
            "\u001b[32m[I 2022-03-25 18:33:31,653]\u001b[0m Trial 87 finished with value: 0.49203938015970694 and parameters: {'n_estimators': 3, 'max_depth': 17.46772466574976}. Best is trial 41 with value: 0.5039503478328766.\u001b[0m\n",
            "\u001b[32m[I 2022-03-25 18:33:32,353]\u001b[0m Trial 88 finished with value: 0.4899225757356048 and parameters: {'n_estimators': 6, 'max_depth': 29.79752813989657}. Best is trial 41 with value: 0.5039503478328766.\u001b[0m\n",
            "\u001b[32m[I 2022-03-25 18:33:32,713]\u001b[0m Trial 89 finished with value: 0.48803208267181264 and parameters: {'n_estimators': 3, 'max_depth': 22.085667735797408}. Best is trial 41 with value: 0.5039503478328766.\u001b[0m\n",
            "\u001b[32m[I 2022-03-25 18:33:33,096]\u001b[0m Trial 90 finished with value: 0.49415252840356294 and parameters: {'n_estimators': 4, 'max_depth': 15.367806792480103}. Best is trial 41 with value: 0.5039503478328766.\u001b[0m\n",
            "\u001b[32m[I 2022-03-25 18:33:33,386]\u001b[0m Trial 91 finished with value: 0.49593469938142387 and parameters: {'n_estimators': 2, 'max_depth': 24.044446547203695}. Best is trial 41 with value: 0.5039503478328766.\u001b[0m\n",
            "\u001b[32m[I 2022-03-25 18:33:33,646]\u001b[0m Trial 92 finished with value: 0.49181610528807607 and parameters: {'n_estimators': 2, 'max_depth': 19.292217690439553}. Best is trial 41 with value: 0.5039503478328766.\u001b[0m\n",
            "\u001b[32m[I 2022-03-25 18:33:34,014]\u001b[0m Trial 93 finished with value: 0.4935985241425637 and parameters: {'n_estimators': 3, 'max_depth': 25.86907019576941}. Best is trial 41 with value: 0.5039503478328766.\u001b[0m\n",
            "\u001b[32m[I 2022-03-25 18:33:34,282]\u001b[0m Trial 94 finished with value: 0.499495323187743 and parameters: {'n_estimators': 2, 'max_depth': 21.380101528615075}. Best is trial 41 with value: 0.5039503478328766.\u001b[0m\n",
            "\u001b[32m[I 2022-03-25 18:33:34,544]\u001b[0m Trial 95 finished with value: 0.49983162980121537 and parameters: {'n_estimators': 2, 'max_depth': 21.459629567212147}. Best is trial 41 with value: 0.5039503478328766.\u001b[0m\n",
            "\u001b[32m[I 2022-03-25 18:33:34,796]\u001b[0m Trial 96 finished with value: 0.49504469835273585 and parameters: {'n_estimators': 2, 'max_depth': 20.803045868980075}. Best is trial 41 with value: 0.5039503478328766.\u001b[0m\n",
            "\u001b[32m[I 2022-03-25 18:33:35,039]\u001b[0m Trial 97 finished with value: 0.499943546098236 and parameters: {'n_estimators': 2, 'max_depth': 17.78057387599542}. Best is trial 41 with value: 0.5039503478328766.\u001b[0m\n",
            "\u001b[32m[I 2022-03-25 18:33:35,289]\u001b[0m Trial 98 finished with value: 0.5002776837912235 and parameters: {'n_estimators': 2, 'max_depth': 16.663610425206127}. Best is trial 41 with value: 0.5039503478328766.\u001b[0m\n",
            "\u001b[32m[I 2022-03-25 18:33:35,521]\u001b[0m Trial 99 finished with value: 0.5001651478026357 and parameters: {'n_estimators': 2, 'max_depth': 16.374359396253706}. Best is trial 41 with value: 0.5039503478328766.\u001b[0m\n"
          ]
        }
      ],
      "source": [
        "best_trial_rf = best_trial(objective_rf, 100)"
      ]
    },
    {
      "cell_type": "code",
      "execution_count": null,
      "metadata": {
        "colab": {
          "base_uri": "https://localhost:8080/"
        },
        "id": "W8meyw6MF3YR",
        "outputId": "136884d1-ab6d-44a5-f72b-c106ca051632"
      },
      "outputs": [
        {
          "output_type": "execute_result",
          "data": {
            "text/plain": [
              "0.48484848484848486"
            ]
          },
          "metadata": {},
          "execution_count": 14
        }
      ],
      "source": [
        "#Test the hyperparameter tuned random forest on test set \n",
        "from sklearn.ensemble import RandomForestClassifier\n",
        "precision(RandomForestClassifier(**best_trial_rf.params, random_state=1))"
      ]
    },
    {
      "cell_type": "code",
      "execution_count": null,
      "metadata": {
        "id": "J0X1SCoP4O1R"
      },
      "outputs": [],
      "source": [
        "\n",
        "from xgboost import XGBClassifier\n",
        "def objective_xgb(trial):\n",
        "  params={\n",
        "          \"n_estimators\" : trial.suggest_int('n_estimators', 2, 1000),\n",
        "          \"max_depth\": trial.suggest_int(\"max_depth\", 1, 32),\n",
        "          \"alpha\": trial.suggest_loguniform(\"alpha\", 0.01, 10.0),\n",
        "          \"lambda\": trial.suggest_loguniform(\"lambda\", 1e-8, 10.0),\n",
        "          \"gamma\": trial.suggest_loguniform(\"lambda\", 1e-8, 10.0),\n",
        "          \"learning_rate\": trial.suggest_loguniform(\"learning_rate\", 0.005, 0.05),\n",
        "          \"colsample_bytree\": trial.suggest_loguniform(\"colsample_bytree\", 0.2, 0.6),\n",
        "          \"subsample\": trial.suggest_loguniform(\"subsample\", 0.4, 0.8),\n",
        "          \"min_child_weight\": trial.suggest_loguniform(\"min_child_weight\", 10, 1000),\n",
        "          \"n_jobs\": 1,\n",
        "  }\n",
        "  clf = XGBClassifier(**params)\n",
        "  return sklearn.model_selection.cross_val_score(clf, train[predictors], train[\"Target\"], \n",
        "           n_jobs=-1, cv=5).mean()"
      ]
    },
    {
      "cell_type": "code",
      "execution_count": null,
      "metadata": {
        "colab": {
          "base_uri": "https://localhost:8080/"
        },
        "id": "21psHSIIAV6o",
        "outputId": "9332d1d0-3ce4-4729-fa04-6df0903b5cae"
      },
      "outputs": [
        {
          "output_type": "stream",
          "name": "stderr",
          "text": [
            "\u001b[32m[I 2022-03-25 18:50:34,377]\u001b[0m A new study created in memory with name: no-name-84ed47fc-e945-4ae6-8314-a4a06e5d6182\u001b[0m\n",
            "\u001b[32m[I 2022-03-25 18:50:36,402]\u001b[0m Trial 0 finished with value: 0.47778889091321464 and parameters: {'n_estimators': 21, 'max_depth': 8, 'alpha': 5.217084687531194, 'lambda': 4.356790929968679, 'learning_rate': 0.011882302242047662, 'colsample_bytree': 0.4263488196526902, 'subsample': 0.5551968192640351, 'min_child_weight': 10.487365360910394}. Best is trial 0 with value: 0.47778889091321464.\u001b[0m\n",
            "\u001b[32m[I 2022-03-25 18:51:04,312]\u001b[0m Trial 1 finished with value: 0.4837997751758995 and parameters: {'n_estimators': 756, 'max_depth': 15, 'alpha': 3.9492022672440283, 'lambda': 4.89097815972888e-06, 'learning_rate': 0.008686647522892924, 'colsample_bytree': 0.5402324448766549, 'subsample': 0.7829239397682942, 'min_child_weight': 19.05547501212486}. Best is trial 1 with value: 0.4837997751758995.\u001b[0m\n",
            "\u001b[32m[I 2022-03-25 18:51:06,717]\u001b[0m Trial 2 finished with value: 0.49426958814059063 and parameters: {'n_estimators': 327, 'max_depth': 10, 'alpha': 3.04207260754154, 'lambda': 0.004824723417744117, 'learning_rate': 0.007929350604279373, 'colsample_bytree': 0.25814711363227083, 'subsample': 0.6488748848962749, 'min_child_weight': 549.1672052841311}. Best is trial 2 with value: 0.49426958814059063.\u001b[0m\n",
            "\u001b[32m[I 2022-03-25 18:51:08,899]\u001b[0m Trial 3 finished with value: 0.5058443731386014 and parameters: {'n_estimators': 333, 'max_depth': 26, 'alpha': 3.9184034997031203, 'lambda': 9.480235744199837e-06, 'learning_rate': 0.032464553297838025, 'colsample_bytree': 0.4885711487409814, 'subsample': 0.46647386722492534, 'min_child_weight': 437.7478129499791}. Best is trial 3 with value: 0.5058443731386014.\u001b[0m\n",
            "\u001b[32m[I 2022-03-25 18:51:14,709]\u001b[0m Trial 4 finished with value: 0.48959544055732573 and parameters: {'n_estimators': 734, 'max_depth': 22, 'alpha': 0.49391226485847456, 'lambda': 0.0002208775184521737, 'learning_rate': 0.010722972154132548, 'colsample_bytree': 0.5843330445187104, 'subsample': 0.5283342360573358, 'min_child_weight': 404.84333897607314}. Best is trial 3 with value: 0.5058443731386014.\u001b[0m\n",
            "\u001b[32m[I 2022-03-25 18:51:19,578]\u001b[0m Trial 5 finished with value: 0.4879264252596198 and parameters: {'n_estimators': 666, 'max_depth': 6, 'alpha': 0.2067346056423367, 'lambda': 1.7080833358247642e-06, 'learning_rate': 0.036348944948571174, 'colsample_bytree': 0.2937453693321665, 'subsample': 0.5690265158332473, 'min_child_weight': 457.7408492137268}. Best is trial 3 with value: 0.5058443731386014.\u001b[0m\n",
            "\u001b[32m[I 2022-03-25 18:51:30,899]\u001b[0m Trial 6 finished with value: 0.48101667837883727 and parameters: {'n_estimators': 736, 'max_depth': 7, 'alpha': 0.26832925163425414, 'lambda': 5.6572041976846095e-08, 'learning_rate': 0.03585692212434104, 'colsample_bytree': 0.3223558373449976, 'subsample': 0.6418197411424182, 'min_child_weight': 20.698070111371116}. Best is trial 3 with value: 0.5058443731386014.\u001b[0m\n",
            "\u001b[32m[I 2022-03-25 18:51:33,328]\u001b[0m Trial 7 finished with value: 0.48480175447076485 and parameters: {'n_estimators': 272, 'max_depth': 32, 'alpha': 0.7651789937236102, 'lambda': 9.962226982539283e-07, 'learning_rate': 0.022641175127000562, 'colsample_bytree': 0.3434298503295034, 'subsample': 0.6734413479434571, 'min_child_weight': 275.1457372238693}. Best is trial 3 with value: 0.5058443731386014.\u001b[0m\n",
            "\u001b[32m[I 2022-03-25 18:51:43,059]\u001b[0m Trial 8 finished with value: 0.48112940027489515 and parameters: {'n_estimators': 300, 'max_depth': 28, 'alpha': 0.09580654692504668, 'lambda': 0.0006873095989560939, 'learning_rate': 0.04817785820308105, 'colsample_bytree': 0.4686953060036903, 'subsample': 0.6107390019684097, 'min_child_weight': 21.54182670860231}. Best is trial 3 with value: 0.5058443731386014.\u001b[0m\n",
            "\u001b[32m[I 2022-03-25 18:51:51,465]\u001b[0m Trial 9 finished with value: 0.47623073843686525 and parameters: {'n_estimators': 744, 'max_depth': 21, 'alpha': 1.1639115555481152, 'lambda': 1.8445624703623424, 'learning_rate': 0.024088916277044813, 'colsample_bytree': 0.2824531764894534, 'subsample': 0.7904557358524655, 'min_child_weight': 146.85600232876382}. Best is trial 3 with value: 0.5058443731386014.\u001b[0m\n",
            "\u001b[32m[I 2022-03-25 18:51:57,920]\u001b[0m Trial 10 finished with value: 0.4880306573812082 and parameters: {'n_estimators': 942, 'max_depth': 1, 'alpha': 0.01268222815383557, 'lambda': 1.573767392829725e-08, 'learning_rate': 0.005084150879822942, 'colsample_bytree': 0.20914450405695093, 'subsample': 0.40280556038101023, 'min_child_weight': 96.14743185883486}. Best is trial 3 with value: 0.5058443731386014.\u001b[0m\n",
            "\u001b[32m[I 2022-03-25 18:52:00,138]\u001b[0m Trial 11 finished with value: 0.5058443731386014 and parameters: {'n_estimators': 348, 'max_depth': 14, 'alpha': 2.4349512524740344, 'lambda': 0.023885741361378113, 'learning_rate': 0.005981198062912631, 'colsample_bytree': 0.2334874152694418, 'subsample': 0.4659461032339732, 'min_child_weight': 909.4078185674024}. Best is trial 3 with value: 0.5058443731386014.\u001b[0m\n",
            "\u001b[32m[I 2022-03-25 18:52:02,854]\u001b[0m Trial 12 finished with value: 0.5058443731386014 and parameters: {'n_estimators': 442, 'max_depth': 16, 'alpha': 8.20870270820493, 'lambda': 0.04602859775614972, 'learning_rate': 0.017999589947756283, 'colsample_bytree': 0.20138242675915388, 'subsample': 0.4476218811840626, 'min_child_weight': 991.3049457666008}. Best is trial 3 with value: 0.5058443731386014.\u001b[0m\n",
            "\u001b[32m[I 2022-03-25 18:52:03,841]\u001b[0m Trial 13 finished with value: 0.49371118406946496 and parameters: {'n_estimators': 93, 'max_depth': 24, 'alpha': 1.5529499384470462, 'lambda': 5.4767958455661706e-05, 'learning_rate': 0.0051874815105202865, 'colsample_bytree': 0.3894047955706387, 'subsample': 0.4708786281796684, 'min_child_weight': 158.40469107306654}. Best is trial 3 with value: 0.5058443731386014.\u001b[0m\n",
            "\u001b[32m[I 2022-03-25 18:52:08,130]\u001b[0m Trial 14 finished with value: 0.5058443731386014 and parameters: {'n_estimators': 507, 'max_depth': 14, 'alpha': 1.9218744813377515, 'lambda': 0.06742344651832648, 'learning_rate': 0.01686163691777153, 'colsample_bytree': 0.251121507810714, 'subsample': 0.4876656197758117, 'min_child_weight': 958.030872228478}. Best is trial 3 with value: 0.5058443731386014.\u001b[0m\n",
            "\u001b[32m[I 2022-03-25 18:52:14,447]\u001b[0m Trial 15 finished with value: 0.47400251346899613 and parameters: {'n_estimators': 172, 'max_depth': 20, 'alpha': 8.597327380063687, 'lambda': 0.018748121351814546, 'learning_rate': 0.029282965149030952, 'colsample_bytree': 0.5025652293483952, 'subsample': 0.40678873512973956, 'min_child_weight': 61.12658949595328}. Best is trial 3 with value: 0.5058443731386014.\u001b[0m\n",
            "\u001b[32m[I 2022-03-25 18:52:19,820]\u001b[0m Trial 16 finished with value: 0.4908115852577855 and parameters: {'n_estimators': 487, 'max_depth': 27, 'alpha': 0.08490013789828395, 'lambda': 0.3468875036627139, 'learning_rate': 0.01392033409056924, 'colsample_bytree': 0.38797117412583937, 'subsample': 0.4435259295890925, 'min_child_weight': 221.07543485770037}. Best is trial 3 with value: 0.5058443731386014.\u001b[0m\n",
            "\u001b[32m[I 2022-03-25 18:52:23,563]\u001b[0m Trial 17 finished with value: 0.5058443731386014 and parameters: {'n_estimators': 597, 'max_depth': 12, 'alpha': 1.6836462923920164, 'lambda': 2.603377695659459e-05, 'learning_rate': 0.018538144131596504, 'colsample_bytree': 0.2432779801017003, 'subsample': 0.5096288362312303, 'min_child_weight': 624.8384847451232}. Best is trial 3 with value: 0.5058443731386014.\u001b[0m\n",
            "\u001b[32m[I 2022-03-25 18:52:33,427]\u001b[0m Trial 18 finished with value: 0.475785552015051 and parameters: {'n_estimators': 568, 'max_depth': 11, 'alpha': 0.9119383111649401, 'lambda': 1.9401592867148518e-05, 'learning_rate': 0.04982232028666025, 'colsample_bytree': 0.4510443416849062, 'subsample': 0.5109199164427457, 'min_child_weight': 61.71862163625591}. Best is trial 3 with value: 0.5058443731386014.\u001b[0m\n",
            "\u001b[32m[I 2022-03-25 18:52:39,272]\u001b[0m Trial 19 finished with value: 0.5058443731386014 and parameters: {'n_estimators': 911, 'max_depth': 19, 'alpha': 0.5462456818761726, 'lambda': 2.772942090033649e-07, 'learning_rate': 0.02207484830163362, 'colsample_bytree': 0.40359910511175157, 'subsample': 0.4322816081798916, 'min_child_weight': 583.4397453961004}. Best is trial 3 with value: 0.5058443731386014.\u001b[0m\n",
            "\u001b[32m[I 2022-03-25 18:52:46,568]\u001b[0m Trial 20 finished with value: 0.4949382973106625 and parameters: {'n_estimators': 965, 'max_depth': 31, 'alpha': 0.13331162107139816, 'lambda': 2.0511260705601698e-07, 'learning_rate': 0.026699831128196704, 'colsample_bytree': 0.38750030134960406, 'subsample': 0.43135391438952825, 'min_child_weight': 317.72346981570234}. Best is trial 3 with value: 0.5058443731386014.\u001b[0m\n",
            "\u001b[32m[I 2022-03-25 18:52:49,954]\u001b[0m Trial 21 finished with value: 0.5058443731386014 and parameters: {'n_estimators': 553, 'max_depth': 12, 'alpha': 2.0756992947251702, 'lambda': 0.0013812189364575582, 'learning_rate': 0.01766351605990231, 'colsample_bytree': 0.23950892684780947, 'subsample': 0.49246276997180344, 'min_child_weight': 709.8550954721372}. Best is trial 3 with value: 0.5058443731386014.\u001b[0m\n",
            "\u001b[32m[I 2022-03-25 18:52:55,636]\u001b[0m Trial 22 finished with value: 0.5058443731386014 and parameters: {'n_estimators': 876, 'max_depth': 19, 'alpha': 0.5286286237916789, 'lambda': 0.001040492009623524, 'learning_rate': 0.031803385374877945, 'colsample_bytree': 0.4233086001021666, 'subsample': 0.4261379095249815, 'min_child_weight': 612.4244922616235}. Best is trial 3 with value: 0.5058443731386014.\u001b[0m\n",
            "\u001b[32m[I 2022-03-25 18:52:58,191]\u001b[0m Trial 23 finished with value: 0.5058443731386014 and parameters: {'n_estimators': 395, 'max_depth': 17, 'alpha': 0.048576160694538184, 'lambda': 1.7532403210939666e-07, 'learning_rate': 0.020723105300876263, 'colsample_bytree': 0.22492109626457205, 'subsample': 0.5242123477345277, 'min_child_weight': 808.3367219167751}. Best is trial 3 with value: 0.5058443731386014.\u001b[0m\n",
            "\u001b[32m[I 2022-03-25 18:52:59,612]\u001b[0m Trial 24 finished with value: 0.5058443731386014 and parameters: {'n_estimators': 208, 'max_depth': 18, 'alpha': 2.4728907649681355, 'lambda': 0.005228286145952264, 'learning_rate': 0.014286296950997384, 'colsample_bytree': 0.2964286255050774, 'subsample': 0.48231310249769643, 'min_child_weight': 654.8984059429068}. Best is trial 3 with value: 0.5058443731386014.\u001b[0m\n",
            "\u001b[32m[I 2022-03-25 18:53:06,188]\u001b[0m Trial 25 finished with value: 0.4884802436131489 and parameters: {'n_estimators': 864, 'max_depth': 16, 'alpha': 8.220866919189335, 'lambda': 0.0008066396294879748, 'learning_rate': 0.018442404867281135, 'colsample_bytree': 0.2025535245908405, 'subsample': 0.4399308711555652, 'min_child_weight': 281.6740092149399}. Best is trial 3 with value: 0.5058443731386014.\u001b[0m\n",
            "\u001b[32m[I 2022-03-25 18:53:08,739]\u001b[0m Trial 26 finished with value: 0.5058443731386014 and parameters: {'n_estimators': 400, 'max_depth': 24, 'alpha': 0.032273044185705785, 'lambda': 4.1001550456949435e-06, 'learning_rate': 0.04035497514745563, 'colsample_bytree': 0.21711154281681302, 'subsample': 0.5507221374290627, 'min_child_weight': 951.3655995130875}. Best is trial 3 with value: 0.5058443731386014.\u001b[0m\n",
            "\u001b[32m[I 2022-03-25 18:53:10,159]\u001b[0m Trial 27 finished with value: 0.48803604869784206 and parameters: {'n_estimators': 175, 'max_depth': 25, 'alpha': 0.014801213399980114, 'lambda': 0.00011367905360108866, 'learning_rate': 0.041839716897751164, 'colsample_bytree': 0.283641930802172, 'subsample': 0.5592248459457729, 'min_child_weight': 412.1343662105267}. Best is trial 3 with value: 0.5058443731386014.\u001b[0m\n",
            "\u001b[32m[I 2022-03-25 18:53:15,211]\u001b[0m Trial 28 finished with value: 0.4824637201572033 and parameters: {'n_estimators': 537, 'max_depth': 4, 'alpha': 4.779446082193061, 'lambda': 0.285844601202982, 'learning_rate': 0.012411813476274933, 'colsample_bytree': 0.2456660063135565, 'subsample': 0.4863099159354121, 'min_child_weight': 180.0622800198111}. Best is trial 3 with value: 0.5058443731386014.\u001b[0m\n",
            "\u001b[32m[I 2022-03-25 18:53:20,638]\u001b[0m Trial 29 finished with value: 0.5058443731386014 and parameters: {'n_estimators': 862, 'max_depth': 18, 'alpha': 0.5286015394057204, 'lambda': 9.248497535825862, 'learning_rate': 0.026877335193438382, 'colsample_bytree': 0.4195818195630564, 'subsample': 0.42363795518333913, 'min_child_weight': 559.299089877694}. Best is trial 3 with value: 0.5058443731386014.\u001b[0m\n",
            "\u001b[32m[I 2022-03-25 18:53:21,012]\u001b[0m Trial 30 finished with value: 0.5058443731386014 and parameters: {'n_estimators': 40, 'max_depth': 22, 'alpha': 0.02721159576541416, 'lambda': 0.11223301540607479, 'learning_rate': 0.01536595159382384, 'colsample_bytree': 0.2646247434240804, 'subsample': 0.5412196863700128, 'min_child_weight': 962.6969842688262}. Best is trial 3 with value: 0.5058443731386014.\u001b[0m\n",
            "\u001b[32m[I 2022-03-25 18:53:21,555]\u001b[0m Trial 31 finished with value: 0.5058443731386014 and parameters: {'n_estimators': 74, 'max_depth': 19, 'alpha': 0.04217239764281178, 'lambda': 0.004586291473630844, 'learning_rate': 0.01273045572223104, 'colsample_bytree': 0.3134936611321034, 'subsample': 0.5375345787666307, 'min_child_weight': 699.5719023597767}. Best is trial 3 with value: 0.5058443731386014.\u001b[0m\n",
            "\u001b[32m[I 2022-03-25 18:53:23,320]\u001b[0m Trial 32 finished with value: 0.49371167982271863 and parameters: {'n_estimators': 225, 'max_depth': 18, 'alpha': 0.04758660221375401, 'lambda': 0.006807193539974949, 'learning_rate': 0.01171685659071343, 'colsample_bytree': 0.3161857476408725, 'subsample': 0.5835663707752692, 'min_child_weight': 354.02261273821273}. Best is trial 3 with value: 0.5058443731386014.\u001b[0m\n",
            "\u001b[32m[I 2022-03-25 18:53:28,534]\u001b[0m Trial 33 finished with value: 0.5058443731386014 and parameters: {'n_estimators': 850, 'max_depth': 14, 'alpha': 6.72812246058994, 'lambda': 0.0955706714408252, 'learning_rate': 0.02154550058086174, 'colsample_bytree': 0.3572368472882741, 'subsample': 0.4515022086021778, 'min_child_weight': 542.024954288652}. Best is trial 3 with value: 0.5058443731386014.\u001b[0m\n",
            "\u001b[32m[I 2022-03-25 18:53:31,454]\u001b[0m Trial 34 finished with value: 0.5058443731386014 and parameters: {'n_estimators': 460, 'max_depth': 14, 'alpha': 5.889306870583898, 'lambda': 0.04466531183844725, 'learning_rate': 0.009388576321554178, 'colsample_bytree': 0.2246265931176723, 'subsample': 0.4662919818690387, 'min_child_weight': 970.5405990544776}. Best is trial 3 with value: 0.5058443731386014.\u001b[0m\n",
            "\u001b[32m[I 2022-03-25 18:53:31,688]\u001b[0m Trial 35 finished with value: 0.5058443731386014 and parameters: {'n_estimators': 18, 'max_depth': 22, 'alpha': 0.021210887714473395, 'lambda': 5.38067055457114, 'learning_rate': 0.014925673023771005, 'colsample_bytree': 0.26316077784645875, 'subsample': 0.6009671270280987, 'min_child_weight': 507.9774820828598}. Best is trial 3 with value: 0.5058443731386014.\u001b[0m\n",
            "\u001b[32m[I 2022-03-25 18:53:33,395]\u001b[0m Trial 36 finished with value: 0.48190717516077897 and parameters: {'n_estimators': 85, 'max_depth': 9, 'alpha': 0.02267773416501095, 'lambda': 0.2460172393153387, 'learning_rate': 0.007800187775956994, 'colsample_bytree': 0.35408750188300064, 'subsample': 0.5384462560324023, 'min_child_weight': 12.545462484962309}. Best is trial 3 with value: 0.5058443731386014.\u001b[0m\n",
            "\u001b[32m[I 2022-03-25 18:53:37,305]\u001b[0m Trial 37 finished with value: 0.5058443731386014 and parameters: {'n_estimators': 626, 'max_depth': 12, 'alpha': 1.6831913955646896, 'lambda': 0.7540117746133354, 'learning_rate': 0.017427312603201277, 'colsample_bytree': 0.24354650370249503, 'subsample': 0.4993900552981962, 'min_child_weight': 681.6809444911751}. Best is trial 3 with value: 0.5058443731386014.\u001b[0m\n",
            "\u001b[32m[I 2022-03-25 18:53:42,196]\u001b[0m Trial 38 finished with value: 0.4890372223936702 and parameters: {'n_estimators': 651, 'max_depth': 22, 'alpha': 0.3453886355537245, 'lambda': 1.1101453292516066, 'learning_rate': 0.012841292607067848, 'colsample_bytree': 0.2701575994767557, 'subsample': 0.6586937006006172, 'min_child_weight': 421.90926013506186}. Best is trial 3 with value: 0.5058443731386014.\u001b[0m\n",
            "\u001b[32m[I 2022-03-25 18:53:46,241]\u001b[0m Trial 39 finished with value: 0.5058443731386014 and parameters: {'n_estimators': 660, 'max_depth': 12, 'alpha': 2.773658050922699, 'lambda': 0.002571750634801551, 'learning_rate': 0.020218808607291264, 'colsample_bytree': 0.3027990739271505, 'subsample': 0.4969691619536704, 'min_child_weight': 694.6232917584233}. Best is trial 3 with value: 0.5058443731386014.\u001b[0m\n",
            "\u001b[32m[I 2022-03-25 18:53:51,766]\u001b[0m Trial 40 finished with value: 0.4928216168248739 and parameters: {'n_estimators': 772, 'max_depth': 8, 'alpha': 3.7339739194768327, 'lambda': 1.924005589379742, 'learning_rate': 0.010566292702711578, 'colsample_bytree': 0.22023804874465575, 'subsample': 0.7486033843911407, 'min_child_weight': 512.9975411378836}. Best is trial 3 with value: 0.5058443731386014.\u001b[0m\n",
            "\u001b[32m[I 2022-03-25 18:53:54,062]\u001b[0m Trial 41 finished with value: 0.5058443731386014 and parameters: {'n_estimators': 365, 'max_depth': 12, 'alpha': 3.058800617250462, 'lambda': 5.374473834129431e-07, 'learning_rate': 0.02033008289074698, 'colsample_bytree': 0.23282190377319414, 'subsample': 0.512307256078381, 'min_child_weight': 729.0201500540177}. Best is trial 3 with value: 0.5058443731386014.\u001b[0m\n",
            "\u001b[32m[I 2022-03-25 18:53:56,555]\u001b[0m Trial 42 finished with value: 0.5058443731386014 and parameters: {'n_estimators': 407, 'max_depth': 15, 'alpha': 1.2567440576108189, 'lambda': 7.455361646699226e-07, 'learning_rate': 0.032520612481779385, 'colsample_bytree': 0.22966031055112276, 'subsample': 0.5722524511722177, 'min_child_weight': 712.3341994608703}. Best is trial 3 with value: 0.5058443731386014.\u001b[0m\n",
            "\u001b[32m[I 2022-03-25 18:54:01,301]\u001b[0m Trial 43 finished with value: 0.4980526192503468 and parameters: {'n_estimators': 628, 'max_depth': 10, 'alpha': 5.632095812810623, 'lambda': 0.9254711560965053, 'learning_rate': 0.009341027620879771, 'colsample_bytree': 0.260606590058806, 'subsample': 0.6032113636324341, 'min_child_weight': 356.2432362356616}. Best is trial 3 with value: 0.5058443731386014.\u001b[0m\n",
            "\u001b[32m[I 2022-03-25 18:54:03,013]\u001b[0m Trial 44 finished with value: 0.5058443731386014 and parameters: {'n_estimators': 273, 'max_depth': 17, 'alpha': 0.8812902918186802, 'lambda': 0.0006025688594787689, 'learning_rate': 0.014232418773899979, 'colsample_bytree': 0.3340133782081682, 'subsample': 0.5250349687674046, 'min_child_weight': 769.1967668245132}. Best is trial 3 with value: 0.5058443731386014.\u001b[0m\n",
            "\u001b[32m[I 2022-03-25 18:54:09,916]\u001b[0m Trial 45 finished with value: 0.47277980003792514 and parameters: {'n_estimators': 396, 'max_depth': 24, 'alpha': 0.1770536847664634, 'lambda': 4.15765315987441e-06, 'learning_rate': 0.04068399882772056, 'colsample_bytree': 0.2112542393836868, 'subsample': 0.4753530415173297, 'min_child_weight': 32.43262730206819}. Best is trial 3 with value: 0.5058443731386014.\u001b[0m\n",
            "\u001b[32m[I 2022-03-25 18:54:17,961]\u001b[0m Trial 46 finished with value: 0.4858010071227349 and parameters: {'n_estimators': 818, 'max_depth': 5, 'alpha': 0.5473010283877852, 'lambda': 2.3625584188648717e-05, 'learning_rate': 0.01964689094476625, 'colsample_bytree': 0.4073361310668791, 'subsample': 0.5084053120087806, 'min_child_weight': 206.98887092227943}. Best is trial 3 with value: 0.5058443731386014.\u001b[0m\n",
            "\u001b[32m[I 2022-03-25 18:54:18,156]\u001b[0m Trial 47 finished with value: 0.5058443731386014 and parameters: {'n_estimators': 11, 'max_depth': 22, 'alpha': 0.04921682258737889, 'lambda': 7.806535065267526, 'learning_rate': 0.015486798976124537, 'colsample_bytree': 0.2629121991593596, 'subsample': 0.5927085796157624, 'min_child_weight': 508.918857777513}. Best is trial 3 with value: 0.5058443731386014.\u001b[0m\n",
            "\u001b[32m[I 2022-03-25 18:54:20,660]\u001b[0m Trial 48 finished with value: 0.49682804674457437 and parameters: {'n_estimators': 313, 'max_depth': 20, 'alpha': 0.40733218126970355, 'lambda': 5.0264948908150534e-08, 'learning_rate': 0.025895634299473204, 'colsample_bytree': 0.4368636566223158, 'subsample': 0.41819306814400403, 'min_child_weight': 261.6253261331346}. Best is trial 3 with value: 0.5058443731386014.\u001b[0m\n",
            "\u001b[32m[I 2022-03-25 18:54:22,802]\u001b[0m Trial 49 finished with value: 0.4760082071951148 and parameters: {'n_estimators': 170, 'max_depth': 24, 'alpha': 0.0825159689240147, 'lambda': 1.9246327673252472e-06, 'learning_rate': 0.023511128926175004, 'colsample_bytree': 0.2819765287294787, 'subsample': 0.7097554465392873, 'min_child_weight': 120.99309014449503}. Best is trial 3 with value: 0.5058443731386014.\u001b[0m\n",
            "\u001b[32m[I 2022-03-25 18:54:28,253]\u001b[0m Trial 50 finished with value: 0.5058443731386014 and parameters: {'n_estimators': 915, 'max_depth': 16, 'alpha': 0.2557401423486279, 'lambda': 1.0121423623346426e-08, 'learning_rate': 0.03116912514622174, 'colsample_bytree': 0.3678404155386788, 'subsample': 0.5713515925711765, 'min_child_weight': 814.4158939646056}. Best is trial 3 with value: 0.5058443731386014.\u001b[0m\n",
            "\u001b[32m[I 2022-03-25 18:54:28,765]\u001b[0m Trial 51 finished with value: 0.5058443731386014 and parameters: {'n_estimators': 66, 'max_depth': 22, 'alpha': 0.019949529998759607, 'lambda': 6.136959804711413, 'learning_rate': 0.007370352185213387, 'colsample_bytree': 0.36935646343018397, 'subsample': 0.6317222582376726, 'min_child_weight': 865.2981828079378}. Best is trial 3 with value: 0.5058443731386014.\u001b[0m\n",
            "\u001b[32m[I 2022-03-25 18:54:29,429]\u001b[0m Trial 52 finished with value: 0.5058443731386014 and parameters: {'n_estimators': 77, 'max_depth': 21, 'alpha': 0.017740571005101954, 'lambda': 5.4205103200569065, 'learning_rate': 0.006352342559574177, 'colsample_bytree': 0.3123520204531278, 'subsample': 0.6448283655392643, 'min_child_weight': 463.6686550287935}. Best is trial 3 with value: 0.5058443731386014.\u001b[0m\n",
            "\u001b[32m[I 2022-03-25 18:54:30,373]\u001b[0m Trial 53 finished with value: 0.5058443731386014 and parameters: {'n_estimators': 137, 'max_depth': 27, 'alpha': 0.03587003951148951, 'lambda': 2.7347132862151655, 'learning_rate': 0.03626831491019896, 'colsample_bytree': 0.5444270597110632, 'subsample': 0.6305103530838922, 'min_child_weight': 880.1562343035685}. Best is trial 3 with value: 0.5058443731386014.\u001b[0m\n",
            "\u001b[32m[I 2022-03-25 18:54:31,382]\u001b[0m Trial 54 finished with value: 0.49593897525323694 and parameters: {'n_estimators': 126, 'max_depth': 18, 'alpha': 0.029063300121737228, 'lambda': 0.01182456032535582, 'learning_rate': 0.00638669768027313, 'colsample_bytree': 0.2964406769324055, 'subsample': 0.5551438083419311, 'min_child_weight': 460.64661692139236}. Best is trial 3 with value: 0.5058443731386014.\u001b[0m\n",
            "\u001b[32m[I 2022-03-25 18:54:32,931]\u001b[0m Trial 55 finished with value: 0.5058443731386014 and parameters: {'n_estimators': 233, 'max_depth': 29, 'alpha': 0.011163214509737352, 'lambda': 1.5586701790236576e-07, 'learning_rate': 0.039102726434752676, 'colsample_bytree': 0.485823889483448, 'subsample': 0.456862445447912, 'min_child_weight': 604.4052829769028}. Best is trial 3 with value: 0.5058443731386014.\u001b[0m\n",
            "\u001b[32m[I 2022-03-25 18:54:36,559]\u001b[0m Trial 56 finished with value: 0.48792524784564223 and parameters: {'n_estimators': 450, 'max_depth': 14, 'alpha': 0.01081255036465756, 'lambda': 0.038042137477337284, 'learning_rate': 0.010482671294865162, 'colsample_bytree': 0.5262643311214217, 'subsample': 0.45621658790751257, 'min_child_weight': 358.4425411706986}. Best is trial 3 with value: 0.5058443731386014.\u001b[0m\n",
            "\u001b[32m[I 2022-03-25 18:54:38,825]\u001b[0m Trial 57 finished with value: 0.5058443731386014 and parameters: {'n_estimators': 366, 'max_depth': 20, 'alpha': 0.09439502927307478, 'lambda': 3.778946374372939e-08, 'learning_rate': 0.0432705779723855, 'colsample_bytree': 0.2161298640987142, 'subsample': 0.516087535136814, 'min_child_weight': 798.6416208002481}. Best is trial 3 with value: 0.5058443731386014.\u001b[0m\n",
            "\u001b[32m[I 2022-03-25 18:54:44,657]\u001b[0m Trial 58 finished with value: 0.5058443731386014 and parameters: {'n_estimators': 981, 'max_depth': 20, 'alpha': 0.11557020535827912, 'lambda': 0.0003759035802164803, 'learning_rate': 0.04472511021247144, 'colsample_bytree': 0.21503702945669392, 'subsample': 0.41722989374091474, 'min_child_weight': 968.8744142842639}. Best is trial 3 with value: 0.5058443731386014.\u001b[0m\n",
            "\u001b[32m[I 2022-03-25 18:54:47,797]\u001b[0m Trial 59 finished with value: 0.4752286352036864 and parameters: {'n_estimators': 237, 'max_depth': 24, 'alpha': 0.06939889442072283, 'lambda': 0.00417100113668684, 'learning_rate': 0.04524122635071549, 'colsample_bytree': 0.3333150643889042, 'subsample': 0.5441884842979576, 'min_child_weight': 81.1927516366239}. Best is trial 3 with value: 0.5058443731386014.\u001b[0m\n",
            "\u001b[32m[I 2022-03-25 18:54:53,741]\u001b[0m Trial 60 finished with value: 0.5058443731386014 and parameters: {'n_estimators': 998, 'max_depth': 17, 'alpha': 0.12398562369510373, 'lambda': 0.00038626021368809926, 'learning_rate': 0.0078066278246287, 'colsample_bytree': 0.3669272728571666, 'subsample': 0.41061066317988554, 'min_child_weight': 899.8261819960051}. Best is trial 3 with value: 0.5058443731386014.\u001b[0m\n",
            "\u001b[32m[I 2022-03-25 18:54:54,188]\u001b[0m Trial 61 finished with value: 0.5058443731386014 and parameters: {'n_estimators': 52, 'max_depth': 23, 'alpha': 0.028714362776346026, 'lambda': 0.11866040011958652, 'learning_rate': 0.015746526891032595, 'colsample_bytree': 0.2819365314965551, 'subsample': 0.6169068049432612, 'min_child_weight': 554.0664258812828}. Best is trial 3 with value: 0.5058443731386014.\u001b[0m\n",
            "\u001b[32m[I 2022-03-25 18:54:58,446]\u001b[0m Trial 62 finished with value: 0.5058443731386014 and parameters: {'n_estimators': 696, 'max_depth': 14, 'alpha': 6.431807918652313, 'lambda': 0.09822818314953147, 'learning_rate': 0.007141825469070778, 'colsample_bytree': 0.3545378965866597, 'subsample': 0.4004452649203557, 'min_child_weight': 957.6064346696892}. Best is trial 3 with value: 0.5058443731386014.\u001b[0m\n",
            "\u001b[32m[I 2022-03-25 18:54:58,803]\u001b[0m Trial 63 finished with value: 0.4974971277295864 and parameters: {'n_estimators': 36, 'max_depth': 23, 'alpha': 0.02427599069570105, 'lambda': 0.0858659870549091, 'learning_rate': 0.015775943720470788, 'colsample_bytree': 0.27519938169429287, 'subsample': 0.6669648705117062, 'min_child_weight': 561.7178124156428}. Best is trial 3 with value: 0.5058443731386014.\u001b[0m\n",
            "\u001b[32m[I 2022-03-25 18:54:58,947]\u001b[0m Trial 64 finished with value: 0.5058443731386014 and parameters: {'n_estimators': 4, 'max_depth': 19, 'alpha': 0.014842731872624535, 'lambda': 0.6142125396888611, 'learning_rate': 0.016928400723406914, 'colsample_bytree': 0.25097567717644226, 'subsample': 0.541193012677094, 'min_child_weight': 649.1028086462319}. Best is trial 3 with value: 0.5058443731386014.\u001b[0m\n",
            "\u001b[32m[I 2022-03-25 18:55:00,772]\u001b[0m Trial 65 finished with value: 0.5058443731386014 and parameters: {'n_estimators': 292, 'max_depth': 17, 'alpha': 0.7561617003214147, 'lambda': 0.00010686338508098561, 'learning_rate': 0.013942024936095714, 'colsample_bytree': 0.25221732346829795, 'subsample': 0.5223505740847465, 'min_child_weight': 630.7824454865813}. Best is trial 3 with value: 0.5058443731386014.\u001b[0m\n",
            "\u001b[32m[I 2022-03-25 18:55:03,925]\u001b[0m Trial 66 finished with value: 0.5058443731386014 and parameters: {'n_estimators': 514, 'max_depth': 15, 'alpha': 0.05672417131353295, 'lambda': 0.0015312527081600658, 'learning_rate': 0.01449253780522202, 'colsample_bytree': 0.23733125083038326, 'subsample': 0.49313397015392385, 'min_child_weight': 629.5635794071818}. Best is trial 3 with value: 0.5058443731386014.\u001b[0m\n",
            "\u001b[32m[I 2022-03-25 18:55:04,812]\u001b[0m Trial 67 finished with value: 0.5058443731386014 and parameters: {'n_estimators': 126, 'max_depth': 13, 'alpha': 4.485061957047812, 'lambda': 0.1762529008020568, 'learning_rate': 0.008912675628735312, 'colsample_bytree': 0.2498098168693822, 'subsample': 0.5319576710366634, 'min_child_weight': 480.62499231399346}. Best is trial 3 with value: 0.5058443731386014.\u001b[0m\n",
            "\u001b[32m[I 2022-03-25 18:55:08,625]\u001b[0m Trial 68 finished with value: 0.4972732951355451 and parameters: {'n_estimators': 509, 'max_depth': 10, 'alpha': 0.0389189156200547, 'lambda': 0.023378210236044975, 'learning_rate': 0.013270622289700546, 'colsample_bytree': 0.2363030383704608, 'subsample': 0.5008145163047737, 'min_child_weight': 299.4088031626029}. Best is trial 3 with value: 0.5058443731386014.\u001b[0m\n",
            "\u001b[32m[I 2022-03-25 18:55:11,413]\u001b[0m Trial 69 finished with value: 0.5058443731386014 and parameters: {'n_estimators': 461, 'max_depth': 26, 'alpha': 2.0803439286690693, 'lambda': 0.0015499624553113591, 'learning_rate': 0.03272996589883227, 'colsample_bytree': 0.22408524568998045, 'subsample': 0.47557492522596484, 'min_child_weight': 790.4976913362615}. Best is trial 3 with value: 0.5058443731386014.\u001b[0m\n",
            "\u001b[32m[I 2022-03-25 18:55:14,985]\u001b[0m Trial 70 finished with value: 0.5058443731386014 and parameters: {'n_estimators': 585, 'max_depth': 12, 'alpha': 3.0880333686840156, 'lambda': 0.003026231675880454, 'learning_rate': 0.020460654736307034, 'colsample_bytree': 0.3047331723982597, 'subsample': 0.457290577432367, 'min_child_weight': 711.9099376654418}. Best is trial 3 with value: 0.5058443731386014.\u001b[0m\n",
            "\u001b[32m[I 2022-03-25 18:55:17,838]\u001b[0m Trial 71 finished with value: 0.5058443731386014 and parameters: {'n_estimators': 467, 'max_depth': 11, 'alpha': 2.7062626851110876, 'lambda': 0.0024655956542993834, 'learning_rate': 0.01145945537251046, 'colsample_bytree': 0.22928376828209923, 'subsample': 0.4726493584499384, 'min_child_weight': 734.7977307036753}. Best is trial 3 with value: 0.5058443731386014.\u001b[0m\n",
            "\u001b[32m[I 2022-03-25 18:55:21,414]\u001b[0m Trial 72 finished with value: 0.5058443731386014 and parameters: {'n_estimators': 592, 'max_depth': 12, 'alpha': 3.4540015078345507, 'lambda': 0.013465341179470075, 'learning_rate': 0.02039960427579862, 'colsample_bytree': 0.3036682455532977, 'subsample': 0.46078382707143745, 'min_child_weight': 708.3902131146752}. Best is trial 3 with value: 0.5058443731386014.\u001b[0m\n",
            "\u001b[32m[I 2022-03-25 18:55:26,790]\u001b[0m Trial 73 finished with value: 0.4922668069648375 and parameters: {'n_estimators': 727, 'max_depth': 11, 'alpha': 7.219630962144843, 'lambda': 0.47618205374603645, 'learning_rate': 0.021939154788283236, 'colsample_bytree': 0.2727359210055732, 'subsample': 0.446947768085283, 'min_child_weight': 378.4209127998039}. Best is trial 3 with value: 0.5058443731386014.\u001b[0m\n",
            "\u001b[32m[I 2022-03-25 18:55:28,600]\u001b[0m Trial 74 finished with value: 0.5058443731386014 and parameters: {'n_estimators': 288, 'max_depth': 18, 'alpha': 0.05501865695486548, 'lambda': 0.00013218588422757966, 'learning_rate': 0.014392421452118297, 'colsample_bytree': 0.205520180834327, 'subsample': 0.5805562225901447, 'min_child_weight': 619.1563816271901}. Best is trial 3 with value: 0.5058443731386014.\u001b[0m\n",
            "\u001b[32m[I 2022-03-25 18:55:35,686]\u001b[0m Trial 75 finished with value: 0.4740044345128543 and parameters: {'n_estimators': 426, 'max_depth': 13, 'alpha': 1.2413753384478527, 'lambda': 6.511623891589232e-07, 'learning_rate': 0.024950663601633942, 'colsample_bytree': 0.33201924062245025, 'subsample': 0.5007374876974532, 'min_child_weight': 41.0373677123131}. Best is trial 3 with value: 0.5058443731386014.\u001b[0m\n",
            "\u001b[32m[I 2022-03-25 18:55:39,629]\u001b[0m Trial 76 finished with value: 0.4901517376771233 and parameters: {'n_estimators': 527, 'max_depth': 15, 'alpha': 1.5615654751070303, 'lambda': 0.009217067807672447, 'learning_rate': 0.019068383431640384, 'colsample_bytree': 0.2023342660425201, 'subsample': 0.5048175936647674, 'min_child_weight': 420.13017146587237}. Best is trial 3 with value: 0.5058443731386014.\u001b[0m\n",
            "\u001b[32m[I 2022-03-25 18:55:44,470]\u001b[0m Trial 77 finished with value: 0.5058443731386014 and parameters: {'n_estimators': 807, 'max_depth': 19, 'alpha': 0.016197379208096645, 'lambda': 3.123398877842245, 'learning_rate': 0.009687862589971067, 'colsample_bytree': 0.3983020135448026, 'subsample': 0.40281702009945436, 'min_child_weight': 977.2502395440875}. Best is trial 3 with value: 0.5058443731386014.\u001b[0m\n",
            "\u001b[32m[I 2022-03-25 18:55:49,426]\u001b[0m Trial 78 finished with value: 0.5058443731386014 and parameters: {'n_estimators': 787, 'max_depth': 30, 'alpha': 0.014352103825965001, 'lambda': 2.6942491957908494, 'learning_rate': 0.009593735570676526, 'colsample_bytree': 0.470923076403827, 'subsample': 0.4352001954296313, 'min_child_weight': 989.4471083081114}. Best is trial 3 with value: 0.5058443731386014.\u001b[0m\n",
            "\u001b[32m[I 2022-03-25 18:55:51,455]\u001b[0m Trial 79 finished with value: 0.5058443731386014 and parameters: {'n_estimators': 331, 'max_depth': 15, 'alpha': 1.038381451504067, 'lambda': 1.197882525223852, 'learning_rate': 0.017291185009119626, 'colsample_bytree': 0.25673544696907724, 'subsample': 0.5631530948867682, 'min_child_weight': 754.099540365013}. Best is trial 3 with value: 0.5058443731386014.\u001b[0m\n",
            "\u001b[32m[I 2022-03-25 18:55:53,613]\u001b[0m Trial 80 finished with value: 0.5058443731386014 and parameters: {'n_estimators': 355, 'max_depth': 32, 'alpha': 9.894257885275504, 'lambda': 5.265229302179368e-07, 'learning_rate': 0.011300671362579628, 'colsample_bytree': 0.24321258341178495, 'subsample': 0.4344644207063815, 'min_child_weight': 832.284575330847}. Best is trial 3 with value: 0.5058443731386014.\u001b[0m\n",
            "\u001b[32m[I 2022-03-25 18:55:53,829]\u001b[0m Trial 81 finished with value: 0.5058443731386014 and parameters: {'n_estimators': 18, 'max_depth': 28, 'alpha': 0.03454737096642577, 'lambda': 1.5984440594603837, 'learning_rate': 0.034809472986433374, 'colsample_bytree': 0.5778421779219894, 'subsample': 0.5933154317761901, 'min_child_weight': 860.0195930876066}. Best is trial 3 with value: 0.5058443731386014.\u001b[0m\n",
            "\u001b[32m[I 2022-03-25 18:55:59,138]\u001b[0m Trial 82 finished with value: 0.5058443731386014 and parameters: {'n_estimators': 857, 'max_depth': 13, 'alpha': 5.99891739079709, 'lambda': 0.05147382638831771, 'learning_rate': 0.02812198748614451, 'colsample_bytree': 0.5839946321411562, 'subsample': 0.42723249847480543, 'min_child_weight': 515.4392917280599}. Best is trial 3 with value: 0.5058443731386014.\u001b[0m\n",
            "\u001b[32m[I 2022-03-25 18:55:59,349]\u001b[0m Trial 83 finished with value: 0.5058443731386014 and parameters: {'n_estimators': 18, 'max_depth': 16, 'alpha': 0.25082667912945217, 'lambda': 1.5240909734781284e-08, 'learning_rate': 0.03161206800028174, 'colsample_bytree': 0.332052909286223, 'subsample': 0.5905496199225303, 'min_child_weight': 760.896115514983}. Best is trial 3 with value: 0.5058443731386014.\u001b[0m\n",
            "\u001b[32m[I 2022-03-25 18:56:05,506]\u001b[0m Trial 84 finished with value: 0.5058443731386014 and parameters: {'n_estimators': 881, 'max_depth': 13, 'alpha': 1.4064372019126792, 'lambda': 8.950279870165174, 'learning_rate': 0.02937347505469062, 'colsample_bytree': 0.37560439012600755, 'subsample': 0.5730415866921332, 'min_child_weight': 508.2292788727459}. Best is trial 3 with value: 0.5058443731386014.\u001b[0m\n",
            "\u001b[32m[I 2022-03-25 18:56:10,977]\u001b[0m Trial 85 finished with value: 0.5058443731386014 and parameters: {'n_estimators': 922, 'max_depth': 16, 'alpha': 0.2134741224335504, 'lambda': 1.3384309786610937e-08, 'learning_rate': 0.03143438590985171, 'colsample_bytree': 0.3358053119183844, 'subsample': 0.6249634971244907, 'min_child_weight': 692.3302460803321}. Best is trial 3 with value: 0.5058443731386014.\u001b[0m\n",
            "\u001b[32m[I 2022-03-25 18:56:17,435]\u001b[0m Trial 86 finished with value: 0.49961176323320355 and parameters: {'n_estimators': 900, 'max_depth': 21, 'alpha': 0.7207671434007742, 'lambda': 6.485374402899408, 'learning_rate': 0.006115035241914473, 'colsample_bytree': 0.3757159349916634, 'subsample': 0.5732976541595886, 'min_child_weight': 445.96521149095935}. Best is trial 3 with value: 0.5058443731386014.\u001b[0m\n",
            "\u001b[32m[I 2022-03-25 18:56:21,859]\u001b[0m Trial 87 finished with value: 0.5058443731386014 and parameters: {'n_estimators': 727, 'max_depth': 14, 'alpha': 0.022995166352836136, 'lambda': 0.5255324038226584, 'learning_rate': 0.016647150146880566, 'colsample_bytree': 0.26588844539465195, 'subsample': 0.41440485257007753, 'min_child_weight': 572.8026697136578}. Best is trial 3 with value: 0.5058443731386014.\u001b[0m\n",
            "\u001b[32m[I 2022-03-25 18:56:23,813]\u001b[0m Trial 88 finished with value: 0.49337822379045504 and parameters: {'n_estimators': 107, 'max_depth': 19, 'alpha': 0.020180426058218234, 'lambda': 0.5241614765683393, 'learning_rate': 0.016763701741539738, 'colsample_bytree': 0.26653276177650603, 'subsample': 0.5448773634696562, 'min_child_weight': 328.6427787174979}. Best is trial 3 with value: 0.5058443731386014.\u001b[0m\n",
            "\u001b[32m[I 2022-03-25 18:56:31,829]\u001b[0m Trial 89 finished with value: 0.5058443731386014 and parameters: {'n_estimators': 623, 'max_depth': 17, 'alpha': 1.9785755407554122, 'lambda': 0.0005319344037337554, 'learning_rate': 0.008217309074554919, 'colsample_bytree': 0.3509953836610834, 'subsample': 0.4795782477648768, 'min_child_weight': 843.3646295181024}. Best is trial 3 with value: 0.5058443731386014.\u001b[0m\n",
            "\u001b[32m[I 2022-03-25 18:56:39,946]\u001b[0m Trial 90 finished with value: 0.5058443731386014 and parameters: {'n_estimators': 988, 'max_depth': 20, 'alpha': 0.13066818116696255, 'lambda': 0.00038731397756631975, 'learning_rate': 0.044454284640757936, 'colsample_bytree': 0.2540753013941041, 'subsample': 0.516908290078528, 'min_child_weight': 572.5446067795199}. Best is trial 3 with value: 0.5058443731386014.\u001b[0m\n",
            "\u001b[32m[I 2022-03-25 18:56:46,015]\u001b[0m Trial 91 finished with value: 0.5058443731386014 and parameters: {'n_estimators': 982, 'max_depth': 20, 'alpha': 0.11851770679889984, 'lambda': 3.801608744543921e-08, 'learning_rate': 0.037450980535273196, 'colsample_bytree': 0.5061824918185409, 'subsample': 0.634951353349702, 'min_child_weight': 880.1301892239042}. Best is trial 3 with value: 0.5058443731386014.\u001b[0m\n",
            "\u001b[32m[I 2022-03-25 18:56:51,857]\u001b[0m Trial 92 finished with value: 0.5058443731386014 and parameters: {'n_estimators': 947, 'max_depth': 21, 'alpha': 0.13814423179202648, 'lambda': 4.7547236884365466e-08, 'learning_rate': 0.036881082592939006, 'colsample_bytree': 0.5383380585994013, 'subsample': 0.6308419649054683, 'min_child_weight': 894.0764566807086}. Best is trial 3 with value: 0.5058443731386014.\u001b[0m\n",
            "\u001b[32m[I 2022-03-25 18:56:54,497]\u001b[0m Trial 93 finished with value: 0.5058443731386014 and parameters: {'n_estimators': 416, 'max_depth': 9, 'alpha': 4.354940890970271, 'lambda': 9.212832936034566e-08, 'learning_rate': 0.03418209768693778, 'colsample_bytree': 0.5998707876999411, 'subsample': 0.682246188985275, 'min_child_weight': 678.4472598377274}. Best is trial 3 with value: 0.5058443731386014.\u001b[0m\n",
            "\u001b[32m[I 2022-03-25 18:57:00,351]\u001b[0m Trial 94 finished with value: 0.5058443731386014 and parameters: {'n_estimators': 947, 'max_depth': 7, 'alpha': 4.211106972973819, 'lambda': 7.759658283923157e-08, 'learning_rate': 0.034373849948364774, 'colsample_bytree': 0.5878448477135537, 'subsample': 0.7194174121761694, 'min_child_weight': 780.1670750305949}. Best is trial 3 with value: 0.5058443731386014.\u001b[0m\n",
            "\u001b[32m[I 2022-03-25 18:57:00,758]\u001b[0m Trial 95 finished with value: 0.5058443731386014 and parameters: {'n_estimators': 52, 'max_depth': 23, 'alpha': 0.06334220078497833, 'lambda': 5.504204596604328e-05, 'learning_rate': 0.007314212743822457, 'colsample_bytree': 0.2139734436881756, 'subsample': 0.5313077635163158, 'min_child_weight': 634.5448078946378}. Best is trial 3 with value: 0.5058443731386014.\u001b[0m\n",
            "\u001b[32m[I 2022-03-25 18:57:00,879]\u001b[0m Trial 96 finished with value: 0.503394484497176 and parameters: {'n_estimators': 2, 'max_depth': 26, 'alpha': 0.04763988114208901, 'lambda': 0.15521263050055115, 'learning_rate': 0.005335210931107009, 'colsample_bytree': 0.22302085135626695, 'subsample': 0.40150935902178736, 'min_child_weight': 484.4451798002205}. Best is trial 3 with value: 0.5058443731386014.\u001b[0m\n",
            "\u001b[32m[I 2022-03-25 18:57:05,067]\u001b[0m Trial 97 finished with value: 0.5058443731386014 and parameters: {'n_estimators': 697, 'max_depth': 11, 'alpha': 2.6053765263285733, 'lambda': 0.013753539851712434, 'learning_rate': 0.011911899900453002, 'colsample_bytree': 0.20655576342824228, 'subsample': 0.46610348006550734, 'min_child_weight': 692.2197233092164}. Best is trial 3 with value: 0.5058443731386014.\u001b[0m\n",
            "\u001b[32m[I 2022-03-25 18:57:10,103]\u001b[0m Trial 98 finished with value: 0.4914874828500359 and parameters: {'n_estimators': 682, 'max_depth': 11, 'alpha': 3.27364696025664, 'lambda': 0.01726165391460095, 'learning_rate': 0.011908344475086851, 'colsample_bytree': 0.23156945721741679, 'subsample': 0.46544490366010405, 'min_child_weight': 398.7330863204954}. Best is trial 3 with value: 0.5058443731386014.\u001b[0m\n",
            "\u001b[32m[I 2022-03-25 18:57:11,144]\u001b[0m Trial 99 finished with value: 0.5058443731386014 and parameters: {'n_estimators': 153, 'max_depth': 30, 'alpha': 0.10145354162175212, 'lambda': 2.8266746270769e-08, 'learning_rate': 0.03919985325489085, 'colsample_bytree': 0.5657863676436532, 'subsample': 0.6829411815717549, 'min_child_weight': 914.6104315824224}. Best is trial 3 with value: 0.5058443731386014.\u001b[0m\n"
          ]
        }
      ],
      "source": [
        "study_xgb = optuna.create_study(direction='maximize')\n",
        "study_xgb.optimize(objective_xgb, n_trials=100)"
      ]
    },
    {
      "cell_type": "code",
      "execution_count": null,
      "metadata": {
        "colab": {
          "base_uri": "https://localhost:8080/"
        },
        "id": "ZYieJjfvLcWo",
        "outputId": "a0941a20-a3d8-4e3a-dbc0-f6b403d77d20"
      },
      "outputs": [
        {
          "output_type": "stream",
          "name": "stdout",
          "text": [
            "Accuracy: 0.5057893445274417\n",
            "Best hyperparameters: {'n_estimators': 92, 'max_depth': 9, 'alpha': 0.013843824905852703, 'lambda': 3.2930001627625907, 'learning_rate': 0.03963616320315951, 'colsample_bytree': 0.21823073469225618, 'subsample': 0.40583408971376167, 'min_child_weight': 888.1924384667951}\n"
          ]
        }
      ],
      "source": [
        "trial_xgb = study_xgb.best_trial\n",
        "print('Accuracy: {}'.format(trial_xgb.value))\n",
        "print(\"Best hyperparameters: {}\".format(trial_xgb.params))"
      ]
    },
    {
      "cell_type": "code",
      "execution_count": null,
      "metadata": {
        "id": "PTNUbw7MMap0",
        "colab": {
          "base_uri": "https://localhost:8080/"
        },
        "outputId": "208ef606-2265-4ff6-f161-ca93351b5079"
      },
      "outputs": [
        {
          "output_type": "execute_result",
          "data": {
            "text/plain": [
              "0.49"
            ]
          },
          "metadata": {},
          "execution_count": 19
        }
      ],
      "source": [
        "from sklearn.metrics import precision_score\n",
        "# Evaluate error of predictions\n",
        "model_xgb = XGBClassifier(**trial_xgb.params)\n",
        "model_xgb.fit(train[predictors], train[\"Target\"])\n",
        "preds_xgb = model_xgb.predict(test[predictors])\n",
        "preds_xgb = pd.Series(preds_xgb, index=test.index)\n",
        "precision_score(test[\"Target\"], preds_xgb) "
      ]
    },
    {
      "cell_type": "code",
      "source": [
        "\n",
        "\n",
        "\n",
        "\n",
        "          "
      ],
      "metadata": {
        "colab": {
          "base_uri": "https://localhost:8080/",
          "height": 1000
        },
        "id": "N2cWbWmRMkQ8",
        "outputId": "43cfc5e1-0c63-4a83-98ab-a11e064713e0"
      },
      "execution_count": null,
      "outputs": [
        {
          "output_type": "stream",
          "name": "stdout",
          "text": [
            "Collecting optuna\n",
            "  Downloading optuna-2.10.0-py3-none-any.whl (308 kB)\n",
            "\u001b[?25l\r\u001b[K     |█                               | 10 kB 19.3 MB/s eta 0:00:01\r\u001b[K     |██▏                             | 20 kB 9.3 MB/s eta 0:00:01\r\u001b[K     |███▏                            | 30 kB 7.8 MB/s eta 0:00:01\r\u001b[K     |████▎                           | 40 kB 3.6 MB/s eta 0:00:01\r\u001b[K     |█████▎                          | 51 kB 3.6 MB/s eta 0:00:01\r\u001b[K     |██████▍                         | 61 kB 4.3 MB/s eta 0:00:01\r\u001b[K     |███████▍                        | 71 kB 4.4 MB/s eta 0:00:01\r\u001b[K     |████████▌                       | 81 kB 4.8 MB/s eta 0:00:01\r\u001b[K     |█████████▋                      | 92 kB 5.3 MB/s eta 0:00:01\r\u001b[K     |██████████▋                     | 102 kB 4.3 MB/s eta 0:00:01\r\u001b[K     |███████████▊                    | 112 kB 4.3 MB/s eta 0:00:01\r\u001b[K     |████████████▊                   | 122 kB 4.3 MB/s eta 0:00:01\r\u001b[K     |█████████████▉                  | 133 kB 4.3 MB/s eta 0:00:01\r\u001b[K     |██████████████▉                 | 143 kB 4.3 MB/s eta 0:00:01\r\u001b[K     |████████████████                | 153 kB 4.3 MB/s eta 0:00:01\r\u001b[K     |█████████████████               | 163 kB 4.3 MB/s eta 0:00:01\r\u001b[K     |██████████████████              | 174 kB 4.3 MB/s eta 0:00:01\r\u001b[K     |███████████████████▏            | 184 kB 4.3 MB/s eta 0:00:01\r\u001b[K     |████████████████████▏           | 194 kB 4.3 MB/s eta 0:00:01\r\u001b[K     |█████████████████████▎          | 204 kB 4.3 MB/s eta 0:00:01\r\u001b[K     |██████████████████████▎         | 215 kB 4.3 MB/s eta 0:00:01\r\u001b[K     |███████████████████████▍        | 225 kB 4.3 MB/s eta 0:00:01\r\u001b[K     |████████████████████████▌       | 235 kB 4.3 MB/s eta 0:00:01\r\u001b[K     |█████████████████████████▌      | 245 kB 4.3 MB/s eta 0:00:01\r\u001b[K     |██████████████████████████▋     | 256 kB 4.3 MB/s eta 0:00:01\r\u001b[K     |███████████████████████████▋    | 266 kB 4.3 MB/s eta 0:00:01\r\u001b[K     |████████████████████████████▊   | 276 kB 4.3 MB/s eta 0:00:01\r\u001b[K     |█████████████████████████████▊  | 286 kB 4.3 MB/s eta 0:00:01\r\u001b[K     |██████████████████████████████▉ | 296 kB 4.3 MB/s eta 0:00:01\r\u001b[K     |████████████████████████████████| 307 kB 4.3 MB/s eta 0:00:01\r\u001b[K     |████████████████████████████████| 308 kB 4.3 MB/s \n",
            "\u001b[?25hRequirement already satisfied: packaging>=20.0 in /usr/local/lib/python3.7/dist-packages (from optuna) (21.3)\n",
            "Requirement already satisfied: numpy in /usr/local/lib/python3.7/dist-packages (from optuna) (1.21.5)\n",
            "Requirement already satisfied: tqdm in /usr/local/lib/python3.7/dist-packages (from optuna) (4.63.0)\n",
            "Requirement already satisfied: sqlalchemy>=1.1.0 in /usr/local/lib/python3.7/dist-packages (from optuna) (1.4.32)\n",
            "Requirement already satisfied: PyYAML in /usr/local/lib/python3.7/dist-packages (from optuna) (3.13)\n",
            "Collecting colorlog\n",
            "  Downloading colorlog-6.6.0-py2.py3-none-any.whl (11 kB)\n",
            "Collecting cliff\n",
            "  Downloading cliff-3.10.1-py3-none-any.whl (81 kB)\n",
            "\u001b[K     |████████████████████████████████| 81 kB 8.3 MB/s \n",
            "\u001b[?25hRequirement already satisfied: scipy!=1.4.0 in /usr/local/lib/python3.7/dist-packages (from optuna) (1.4.1)\n",
            "Collecting cmaes>=0.8.2\n",
            "  Downloading cmaes-0.8.2-py3-none-any.whl (15 kB)\n",
            "Collecting alembic\n",
            "  Downloading alembic-1.7.7-py3-none-any.whl (210 kB)\n",
            "\u001b[K     |████████████████████████████████| 210 kB 44.6 MB/s \n",
            "\u001b[?25hRequirement already satisfied: pyparsing!=3.0.5,>=2.0.2 in /usr/local/lib/python3.7/dist-packages (from packaging>=20.0->optuna) (3.0.7)\n",
            "Requirement already satisfied: importlib-metadata in /usr/local/lib/python3.7/dist-packages (from sqlalchemy>=1.1.0->optuna) (4.11.3)\n",
            "Requirement already satisfied: greenlet!=0.4.17 in /usr/local/lib/python3.7/dist-packages (from sqlalchemy>=1.1.0->optuna) (1.1.2)\n",
            "Requirement already satisfied: importlib-resources in /usr/local/lib/python3.7/dist-packages (from alembic->optuna) (5.4.0)\n",
            "Collecting Mako\n",
            "  Downloading Mako-1.2.0-py3-none-any.whl (78 kB)\n",
            "\u001b[K     |████████████████████████████████| 78 kB 5.6 MB/s \n",
            "\u001b[?25hCollecting pbr!=2.1.0,>=2.0.0\n",
            "  Downloading pbr-5.8.1-py2.py3-none-any.whl (113 kB)\n",
            "\u001b[K     |████████████████████████████████| 113 kB 55.6 MB/s \n",
            "\u001b[?25hCollecting autopage>=0.4.0\n",
            "  Downloading autopage-0.5.0-py3-none-any.whl (29 kB)\n",
            "Collecting stevedore>=2.0.1\n",
            "  Downloading stevedore-3.5.0-py3-none-any.whl (49 kB)\n",
            "\u001b[K     |████████████████████████████████| 49 kB 5.3 MB/s \n",
            "\u001b[?25hCollecting cmd2>=1.0.0\n",
            "  Downloading cmd2-2.4.0-py3-none-any.whl (150 kB)\n",
            "\u001b[K     |████████████████████████████████| 150 kB 54.5 MB/s \n",
            "\u001b[?25hRequirement already satisfied: PrettyTable>=0.7.2 in /usr/local/lib/python3.7/dist-packages (from cliff->optuna) (3.2.0)\n",
            "Collecting pyperclip>=1.6\n",
            "  Downloading pyperclip-1.8.2.tar.gz (20 kB)\n",
            "Requirement already satisfied: typing-extensions in /usr/local/lib/python3.7/dist-packages (from cmd2>=1.0.0->cliff->optuna) (3.10.0.2)\n",
            "Requirement already satisfied: wcwidth>=0.1.7 in /usr/local/lib/python3.7/dist-packages (from cmd2>=1.0.0->cliff->optuna) (0.2.5)\n",
            "Requirement already satisfied: attrs>=16.3.0 in /usr/local/lib/python3.7/dist-packages (from cmd2>=1.0.0->cliff->optuna) (21.4.0)\n",
            "Requirement already satisfied: zipp>=0.5 in /usr/local/lib/python3.7/dist-packages (from importlib-metadata->sqlalchemy>=1.1.0->optuna) (3.7.0)\n",
            "Requirement already satisfied: MarkupSafe>=0.9.2 in /usr/local/lib/python3.7/dist-packages (from Mako->alembic->optuna) (2.0.1)\n",
            "Building wheels for collected packages: pyperclip\n",
            "  Building wheel for pyperclip (setup.py) ... \u001b[?25l\u001b[?25hdone\n",
            "  Created wheel for pyperclip: filename=pyperclip-1.8.2-py3-none-any.whl size=11137 sha256=51d7c4e1831cbb74e9ccffac49bf9f7a39eb920d7e0d3ca307c9b47f39659d2a\n",
            "  Stored in directory: /root/.cache/pip/wheels/9f/18/84/8f69f8b08169c7bae2dde6bd7daf0c19fca8c8e500ee620a28\n",
            "Successfully built pyperclip\n",
            "Installing collected packages: pyperclip, pbr, stevedore, Mako, cmd2, autopage, colorlog, cmaes, cliff, alembic, optuna\n",
            "Successfully installed Mako-1.2.0 alembic-1.7.7 autopage-0.5.0 cliff-3.10.1 cmaes-0.8.2 cmd2-2.4.0 colorlog-6.6.0 optuna-2.10.0 pbr-5.8.1 pyperclip-1.8.2 stevedore-3.5.0\n"
          ]
        },
        {
          "output_type": "stream",
          "name": "stderr",
          "text": [
            "\u001b[32m[I 2022-03-25 17:58:56,757]\u001b[0m A new study created in memory with name: no-name-d742906b-bcb5-42f1-b28d-12c1e8705843\u001b[0m\n",
            "\u001b[33m[W 2022-03-25 17:58:56,761]\u001b[0m Trial 0 failed because of the following error: NameError(\"name 'train' is not defined\")\u001b[0m\n",
            "Traceback (most recent call last):\n",
            "  File \"/usr/local/lib/python3.7/dist-packages/optuna/study/_optimize.py\", line 213, in _run_trial\n",
            "    value_or_values = func(trial)\n",
            "  File \"<ipython-input-4-1df2282d3daa>\", line 22, in objective_dtc\n",
            "    max_depth = trial.suggest_int('max_depth', 5, train.shape[1])\n",
            "NameError: name 'train' is not defined\n"
          ]
        },
        {
          "output_type": "error",
          "ename": "NameError",
          "evalue": "ignored",
          "traceback": [
            "\u001b[0;31m---------------------------------------------------------------------------\u001b[0m",
            "\u001b[0;31mNameError\u001b[0m                                 Traceback (most recent call last)",
            "\u001b[0;32m<ipython-input-4-1df2282d3daa>\u001b[0m in \u001b[0;36m<module>\u001b[0;34m()\u001b[0m\n\u001b[1;32m     29\u001b[0m \u001b[0;34m\u001b[0m\u001b[0m\n\u001b[1;32m     30\u001b[0m \u001b[0;34m\u001b[0m\u001b[0m\n\u001b[0;32m---> 31\u001b[0;31m \u001b[0mbest_trial_dtc\u001b[0m \u001b[0;34m=\u001b[0m \u001b[0mbest_trial\u001b[0m\u001b[0;34m(\u001b[0m\u001b[0mobjective_dtc\u001b[0m\u001b[0;34m,\u001b[0m \u001b[0;36m100\u001b[0m\u001b[0;34m)\u001b[0m\u001b[0;34m\u001b[0m\u001b[0;34m\u001b[0m\u001b[0m\n\u001b[0m\u001b[1;32m     32\u001b[0m \u001b[0;34m\u001b[0m\u001b[0m\n",
            "\u001b[0;32m<ipython-input-4-1df2282d3daa>\u001b[0m in \u001b[0;36mbest_trial\u001b[0;34m(objective, nb_trials)\u001b[0m\n\u001b[1;32m      3\u001b[0m \u001b[0;32mdef\u001b[0m \u001b[0mbest_trial\u001b[0m\u001b[0;34m(\u001b[0m\u001b[0mobjective\u001b[0m\u001b[0;34m,\u001b[0m \u001b[0mnb_trials\u001b[0m\u001b[0;34m)\u001b[0m\u001b[0;34m:\u001b[0m\u001b[0;34m\u001b[0m\u001b[0;34m\u001b[0m\u001b[0m\n\u001b[1;32m      4\u001b[0m   \u001b[0mstudy\u001b[0m \u001b[0;34m=\u001b[0m \u001b[0moptuna\u001b[0m\u001b[0;34m.\u001b[0m\u001b[0mcreate_study\u001b[0m\u001b[0;34m(\u001b[0m\u001b[0mdirection\u001b[0m\u001b[0;34m=\u001b[0m\u001b[0;34m'maximize'\u001b[0m\u001b[0;34m)\u001b[0m\u001b[0;34m\u001b[0m\u001b[0;34m\u001b[0m\u001b[0m\n\u001b[0;32m----> 5\u001b[0;31m   \u001b[0mstudy\u001b[0m\u001b[0;34m.\u001b[0m\u001b[0moptimize\u001b[0m\u001b[0;34m(\u001b[0m\u001b[0mobjective\u001b[0m\u001b[0;34m,\u001b[0m \u001b[0mn_trials\u001b[0m\u001b[0;34m=\u001b[0m \u001b[0mnb_trials\u001b[0m\u001b[0;34m)\u001b[0m\u001b[0;34m\u001b[0m\u001b[0;34m\u001b[0m\u001b[0m\n\u001b[0m\u001b[1;32m      6\u001b[0m   \u001b[0mtrial\u001b[0m \u001b[0;34m=\u001b[0m \u001b[0mstudy\u001b[0m\u001b[0;34m.\u001b[0m\u001b[0mbest_trial\u001b[0m\u001b[0;34m\u001b[0m\u001b[0;34m\u001b[0m\u001b[0m\n\u001b[1;32m      7\u001b[0m   \u001b[0mprint\u001b[0m\u001b[0;34m(\u001b[0m\u001b[0;34m'Accuracy: {}'\u001b[0m\u001b[0;34m.\u001b[0m\u001b[0mformat\u001b[0m\u001b[0;34m(\u001b[0m\u001b[0mtrial\u001b[0m\u001b[0;34m.\u001b[0m\u001b[0mvalue\u001b[0m\u001b[0;34m)\u001b[0m\u001b[0;34m)\u001b[0m\u001b[0;34m\u001b[0m\u001b[0;34m\u001b[0m\u001b[0m\n",
            "\u001b[0;32m/usr/local/lib/python3.7/dist-packages/optuna/study/study.py\u001b[0m in \u001b[0;36moptimize\u001b[0;34m(self, func, n_trials, timeout, n_jobs, catch, callbacks, gc_after_trial, show_progress_bar)\u001b[0m\n\u001b[1;32m    407\u001b[0m             \u001b[0mcallbacks\u001b[0m\u001b[0;34m=\u001b[0m\u001b[0mcallbacks\u001b[0m\u001b[0;34m,\u001b[0m\u001b[0;34m\u001b[0m\u001b[0;34m\u001b[0m\u001b[0m\n\u001b[1;32m    408\u001b[0m             \u001b[0mgc_after_trial\u001b[0m\u001b[0;34m=\u001b[0m\u001b[0mgc_after_trial\u001b[0m\u001b[0;34m,\u001b[0m\u001b[0;34m\u001b[0m\u001b[0;34m\u001b[0m\u001b[0m\n\u001b[0;32m--> 409\u001b[0;31m             \u001b[0mshow_progress_bar\u001b[0m\u001b[0;34m=\u001b[0m\u001b[0mshow_progress_bar\u001b[0m\u001b[0;34m,\u001b[0m\u001b[0;34m\u001b[0m\u001b[0;34m\u001b[0m\u001b[0m\n\u001b[0m\u001b[1;32m    410\u001b[0m         )\n\u001b[1;32m    411\u001b[0m \u001b[0;34m\u001b[0m\u001b[0m\n",
            "\u001b[0;32m/usr/local/lib/python3.7/dist-packages/optuna/study/_optimize.py\u001b[0m in \u001b[0;36m_optimize\u001b[0;34m(study, func, n_trials, timeout, n_jobs, catch, callbacks, gc_after_trial, show_progress_bar)\u001b[0m\n\u001b[1;32m     74\u001b[0m                 \u001b[0mreseed_sampler_rng\u001b[0m\u001b[0;34m=\u001b[0m\u001b[0;32mFalse\u001b[0m\u001b[0;34m,\u001b[0m\u001b[0;34m\u001b[0m\u001b[0;34m\u001b[0m\u001b[0m\n\u001b[1;32m     75\u001b[0m                 \u001b[0mtime_start\u001b[0m\u001b[0;34m=\u001b[0m\u001b[0;32mNone\u001b[0m\u001b[0;34m,\u001b[0m\u001b[0;34m\u001b[0m\u001b[0;34m\u001b[0m\u001b[0m\n\u001b[0;32m---> 76\u001b[0;31m                 \u001b[0mprogress_bar\u001b[0m\u001b[0;34m=\u001b[0m\u001b[0mprogress_bar\u001b[0m\u001b[0;34m,\u001b[0m\u001b[0;34m\u001b[0m\u001b[0;34m\u001b[0m\u001b[0m\n\u001b[0m\u001b[1;32m     77\u001b[0m             )\n\u001b[1;32m     78\u001b[0m         \u001b[0;32melse\u001b[0m\u001b[0;34m:\u001b[0m\u001b[0;34m\u001b[0m\u001b[0;34m\u001b[0m\u001b[0m\n",
            "\u001b[0;32m/usr/local/lib/python3.7/dist-packages/optuna/study/_optimize.py\u001b[0m in \u001b[0;36m_optimize_sequential\u001b[0;34m(study, func, n_trials, timeout, catch, callbacks, gc_after_trial, reseed_sampler_rng, time_start, progress_bar)\u001b[0m\n\u001b[1;32m    161\u001b[0m \u001b[0;34m\u001b[0m\u001b[0m\n\u001b[1;32m    162\u001b[0m         \u001b[0;32mtry\u001b[0m\u001b[0;34m:\u001b[0m\u001b[0;34m\u001b[0m\u001b[0;34m\u001b[0m\u001b[0m\n\u001b[0;32m--> 163\u001b[0;31m             \u001b[0mtrial\u001b[0m \u001b[0;34m=\u001b[0m \u001b[0m_run_trial\u001b[0m\u001b[0;34m(\u001b[0m\u001b[0mstudy\u001b[0m\u001b[0;34m,\u001b[0m \u001b[0mfunc\u001b[0m\u001b[0;34m,\u001b[0m \u001b[0mcatch\u001b[0m\u001b[0;34m)\u001b[0m\u001b[0;34m\u001b[0m\u001b[0;34m\u001b[0m\u001b[0m\n\u001b[0m\u001b[1;32m    164\u001b[0m         \u001b[0;32mexcept\u001b[0m \u001b[0mException\u001b[0m\u001b[0;34m:\u001b[0m\u001b[0;34m\u001b[0m\u001b[0;34m\u001b[0m\u001b[0m\n\u001b[1;32m    165\u001b[0m             \u001b[0;32mraise\u001b[0m\u001b[0;34m\u001b[0m\u001b[0;34m\u001b[0m\u001b[0m\n",
            "\u001b[0;32m/usr/local/lib/python3.7/dist-packages/optuna/study/_optimize.py\u001b[0m in \u001b[0;36m_run_trial\u001b[0;34m(study, func, catch)\u001b[0m\n\u001b[1;32m    262\u001b[0m \u001b[0;34m\u001b[0m\u001b[0m\n\u001b[1;32m    263\u001b[0m     \u001b[0;32mif\u001b[0m \u001b[0mstate\u001b[0m \u001b[0;34m==\u001b[0m \u001b[0mTrialState\u001b[0m\u001b[0;34m.\u001b[0m\u001b[0mFAIL\u001b[0m \u001b[0;32mand\u001b[0m \u001b[0mfunc_err\u001b[0m \u001b[0;32mis\u001b[0m \u001b[0;32mnot\u001b[0m \u001b[0;32mNone\u001b[0m \u001b[0;32mand\u001b[0m \u001b[0;32mnot\u001b[0m \u001b[0misinstance\u001b[0m\u001b[0;34m(\u001b[0m\u001b[0mfunc_err\u001b[0m\u001b[0;34m,\u001b[0m \u001b[0mcatch\u001b[0m\u001b[0;34m)\u001b[0m\u001b[0;34m:\u001b[0m\u001b[0;34m\u001b[0m\u001b[0;34m\u001b[0m\u001b[0m\n\u001b[0;32m--> 264\u001b[0;31m         \u001b[0;32mraise\u001b[0m \u001b[0mfunc_err\u001b[0m\u001b[0;34m\u001b[0m\u001b[0;34m\u001b[0m\u001b[0m\n\u001b[0m\u001b[1;32m    265\u001b[0m     \u001b[0;32mreturn\u001b[0m \u001b[0mtrial\u001b[0m\u001b[0;34m\u001b[0m\u001b[0;34m\u001b[0m\u001b[0m\n\u001b[1;32m    266\u001b[0m \u001b[0;34m\u001b[0m\u001b[0m\n",
            "\u001b[0;32m/usr/local/lib/python3.7/dist-packages/optuna/study/_optimize.py\u001b[0m in \u001b[0;36m_run_trial\u001b[0;34m(study, func, catch)\u001b[0m\n\u001b[1;32m    211\u001b[0m \u001b[0;34m\u001b[0m\u001b[0m\n\u001b[1;32m    212\u001b[0m     \u001b[0;32mtry\u001b[0m\u001b[0;34m:\u001b[0m\u001b[0;34m\u001b[0m\u001b[0;34m\u001b[0m\u001b[0m\n\u001b[0;32m--> 213\u001b[0;31m         \u001b[0mvalue_or_values\u001b[0m \u001b[0;34m=\u001b[0m \u001b[0mfunc\u001b[0m\u001b[0;34m(\u001b[0m\u001b[0mtrial\u001b[0m\u001b[0;34m)\u001b[0m\u001b[0;34m\u001b[0m\u001b[0;34m\u001b[0m\u001b[0m\n\u001b[0m\u001b[1;32m    214\u001b[0m     \u001b[0;32mexcept\u001b[0m \u001b[0mexceptions\u001b[0m\u001b[0;34m.\u001b[0m\u001b[0mTrialPruned\u001b[0m \u001b[0;32mas\u001b[0m \u001b[0me\u001b[0m\u001b[0;34m:\u001b[0m\u001b[0;34m\u001b[0m\u001b[0;34m\u001b[0m\u001b[0m\n\u001b[1;32m    215\u001b[0m         \u001b[0;31m# TODO(mamu): Handle multi-objective cases.\u001b[0m\u001b[0;34m\u001b[0m\u001b[0;34m\u001b[0m\u001b[0;34m\u001b[0m\u001b[0m\n",
            "\u001b[0;32m<ipython-input-4-1df2282d3daa>\u001b[0m in \u001b[0;36mobjective_dtc\u001b[0;34m(trial)\u001b[0m\n\u001b[1;32m     20\u001b[0m \u001b[0;31m#DecisionTreeClassifier\u001b[0m\u001b[0;34m\u001b[0m\u001b[0;34m\u001b[0m\u001b[0;34m\u001b[0m\u001b[0m\n\u001b[1;32m     21\u001b[0m \u001b[0;32mdef\u001b[0m \u001b[0mobjective_dtc\u001b[0m\u001b[0;34m(\u001b[0m\u001b[0mtrial\u001b[0m\u001b[0;34m)\u001b[0m\u001b[0;34m:\u001b[0m\u001b[0;34m\u001b[0m\u001b[0;34m\u001b[0m\u001b[0m\n\u001b[0;32m---> 22\u001b[0;31m   \u001b[0mmax_depth\u001b[0m \u001b[0;34m=\u001b[0m \u001b[0mtrial\u001b[0m\u001b[0;34m.\u001b[0m\u001b[0msuggest_int\u001b[0m\u001b[0;34m(\u001b[0m\u001b[0;34m'max_depth'\u001b[0m\u001b[0;34m,\u001b[0m \u001b[0;36m5\u001b[0m\u001b[0;34m,\u001b[0m \u001b[0mtrain\u001b[0m\u001b[0;34m.\u001b[0m\u001b[0mshape\u001b[0m\u001b[0;34m[\u001b[0m\u001b[0;36m1\u001b[0m\u001b[0;34m]\u001b[0m\u001b[0;34m)\u001b[0m\u001b[0;34m\u001b[0m\u001b[0;34m\u001b[0m\u001b[0m\n\u001b[0m\u001b[1;32m     23\u001b[0m   \u001b[0mmin_samples_split\u001b[0m \u001b[0;34m=\u001b[0m \u001b[0mtrial\u001b[0m\u001b[0;34m.\u001b[0m\u001b[0msuggest_int\u001b[0m\u001b[0;34m(\u001b[0m\u001b[0;34m'min_samples_split'\u001b[0m\u001b[0;34m,\u001b[0m \u001b[0;36m2\u001b[0m\u001b[0;34m,\u001b[0m \u001b[0;36m20\u001b[0m\u001b[0;34m)\u001b[0m\u001b[0;34m\u001b[0m\u001b[0;34m\u001b[0m\u001b[0m\n\u001b[1;32m     24\u001b[0m   \u001b[0mmin_samples_leaf\u001b[0m \u001b[0;34m=\u001b[0m \u001b[0mtrial\u001b[0m\u001b[0;34m.\u001b[0m\u001b[0msuggest_int\u001b[0m\u001b[0;34m(\u001b[0m\u001b[0;34m'min_samples_leaf'\u001b[0m\u001b[0;34m,\u001b[0m \u001b[0;36m2\u001b[0m\u001b[0;34m,\u001b[0m \u001b[0;36m20\u001b[0m\u001b[0;34m)\u001b[0m\u001b[0;34m\u001b[0m\u001b[0;34m\u001b[0m\u001b[0m\n",
            "\u001b[0;31mNameError\u001b[0m: name 'train' is not defined"
          ]
        }
      ]
    },
    {
      "cell_type": "code",
      "source": [
        "\n",
        "\n"
      ],
      "metadata": {
        "colab": {
          "base_uri": "https://localhost:8080/"
        },
        "id": "NT3EnswHW_uQ",
        "outputId": "65a7e68e-d945-4782-c906-eb0b187a6b06"
      },
      "execution_count": null,
      "outputs": [
        {
          "output_type": "stream",
          "name": "stdout",
          "text": [
            "0.4857142857142857\n"
          ]
        }
      ]
    },
    {
      "cell_type": "code",
      "source": [
        "from sklearn.ensemble import GradientBoostingClassifier\n",
        "#gradient boosting classifier\n",
        "\n",
        "def objective_gbc(trial):\n",
        "  params = {\n",
        "      \"n_estimators\": optuna.distributions.IntUniformDistribution(50, 100),\n",
        "      \"max_depth\": optuna.distributions.IntLogUniformDistribution(2, 7),\n",
        "      \"learning_rate\": optuna.distributions.UniformDistribution(0, 1)\n",
        "  }\n",
        "  clf = GradientBoostingClassifier(**params)\n",
        "  return sklearn.model_selection.cross_val_score(clf, train[predictors], train[\"Target\"], \n",
        "           n_jobs=-1, cv=5).mean()\n",
        "\n",
        "\n",
        "best_trial_gbc = best_trial(objective_gbc, 100)\n",
        "\n",
        "# Evaluate error of predictions\n",
        "precision(GradientBoostingClassifier(best_trial_gbc.params))"
      ],
      "metadata": {
        "colab": {
          "base_uri": "https://localhost:8080/",
          "height": 245
        },
        "id": "C1JHIupUQQpv",
        "outputId": "2141004c-30f4-4fec-c2d0-723b8a5b9efd"
      },
      "execution_count": null,
      "outputs": [
        {
          "output_type": "error",
          "ename": "NameError",
          "evalue": "ignored",
          "traceback": [
            "\u001b[0;31m---------------------------------------------------------------------------\u001b[0m",
            "\u001b[0;31mNameError\u001b[0m                                 Traceback (most recent call last)",
            "\u001b[0;32m<ipython-input-1-0fd6fd14d546>\u001b[0m in \u001b[0;36m<module>\u001b[0;34m()\u001b[0m\n\u001b[1;32m     13\u001b[0m \u001b[0;34m\u001b[0m\u001b[0m\n\u001b[1;32m     14\u001b[0m \u001b[0;34m\u001b[0m\u001b[0m\n\u001b[0;32m---> 15\u001b[0;31m \u001b[0mbest_trial_gbc\u001b[0m \u001b[0;34m=\u001b[0m \u001b[0mbest_trial\u001b[0m\u001b[0;34m(\u001b[0m\u001b[0mobjective_gbc\u001b[0m\u001b[0;34m,\u001b[0m \u001b[0;36m100\u001b[0m\u001b[0;34m)\u001b[0m\u001b[0;34m\u001b[0m\u001b[0;34m\u001b[0m\u001b[0m\n\u001b[0m\u001b[1;32m     16\u001b[0m \u001b[0;34m\u001b[0m\u001b[0m\n\u001b[1;32m     17\u001b[0m \u001b[0;31m# Evaluate error of predictions\u001b[0m\u001b[0;34m\u001b[0m\u001b[0;34m\u001b[0m\u001b[0;34m\u001b[0m\u001b[0m\n",
            "\u001b[0;31mNameError\u001b[0m: name 'best_trial' is not defined"
          ]
        }
      ]
    },
    {
      "cell_type": "code",
      "execution_count": null,
      "metadata": {
        "id": "MburZJw9yolv"
      },
      "outputs": [],
      "source": [
        "import keras.layers as kl\n",
        "from keras.models import Model\n",
        "from keras import regularizers\n",
        "#define the LSTM neural network\n",
        "input_data = kl.Input(shape=(1,train.shape[1]))\n",
        "lstm = kl.LSTM(5, input_shape=(1,train.shape[1]), return_sequences=True, activity_regularizer=regularizers.l2(0.003),\n",
        "                       recurrent_regularizer=regularizers.l2(0), dropout=0.2, recurrent_dropout=0.2)(input_data)\n",
        "perc = kl.Dense(5, activation=\"sigmoid\", activity_regularizer=regularizers.l2(0.005))(lstm)\n",
        "lstm2 = kl.LSTM(2, activity_regularizer=regularizers.l2(0.01), recurrent_regularizer=regularizers.l2(0.001),\n",
        "                        dropout=0.2, recurrent_dropout=0.2)(perc)\n",
        "out = kl.Dense(1, activation=\"sigmoid\", activity_regularizer=regularizers.l2(0.001))(lstm2)\n",
        "lstmNN=Model(input_data, out)\n",
        "lstmNN._estimator_type = \"classifier\""
      ]
    },
    {
      "cell_type": "code",
      "execution_count": null,
      "metadata": {
        "id": "QZJmwVyG9gKN"
      },
      "outputs": [],
      "source": [
        "\n",
        "from xgboost import XGBClassifier\n",
        "#define base models\n",
        "level0 = []\n",
        "level0.append(('rf', RandomForestClassifier(n_estimators=100, min_samples_split=200, random_state=1)))\n",
        "# level0.append(('lstm', lstmNN))\n",
        "level0.append(('xgbc', XGBClassifier()))"
      ]
    },
    {
      "cell_type": "code",
      "execution_count": null,
      "metadata": {
        "colab": {
          "base_uri": "https://localhost:8080/",
          "height": 471
        },
        "id": "aswh_9lII1zR",
        "outputId": "2fe64920-fe0b-4642-9c8d-eb979f4b165b"
      },
      "outputs": [
        {
          "ename": "TypeError",
          "evalue": "ignored",
          "output_type": "error",
          "traceback": [
            "\u001b[0;31m---------------------------------------------------------------------------\u001b[0m",
            "\u001b[0;31mEmpty\u001b[0m                                     Traceback (most recent call last)",
            "\u001b[0;32m/usr/local/lib/python3.7/dist-packages/joblib/parallel.py\u001b[0m in \u001b[0;36mdispatch_one_batch\u001b[0;34m(self, iterator)\u001b[0m\n\u001b[1;32m    821\u001b[0m             \u001b[0;32mtry\u001b[0m\u001b[0;34m:\u001b[0m\u001b[0;34m\u001b[0m\u001b[0;34m\u001b[0m\u001b[0m\n\u001b[0;32m--> 822\u001b[0;31m                 \u001b[0mtasks\u001b[0m \u001b[0;34m=\u001b[0m \u001b[0mself\u001b[0m\u001b[0;34m.\u001b[0m\u001b[0m_ready_batches\u001b[0m\u001b[0;34m.\u001b[0m\u001b[0mget\u001b[0m\u001b[0;34m(\u001b[0m\u001b[0mblock\u001b[0m\u001b[0;34m=\u001b[0m\u001b[0;32mFalse\u001b[0m\u001b[0;34m)\u001b[0m\u001b[0;34m\u001b[0m\u001b[0;34m\u001b[0m\u001b[0m\n\u001b[0m\u001b[1;32m    823\u001b[0m             \u001b[0;32mexcept\u001b[0m \u001b[0mqueue\u001b[0m\u001b[0;34m.\u001b[0m\u001b[0mEmpty\u001b[0m\u001b[0;34m:\u001b[0m\u001b[0;34m\u001b[0m\u001b[0;34m\u001b[0m\u001b[0m\n",
            "\u001b[0;32m/usr/lib/python3.7/queue.py\u001b[0m in \u001b[0;36mget\u001b[0;34m(self, block, timeout)\u001b[0m\n\u001b[1;32m    166\u001b[0m                 \u001b[0;32mif\u001b[0m \u001b[0;32mnot\u001b[0m \u001b[0mself\u001b[0m\u001b[0;34m.\u001b[0m\u001b[0m_qsize\u001b[0m\u001b[0;34m(\u001b[0m\u001b[0;34m)\u001b[0m\u001b[0;34m:\u001b[0m\u001b[0;34m\u001b[0m\u001b[0;34m\u001b[0m\u001b[0m\n\u001b[0;32m--> 167\u001b[0;31m                     \u001b[0;32mraise\u001b[0m \u001b[0mEmpty\u001b[0m\u001b[0;34m\u001b[0m\u001b[0;34m\u001b[0m\u001b[0m\n\u001b[0m\u001b[1;32m    168\u001b[0m             \u001b[0;32melif\u001b[0m \u001b[0mtimeout\u001b[0m \u001b[0;32mis\u001b[0m \u001b[0;32mNone\u001b[0m\u001b[0;34m:\u001b[0m\u001b[0;34m\u001b[0m\u001b[0;34m\u001b[0m\u001b[0m\n",
            "\u001b[0;31mEmpty\u001b[0m: ",
            "\nDuring handling of the above exception, another exception occurred:\n",
            "\u001b[0;31mTypeError\u001b[0m                                 Traceback (most recent call last)",
            "\u001b[0;32m<ipython-input-38-3db18a590cf3>\u001b[0m in \u001b[0;36m<module>\u001b[0;34m()\u001b[0m\n\u001b[1;32m      8\u001b[0m \u001b[0mmodel\u001b[0m \u001b[0;34m=\u001b[0m \u001b[0mStackingClassifier\u001b[0m\u001b[0;34m(\u001b[0m\u001b[0mestimators\u001b[0m\u001b[0;34m=\u001b[0m\u001b[0mlevel0\u001b[0m\u001b[0;34m,\u001b[0m \u001b[0mfinal_estimator\u001b[0m\u001b[0;34m=\u001b[0m\u001b[0mlevel1\u001b[0m\u001b[0;34m,\u001b[0m \u001b[0mcv\u001b[0m\u001b[0;34m=\u001b[0m\u001b[0;36m5\u001b[0m\u001b[0;34m)\u001b[0m\u001b[0;34m\u001b[0m\u001b[0;34m\u001b[0m\u001b[0m\n\u001b[1;32m      9\u001b[0m \u001b[0;31m# fit the model on all available data\u001b[0m\u001b[0;34m\u001b[0m\u001b[0;34m\u001b[0m\u001b[0;34m\u001b[0m\u001b[0m\n\u001b[0;32m---> 10\u001b[0;31m \u001b[0mmodel\u001b[0m\u001b[0;34m.\u001b[0m\u001b[0mfit\u001b[0m\u001b[0;34m(\u001b[0m\u001b[0mtrain\u001b[0m\u001b[0;34m[\u001b[0m\u001b[0mpredictors\u001b[0m\u001b[0;34m]\u001b[0m\u001b[0;34m,\u001b[0m \u001b[0mtrain\u001b[0m\u001b[0;34m[\u001b[0m\u001b[0;34m\"Target\"\u001b[0m\u001b[0;34m]\u001b[0m\u001b[0;34m)\u001b[0m\u001b[0;34m\u001b[0m\u001b[0;34m\u001b[0m\u001b[0m\n\u001b[0m",
            "\u001b[0;32m/usr/local/lib/python3.7/dist-packages/sklearn/ensemble/_stacking.py\u001b[0m in \u001b[0;36mfit\u001b[0;34m(self, X, y, sample_weight)\u001b[0m\n\u001b[1;32m    486\u001b[0m         \u001b[0mself\u001b[0m\u001b[0;34m.\u001b[0m\u001b[0m_le\u001b[0m \u001b[0;34m=\u001b[0m \u001b[0mLabelEncoder\u001b[0m\u001b[0;34m(\u001b[0m\u001b[0;34m)\u001b[0m\u001b[0;34m.\u001b[0m\u001b[0mfit\u001b[0m\u001b[0;34m(\u001b[0m\u001b[0my\u001b[0m\u001b[0;34m)\u001b[0m\u001b[0;34m\u001b[0m\u001b[0;34m\u001b[0m\u001b[0m\n\u001b[1;32m    487\u001b[0m         \u001b[0mself\u001b[0m\u001b[0;34m.\u001b[0m\u001b[0mclasses_\u001b[0m \u001b[0;34m=\u001b[0m \u001b[0mself\u001b[0m\u001b[0;34m.\u001b[0m\u001b[0m_le\u001b[0m\u001b[0;34m.\u001b[0m\u001b[0mclasses_\u001b[0m\u001b[0;34m\u001b[0m\u001b[0;34m\u001b[0m\u001b[0m\n\u001b[0;32m--> 488\u001b[0;31m         \u001b[0;32mreturn\u001b[0m \u001b[0msuper\u001b[0m\u001b[0;34m(\u001b[0m\u001b[0;34m)\u001b[0m\u001b[0;34m.\u001b[0m\u001b[0mfit\u001b[0m\u001b[0;34m(\u001b[0m\u001b[0mX\u001b[0m\u001b[0;34m,\u001b[0m \u001b[0mself\u001b[0m\u001b[0;34m.\u001b[0m\u001b[0m_le\u001b[0m\u001b[0;34m.\u001b[0m\u001b[0mtransform\u001b[0m\u001b[0;34m(\u001b[0m\u001b[0my\u001b[0m\u001b[0;34m)\u001b[0m\u001b[0;34m,\u001b[0m \u001b[0msample_weight\u001b[0m\u001b[0;34m)\u001b[0m\u001b[0;34m\u001b[0m\u001b[0;34m\u001b[0m\u001b[0m\n\u001b[0m\u001b[1;32m    489\u001b[0m \u001b[0;34m\u001b[0m\u001b[0m\n\u001b[1;32m    490\u001b[0m     \u001b[0;34m@\u001b[0m\u001b[0mif_delegate_has_method\u001b[0m\u001b[0;34m(\u001b[0m\u001b[0mdelegate\u001b[0m\u001b[0;34m=\u001b[0m\u001b[0;34m\"final_estimator_\"\u001b[0m\u001b[0;34m)\u001b[0m\u001b[0;34m\u001b[0m\u001b[0;34m\u001b[0m\u001b[0m\n",
            "\u001b[0;32m/usr/local/lib/python3.7/dist-packages/sklearn/ensemble/_stacking.py\u001b[0m in \u001b[0;36mfit\u001b[0;34m(self, X, y, sample_weight)\u001b[0m\n\u001b[1;32m    158\u001b[0m         self.estimators_ = Parallel(n_jobs=self.n_jobs)(\n\u001b[1;32m    159\u001b[0m             \u001b[0mdelayed\u001b[0m\u001b[0;34m(\u001b[0m\u001b[0m_fit_single_estimator\u001b[0m\u001b[0;34m)\u001b[0m\u001b[0;34m(\u001b[0m\u001b[0mclone\u001b[0m\u001b[0;34m(\u001b[0m\u001b[0mest\u001b[0m\u001b[0;34m)\u001b[0m\u001b[0;34m,\u001b[0m \u001b[0mX\u001b[0m\u001b[0;34m,\u001b[0m \u001b[0my\u001b[0m\u001b[0;34m,\u001b[0m \u001b[0msample_weight\u001b[0m\u001b[0;34m)\u001b[0m\u001b[0;34m\u001b[0m\u001b[0;34m\u001b[0m\u001b[0m\n\u001b[0;32m--> 160\u001b[0;31m             \u001b[0;32mfor\u001b[0m \u001b[0mest\u001b[0m \u001b[0;32min\u001b[0m \u001b[0mall_estimators\u001b[0m\u001b[0;34m\u001b[0m\u001b[0;34m\u001b[0m\u001b[0m\n\u001b[0m\u001b[1;32m    161\u001b[0m             \u001b[0;32mif\u001b[0m \u001b[0mest\u001b[0m \u001b[0;34m!=\u001b[0m \u001b[0;34m\"drop\"\u001b[0m\u001b[0;34m\u001b[0m\u001b[0;34m\u001b[0m\u001b[0m\n\u001b[1;32m    162\u001b[0m         )\n",
            "\u001b[0;32m/usr/local/lib/python3.7/dist-packages/joblib/parallel.py\u001b[0m in \u001b[0;36m__call__\u001b[0;34m(self, iterable)\u001b[0m\n\u001b[1;32m   1044\u001b[0m                 \u001b[0mself\u001b[0m\u001b[0;34m.\u001b[0m\u001b[0m_iterating\u001b[0m \u001b[0;34m=\u001b[0m \u001b[0mself\u001b[0m\u001b[0;34m.\u001b[0m\u001b[0m_original_iterator\u001b[0m \u001b[0;32mis\u001b[0m \u001b[0;32mnot\u001b[0m \u001b[0;32mNone\u001b[0m\u001b[0;34m\u001b[0m\u001b[0;34m\u001b[0m\u001b[0m\n\u001b[1;32m   1045\u001b[0m \u001b[0;34m\u001b[0m\u001b[0m\n\u001b[0;32m-> 1046\u001b[0;31m             \u001b[0;32mwhile\u001b[0m \u001b[0mself\u001b[0m\u001b[0;34m.\u001b[0m\u001b[0mdispatch_one_batch\u001b[0m\u001b[0;34m(\u001b[0m\u001b[0miterator\u001b[0m\u001b[0;34m)\u001b[0m\u001b[0;34m:\u001b[0m\u001b[0;34m\u001b[0m\u001b[0;34m\u001b[0m\u001b[0m\n\u001b[0m\u001b[1;32m   1047\u001b[0m                 \u001b[0;32mpass\u001b[0m\u001b[0;34m\u001b[0m\u001b[0;34m\u001b[0m\u001b[0m\n\u001b[1;32m   1048\u001b[0m \u001b[0;34m\u001b[0m\u001b[0m\n",
            "\u001b[0;32m/usr/local/lib/python3.7/dist-packages/joblib/parallel.py\u001b[0m in \u001b[0;36mdispatch_one_batch\u001b[0;34m(self, iterator)\u001b[0m\n\u001b[1;32m    831\u001b[0m                 \u001b[0mbig_batch_size\u001b[0m \u001b[0;34m=\u001b[0m \u001b[0mbatch_size\u001b[0m \u001b[0;34m*\u001b[0m \u001b[0mn_jobs\u001b[0m\u001b[0;34m\u001b[0m\u001b[0;34m\u001b[0m\u001b[0m\n\u001b[1;32m    832\u001b[0m \u001b[0;34m\u001b[0m\u001b[0m\n\u001b[0;32m--> 833\u001b[0;31m                 \u001b[0mislice\u001b[0m \u001b[0;34m=\u001b[0m \u001b[0mlist\u001b[0m\u001b[0;34m(\u001b[0m\u001b[0mitertools\u001b[0m\u001b[0;34m.\u001b[0m\u001b[0mislice\u001b[0m\u001b[0;34m(\u001b[0m\u001b[0miterator\u001b[0m\u001b[0;34m,\u001b[0m \u001b[0mbig_batch_size\u001b[0m\u001b[0;34m)\u001b[0m\u001b[0;34m)\u001b[0m\u001b[0;34m\u001b[0m\u001b[0;34m\u001b[0m\u001b[0m\n\u001b[0m\u001b[1;32m    834\u001b[0m                 \u001b[0;32mif\u001b[0m \u001b[0mlen\u001b[0m\u001b[0;34m(\u001b[0m\u001b[0mislice\u001b[0m\u001b[0;34m)\u001b[0m \u001b[0;34m==\u001b[0m \u001b[0;36m0\u001b[0m\u001b[0;34m:\u001b[0m\u001b[0;34m\u001b[0m\u001b[0;34m\u001b[0m\u001b[0m\n\u001b[1;32m    835\u001b[0m                     \u001b[0;32mreturn\u001b[0m \u001b[0;32mFalse\u001b[0m\u001b[0;34m\u001b[0m\u001b[0;34m\u001b[0m\u001b[0m\n",
            "\u001b[0;32m/usr/local/lib/python3.7/dist-packages/sklearn/ensemble/_stacking.py\u001b[0m in \u001b[0;36m<genexpr>\u001b[0;34m(.0)\u001b[0m\n\u001b[1;32m    159\u001b[0m             \u001b[0mdelayed\u001b[0m\u001b[0;34m(\u001b[0m\u001b[0m_fit_single_estimator\u001b[0m\u001b[0;34m)\u001b[0m\u001b[0;34m(\u001b[0m\u001b[0mclone\u001b[0m\u001b[0;34m(\u001b[0m\u001b[0mest\u001b[0m\u001b[0;34m)\u001b[0m\u001b[0;34m,\u001b[0m \u001b[0mX\u001b[0m\u001b[0;34m,\u001b[0m \u001b[0my\u001b[0m\u001b[0;34m,\u001b[0m \u001b[0msample_weight\u001b[0m\u001b[0;34m)\u001b[0m\u001b[0;34m\u001b[0m\u001b[0;34m\u001b[0m\u001b[0m\n\u001b[1;32m    160\u001b[0m             \u001b[0;32mfor\u001b[0m \u001b[0mest\u001b[0m \u001b[0;32min\u001b[0m \u001b[0mall_estimators\u001b[0m\u001b[0;34m\u001b[0m\u001b[0;34m\u001b[0m\u001b[0m\n\u001b[0;32m--> 161\u001b[0;31m             \u001b[0;32mif\u001b[0m \u001b[0mest\u001b[0m \u001b[0;34m!=\u001b[0m \u001b[0;34m\"drop\"\u001b[0m\u001b[0;34m\u001b[0m\u001b[0;34m\u001b[0m\u001b[0m\n\u001b[0m\u001b[1;32m    162\u001b[0m         )\n\u001b[1;32m    163\u001b[0m \u001b[0;34m\u001b[0m\u001b[0m\n",
            "\u001b[0;32m/usr/local/lib/python3.7/dist-packages/sklearn/base.py\u001b[0m in \u001b[0;36mclone\u001b[0;34m(estimator, safe)\u001b[0m\n\u001b[1;32m     78\u001b[0m                     \u001b[0;34m\"it does not seem to be a scikit-learn \"\u001b[0m\u001b[0;34m\u001b[0m\u001b[0;34m\u001b[0m\u001b[0m\n\u001b[1;32m     79\u001b[0m                     \u001b[0;34m\"estimator as it does not implement a \"\u001b[0m\u001b[0;34m\u001b[0m\u001b[0;34m\u001b[0m\u001b[0m\n\u001b[0;32m---> 80\u001b[0;31m                     \u001b[0;34m\"'get_params' method.\"\u001b[0m \u001b[0;34m%\u001b[0m \u001b[0;34m(\u001b[0m\u001b[0mrepr\u001b[0m\u001b[0;34m(\u001b[0m\u001b[0mestimator\u001b[0m\u001b[0;34m)\u001b[0m\u001b[0;34m,\u001b[0m \u001b[0mtype\u001b[0m\u001b[0;34m(\u001b[0m\u001b[0mestimator\u001b[0m\u001b[0;34m)\u001b[0m\u001b[0;34m)\u001b[0m\u001b[0;34m\u001b[0m\u001b[0;34m\u001b[0m\u001b[0m\n\u001b[0m\u001b[1;32m     81\u001b[0m                 )\n\u001b[1;32m     82\u001b[0m \u001b[0;34m\u001b[0m\u001b[0m\n",
            "\u001b[0;31mTypeError\u001b[0m: Cannot clone object '<keras.engine.functional.Functional object at 0x7fe792400090>' (type <class 'keras.engine.functional.Functional'>): it does not seem to be a scikit-learn estimator as it does not implement a 'get_params' method."
          ]
        }
      ],
      "source": [
        "from sklearn.ensemble import StackingClassifier\n",
        "from sklearn.linear_model import LogisticRegression\n",
        "\n",
        "# define meta learner model\n",
        "level1 = LogisticRegression()\n",
        "\n",
        "# define the stacking ensemble\n",
        "model = StackingClassifier(estimators=level0, final_estimator=level1, cv=5)\n",
        "# fit the model on all available data\n",
        "model.fit(train[predictors], train[\"Target\"])"
      ]
    },
    {
      "cell_type": "code",
      "execution_count": null,
      "metadata": {
        "colab": {
          "base_uri": "https://localhost:8080/"
        },
        "id": "rG2Z-p-qI5zc",
        "outputId": "945829d7-90c1-4283-fe81-65de1eda23d1"
      },
      "outputs": [
        {
          "data": {
            "text/plain": [
              "0.5"
            ]
          },
          "execution_count": 12,
          "metadata": {},
          "output_type": "execute_result"
        }
      ],
      "source": [
        "\n",
        "\n",
        "from sklearn.metrics import precision_score\n",
        "\n",
        "# Evaluate error of predictions\n",
        "preds = model.predict(test[predictors])\n",
        "preds = pd.Series(preds, index=test.index)\n",
        "precision_score(test[\"Target\"], preds)\n",
        "\n"
      ]
    },
    {
      "cell_type": "code",
      "execution_count": null,
      "metadata": {
        "colab": {
          "base_uri": "https://localhost:8080/",
          "height": 295
        },
        "id": "rfx59M94JEUV",
        "outputId": "60476dde-12d6-4c44-f446-54024221010b"
      },
      "outputs": [
        {
          "data": {
            "text/plain": [
              "<matplotlib.axes._subplots.AxesSubplot at 0x7ff6a8685550>"
            ]
          },
          "execution_count": 13,
          "metadata": {},
          "output_type": "execute_result"
        },
        {
          "data": {
            "image/png": "[encoded data removed]",
            "text/plain": [
              "<Figure size 432x288 with 1 Axes>"
            ]
          },
          "metadata": {},
          "output_type": "display_data"
        }
      ],
      "source": [
        "combined = pd.concat({\"Target\": test[\"Target\"],\"Predictions\": preds}, axis=1)\n",
        "combined.plot()"
      ]
    },
    {
      "cell_type": "code",
      "execution_count": null,
      "metadata": {
        "id": "1OdY6ZsPJLud"
      },
      "outputs": [],
      "source": [
        ""
      ]
    }
  ],
  "metadata": {
    "colab": {
      "collapsed_sections": [],
      "name": "StockPrediction.ipynb",
      "provenance": [],
      "include_colab_link": true
    },
    "kernelspec": {
      "display_name": "Python 3",
      "name": "python3"
    },
    "language_info": {
      "name": "python"
    }
  },
  "nbformat": 4,
  "nbformat_minor": 0
}